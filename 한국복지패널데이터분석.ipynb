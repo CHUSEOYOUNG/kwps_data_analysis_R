{
  "nbformat": 4,
  "nbformat_minor": 0,
  "metadata": {
    "colab": {
      "provenance": [],
      "collapsed_sections": [
        "OWqZjURfiWPn",
        "mNmr0txTieWB",
        "ZJ5SpM_SjH7D"
      ]
    },
    "kernelspec": {
      "name": "ir",
      "display_name": "R"
    },
    "language_info": {
      "name": "R"
    }
  },
  "cells": [
    {
      "cell_type": "markdown",
      "source": [
        "# **데이터 분석 프로젝트**\n"
      ],
      "metadata": {
        "id": "O-2ZygyIw8Sb"
      }
    },
    {
      "cell_type": "markdown",
      "source": [
        "## **1. '한국복지패널데이터' 분석 준비하기**"
      ],
      "metadata": {
        "id": "vaxCOYz1ZZKw"
      }
    },
    {
      "cell_type": "markdown",
      "source": [
        "- 한국보건사회연구원 발간\n",
        "- 가구의 경제활동을 연구해 정책 지원에 반영할 목적\n",
        "- 2006~2015년까지 전국에서 7000여 가구를 선정해 매년 추적 조사\n",
        "- 경제활동, 생활실태, 복지욕구 등 수천 개 변수에 대한 정보로 구성"
      ],
      "metadata": {
        "id": "UAjEH6hGxIx5"
      }
    },
    {
      "cell_type": "markdown",
      "source": [
        "### 1) 데이터 분석 준비하기"
      ],
      "metadata": {
        "id": "Cs7FlUtoxV9o"
      }
    },
    {
      "cell_type": "markdown",
      "source": [
        "##### (1) 패키지 준비하기"
      ],
      "metadata": {
        "id": "nuORUROuxXk3"
      }
    },
    {
      "cell_type": "code",
      "execution_count": null,
      "metadata": {
        "colab": {
          "base_uri": "https://localhost:8080/"
        },
        "id": "ldBQeju1w04J",
        "outputId": "9e8c7631-49d7-448a-c5c4-7f73e2e748ad"
      },
      "outputs": [
        {
          "output_type": "stream",
          "name": "stderr",
          "text": [
            "Installing package into ‘/usr/local/lib/R/site-library’\n",
            "(as ‘lib’ is unspecified)\n",
            "\n",
            "\n",
            "Attaching package: ‘dplyr’\n",
            "\n",
            "\n",
            "The following objects are masked from ‘package:stats’:\n",
            "\n",
            "    filter, lag\n",
            "\n",
            "\n",
            "The following objects are masked from ‘package:base’:\n",
            "\n",
            "    intersect, setdiff, setequal, union\n",
            "\n",
            "\n"
          ]
        }
      ],
      "source": [
        "install.packages(\"foreign\")   ## foreign 패키지 설치\n",
        "library(foreign)              ## SPSS 파일 로드 패키지\n",
        "library(dplyr)                ## 데이터 전처리\n",
        "library(ggplot2)              ## 시각화\n",
        "library(readxl)               ## 엑셀 파일 불러오기"
      ]
    },
    {
      "cell_type": "markdown",
      "source": [
        "##### (2) 데이터 준비하기"
      ],
      "metadata": {
        "id": "EirAPRDRxkzV"
      }
    },
    {
      "cell_type": "code",
      "source": [
        "# 데이터 불러오기\n",
        "raw_welfare <- read.spss(file = \"Koweps_hpc10_2015_beta1.sav\",\n",
        "                                to.data.frame = T)"
      ],
      "metadata": {
        "colab": {
          "base_uri": "https://localhost:8080/",
          "height": 93
        },
        "id": "qTl8QwnDZh5B",
        "outputId": "a8901493-f352-499e-b13d-6fce6316fdf4"
      },
      "execution_count": null,
      "outputs": [
        {
          "output_type": "error",
          "ename": "ERROR",
          "evalue": "Error in read.spss(file = \"Koweps_hpc10_2015_beta1.sav\", to.data.frame = T): could not find function \"read.spss\"\n",
          "traceback": [
            "Error in read.spss(file = \"Koweps_hpc10_2015_beta1.sav\", to.data.frame = T): could not find function \"read.spss\"\nTraceback:\n"
          ]
        }
      ]
    },
    {
      "cell_type": "code",
      "source": [
        "# 복사본 만들기\n",
        "welfare <- raw_welfare"
      ],
      "metadata": {
        "id": "prYbQ69KZwlN"
      },
      "execution_count": null,
      "outputs": []
    },
    {
      "cell_type": "markdown",
      "source": [
        "##### (3) 데이터 검토하기"
      ],
      "metadata": {
        "id": "me7KjnlcbzCU"
      }
    },
    {
      "cell_type": "code",
      "source": [
        "head(welfare)\n",
        "tail (welfare)"
      ],
      "metadata": {
        "id": "F94GFr8uZ0Du",
        "colab": {
          "base_uri": "https://localhost:8080/",
          "height": 575
        },
        "outputId": "113c5d0c-50fd-4a7b-eb87-923c9badd6b1"
      },
      "execution_count": null,
      "outputs": [
        {
          "output_type": "display_data",
          "data": {
            "text/html": [
              "<table class=\"dataframe\">\n",
              "<caption>A data.frame: 6 × 957</caption>\n",
              "<thead>\n",
              "\t<tr><th></th><th scope=col>h10_id</th><th scope=col>h10_ind</th><th scope=col>h10_sn</th><th scope=col>h10_merkey</th><th scope=col>h_new</th><th scope=col>h10_cobf</th><th scope=col>h10_reg5</th><th scope=col>h10_reg7</th><th scope=col>h10_din</th><th scope=col>h10_cin</th><th scope=col>⋯</th><th scope=col>c1007_4aq19</th><th scope=col>c1007_4aq20</th><th scope=col>c1007_4aq21</th><th scope=col>c1007_4aq22</th><th scope=col>c1007_4aq23</th><th scope=col>h10_pers_income1</th><th scope=col>h10_pers_income2</th><th scope=col>h10_pers_income3</th><th scope=col>h10_pers_income4</th><th scope=col>h10_pers_income5</th></tr>\n",
              "\t<tr><th></th><th scope=col>&lt;dbl&gt;</th><th scope=col>&lt;dbl&gt;</th><th scope=col>&lt;dbl&gt;</th><th scope=col>&lt;dbl&gt;</th><th scope=col>&lt;dbl&gt;</th><th scope=col>&lt;dbl&gt;</th><th scope=col>&lt;dbl&gt;</th><th scope=col>&lt;dbl&gt;</th><th scope=col>&lt;dbl&gt;</th><th scope=col>&lt;dbl&gt;</th><th scope=col>⋯</th><th scope=col>&lt;dbl&gt;</th><th scope=col>&lt;dbl&gt;</th><th scope=col>&lt;dbl&gt;</th><th scope=col>&lt;dbl&gt;</th><th scope=col>&lt;dbl&gt;</th><th scope=col>&lt;dbl&gt;</th><th scope=col>&lt;dbl&gt;</th><th scope=col>&lt;dbl&gt;</th><th scope=col>&lt;dbl&gt;</th><th scope=col>&lt;dbl&gt;</th></tr>\n",
              "</thead>\n",
              "<tbody>\n",
              "\t<tr><th scope=row>1</th><td>1</td><td>1</td><td>1</td><td>10101</td><td>0</td><td>NA</td><td>1</td><td>1</td><td> 864</td><td> 864</td><td>⋯</td><td>NA</td><td>NA</td><td>NA</td><td>NA</td><td>NA</td><td>NA</td><td>  NA</td><td>  NA</td><td>0</td><td>NA</td></tr>\n",
              "\t<tr><th scope=row>2</th><td>2</td><td>1</td><td>1</td><td>20101</td><td>0</td><td>NA</td><td>1</td><td>1</td><td> 600</td><td> 600</td><td>⋯</td><td>NA</td><td>NA</td><td>NA</td><td>NA</td><td>NA</td><td>NA</td><td>  NA</td><td>  NA</td><td>0</td><td>NA</td></tr>\n",
              "\t<tr><th scope=row>3</th><td>3</td><td>1</td><td>1</td><td>30101</td><td>0</td><td>NA</td><td>1</td><td>1</td><td>1571</td><td>1619</td><td>⋯</td><td>NA</td><td>NA</td><td>NA</td><td>NA</td><td>NA</td><td>NA</td><td>1440</td><td>  NA</td><td>0</td><td>NA</td></tr>\n",
              "\t<tr><th scope=row>4</th><td>4</td><td>1</td><td>1</td><td>40101</td><td>0</td><td>NA</td><td>1</td><td>1</td><td>3579</td><td>3687</td><td>⋯</td><td>NA</td><td>NA</td><td>NA</td><td>NA</td><td>NA</td><td>NA</td><td>2400</td><td>  NA</td><td>0</td><td>NA</td></tr>\n",
              "\t<tr><th scope=row>5</th><td>4</td><td>1</td><td>1</td><td>40101</td><td>0</td><td>NA</td><td>1</td><td>1</td><td>3579</td><td>3687</td><td>⋯</td><td>NA</td><td>NA</td><td>NA</td><td>NA</td><td>NA</td><td>NA</td><td>  NA</td><td>  NA</td><td>0</td><td>NA</td></tr>\n",
              "\t<tr><th scope=row>6</th><td>6</td><td>1</td><td>1</td><td>60101</td><td>0</td><td>NA</td><td>1</td><td>1</td><td>3030</td><td>3486</td><td>⋯</td><td>NA</td><td>NA</td><td>NA</td><td>NA</td><td>NA</td><td>NA</td><td>  NA</td><td>3000</td><td>0</td><td>NA</td></tr>\n",
              "</tbody>\n",
              "</table>\n"
            ],
            "text/markdown": "\nA data.frame: 6 × 957\n\n| <!--/--> | h10_id &lt;dbl&gt; | h10_ind &lt;dbl&gt; | h10_sn &lt;dbl&gt; | h10_merkey &lt;dbl&gt; | h_new &lt;dbl&gt; | h10_cobf &lt;dbl&gt; | h10_reg5 &lt;dbl&gt; | h10_reg7 &lt;dbl&gt; | h10_din &lt;dbl&gt; | h10_cin &lt;dbl&gt; | ⋯ ⋯ | c1007_4aq19 &lt;dbl&gt; | c1007_4aq20 &lt;dbl&gt; | c1007_4aq21 &lt;dbl&gt; | c1007_4aq22 &lt;dbl&gt; | c1007_4aq23 &lt;dbl&gt; | h10_pers_income1 &lt;dbl&gt; | h10_pers_income2 &lt;dbl&gt; | h10_pers_income3 &lt;dbl&gt; | h10_pers_income4 &lt;dbl&gt; | h10_pers_income5 &lt;dbl&gt; |\n|---|---|---|---|---|---|---|---|---|---|---|---|---|---|---|---|---|---|---|---|---|---|\n| 1 | 1 | 1 | 1 | 10101 | 0 | NA | 1 | 1 |  864 |  864 | ⋯ | NA | NA | NA | NA | NA | NA |   NA |   NA | 0 | NA |\n| 2 | 2 | 1 | 1 | 20101 | 0 | NA | 1 | 1 |  600 |  600 | ⋯ | NA | NA | NA | NA | NA | NA |   NA |   NA | 0 | NA |\n| 3 | 3 | 1 | 1 | 30101 | 0 | NA | 1 | 1 | 1571 | 1619 | ⋯ | NA | NA | NA | NA | NA | NA | 1440 |   NA | 0 | NA |\n| 4 | 4 | 1 | 1 | 40101 | 0 | NA | 1 | 1 | 3579 | 3687 | ⋯ | NA | NA | NA | NA | NA | NA | 2400 |   NA | 0 | NA |\n| 5 | 4 | 1 | 1 | 40101 | 0 | NA | 1 | 1 | 3579 | 3687 | ⋯ | NA | NA | NA | NA | NA | NA |   NA |   NA | 0 | NA |\n| 6 | 6 | 1 | 1 | 60101 | 0 | NA | 1 | 1 | 3030 | 3486 | ⋯ | NA | NA | NA | NA | NA | NA |   NA | 3000 | 0 | NA |\n\n",
            "text/latex": "A data.frame: 6 × 957\n\\begin{tabular}{r|lllllllllllllllllllll}\n  & h10\\_id & h10\\_ind & h10\\_sn & h10\\_merkey & h\\_new & h10\\_cobf & h10\\_reg5 & h10\\_reg7 & h10\\_din & h10\\_cin & ⋯ & c1007\\_4aq19 & c1007\\_4aq20 & c1007\\_4aq21 & c1007\\_4aq22 & c1007\\_4aq23 & h10\\_pers\\_income1 & h10\\_pers\\_income2 & h10\\_pers\\_income3 & h10\\_pers\\_income4 & h10\\_pers\\_income5\\\\\n  & <dbl> & <dbl> & <dbl> & <dbl> & <dbl> & <dbl> & <dbl> & <dbl> & <dbl> & <dbl> & ⋯ & <dbl> & <dbl> & <dbl> & <dbl> & <dbl> & <dbl> & <dbl> & <dbl> & <dbl> & <dbl>\\\\\n\\hline\n\t1 & 1 & 1 & 1 & 10101 & 0 & NA & 1 & 1 &  864 &  864 & ⋯ & NA & NA & NA & NA & NA & NA &   NA &   NA & 0 & NA\\\\\n\t2 & 2 & 1 & 1 & 20101 & 0 & NA & 1 & 1 &  600 &  600 & ⋯ & NA & NA & NA & NA & NA & NA &   NA &   NA & 0 & NA\\\\\n\t3 & 3 & 1 & 1 & 30101 & 0 & NA & 1 & 1 & 1571 & 1619 & ⋯ & NA & NA & NA & NA & NA & NA & 1440 &   NA & 0 & NA\\\\\n\t4 & 4 & 1 & 1 & 40101 & 0 & NA & 1 & 1 & 3579 & 3687 & ⋯ & NA & NA & NA & NA & NA & NA & 2400 &   NA & 0 & NA\\\\\n\t5 & 4 & 1 & 1 & 40101 & 0 & NA & 1 & 1 & 3579 & 3687 & ⋯ & NA & NA & NA & NA & NA & NA &   NA &   NA & 0 & NA\\\\\n\t6 & 6 & 1 & 1 & 60101 & 0 & NA & 1 & 1 & 3030 & 3486 & ⋯ & NA & NA & NA & NA & NA & NA &   NA & 3000 & 0 & NA\\\\\n\\end{tabular}\n",
            "text/plain": [
              "  h10_id h10_ind h10_sn h10_merkey h_new h10_cobf h10_reg5 h10_reg7 h10_din\n",
              "1 1      1       1      10101      0     NA       1        1         864   \n",
              "2 2      1       1      20101      0     NA       1        1         600   \n",
              "3 3      1       1      30101      0     NA       1        1        1571   \n",
              "4 4      1       1      40101      0     NA       1        1        3579   \n",
              "5 4      1       1      40101      0     NA       1        1        3579   \n",
              "6 6      1       1      60101      0     NA       1        1        3030   \n",
              "  h10_cin ⋯ c1007_4aq19 c1007_4aq20 c1007_4aq21 c1007_4aq22 c1007_4aq23\n",
              "1  864    ⋯ NA          NA          NA          NA          NA         \n",
              "2  600    ⋯ NA          NA          NA          NA          NA         \n",
              "3 1619    ⋯ NA          NA          NA          NA          NA         \n",
              "4 3687    ⋯ NA          NA          NA          NA          NA         \n",
              "5 3687    ⋯ NA          NA          NA          NA          NA         \n",
              "6 3486    ⋯ NA          NA          NA          NA          NA         \n",
              "  h10_pers_income1 h10_pers_income2 h10_pers_income3 h10_pers_income4\n",
              "1 NA                 NA               NA             0               \n",
              "2 NA                 NA               NA             0               \n",
              "3 NA               1440               NA             0               \n",
              "4 NA               2400               NA             0               \n",
              "5 NA                 NA               NA             0               \n",
              "6 NA                 NA             3000             0               \n",
              "  h10_pers_income5\n",
              "1 NA              \n",
              "2 NA              \n",
              "3 NA              \n",
              "4 NA              \n",
              "5 NA              \n",
              "6 NA              "
            ]
          },
          "metadata": {}
        },
        {
          "output_type": "display_data",
          "data": {
            "text/html": [
              "<table class=\"dataframe\">\n",
              "<caption>A data.frame: 6 × 957</caption>\n",
              "<thead>\n",
              "\t<tr><th></th><th scope=col>h10_id</th><th scope=col>h10_ind</th><th scope=col>h10_sn</th><th scope=col>h10_merkey</th><th scope=col>h_new</th><th scope=col>h10_cobf</th><th scope=col>h10_reg5</th><th scope=col>h10_reg7</th><th scope=col>h10_din</th><th scope=col>h10_cin</th><th scope=col>⋯</th><th scope=col>c1007_4aq19</th><th scope=col>c1007_4aq20</th><th scope=col>c1007_4aq21</th><th scope=col>c1007_4aq22</th><th scope=col>c1007_4aq23</th><th scope=col>h10_pers_income1</th><th scope=col>h10_pers_income2</th><th scope=col>h10_pers_income3</th><th scope=col>h10_pers_income4</th><th scope=col>h10_pers_income5</th></tr>\n",
              "\t<tr><th></th><th scope=col>&lt;dbl&gt;</th><th scope=col>&lt;dbl&gt;</th><th scope=col>&lt;dbl&gt;</th><th scope=col>&lt;dbl&gt;</th><th scope=col>&lt;dbl&gt;</th><th scope=col>&lt;dbl&gt;</th><th scope=col>&lt;dbl&gt;</th><th scope=col>&lt;dbl&gt;</th><th scope=col>&lt;dbl&gt;</th><th scope=col>&lt;dbl&gt;</th><th scope=col>⋯</th><th scope=col>&lt;dbl&gt;</th><th scope=col>&lt;dbl&gt;</th><th scope=col>&lt;dbl&gt;</th><th scope=col>&lt;dbl&gt;</th><th scope=col>&lt;dbl&gt;</th><th scope=col>&lt;dbl&gt;</th><th scope=col>&lt;dbl&gt;</th><th scope=col>&lt;dbl&gt;</th><th scope=col>&lt;dbl&gt;</th><th scope=col>&lt;dbl&gt;</th></tr>\n",
              "</thead>\n",
              "<tbody>\n",
              "\t<tr><th scope=row>16659</th><td>9800</td><td>7</td><td>1</td><td>98000701</td><td>1</td><td>NA</td><td>4</td><td>5</td><td>9764</td><td>11600</td><td>⋯</td><td>NA</td><td>NA</td><td>NA</td><td>NA</td><td>NA</td><td>  NA</td><td> NA</td><td>7163</td><td>0</td><td>NA</td></tr>\n",
              "\t<tr><th scope=row>16660</th><td>9800</td><td>7</td><td>1</td><td>98000701</td><td>1</td><td>NA</td><td>4</td><td>5</td><td>9764</td><td>11600</td><td>⋯</td><td>NA</td><td>NA</td><td>NA</td><td>NA</td><td>NA</td><td>  NA</td><td> NA</td><td>  NA</td><td>0</td><td>NA</td></tr>\n",
              "\t<tr><th scope=row>16661</th><td>9800</td><td>7</td><td>1</td><td>98000701</td><td>1</td><td>NA</td><td>4</td><td>5</td><td>9764</td><td>11600</td><td>⋯</td><td>NA</td><td>NA</td><td>NA</td><td>NA</td><td>NA</td><td>3630</td><td> NA</td><td>  NA</td><td>0</td><td>NA</td></tr>\n",
              "\t<tr><th scope=row>16662</th><td>9800</td><td>7</td><td>1</td><td>98000701</td><td>1</td><td>NA</td><td>4</td><td>5</td><td>9764</td><td>11600</td><td>⋯</td><td>NA</td><td>NA</td><td>NA</td><td>NA</td><td>NA</td><td>  NA</td><td>700</td><td>  NA</td><td>0</td><td>NA</td></tr>\n",
              "\t<tr><th scope=row>16663</th><td>9800</td><td>7</td><td>1</td><td>98000701</td><td>1</td><td>NA</td><td>4</td><td>5</td><td>9764</td><td>11600</td><td>⋯</td><td>NA</td><td>NA</td><td>NA</td><td>NA</td><td>NA</td><td>  NA</td><td> NA</td><td>  NA</td><td>0</td><td>NA</td></tr>\n",
              "\t<tr><th scope=row>16664</th><td>9800</td><td>7</td><td>1</td><td>98000701</td><td>1</td><td>NA</td><td>4</td><td>5</td><td>9764</td><td>11600</td><td>⋯</td><td>NA</td><td>NA</td><td>NA</td><td>NA</td><td>NA</td><td>  NA</td><td> NA</td><td>  NA</td><td>0</td><td>NA</td></tr>\n",
              "</tbody>\n",
              "</table>\n"
            ],
            "text/markdown": "\nA data.frame: 6 × 957\n\n| <!--/--> | h10_id &lt;dbl&gt; | h10_ind &lt;dbl&gt; | h10_sn &lt;dbl&gt; | h10_merkey &lt;dbl&gt; | h_new &lt;dbl&gt; | h10_cobf &lt;dbl&gt; | h10_reg5 &lt;dbl&gt; | h10_reg7 &lt;dbl&gt; | h10_din &lt;dbl&gt; | h10_cin &lt;dbl&gt; | ⋯ ⋯ | c1007_4aq19 &lt;dbl&gt; | c1007_4aq20 &lt;dbl&gt; | c1007_4aq21 &lt;dbl&gt; | c1007_4aq22 &lt;dbl&gt; | c1007_4aq23 &lt;dbl&gt; | h10_pers_income1 &lt;dbl&gt; | h10_pers_income2 &lt;dbl&gt; | h10_pers_income3 &lt;dbl&gt; | h10_pers_income4 &lt;dbl&gt; | h10_pers_income5 &lt;dbl&gt; |\n|---|---|---|---|---|---|---|---|---|---|---|---|---|---|---|---|---|---|---|---|---|---|\n| 16659 | 9800 | 7 | 1 | 98000701 | 1 | NA | 4 | 5 | 9764 | 11600 | ⋯ | NA | NA | NA | NA | NA |   NA |  NA | 7163 | 0 | NA |\n| 16660 | 9800 | 7 | 1 | 98000701 | 1 | NA | 4 | 5 | 9764 | 11600 | ⋯ | NA | NA | NA | NA | NA |   NA |  NA |   NA | 0 | NA |\n| 16661 | 9800 | 7 | 1 | 98000701 | 1 | NA | 4 | 5 | 9764 | 11600 | ⋯ | NA | NA | NA | NA | NA | 3630 |  NA |   NA | 0 | NA |\n| 16662 | 9800 | 7 | 1 | 98000701 | 1 | NA | 4 | 5 | 9764 | 11600 | ⋯ | NA | NA | NA | NA | NA |   NA | 700 |   NA | 0 | NA |\n| 16663 | 9800 | 7 | 1 | 98000701 | 1 | NA | 4 | 5 | 9764 | 11600 | ⋯ | NA | NA | NA | NA | NA |   NA |  NA |   NA | 0 | NA |\n| 16664 | 9800 | 7 | 1 | 98000701 | 1 | NA | 4 | 5 | 9764 | 11600 | ⋯ | NA | NA | NA | NA | NA |   NA |  NA |   NA | 0 | NA |\n\n",
            "text/latex": "A data.frame: 6 × 957\n\\begin{tabular}{r|lllllllllllllllllllll}\n  & h10\\_id & h10\\_ind & h10\\_sn & h10\\_merkey & h\\_new & h10\\_cobf & h10\\_reg5 & h10\\_reg7 & h10\\_din & h10\\_cin & ⋯ & c1007\\_4aq19 & c1007\\_4aq20 & c1007\\_4aq21 & c1007\\_4aq22 & c1007\\_4aq23 & h10\\_pers\\_income1 & h10\\_pers\\_income2 & h10\\_pers\\_income3 & h10\\_pers\\_income4 & h10\\_pers\\_income5\\\\\n  & <dbl> & <dbl> & <dbl> & <dbl> & <dbl> & <dbl> & <dbl> & <dbl> & <dbl> & <dbl> & ⋯ & <dbl> & <dbl> & <dbl> & <dbl> & <dbl> & <dbl> & <dbl> & <dbl> & <dbl> & <dbl>\\\\\n\\hline\n\t16659 & 9800 & 7 & 1 & 98000701 & 1 & NA & 4 & 5 & 9764 & 11600 & ⋯ & NA & NA & NA & NA & NA &   NA &  NA & 7163 & 0 & NA\\\\\n\t16660 & 9800 & 7 & 1 & 98000701 & 1 & NA & 4 & 5 & 9764 & 11600 & ⋯ & NA & NA & NA & NA & NA &   NA &  NA &   NA & 0 & NA\\\\\n\t16661 & 9800 & 7 & 1 & 98000701 & 1 & NA & 4 & 5 & 9764 & 11600 & ⋯ & NA & NA & NA & NA & NA & 3630 &  NA &   NA & 0 & NA\\\\\n\t16662 & 9800 & 7 & 1 & 98000701 & 1 & NA & 4 & 5 & 9764 & 11600 & ⋯ & NA & NA & NA & NA & NA &   NA & 700 &   NA & 0 & NA\\\\\n\t16663 & 9800 & 7 & 1 & 98000701 & 1 & NA & 4 & 5 & 9764 & 11600 & ⋯ & NA & NA & NA & NA & NA &   NA &  NA &   NA & 0 & NA\\\\\n\t16664 & 9800 & 7 & 1 & 98000701 & 1 & NA & 4 & 5 & 9764 & 11600 & ⋯ & NA & NA & NA & NA & NA &   NA &  NA &   NA & 0 & NA\\\\\n\\end{tabular}\n",
            "text/plain": [
              "      h10_id h10_ind h10_sn h10_merkey h_new h10_cobf h10_reg5 h10_reg7 h10_din\n",
              "16659 9800   7       1      98000701   1     NA       4        5        9764   \n",
              "16660 9800   7       1      98000701   1     NA       4        5        9764   \n",
              "16661 9800   7       1      98000701   1     NA       4        5        9764   \n",
              "16662 9800   7       1      98000701   1     NA       4        5        9764   \n",
              "16663 9800   7       1      98000701   1     NA       4        5        9764   \n",
              "16664 9800   7       1      98000701   1     NA       4        5        9764   \n",
              "      h10_cin ⋯ c1007_4aq19 c1007_4aq20 c1007_4aq21 c1007_4aq22 c1007_4aq23\n",
              "16659 11600   ⋯ NA          NA          NA          NA          NA         \n",
              "16660 11600   ⋯ NA          NA          NA          NA          NA         \n",
              "16661 11600   ⋯ NA          NA          NA          NA          NA         \n",
              "16662 11600   ⋯ NA          NA          NA          NA          NA         \n",
              "16663 11600   ⋯ NA          NA          NA          NA          NA         \n",
              "16664 11600   ⋯ NA          NA          NA          NA          NA         \n",
              "      h10_pers_income1 h10_pers_income2 h10_pers_income3 h10_pers_income4\n",
              "16659   NA              NA              7163             0               \n",
              "16660   NA              NA                NA             0               \n",
              "16661 3630              NA                NA             0               \n",
              "16662   NA             700                NA             0               \n",
              "16663   NA              NA                NA             0               \n",
              "16664   NA              NA                NA             0               \n",
              "      h10_pers_income5\n",
              "16659 NA              \n",
              "16660 NA              \n",
              "16661 NA              \n",
              "16662 NA              \n",
              "16663 NA              \n",
              "16664 NA              "
            ]
          },
          "metadata": {}
        }
      ]
    },
    {
      "cell_type": "code",
      "source": [
        "View(welfare)"
      ],
      "metadata": {
        "id": "DdstL7Wub2mx",
        "colab": {
          "base_uri": "https://localhost:8080/",
          "height": 1000
        },
        "outputId": "f8db792b-0434-4122-c4e3-b0e60af514ba"
      },
      "execution_count": null,
      "outputs": [
        {
          "output_type": "display_data",
          "data": {
            "text/plain": [
              "      h10_id h10_ind h10_sn h10_merkey h_new h10_cobf h10_reg5 h10_reg7 h10_din\n",
              "1      1     1       1       10101     0     NA       1        1         864   \n",
              "2      2     1       1       20101     0     NA       1        1         600   \n",
              "3      3     1       1       30101     0     NA       1        1        1571   \n",
              "4      4     1       1       40101     0     NA       1        1        3579   \n",
              "5      4     1       1       40101     0     NA       1        1        3579   \n",
              "6      6     1       1       60101     0     NA       1        1        3030   \n",
              "7      6     1       1       60101     0     NA       1        1        3030   \n",
              "8      6     1       1       60101     0     NA       1        1        3030   \n",
              "9      6     1       1       60101     0     NA       1        1        3030   \n",
              "10     6     1       1       60101     0     NA       1        1        3030   \n",
              "11     7     1       1       70101     0     NA       4        7         873   \n",
              "12     7     1       1       70101     0     NA       4        7         873   \n",
              "13     7     1       1       70101     0     NA       4        7         873   \n",
              "14     8     1       1       80101     0     NA       3        2        1369   \n",
              "15    10     1       1      100101     0     NA       1        1        1257   \n",
              "16    10     1       1      100101     0     NA       1        1        1257   \n",
              "17    12     1       1      120101     0     NA       1        1         842   \n",
              "18    12     1       1      120101     0     NA       1        1         842   \n",
              "19    14     1       1      140101     0     NA       1        1         518   \n",
              "20    15     1       1      150101     0     NA       1        1        7056   \n",
              "21    15     1       1      150101     0     NA       1        1        7056   \n",
              "22    15     1       1      150101     0     NA       1        1        7056   \n",
              "23    15     1       1      150101     0     NA       1        1        7056   \n",
              "24    16     1       1      160101     0     NA       1        1        3888   \n",
              "25    16     1       1      160101     0     NA       1        1        3888   \n",
              "26    17     1       1      170101     0     NA       1        1        1363   \n",
              "27    18     1       1      180101     0     NA       1        1         387   \n",
              "28    20     1       1      200101     0     NA       1        1        4122   \n",
              "29    20     9       1      200901     0     NA       1        1        4212   \n",
              "30    24     1       1      240101     0     NA       1        1        7206   \n",
              "⋮     ⋮      ⋮       ⋮      ⋮          ⋮     ⋮        ⋮        ⋮        ⋮      \n",
              "16635 9787   7       1      97870701   1     NA       3        6        1155   \n",
              "16636 9788   7       1      97880701   1     NA       3        6        1812   \n",
              "16637 9788   7       1      97880701   1     NA       3        6        1812   \n",
              "16638 9789   7       1      97890701   1     NA       3        6        4714   \n",
              "16639 9789   7       1      97890701   1     NA       3        6        4714   \n",
              "16640 9791   7       1      97910701   1     NA       3        6        1485   \n",
              "16641 9793   7       1      97930701   1     NA       4        6        5347   \n",
              "16642 9793   7       1      97930701   1     NA       4        6        5347   \n",
              "16643 9793   7       1      97930701   1     NA       4        6        5347   \n",
              "16644 9793   7       1      97930701   1     NA       4        6        5347   \n",
              "16645 9793   7       1      97930701   1     NA       4        6        5347   \n",
              "16646 9793   7       1      97930701   1     NA       4        6        5347   \n",
              "16647 9793   7       1      97930701   1     NA       4        6        5347   \n",
              "16648 9794   7       1      97940701   1     NA       4        6        1756   \n",
              "16649 9794   7       1      97940701   1     NA       4        6        1756   \n",
              "16650 9795   7       1      97950701   1     NA       4        6         667   \n",
              "16651 9795   7       1      97950701   1     NA       4        6         667   \n",
              "16652 9796   7       1      97960701   1     NA       4        6        1335   \n",
              "16653 9796   7       1      97960701   1     NA       4        6        1335   \n",
              "16654 9797   7       1      97970701   1     NA       4        6         502   \n",
              "16655 9798   7       1      97980701   1     NA       4        6        3356   \n",
              "16656 9798   7       1      97980701   1     NA       4        6        3356   \n",
              "16657 9799   7       1      97990701   1     NA       4        6        1612   \n",
              "16658 9799   7       1      97990701   1     NA       4        6        1612   \n",
              "16659 9800   7       1      98000701   1     NA       4        5        9764   \n",
              "16660 9800   7       1      98000701   1     NA       4        5        9764   \n",
              "16661 9800   7       1      98000701   1     NA       4        5        9764   \n",
              "16662 9800   7       1      98000701   1     NA       4        5        9764   \n",
              "16663 9800   7       1      98000701   1     NA       4        5        9764   \n",
              "16664 9800   7       1      98000701   1     NA       4        5        9764   \n",
              "      h10_cin ⋯ c1007_4aq19 c1007_4aq20 c1007_4aq21 c1007_4aq22 c1007_4aq23\n",
              "1      864    ⋯ NA          NA          NA          NA          NA         \n",
              "2      600    ⋯ NA          NA          NA          NA          NA         \n",
              "3     1619    ⋯ NA          NA          NA          NA          NA         \n",
              "4     3687    ⋯ NA          NA          NA          NA          NA         \n",
              "5     3687    ⋯ NA          NA          NA          NA          NA         \n",
              "6     3486    ⋯ NA          NA          NA          NA          NA         \n",
              "7     3486    ⋯ NA          NA          NA          NA          NA         \n",
              "8     3486    ⋯  4           1           1           1           4         \n",
              "9     3486    ⋯ NA          NA          NA          NA          NA         \n",
              "10    3486    ⋯ NA          NA          NA          NA          NA         \n",
              "11     969    ⋯ NA          NA          NA          NA          NA         \n",
              "12     969    ⋯ NA          NA          NA          NA          NA         \n",
              "13     969    ⋯ NA          NA          NA          NA          NA         \n",
              "14    1369    ⋯ NA          NA          NA          NA          NA         \n",
              "15    1257    ⋯ NA          NA          NA          NA          NA         \n",
              "16    1257    ⋯ NA          NA          NA          NA          NA         \n",
              "17     854    ⋯ NA          NA          NA          NA          NA         \n",
              "18     854    ⋯ NA          NA          NA          NA          NA         \n",
              "19     542    ⋯ NA          NA          NA          NA          NA         \n",
              "20    7212    ⋯ NA          NA          NA          NA          NA         \n",
              "21    7212    ⋯ NA          NA          NA          NA          NA         \n",
              "22    7212    ⋯  3           2           1           1           4         \n",
              "23    7212    ⋯ NA          NA          NA          NA          NA         \n",
              "24    4260    ⋯ NA          NA          NA          NA          NA         \n",
              "25    4260    ⋯ NA          NA          NA          NA          NA         \n",
              "26    1363    ⋯ NA          NA          NA          NA          NA         \n",
              "27     387    ⋯ NA          NA          NA          NA          NA         \n",
              "28    4722    ⋯ NA          NA          NA          NA          NA         \n",
              "29    4248    ⋯ NA          NA          NA          NA          NA         \n",
              "30    7374    ⋯ NA          NA          NA          NA          NA         \n",
              "⋮     ⋮       ⋱ ⋮           ⋮           ⋮           ⋮           ⋮          \n",
              "16635  1179   ⋯ NA          NA          NA          NA          NA         \n",
              "16636  1872   ⋯ NA          NA          NA          NA          NA         \n",
              "16637  1872   ⋯ NA          NA          NA          NA          NA         \n",
              "16638  4966   ⋯ NA          NA          NA          NA          NA         \n",
              "16639  4966   ⋯ NA          NA          NA          NA          NA         \n",
              "16640  1623   ⋯ NA          NA          NA          NA          NA         \n",
              "16641  5539   ⋯ NA          NA          NA          NA          NA         \n",
              "16642  5539   ⋯ NA          NA          NA          NA          NA         \n",
              "16643  5539   ⋯ NA          NA          NA          NA          NA         \n",
              "16644  5539   ⋯ NA          NA          NA          NA          NA         \n",
              "16645  5539   ⋯ NA          NA          NA          NA          NA         \n",
              "16646  5539   ⋯ NA          NA          NA          NA          NA         \n",
              "16647  5539   ⋯  3           2           2           2           3         \n",
              "16648  1768   ⋯ NA          NA          NA          NA          NA         \n",
              "16649  1768   ⋯ NA          NA          NA          NA          NA         \n",
              "16650   667   ⋯ NA          NA          NA          NA          NA         \n",
              "16651   667   ⋯ NA          NA          NA          NA          NA         \n",
              "16652  1347   ⋯ NA          NA          NA          NA          NA         \n",
              "16653  1347   ⋯ NA          NA          NA          NA          NA         \n",
              "16654   502   ⋯ NA          NA          NA          NA          NA         \n",
              "16655  3524   ⋯ NA          NA          NA          NA          NA         \n",
              "16656  3524   ⋯ NA          NA          NA          NA          NA         \n",
              "16657  1612   ⋯ NA          NA          NA          NA          NA         \n",
              "16658  1612   ⋯ NA          NA          NA          NA          NA         \n",
              "16659 11600   ⋯ NA          NA          NA          NA          NA         \n",
              "16660 11600   ⋯ NA          NA          NA          NA          NA         \n",
              "16661 11600   ⋯ NA          NA          NA          NA          NA         \n",
              "16662 11600   ⋯ NA          NA          NA          NA          NA         \n",
              "16663 11600   ⋯ NA          NA          NA          NA          NA         \n",
              "16664 11600   ⋯ NA          NA          NA          NA          NA         \n",
              "      h10_pers_income1 h10_pers_income2 h10_pers_income3 h10_pers_income4\n",
              "1       NA               NA               NA              0              \n",
              "2       NA               NA               NA              0              \n",
              "3       NA             1440               NA              0              \n",
              "4       NA             2400               NA              0              \n",
              "5       NA               NA               NA              0              \n",
              "6       NA               NA             3000              0              \n",
              "7       NA               NA               NA              0              \n",
              "8       NA               NA               NA              0              \n",
              "9       NA               NA               NA              0              \n",
              "10      NA               NA               NA              0              \n",
              "11      NA               NA               NA              0              \n",
              "12      NA               NA               NA             35              \n",
              "13      NA               NA               NA              0              \n",
              "14      NA               80               NA              0              \n",
              "15      NA               NA               NA              0              \n",
              "16      NA               NA               NA              0              \n",
              "17      NA               NA               NA              0              \n",
              "18      NA               NA               NA              0              \n",
              "19      NA              540               NA              0              \n",
              "20    4488               NA               NA              0              \n",
              "21      NA             2400               NA              0              \n",
              "22      NA               NA               NA              0              \n",
              "23      NA               NA               NA              0              \n",
              "24      NA               NA               NA              0              \n",
              "25      NA             1800               NA              0              \n",
              "26      NA               NA              444              0              \n",
              "27      NA               NA               NA              0              \n",
              "28    4400               NA              200              0              \n",
              "29      NA               NA             4248              0              \n",
              "30      NA               NA               NA              0              \n",
              "⋮     ⋮                ⋮                ⋮                ⋮               \n",
              "16635   NA               NA               NA             0               \n",
              "16636   NA              900               NA             0               \n",
              "16637   NA              220               NA             0               \n",
              "16638   NA               NA               NA             0               \n",
              "16639   NA               NA               NA             0               \n",
              "16640   NA             1620               NA             0               \n",
              "16641   NA               NA               NA             0               \n",
              "16642   NA               NA               NA             0               \n",
              "16643 2256               NA               NA             0               \n",
              "16644   NA             1080               NA             0               \n",
              "16645   NA               NA               NA             0               \n",
              "16646   NA               NA               NA             0               \n",
              "16647   NA               NA               NA             0               \n",
              "16648   NA               NA               NA             0               \n",
              "16649   NA               NA               NA             0               \n",
              "16650   NA               NA               NA             0               \n",
              "16651   NA               NA               NA             0               \n",
              "16652   NA               NA               NA             0               \n",
              "16653   NA               NA               NA             0               \n",
              "16654   NA               NA               NA             0               \n",
              "16655 2252               NA               NA             0               \n",
              "16656   NA              386               NA             0               \n",
              "16657   NA               NA               NA             0               \n",
              "16658   NA               NA               NA             0               \n",
              "16659   NA               NA             7163             0               \n",
              "16660   NA               NA               NA             0               \n",
              "16661 3630               NA               NA             0               \n",
              "16662   NA              700               NA             0               \n",
              "16663   NA               NA               NA             0               \n",
              "16664   NA               NA               NA             0               \n",
              "      h10_pers_income5\n",
              "1     NA              \n",
              "2     NA              \n",
              "3     NA              \n",
              "4     NA              \n",
              "5     NA              \n",
              "6     NA              \n",
              "7     NA              \n",
              "8     NA              \n",
              "9     NA              \n",
              "10    NA              \n",
              "11    NA              \n",
              "12    NA              \n",
              "13    NA              \n",
              "14    NA              \n",
              "15    NA              \n",
              "16    NA              \n",
              "17    NA              \n",
              "18    NA              \n",
              "19    NA              \n",
              "20    NA              \n",
              "21    NA              \n",
              "22    NA              \n",
              "23    NA              \n",
              "24    NA              \n",
              "25    NA              \n",
              "26    NA              \n",
              "27    NA              \n",
              "28    NA              \n",
              "29    NA              \n",
              "30    NA              \n",
              "⋮     ⋮               \n",
              "16635   NA            \n",
              "16636   69            \n",
              "16637   NA            \n",
              "16638   NA            \n",
              "16639   NA            \n",
              "16640   NA            \n",
              "16641 1487            \n",
              "16642   NA            \n",
              "16643   NA            \n",
              "16644   NA            \n",
              "16645   NA            \n",
              "16646   NA            \n",
              "16647   NA            \n",
              "16648  843            \n",
              "16649   NA            \n",
              "16650   NA            \n",
              "16651   NA            \n",
              "16652  709            \n",
              "16653   NA            \n",
              "16654   NA            \n",
              "16655   NA            \n",
              "16656  567            \n",
              "16657   NA            \n",
              "16658   NA            \n",
              "16659   NA            \n",
              "16660   NA            \n",
              "16661   NA            \n",
              "16662   NA            \n",
              "16663   NA            \n",
              "16664   NA            "
            ],
            "text/html": [
              "<table class=\"dataframe\">\n",
              "<caption>A data.frame: 16664 × 957</caption>\n",
              "<thead>\n",
              "\t<tr><th scope=col>h10_id</th><th scope=col>h10_ind</th><th scope=col>h10_sn</th><th scope=col>h10_merkey</th><th scope=col>h_new</th><th scope=col>h10_cobf</th><th scope=col>h10_reg5</th><th scope=col>h10_reg7</th><th scope=col>h10_din</th><th scope=col>h10_cin</th><th scope=col>⋯</th><th scope=col>c1007_4aq19</th><th scope=col>c1007_4aq20</th><th scope=col>c1007_4aq21</th><th scope=col>c1007_4aq22</th><th scope=col>c1007_4aq23</th><th scope=col>h10_pers_income1</th><th scope=col>h10_pers_income2</th><th scope=col>h10_pers_income3</th><th scope=col>h10_pers_income4</th><th scope=col>h10_pers_income5</th></tr>\n",
              "\t<tr><th scope=col>&lt;dbl&gt;</th><th scope=col>&lt;dbl&gt;</th><th scope=col>&lt;dbl&gt;</th><th scope=col>&lt;dbl&gt;</th><th scope=col>&lt;dbl&gt;</th><th scope=col>&lt;dbl&gt;</th><th scope=col>&lt;dbl&gt;</th><th scope=col>&lt;dbl&gt;</th><th scope=col>&lt;dbl&gt;</th><th scope=col>&lt;dbl&gt;</th><th scope=col>⋯</th><th scope=col>&lt;dbl&gt;</th><th scope=col>&lt;dbl&gt;</th><th scope=col>&lt;dbl&gt;</th><th scope=col>&lt;dbl&gt;</th><th scope=col>&lt;dbl&gt;</th><th scope=col>&lt;dbl&gt;</th><th scope=col>&lt;dbl&gt;</th><th scope=col>&lt;dbl&gt;</th><th scope=col>&lt;dbl&gt;</th><th scope=col>&lt;dbl&gt;</th></tr>\n",
              "</thead>\n",
              "<tbody>\n",
              "\t<tr><td> 1</td><td>1</td><td>1</td><td> 10101</td><td>0</td><td>NA</td><td>1</td><td>1</td><td> 864</td><td> 864</td><td>⋯</td><td>NA</td><td>NA</td><td>NA</td><td>NA</td><td>NA</td><td>  NA</td><td>  NA</td><td>  NA</td><td> 0</td><td>NA</td></tr>\n",
              "\t<tr><td> 2</td><td>1</td><td>1</td><td> 20101</td><td>0</td><td>NA</td><td>1</td><td>1</td><td> 600</td><td> 600</td><td>⋯</td><td>NA</td><td>NA</td><td>NA</td><td>NA</td><td>NA</td><td>  NA</td><td>  NA</td><td>  NA</td><td> 0</td><td>NA</td></tr>\n",
              "\t<tr><td> 3</td><td>1</td><td>1</td><td> 30101</td><td>0</td><td>NA</td><td>1</td><td>1</td><td>1571</td><td>1619</td><td>⋯</td><td>NA</td><td>NA</td><td>NA</td><td>NA</td><td>NA</td><td>  NA</td><td>1440</td><td>  NA</td><td> 0</td><td>NA</td></tr>\n",
              "\t<tr><td> 4</td><td>1</td><td>1</td><td> 40101</td><td>0</td><td>NA</td><td>1</td><td>1</td><td>3579</td><td>3687</td><td>⋯</td><td>NA</td><td>NA</td><td>NA</td><td>NA</td><td>NA</td><td>  NA</td><td>2400</td><td>  NA</td><td> 0</td><td>NA</td></tr>\n",
              "\t<tr><td> 4</td><td>1</td><td>1</td><td> 40101</td><td>0</td><td>NA</td><td>1</td><td>1</td><td>3579</td><td>3687</td><td>⋯</td><td>NA</td><td>NA</td><td>NA</td><td>NA</td><td>NA</td><td>  NA</td><td>  NA</td><td>  NA</td><td> 0</td><td>NA</td></tr>\n",
              "\t<tr><td> 6</td><td>1</td><td>1</td><td> 60101</td><td>0</td><td>NA</td><td>1</td><td>1</td><td>3030</td><td>3486</td><td>⋯</td><td>NA</td><td>NA</td><td>NA</td><td>NA</td><td>NA</td><td>  NA</td><td>  NA</td><td>3000</td><td> 0</td><td>NA</td></tr>\n",
              "\t<tr><td> 6</td><td>1</td><td>1</td><td> 60101</td><td>0</td><td>NA</td><td>1</td><td>1</td><td>3030</td><td>3486</td><td>⋯</td><td>NA</td><td>NA</td><td>NA</td><td>NA</td><td>NA</td><td>  NA</td><td>  NA</td><td>  NA</td><td> 0</td><td>NA</td></tr>\n",
              "\t<tr><td> 6</td><td>1</td><td>1</td><td> 60101</td><td>0</td><td>NA</td><td>1</td><td>1</td><td>3030</td><td>3486</td><td>⋯</td><td> 4</td><td> 1</td><td> 1</td><td> 1</td><td> 4</td><td>  NA</td><td>  NA</td><td>  NA</td><td> 0</td><td>NA</td></tr>\n",
              "\t<tr><td> 6</td><td>1</td><td>1</td><td> 60101</td><td>0</td><td>NA</td><td>1</td><td>1</td><td>3030</td><td>3486</td><td>⋯</td><td>NA</td><td>NA</td><td>NA</td><td>NA</td><td>NA</td><td>  NA</td><td>  NA</td><td>  NA</td><td> 0</td><td>NA</td></tr>\n",
              "\t<tr><td> 6</td><td>1</td><td>1</td><td> 60101</td><td>0</td><td>NA</td><td>1</td><td>1</td><td>3030</td><td>3486</td><td>⋯</td><td>NA</td><td>NA</td><td>NA</td><td>NA</td><td>NA</td><td>  NA</td><td>  NA</td><td>  NA</td><td> 0</td><td>NA</td></tr>\n",
              "\t<tr><td> 7</td><td>1</td><td>1</td><td> 70101</td><td>0</td><td>NA</td><td>4</td><td>7</td><td> 873</td><td> 969</td><td>⋯</td><td>NA</td><td>NA</td><td>NA</td><td>NA</td><td>NA</td><td>  NA</td><td>  NA</td><td>  NA</td><td> 0</td><td>NA</td></tr>\n",
              "\t<tr><td> 7</td><td>1</td><td>1</td><td> 70101</td><td>0</td><td>NA</td><td>4</td><td>7</td><td> 873</td><td> 969</td><td>⋯</td><td>NA</td><td>NA</td><td>NA</td><td>NA</td><td>NA</td><td>  NA</td><td>  NA</td><td>  NA</td><td>35</td><td>NA</td></tr>\n",
              "\t<tr><td> 7</td><td>1</td><td>1</td><td> 70101</td><td>0</td><td>NA</td><td>4</td><td>7</td><td> 873</td><td> 969</td><td>⋯</td><td>NA</td><td>NA</td><td>NA</td><td>NA</td><td>NA</td><td>  NA</td><td>  NA</td><td>  NA</td><td> 0</td><td>NA</td></tr>\n",
              "\t<tr><td> 8</td><td>1</td><td>1</td><td> 80101</td><td>0</td><td>NA</td><td>3</td><td>2</td><td>1369</td><td>1369</td><td>⋯</td><td>NA</td><td>NA</td><td>NA</td><td>NA</td><td>NA</td><td>  NA</td><td>  80</td><td>  NA</td><td> 0</td><td>NA</td></tr>\n",
              "\t<tr><td>10</td><td>1</td><td>1</td><td>100101</td><td>0</td><td>NA</td><td>1</td><td>1</td><td>1257</td><td>1257</td><td>⋯</td><td>NA</td><td>NA</td><td>NA</td><td>NA</td><td>NA</td><td>  NA</td><td>  NA</td><td>  NA</td><td> 0</td><td>NA</td></tr>\n",
              "\t<tr><td>10</td><td>1</td><td>1</td><td>100101</td><td>0</td><td>NA</td><td>1</td><td>1</td><td>1257</td><td>1257</td><td>⋯</td><td>NA</td><td>NA</td><td>NA</td><td>NA</td><td>NA</td><td>  NA</td><td>  NA</td><td>  NA</td><td> 0</td><td>NA</td></tr>\n",
              "\t<tr><td>12</td><td>1</td><td>1</td><td>120101</td><td>0</td><td>NA</td><td>1</td><td>1</td><td> 842</td><td> 854</td><td>⋯</td><td>NA</td><td>NA</td><td>NA</td><td>NA</td><td>NA</td><td>  NA</td><td>  NA</td><td>  NA</td><td> 0</td><td>NA</td></tr>\n",
              "\t<tr><td>12</td><td>1</td><td>1</td><td>120101</td><td>0</td><td>NA</td><td>1</td><td>1</td><td> 842</td><td> 854</td><td>⋯</td><td>NA</td><td>NA</td><td>NA</td><td>NA</td><td>NA</td><td>  NA</td><td>  NA</td><td>  NA</td><td> 0</td><td>NA</td></tr>\n",
              "\t<tr><td>14</td><td>1</td><td>1</td><td>140101</td><td>0</td><td>NA</td><td>1</td><td>1</td><td> 518</td><td> 542</td><td>⋯</td><td>NA</td><td>NA</td><td>NA</td><td>NA</td><td>NA</td><td>  NA</td><td> 540</td><td>  NA</td><td> 0</td><td>NA</td></tr>\n",
              "\t<tr><td>15</td><td>1</td><td>1</td><td>150101</td><td>0</td><td>NA</td><td>1</td><td>1</td><td>7056</td><td>7212</td><td>⋯</td><td>NA</td><td>NA</td><td>NA</td><td>NA</td><td>NA</td><td>4488</td><td>  NA</td><td>  NA</td><td> 0</td><td>NA</td></tr>\n",
              "\t<tr><td>15</td><td>1</td><td>1</td><td>150101</td><td>0</td><td>NA</td><td>1</td><td>1</td><td>7056</td><td>7212</td><td>⋯</td><td>NA</td><td>NA</td><td>NA</td><td>NA</td><td>NA</td><td>  NA</td><td>2400</td><td>  NA</td><td> 0</td><td>NA</td></tr>\n",
              "\t<tr><td>15</td><td>1</td><td>1</td><td>150101</td><td>0</td><td>NA</td><td>1</td><td>1</td><td>7056</td><td>7212</td><td>⋯</td><td> 3</td><td> 2</td><td> 1</td><td> 1</td><td> 4</td><td>  NA</td><td>  NA</td><td>  NA</td><td> 0</td><td>NA</td></tr>\n",
              "\t<tr><td>15</td><td>1</td><td>1</td><td>150101</td><td>0</td><td>NA</td><td>1</td><td>1</td><td>7056</td><td>7212</td><td>⋯</td><td>NA</td><td>NA</td><td>NA</td><td>NA</td><td>NA</td><td>  NA</td><td>  NA</td><td>  NA</td><td> 0</td><td>NA</td></tr>\n",
              "\t<tr><td>16</td><td>1</td><td>1</td><td>160101</td><td>0</td><td>NA</td><td>1</td><td>1</td><td>3888</td><td>4260</td><td>⋯</td><td>NA</td><td>NA</td><td>NA</td><td>NA</td><td>NA</td><td>  NA</td><td>  NA</td><td>  NA</td><td> 0</td><td>NA</td></tr>\n",
              "\t<tr><td>16</td><td>1</td><td>1</td><td>160101</td><td>0</td><td>NA</td><td>1</td><td>1</td><td>3888</td><td>4260</td><td>⋯</td><td>NA</td><td>NA</td><td>NA</td><td>NA</td><td>NA</td><td>  NA</td><td>1800</td><td>  NA</td><td> 0</td><td>NA</td></tr>\n",
              "\t<tr><td>17</td><td>1</td><td>1</td><td>170101</td><td>0</td><td>NA</td><td>1</td><td>1</td><td>1363</td><td>1363</td><td>⋯</td><td>NA</td><td>NA</td><td>NA</td><td>NA</td><td>NA</td><td>  NA</td><td>  NA</td><td> 444</td><td> 0</td><td>NA</td></tr>\n",
              "\t<tr><td>18</td><td>1</td><td>1</td><td>180101</td><td>0</td><td>NA</td><td>1</td><td>1</td><td> 387</td><td> 387</td><td>⋯</td><td>NA</td><td>NA</td><td>NA</td><td>NA</td><td>NA</td><td>  NA</td><td>  NA</td><td>  NA</td><td> 0</td><td>NA</td></tr>\n",
              "\t<tr><td>20</td><td>1</td><td>1</td><td>200101</td><td>0</td><td>NA</td><td>1</td><td>1</td><td>4122</td><td>4722</td><td>⋯</td><td>NA</td><td>NA</td><td>NA</td><td>NA</td><td>NA</td><td>4400</td><td>  NA</td><td> 200</td><td> 0</td><td>NA</td></tr>\n",
              "\t<tr><td>20</td><td>9</td><td>1</td><td>200901</td><td>0</td><td>NA</td><td>1</td><td>1</td><td>4212</td><td>4248</td><td>⋯</td><td>NA</td><td>NA</td><td>NA</td><td>NA</td><td>NA</td><td>  NA</td><td>  NA</td><td>4248</td><td> 0</td><td>NA</td></tr>\n",
              "\t<tr><td>24</td><td>1</td><td>1</td><td>240101</td><td>0</td><td>NA</td><td>1</td><td>1</td><td>7206</td><td>7374</td><td>⋯</td><td>NA</td><td>NA</td><td>NA</td><td>NA</td><td>NA</td><td>  NA</td><td>  NA</td><td>  NA</td><td> 0</td><td>NA</td></tr>\n",
              "\t<tr><td>⋮</td><td>⋮</td><td>⋮</td><td>⋮</td><td>⋮</td><td>⋮</td><td>⋮</td><td>⋮</td><td>⋮</td><td>⋮</td><td>⋱</td><td>⋮</td><td>⋮</td><td>⋮</td><td>⋮</td><td>⋮</td><td>⋮</td><td>⋮</td><td>⋮</td><td>⋮</td><td>⋮</td></tr>\n",
              "\t<tr><td>9787</td><td>7</td><td>1</td><td>97870701</td><td>1</td><td>NA</td><td>3</td><td>6</td><td>1155</td><td> 1179</td><td>⋯</td><td>NA</td><td>NA</td><td>NA</td><td>NA</td><td>NA</td><td>  NA</td><td>  NA</td><td>  NA</td><td>0</td><td>  NA</td></tr>\n",
              "\t<tr><td>9788</td><td>7</td><td>1</td><td>97880701</td><td>1</td><td>NA</td><td>3</td><td>6</td><td>1812</td><td> 1872</td><td>⋯</td><td>NA</td><td>NA</td><td>NA</td><td>NA</td><td>NA</td><td>  NA</td><td> 900</td><td>  NA</td><td>0</td><td>  69</td></tr>\n",
              "\t<tr><td>9788</td><td>7</td><td>1</td><td>97880701</td><td>1</td><td>NA</td><td>3</td><td>6</td><td>1812</td><td> 1872</td><td>⋯</td><td>NA</td><td>NA</td><td>NA</td><td>NA</td><td>NA</td><td>  NA</td><td> 220</td><td>  NA</td><td>0</td><td>  NA</td></tr>\n",
              "\t<tr><td>9789</td><td>7</td><td>1</td><td>97890701</td><td>1</td><td>NA</td><td>3</td><td>6</td><td>4714</td><td> 4966</td><td>⋯</td><td>NA</td><td>NA</td><td>NA</td><td>NA</td><td>NA</td><td>  NA</td><td>  NA</td><td>  NA</td><td>0</td><td>  NA</td></tr>\n",
              "\t<tr><td>9789</td><td>7</td><td>1</td><td>97890701</td><td>1</td><td>NA</td><td>3</td><td>6</td><td>4714</td><td> 4966</td><td>⋯</td><td>NA</td><td>NA</td><td>NA</td><td>NA</td><td>NA</td><td>  NA</td><td>  NA</td><td>  NA</td><td>0</td><td>  NA</td></tr>\n",
              "\t<tr><td>9791</td><td>7</td><td>1</td><td>97910701</td><td>1</td><td>NA</td><td>3</td><td>6</td><td>1485</td><td> 1623</td><td>⋯</td><td>NA</td><td>NA</td><td>NA</td><td>NA</td><td>NA</td><td>  NA</td><td>1620</td><td>  NA</td><td>0</td><td>  NA</td></tr>\n",
              "\t<tr><td>9793</td><td>7</td><td>1</td><td>97930701</td><td>1</td><td>NA</td><td>4</td><td>6</td><td>5347</td><td> 5539</td><td>⋯</td><td>NA</td><td>NA</td><td>NA</td><td>NA</td><td>NA</td><td>  NA</td><td>  NA</td><td>  NA</td><td>0</td><td>1487</td></tr>\n",
              "\t<tr><td>9793</td><td>7</td><td>1</td><td>97930701</td><td>1</td><td>NA</td><td>4</td><td>6</td><td>5347</td><td> 5539</td><td>⋯</td><td>NA</td><td>NA</td><td>NA</td><td>NA</td><td>NA</td><td>  NA</td><td>  NA</td><td>  NA</td><td>0</td><td>  NA</td></tr>\n",
              "\t<tr><td>9793</td><td>7</td><td>1</td><td>97930701</td><td>1</td><td>NA</td><td>4</td><td>6</td><td>5347</td><td> 5539</td><td>⋯</td><td>NA</td><td>NA</td><td>NA</td><td>NA</td><td>NA</td><td>2256</td><td>  NA</td><td>  NA</td><td>0</td><td>  NA</td></tr>\n",
              "\t<tr><td>9793</td><td>7</td><td>1</td><td>97930701</td><td>1</td><td>NA</td><td>4</td><td>6</td><td>5347</td><td> 5539</td><td>⋯</td><td>NA</td><td>NA</td><td>NA</td><td>NA</td><td>NA</td><td>  NA</td><td>1080</td><td>  NA</td><td>0</td><td>  NA</td></tr>\n",
              "\t<tr><td>9793</td><td>7</td><td>1</td><td>97930701</td><td>1</td><td>NA</td><td>4</td><td>6</td><td>5347</td><td> 5539</td><td>⋯</td><td>NA</td><td>NA</td><td>NA</td><td>NA</td><td>NA</td><td>  NA</td><td>  NA</td><td>  NA</td><td>0</td><td>  NA</td></tr>\n",
              "\t<tr><td>9793</td><td>7</td><td>1</td><td>97930701</td><td>1</td><td>NA</td><td>4</td><td>6</td><td>5347</td><td> 5539</td><td>⋯</td><td>NA</td><td>NA</td><td>NA</td><td>NA</td><td>NA</td><td>  NA</td><td>  NA</td><td>  NA</td><td>0</td><td>  NA</td></tr>\n",
              "\t<tr><td>9793</td><td>7</td><td>1</td><td>97930701</td><td>1</td><td>NA</td><td>4</td><td>6</td><td>5347</td><td> 5539</td><td>⋯</td><td> 3</td><td> 2</td><td> 2</td><td> 2</td><td> 3</td><td>  NA</td><td>  NA</td><td>  NA</td><td>0</td><td>  NA</td></tr>\n",
              "\t<tr><td>9794</td><td>7</td><td>1</td><td>97940701</td><td>1</td><td>NA</td><td>4</td><td>6</td><td>1756</td><td> 1768</td><td>⋯</td><td>NA</td><td>NA</td><td>NA</td><td>NA</td><td>NA</td><td>  NA</td><td>  NA</td><td>  NA</td><td>0</td><td> 843</td></tr>\n",
              "\t<tr><td>9794</td><td>7</td><td>1</td><td>97940701</td><td>1</td><td>NA</td><td>4</td><td>6</td><td>1756</td><td> 1768</td><td>⋯</td><td>NA</td><td>NA</td><td>NA</td><td>NA</td><td>NA</td><td>  NA</td><td>  NA</td><td>  NA</td><td>0</td><td>  NA</td></tr>\n",
              "\t<tr><td>9795</td><td>7</td><td>1</td><td>97950701</td><td>1</td><td>NA</td><td>4</td><td>6</td><td> 667</td><td>  667</td><td>⋯</td><td>NA</td><td>NA</td><td>NA</td><td>NA</td><td>NA</td><td>  NA</td><td>  NA</td><td>  NA</td><td>0</td><td>  NA</td></tr>\n",
              "\t<tr><td>9795</td><td>7</td><td>1</td><td>97950701</td><td>1</td><td>NA</td><td>4</td><td>6</td><td> 667</td><td>  667</td><td>⋯</td><td>NA</td><td>NA</td><td>NA</td><td>NA</td><td>NA</td><td>  NA</td><td>  NA</td><td>  NA</td><td>0</td><td>  NA</td></tr>\n",
              "\t<tr><td>9796</td><td>7</td><td>1</td><td>97960701</td><td>1</td><td>NA</td><td>4</td><td>6</td><td>1335</td><td> 1347</td><td>⋯</td><td>NA</td><td>NA</td><td>NA</td><td>NA</td><td>NA</td><td>  NA</td><td>  NA</td><td>  NA</td><td>0</td><td> 709</td></tr>\n",
              "\t<tr><td>9796</td><td>7</td><td>1</td><td>97960701</td><td>1</td><td>NA</td><td>4</td><td>6</td><td>1335</td><td> 1347</td><td>⋯</td><td>NA</td><td>NA</td><td>NA</td><td>NA</td><td>NA</td><td>  NA</td><td>  NA</td><td>  NA</td><td>0</td><td>  NA</td></tr>\n",
              "\t<tr><td>9797</td><td>7</td><td>1</td><td>97970701</td><td>1</td><td>NA</td><td>4</td><td>6</td><td> 502</td><td>  502</td><td>⋯</td><td>NA</td><td>NA</td><td>NA</td><td>NA</td><td>NA</td><td>  NA</td><td>  NA</td><td>  NA</td><td>0</td><td>  NA</td></tr>\n",
              "\t<tr><td>9798</td><td>7</td><td>1</td><td>97980701</td><td>1</td><td>NA</td><td>4</td><td>6</td><td>3356</td><td> 3524</td><td>⋯</td><td>NA</td><td>NA</td><td>NA</td><td>NA</td><td>NA</td><td>2252</td><td>  NA</td><td>  NA</td><td>0</td><td>  NA</td></tr>\n",
              "\t<tr><td>9798</td><td>7</td><td>1</td><td>97980701</td><td>1</td><td>NA</td><td>4</td><td>6</td><td>3356</td><td> 3524</td><td>⋯</td><td>NA</td><td>NA</td><td>NA</td><td>NA</td><td>NA</td><td>  NA</td><td> 386</td><td>  NA</td><td>0</td><td> 567</td></tr>\n",
              "\t<tr><td>9799</td><td>7</td><td>1</td><td>97990701</td><td>1</td><td>NA</td><td>4</td><td>6</td><td>1612</td><td> 1612</td><td>⋯</td><td>NA</td><td>NA</td><td>NA</td><td>NA</td><td>NA</td><td>  NA</td><td>  NA</td><td>  NA</td><td>0</td><td>  NA</td></tr>\n",
              "\t<tr><td>9799</td><td>7</td><td>1</td><td>97990701</td><td>1</td><td>NA</td><td>4</td><td>6</td><td>1612</td><td> 1612</td><td>⋯</td><td>NA</td><td>NA</td><td>NA</td><td>NA</td><td>NA</td><td>  NA</td><td>  NA</td><td>  NA</td><td>0</td><td>  NA</td></tr>\n",
              "\t<tr><td>9800</td><td>7</td><td>1</td><td>98000701</td><td>1</td><td>NA</td><td>4</td><td>5</td><td>9764</td><td>11600</td><td>⋯</td><td>NA</td><td>NA</td><td>NA</td><td>NA</td><td>NA</td><td>  NA</td><td>  NA</td><td>7163</td><td>0</td><td>  NA</td></tr>\n",
              "\t<tr><td>9800</td><td>7</td><td>1</td><td>98000701</td><td>1</td><td>NA</td><td>4</td><td>5</td><td>9764</td><td>11600</td><td>⋯</td><td>NA</td><td>NA</td><td>NA</td><td>NA</td><td>NA</td><td>  NA</td><td>  NA</td><td>  NA</td><td>0</td><td>  NA</td></tr>\n",
              "\t<tr><td>9800</td><td>7</td><td>1</td><td>98000701</td><td>1</td><td>NA</td><td>4</td><td>5</td><td>9764</td><td>11600</td><td>⋯</td><td>NA</td><td>NA</td><td>NA</td><td>NA</td><td>NA</td><td>3630</td><td>  NA</td><td>  NA</td><td>0</td><td>  NA</td></tr>\n",
              "\t<tr><td>9800</td><td>7</td><td>1</td><td>98000701</td><td>1</td><td>NA</td><td>4</td><td>5</td><td>9764</td><td>11600</td><td>⋯</td><td>NA</td><td>NA</td><td>NA</td><td>NA</td><td>NA</td><td>  NA</td><td> 700</td><td>  NA</td><td>0</td><td>  NA</td></tr>\n",
              "\t<tr><td>9800</td><td>7</td><td>1</td><td>98000701</td><td>1</td><td>NA</td><td>4</td><td>5</td><td>9764</td><td>11600</td><td>⋯</td><td>NA</td><td>NA</td><td>NA</td><td>NA</td><td>NA</td><td>  NA</td><td>  NA</td><td>  NA</td><td>0</td><td>  NA</td></tr>\n",
              "\t<tr><td>9800</td><td>7</td><td>1</td><td>98000701</td><td>1</td><td>NA</td><td>4</td><td>5</td><td>9764</td><td>11600</td><td>⋯</td><td>NA</td><td>NA</td><td>NA</td><td>NA</td><td>NA</td><td>  NA</td><td>  NA</td><td>  NA</td><td>0</td><td>  NA</td></tr>\n",
              "</tbody>\n",
              "</table>\n"
            ],
            "text/markdown": "\nA data.frame: 16664 × 957\n\n| h10_id &lt;dbl&gt; | h10_ind &lt;dbl&gt; | h10_sn &lt;dbl&gt; | h10_merkey &lt;dbl&gt; | h_new &lt;dbl&gt; | h10_cobf &lt;dbl&gt; | h10_reg5 &lt;dbl&gt; | h10_reg7 &lt;dbl&gt; | h10_din &lt;dbl&gt; | h10_cin &lt;dbl&gt; | ⋯ ⋯ | c1007_4aq19 &lt;dbl&gt; | c1007_4aq20 &lt;dbl&gt; | c1007_4aq21 &lt;dbl&gt; | c1007_4aq22 &lt;dbl&gt; | c1007_4aq23 &lt;dbl&gt; | h10_pers_income1 &lt;dbl&gt; | h10_pers_income2 &lt;dbl&gt; | h10_pers_income3 &lt;dbl&gt; | h10_pers_income4 &lt;dbl&gt; | h10_pers_income5 &lt;dbl&gt; |\n|---|---|---|---|---|---|---|---|---|---|---|---|---|---|---|---|---|---|---|---|---|\n|  1 | 1 | 1 |  10101 | 0 | NA | 1 | 1 |  864 |  864 | ⋯ | NA | NA | NA | NA | NA |   NA |   NA |   NA |  0 | NA |\n|  2 | 1 | 1 |  20101 | 0 | NA | 1 | 1 |  600 |  600 | ⋯ | NA | NA | NA | NA | NA |   NA |   NA |   NA |  0 | NA |\n|  3 | 1 | 1 |  30101 | 0 | NA | 1 | 1 | 1571 | 1619 | ⋯ | NA | NA | NA | NA | NA |   NA | 1440 |   NA |  0 | NA |\n|  4 | 1 | 1 |  40101 | 0 | NA | 1 | 1 | 3579 | 3687 | ⋯ | NA | NA | NA | NA | NA |   NA | 2400 |   NA |  0 | NA |\n|  4 | 1 | 1 |  40101 | 0 | NA | 1 | 1 | 3579 | 3687 | ⋯ | NA | NA | NA | NA | NA |   NA |   NA |   NA |  0 | NA |\n|  6 | 1 | 1 |  60101 | 0 | NA | 1 | 1 | 3030 | 3486 | ⋯ | NA | NA | NA | NA | NA |   NA |   NA | 3000 |  0 | NA |\n|  6 | 1 | 1 |  60101 | 0 | NA | 1 | 1 | 3030 | 3486 | ⋯ | NA | NA | NA | NA | NA |   NA |   NA |   NA |  0 | NA |\n|  6 | 1 | 1 |  60101 | 0 | NA | 1 | 1 | 3030 | 3486 | ⋯ |  4 |  1 |  1 |  1 |  4 |   NA |   NA |   NA |  0 | NA |\n|  6 | 1 | 1 |  60101 | 0 | NA | 1 | 1 | 3030 | 3486 | ⋯ | NA | NA | NA | NA | NA |   NA |   NA |   NA |  0 | NA |\n|  6 | 1 | 1 |  60101 | 0 | NA | 1 | 1 | 3030 | 3486 | ⋯ | NA | NA | NA | NA | NA |   NA |   NA |   NA |  0 | NA |\n|  7 | 1 | 1 |  70101 | 0 | NA | 4 | 7 |  873 |  969 | ⋯ | NA | NA | NA | NA | NA |   NA |   NA |   NA |  0 | NA |\n|  7 | 1 | 1 |  70101 | 0 | NA | 4 | 7 |  873 |  969 | ⋯ | NA | NA | NA | NA | NA |   NA |   NA |   NA | 35 | NA |\n|  7 | 1 | 1 |  70101 | 0 | NA | 4 | 7 |  873 |  969 | ⋯ | NA | NA | NA | NA | NA |   NA |   NA |   NA |  0 | NA |\n|  8 | 1 | 1 |  80101 | 0 | NA | 3 | 2 | 1369 | 1369 | ⋯ | NA | NA | NA | NA | NA |   NA |   80 |   NA |  0 | NA |\n| 10 | 1 | 1 | 100101 | 0 | NA | 1 | 1 | 1257 | 1257 | ⋯ | NA | NA | NA | NA | NA |   NA |   NA |   NA |  0 | NA |\n| 10 | 1 | 1 | 100101 | 0 | NA | 1 | 1 | 1257 | 1257 | ⋯ | NA | NA | NA | NA | NA |   NA |   NA |   NA |  0 | NA |\n| 12 | 1 | 1 | 120101 | 0 | NA | 1 | 1 |  842 |  854 | ⋯ | NA | NA | NA | NA | NA |   NA |   NA |   NA |  0 | NA |\n| 12 | 1 | 1 | 120101 | 0 | NA | 1 | 1 |  842 |  854 | ⋯ | NA | NA | NA | NA | NA |   NA |   NA |   NA |  0 | NA |\n| 14 | 1 | 1 | 140101 | 0 | NA | 1 | 1 |  518 |  542 | ⋯ | NA | NA | NA | NA | NA |   NA |  540 |   NA |  0 | NA |\n| 15 | 1 | 1 | 150101 | 0 | NA | 1 | 1 | 7056 | 7212 | ⋯ | NA | NA | NA | NA | NA | 4488 |   NA |   NA |  0 | NA |\n| 15 | 1 | 1 | 150101 | 0 | NA | 1 | 1 | 7056 | 7212 | ⋯ | NA | NA | NA | NA | NA |   NA | 2400 |   NA |  0 | NA |\n| 15 | 1 | 1 | 150101 | 0 | NA | 1 | 1 | 7056 | 7212 | ⋯ |  3 |  2 |  1 |  1 |  4 |   NA |   NA |   NA |  0 | NA |\n| 15 | 1 | 1 | 150101 | 0 | NA | 1 | 1 | 7056 | 7212 | ⋯ | NA | NA | NA | NA | NA |   NA |   NA |   NA |  0 | NA |\n| 16 | 1 | 1 | 160101 | 0 | NA | 1 | 1 | 3888 | 4260 | ⋯ | NA | NA | NA | NA | NA |   NA |   NA |   NA |  0 | NA |\n| 16 | 1 | 1 | 160101 | 0 | NA | 1 | 1 | 3888 | 4260 | ⋯ | NA | NA | NA | NA | NA |   NA | 1800 |   NA |  0 | NA |\n| 17 | 1 | 1 | 170101 | 0 | NA | 1 | 1 | 1363 | 1363 | ⋯ | NA | NA | NA | NA | NA |   NA |   NA |  444 |  0 | NA |\n| 18 | 1 | 1 | 180101 | 0 | NA | 1 | 1 |  387 |  387 | ⋯ | NA | NA | NA | NA | NA |   NA |   NA |   NA |  0 | NA |\n| 20 | 1 | 1 | 200101 | 0 | NA | 1 | 1 | 4122 | 4722 | ⋯ | NA | NA | NA | NA | NA | 4400 |   NA |  200 |  0 | NA |\n| 20 | 9 | 1 | 200901 | 0 | NA | 1 | 1 | 4212 | 4248 | ⋯ | NA | NA | NA | NA | NA |   NA |   NA | 4248 |  0 | NA |\n| 24 | 1 | 1 | 240101 | 0 | NA | 1 | 1 | 7206 | 7374 | ⋯ | NA | NA | NA | NA | NA |   NA |   NA |   NA |  0 | NA |\n| ⋮ | ⋮ | ⋮ | ⋮ | ⋮ | ⋮ | ⋮ | ⋮ | ⋮ | ⋮ | ⋱ | ⋮ | ⋮ | ⋮ | ⋮ | ⋮ | ⋮ | ⋮ | ⋮ | ⋮ | ⋮ |\n| 9787 | 7 | 1 | 97870701 | 1 | NA | 3 | 6 | 1155 |  1179 | ⋯ | NA | NA | NA | NA | NA |   NA |   NA |   NA | 0 |   NA |\n| 9788 | 7 | 1 | 97880701 | 1 | NA | 3 | 6 | 1812 |  1872 | ⋯ | NA | NA | NA | NA | NA |   NA |  900 |   NA | 0 |   69 |\n| 9788 | 7 | 1 | 97880701 | 1 | NA | 3 | 6 | 1812 |  1872 | ⋯ | NA | NA | NA | NA | NA |   NA |  220 |   NA | 0 |   NA |\n| 9789 | 7 | 1 | 97890701 | 1 | NA | 3 | 6 | 4714 |  4966 | ⋯ | NA | NA | NA | NA | NA |   NA |   NA |   NA | 0 |   NA |\n| 9789 | 7 | 1 | 97890701 | 1 | NA | 3 | 6 | 4714 |  4966 | ⋯ | NA | NA | NA | NA | NA |   NA |   NA |   NA | 0 |   NA |\n| 9791 | 7 | 1 | 97910701 | 1 | NA | 3 | 6 | 1485 |  1623 | ⋯ | NA | NA | NA | NA | NA |   NA | 1620 |   NA | 0 |   NA |\n| 9793 | 7 | 1 | 97930701 | 1 | NA | 4 | 6 | 5347 |  5539 | ⋯ | NA | NA | NA | NA | NA |   NA |   NA |   NA | 0 | 1487 |\n| 9793 | 7 | 1 | 97930701 | 1 | NA | 4 | 6 | 5347 |  5539 | ⋯ | NA | NA | NA | NA | NA |   NA |   NA |   NA | 0 |   NA |\n| 9793 | 7 | 1 | 97930701 | 1 | NA | 4 | 6 | 5347 |  5539 | ⋯ | NA | NA | NA | NA | NA | 2256 |   NA |   NA | 0 |   NA |\n| 9793 | 7 | 1 | 97930701 | 1 | NA | 4 | 6 | 5347 |  5539 | ⋯ | NA | NA | NA | NA | NA |   NA | 1080 |   NA | 0 |   NA |\n| 9793 | 7 | 1 | 97930701 | 1 | NA | 4 | 6 | 5347 |  5539 | ⋯ | NA | NA | NA | NA | NA |   NA |   NA |   NA | 0 |   NA |\n| 9793 | 7 | 1 | 97930701 | 1 | NA | 4 | 6 | 5347 |  5539 | ⋯ | NA | NA | NA | NA | NA |   NA |   NA |   NA | 0 |   NA |\n| 9793 | 7 | 1 | 97930701 | 1 | NA | 4 | 6 | 5347 |  5539 | ⋯ |  3 |  2 |  2 |  2 |  3 |   NA |   NA |   NA | 0 |   NA |\n| 9794 | 7 | 1 | 97940701 | 1 | NA | 4 | 6 | 1756 |  1768 | ⋯ | NA | NA | NA | NA | NA |   NA |   NA |   NA | 0 |  843 |\n| 9794 | 7 | 1 | 97940701 | 1 | NA | 4 | 6 | 1756 |  1768 | ⋯ | NA | NA | NA | NA | NA |   NA |   NA |   NA | 0 |   NA |\n| 9795 | 7 | 1 | 97950701 | 1 | NA | 4 | 6 |  667 |   667 | ⋯ | NA | NA | NA | NA | NA |   NA |   NA |   NA | 0 |   NA |\n| 9795 | 7 | 1 | 97950701 | 1 | NA | 4 | 6 |  667 |   667 | ⋯ | NA | NA | NA | NA | NA |   NA |   NA |   NA | 0 |   NA |\n| 9796 | 7 | 1 | 97960701 | 1 | NA | 4 | 6 | 1335 |  1347 | ⋯ | NA | NA | NA | NA | NA |   NA |   NA |   NA | 0 |  709 |\n| 9796 | 7 | 1 | 97960701 | 1 | NA | 4 | 6 | 1335 |  1347 | ⋯ | NA | NA | NA | NA | NA |   NA |   NA |   NA | 0 |   NA |\n| 9797 | 7 | 1 | 97970701 | 1 | NA | 4 | 6 |  502 |   502 | ⋯ | NA | NA | NA | NA | NA |   NA |   NA |   NA | 0 |   NA |\n| 9798 | 7 | 1 | 97980701 | 1 | NA | 4 | 6 | 3356 |  3524 | ⋯ | NA | NA | NA | NA | NA | 2252 |   NA |   NA | 0 |   NA |\n| 9798 | 7 | 1 | 97980701 | 1 | NA | 4 | 6 | 3356 |  3524 | ⋯ | NA | NA | NA | NA | NA |   NA |  386 |   NA | 0 |  567 |\n| 9799 | 7 | 1 | 97990701 | 1 | NA | 4 | 6 | 1612 |  1612 | ⋯ | NA | NA | NA | NA | NA |   NA |   NA |   NA | 0 |   NA |\n| 9799 | 7 | 1 | 97990701 | 1 | NA | 4 | 6 | 1612 |  1612 | ⋯ | NA | NA | NA | NA | NA |   NA |   NA |   NA | 0 |   NA |\n| 9800 | 7 | 1 | 98000701 | 1 | NA | 4 | 5 | 9764 | 11600 | ⋯ | NA | NA | NA | NA | NA |   NA |   NA | 7163 | 0 |   NA |\n| 9800 | 7 | 1 | 98000701 | 1 | NA | 4 | 5 | 9764 | 11600 | ⋯ | NA | NA | NA | NA | NA |   NA |   NA |   NA | 0 |   NA |\n| 9800 | 7 | 1 | 98000701 | 1 | NA | 4 | 5 | 9764 | 11600 | ⋯ | NA | NA | NA | NA | NA | 3630 |   NA |   NA | 0 |   NA |\n| 9800 | 7 | 1 | 98000701 | 1 | NA | 4 | 5 | 9764 | 11600 | ⋯ | NA | NA | NA | NA | NA |   NA |  700 |   NA | 0 |   NA |\n| 9800 | 7 | 1 | 98000701 | 1 | NA | 4 | 5 | 9764 | 11600 | ⋯ | NA | NA | NA | NA | NA |   NA |   NA |   NA | 0 |   NA |\n| 9800 | 7 | 1 | 98000701 | 1 | NA | 4 | 5 | 9764 | 11600 | ⋯ | NA | NA | NA | NA | NA |   NA |   NA |   NA | 0 |   NA |\n\n",
            "text/latex": "A data.frame: 16664 × 957\n\\begin{tabular}{lllllllllllllllllllll}\n h10\\_id & h10\\_ind & h10\\_sn & h10\\_merkey & h\\_new & h10\\_cobf & h10\\_reg5 & h10\\_reg7 & h10\\_din & h10\\_cin & ⋯ & c1007\\_4aq19 & c1007\\_4aq20 & c1007\\_4aq21 & c1007\\_4aq22 & c1007\\_4aq23 & h10\\_pers\\_income1 & h10\\_pers\\_income2 & h10\\_pers\\_income3 & h10\\_pers\\_income4 & h10\\_pers\\_income5\\\\\n <dbl> & <dbl> & <dbl> & <dbl> & <dbl> & <dbl> & <dbl> & <dbl> & <dbl> & <dbl> & ⋯ & <dbl> & <dbl> & <dbl> & <dbl> & <dbl> & <dbl> & <dbl> & <dbl> & <dbl> & <dbl>\\\\\n\\hline\n\t  1 & 1 & 1 &  10101 & 0 & NA & 1 & 1 &  864 &  864 & ⋯ & NA & NA & NA & NA & NA &   NA &   NA &   NA &  0 & NA\\\\\n\t  2 & 1 & 1 &  20101 & 0 & NA & 1 & 1 &  600 &  600 & ⋯ & NA & NA & NA & NA & NA &   NA &   NA &   NA &  0 & NA\\\\\n\t  3 & 1 & 1 &  30101 & 0 & NA & 1 & 1 & 1571 & 1619 & ⋯ & NA & NA & NA & NA & NA &   NA & 1440 &   NA &  0 & NA\\\\\n\t  4 & 1 & 1 &  40101 & 0 & NA & 1 & 1 & 3579 & 3687 & ⋯ & NA & NA & NA & NA & NA &   NA & 2400 &   NA &  0 & NA\\\\\n\t  4 & 1 & 1 &  40101 & 0 & NA & 1 & 1 & 3579 & 3687 & ⋯ & NA & NA & NA & NA & NA &   NA &   NA &   NA &  0 & NA\\\\\n\t  6 & 1 & 1 &  60101 & 0 & NA & 1 & 1 & 3030 & 3486 & ⋯ & NA & NA & NA & NA & NA &   NA &   NA & 3000 &  0 & NA\\\\\n\t  6 & 1 & 1 &  60101 & 0 & NA & 1 & 1 & 3030 & 3486 & ⋯ & NA & NA & NA & NA & NA &   NA &   NA &   NA &  0 & NA\\\\\n\t  6 & 1 & 1 &  60101 & 0 & NA & 1 & 1 & 3030 & 3486 & ⋯ &  4 &  1 &  1 &  1 &  4 &   NA &   NA &   NA &  0 & NA\\\\\n\t  6 & 1 & 1 &  60101 & 0 & NA & 1 & 1 & 3030 & 3486 & ⋯ & NA & NA & NA & NA & NA &   NA &   NA &   NA &  0 & NA\\\\\n\t  6 & 1 & 1 &  60101 & 0 & NA & 1 & 1 & 3030 & 3486 & ⋯ & NA & NA & NA & NA & NA &   NA &   NA &   NA &  0 & NA\\\\\n\t  7 & 1 & 1 &  70101 & 0 & NA & 4 & 7 &  873 &  969 & ⋯ & NA & NA & NA & NA & NA &   NA &   NA &   NA &  0 & NA\\\\\n\t  7 & 1 & 1 &  70101 & 0 & NA & 4 & 7 &  873 &  969 & ⋯ & NA & NA & NA & NA & NA &   NA &   NA &   NA & 35 & NA\\\\\n\t  7 & 1 & 1 &  70101 & 0 & NA & 4 & 7 &  873 &  969 & ⋯ & NA & NA & NA & NA & NA &   NA &   NA &   NA &  0 & NA\\\\\n\t  8 & 1 & 1 &  80101 & 0 & NA & 3 & 2 & 1369 & 1369 & ⋯ & NA & NA & NA & NA & NA &   NA &   80 &   NA &  0 & NA\\\\\n\t 10 & 1 & 1 & 100101 & 0 & NA & 1 & 1 & 1257 & 1257 & ⋯ & NA & NA & NA & NA & NA &   NA &   NA &   NA &  0 & NA\\\\\n\t 10 & 1 & 1 & 100101 & 0 & NA & 1 & 1 & 1257 & 1257 & ⋯ & NA & NA & NA & NA & NA &   NA &   NA &   NA &  0 & NA\\\\\n\t 12 & 1 & 1 & 120101 & 0 & NA & 1 & 1 &  842 &  854 & ⋯ & NA & NA & NA & NA & NA &   NA &   NA &   NA &  0 & NA\\\\\n\t 12 & 1 & 1 & 120101 & 0 & NA & 1 & 1 &  842 &  854 & ⋯ & NA & NA & NA & NA & NA &   NA &   NA &   NA &  0 & NA\\\\\n\t 14 & 1 & 1 & 140101 & 0 & NA & 1 & 1 &  518 &  542 & ⋯ & NA & NA & NA & NA & NA &   NA &  540 &   NA &  0 & NA\\\\\n\t 15 & 1 & 1 & 150101 & 0 & NA & 1 & 1 & 7056 & 7212 & ⋯ & NA & NA & NA & NA & NA & 4488 &   NA &   NA &  0 & NA\\\\\n\t 15 & 1 & 1 & 150101 & 0 & NA & 1 & 1 & 7056 & 7212 & ⋯ & NA & NA & NA & NA & NA &   NA & 2400 &   NA &  0 & NA\\\\\n\t 15 & 1 & 1 & 150101 & 0 & NA & 1 & 1 & 7056 & 7212 & ⋯ &  3 &  2 &  1 &  1 &  4 &   NA &   NA &   NA &  0 & NA\\\\\n\t 15 & 1 & 1 & 150101 & 0 & NA & 1 & 1 & 7056 & 7212 & ⋯ & NA & NA & NA & NA & NA &   NA &   NA &   NA &  0 & NA\\\\\n\t 16 & 1 & 1 & 160101 & 0 & NA & 1 & 1 & 3888 & 4260 & ⋯ & NA & NA & NA & NA & NA &   NA &   NA &   NA &  0 & NA\\\\\n\t 16 & 1 & 1 & 160101 & 0 & NA & 1 & 1 & 3888 & 4260 & ⋯ & NA & NA & NA & NA & NA &   NA & 1800 &   NA &  0 & NA\\\\\n\t 17 & 1 & 1 & 170101 & 0 & NA & 1 & 1 & 1363 & 1363 & ⋯ & NA & NA & NA & NA & NA &   NA &   NA &  444 &  0 & NA\\\\\n\t 18 & 1 & 1 & 180101 & 0 & NA & 1 & 1 &  387 &  387 & ⋯ & NA & NA & NA & NA & NA &   NA &   NA &   NA &  0 & NA\\\\\n\t 20 & 1 & 1 & 200101 & 0 & NA & 1 & 1 & 4122 & 4722 & ⋯ & NA & NA & NA & NA & NA & 4400 &   NA &  200 &  0 & NA\\\\\n\t 20 & 9 & 1 & 200901 & 0 & NA & 1 & 1 & 4212 & 4248 & ⋯ & NA & NA & NA & NA & NA &   NA &   NA & 4248 &  0 & NA\\\\\n\t 24 & 1 & 1 & 240101 & 0 & NA & 1 & 1 & 7206 & 7374 & ⋯ & NA & NA & NA & NA & NA &   NA &   NA &   NA &  0 & NA\\\\\n\t ⋮ & ⋮ & ⋮ & ⋮ & ⋮ & ⋮ & ⋮ & ⋮ & ⋮ & ⋮ & ⋱ & ⋮ & ⋮ & ⋮ & ⋮ & ⋮ & ⋮ & ⋮ & ⋮ & ⋮ & ⋮\\\\\n\t 9787 & 7 & 1 & 97870701 & 1 & NA & 3 & 6 & 1155 &  1179 & ⋯ & NA & NA & NA & NA & NA &   NA &   NA &   NA & 0 &   NA\\\\\n\t 9788 & 7 & 1 & 97880701 & 1 & NA & 3 & 6 & 1812 &  1872 & ⋯ & NA & NA & NA & NA & NA &   NA &  900 &   NA & 0 &   69\\\\\n\t 9788 & 7 & 1 & 97880701 & 1 & NA & 3 & 6 & 1812 &  1872 & ⋯ & NA & NA & NA & NA & NA &   NA &  220 &   NA & 0 &   NA\\\\\n\t 9789 & 7 & 1 & 97890701 & 1 & NA & 3 & 6 & 4714 &  4966 & ⋯ & NA & NA & NA & NA & NA &   NA &   NA &   NA & 0 &   NA\\\\\n\t 9789 & 7 & 1 & 97890701 & 1 & NA & 3 & 6 & 4714 &  4966 & ⋯ & NA & NA & NA & NA & NA &   NA &   NA &   NA & 0 &   NA\\\\\n\t 9791 & 7 & 1 & 97910701 & 1 & NA & 3 & 6 & 1485 &  1623 & ⋯ & NA & NA & NA & NA & NA &   NA & 1620 &   NA & 0 &   NA\\\\\n\t 9793 & 7 & 1 & 97930701 & 1 & NA & 4 & 6 & 5347 &  5539 & ⋯ & NA & NA & NA & NA & NA &   NA &   NA &   NA & 0 & 1487\\\\\n\t 9793 & 7 & 1 & 97930701 & 1 & NA & 4 & 6 & 5347 &  5539 & ⋯ & NA & NA & NA & NA & NA &   NA &   NA &   NA & 0 &   NA\\\\\n\t 9793 & 7 & 1 & 97930701 & 1 & NA & 4 & 6 & 5347 &  5539 & ⋯ & NA & NA & NA & NA & NA & 2256 &   NA &   NA & 0 &   NA\\\\\n\t 9793 & 7 & 1 & 97930701 & 1 & NA & 4 & 6 & 5347 &  5539 & ⋯ & NA & NA & NA & NA & NA &   NA & 1080 &   NA & 0 &   NA\\\\\n\t 9793 & 7 & 1 & 97930701 & 1 & NA & 4 & 6 & 5347 &  5539 & ⋯ & NA & NA & NA & NA & NA &   NA &   NA &   NA & 0 &   NA\\\\\n\t 9793 & 7 & 1 & 97930701 & 1 & NA & 4 & 6 & 5347 &  5539 & ⋯ & NA & NA & NA & NA & NA &   NA &   NA &   NA & 0 &   NA\\\\\n\t 9793 & 7 & 1 & 97930701 & 1 & NA & 4 & 6 & 5347 &  5539 & ⋯ &  3 &  2 &  2 &  2 &  3 &   NA &   NA &   NA & 0 &   NA\\\\\n\t 9794 & 7 & 1 & 97940701 & 1 & NA & 4 & 6 & 1756 &  1768 & ⋯ & NA & NA & NA & NA & NA &   NA &   NA &   NA & 0 &  843\\\\\n\t 9794 & 7 & 1 & 97940701 & 1 & NA & 4 & 6 & 1756 &  1768 & ⋯ & NA & NA & NA & NA & NA &   NA &   NA &   NA & 0 &   NA\\\\\n\t 9795 & 7 & 1 & 97950701 & 1 & NA & 4 & 6 &  667 &   667 & ⋯ & NA & NA & NA & NA & NA &   NA &   NA &   NA & 0 &   NA\\\\\n\t 9795 & 7 & 1 & 97950701 & 1 & NA & 4 & 6 &  667 &   667 & ⋯ & NA & NA & NA & NA & NA &   NA &   NA &   NA & 0 &   NA\\\\\n\t 9796 & 7 & 1 & 97960701 & 1 & NA & 4 & 6 & 1335 &  1347 & ⋯ & NA & NA & NA & NA & NA &   NA &   NA &   NA & 0 &  709\\\\\n\t 9796 & 7 & 1 & 97960701 & 1 & NA & 4 & 6 & 1335 &  1347 & ⋯ & NA & NA & NA & NA & NA &   NA &   NA &   NA & 0 &   NA\\\\\n\t 9797 & 7 & 1 & 97970701 & 1 & NA & 4 & 6 &  502 &   502 & ⋯ & NA & NA & NA & NA & NA &   NA &   NA &   NA & 0 &   NA\\\\\n\t 9798 & 7 & 1 & 97980701 & 1 & NA & 4 & 6 & 3356 &  3524 & ⋯ & NA & NA & NA & NA & NA & 2252 &   NA &   NA & 0 &   NA\\\\\n\t 9798 & 7 & 1 & 97980701 & 1 & NA & 4 & 6 & 3356 &  3524 & ⋯ & NA & NA & NA & NA & NA &   NA &  386 &   NA & 0 &  567\\\\\n\t 9799 & 7 & 1 & 97990701 & 1 & NA & 4 & 6 & 1612 &  1612 & ⋯ & NA & NA & NA & NA & NA &   NA &   NA &   NA & 0 &   NA\\\\\n\t 9799 & 7 & 1 & 97990701 & 1 & NA & 4 & 6 & 1612 &  1612 & ⋯ & NA & NA & NA & NA & NA &   NA &   NA &   NA & 0 &   NA\\\\\n\t 9800 & 7 & 1 & 98000701 & 1 & NA & 4 & 5 & 9764 & 11600 & ⋯ & NA & NA & NA & NA & NA &   NA &   NA & 7163 & 0 &   NA\\\\\n\t 9800 & 7 & 1 & 98000701 & 1 & NA & 4 & 5 & 9764 & 11600 & ⋯ & NA & NA & NA & NA & NA &   NA &   NA &   NA & 0 &   NA\\\\\n\t 9800 & 7 & 1 & 98000701 & 1 & NA & 4 & 5 & 9764 & 11600 & ⋯ & NA & NA & NA & NA & NA & 3630 &   NA &   NA & 0 &   NA\\\\\n\t 9800 & 7 & 1 & 98000701 & 1 & NA & 4 & 5 & 9764 & 11600 & ⋯ & NA & NA & NA & NA & NA &   NA &  700 &   NA & 0 &   NA\\\\\n\t 9800 & 7 & 1 & 98000701 & 1 & NA & 4 & 5 & 9764 & 11600 & ⋯ & NA & NA & NA & NA & NA &   NA &   NA &   NA & 0 &   NA\\\\\n\t 9800 & 7 & 1 & 98000701 & 1 & NA & 4 & 5 & 9764 & 11600 & ⋯ & NA & NA & NA & NA & NA &   NA &   NA &   NA & 0 &   NA\\\\\n\\end{tabular}\n"
          },
          "metadata": {}
        }
      ]
    },
    {
      "cell_type": "code",
      "source": [
        "dim(welfare)      ## 16664행 957열"
      ],
      "metadata": {
        "colab": {
          "base_uri": "https://localhost:8080/",
          "height": 34
        },
        "id": "NYrLV1yecAjx",
        "outputId": "834009fe-10b0-47e8-dbf1-0cf82f4b78dd"
      },
      "execution_count": null,
      "outputs": [
        {
          "output_type": "display_data",
          "data": {
            "text/html": [
              "<style>\n",
              ".list-inline {list-style: none; margin:0; padding: 0}\n",
              ".list-inline>li {display: inline-block}\n",
              ".list-inline>li:not(:last-child)::after {content: \"\\00b7\"; padding: 0 .5ex}\n",
              "</style>\n",
              "<ol class=list-inline><li>16664</li><li>957</li></ol>\n"
            ],
            "text/markdown": "1. 16664\n2. 957\n\n\n",
            "text/latex": "\\begin{enumerate*}\n\\item 16664\n\\item 957\n\\end{enumerate*}\n",
            "text/plain": [
              "[1] 16664   957"
            ]
          },
          "metadata": {}
        }
      ]
    },
    {
      "cell_type": "code",
      "source": [
        "str(welfare)"
      ],
      "metadata": {
        "id": "oLwBNLLncHsJ",
        "colab": {
          "base_uri": "https://localhost:8080/"
        },
        "outputId": "3191e093-2684-47cc-fa9d-7517db066725"
      },
      "execution_count": null,
      "outputs": [
        {
          "output_type": "stream",
          "name": "stdout",
          "text": [
            "'data.frame':\t16664 obs. of  957 variables:\n",
            " $ h10_id          : num  1 2 3 4 4 6 6 6 6 6 ...\n",
            " $ h10_ind         : num  1 1 1 1 1 1 1 1 1 1 ...\n",
            " $ h10_sn          : num  1 1 1 1 1 1 1 1 1 1 ...\n",
            " $ h10_merkey      : num  10101 20101 30101 40101 40101 ...\n",
            " $ h_new           : num  0 0 0 0 0 0 0 0 0 0 ...\n",
            " $ h10_cobf        : num  NA NA NA NA NA NA NA NA NA NA ...\n",
            " $ h10_reg5        : num  1 1 1 1 1 1 1 1 1 1 ...\n",
            " $ h10_reg7        : num  1 1 1 1 1 1 1 1 1 1 ...\n",
            " $ h10_din         : num  864 600 1571 3579 3579 ...\n",
            " $ h10_cin         : num  864 600 1619 3687 3687 ...\n",
            " $ h10_flag        : num  0 0 0 0 0 0 0 0 0 0 ...\n",
            " $ p10_wgl         : num  777 960 1059 1012 1075 ...\n",
            " $ p10_wsl         : num  0.257 0.317 0.35 0.334 0.355 ...\n",
            " $ p10_wgc         : num  764 949 1048 992 1057 ...\n",
            " $ p10_wsc         : num  0.252 0.314 0.346 0.328 0.349 ...\n",
            " $ h10_hc          : num  2 2 1 1 1 1 1 1 1 1 ...\n",
            " $ nh1001_1        : num  NA NA NA NA NA NA NA NA NA NA ...\n",
            " $ nh1001_2        : num  NA NA NA NA NA NA NA NA NA NA ...\n",
            " $ h1001_1         : num  1 1 1 2 2 5 5 5 5 5 ...\n",
            " $ h10_pind        : num  1 1 1 1 4 1 1 1 1 1 ...\n",
            " $ h10_pid         : num  101 201 301 401 402 601 602 603 604 605 ...\n",
            " $ h10_g1          : num  1 1 1 1 2 1 2 3 4 5 ...\n",
            " $ h10_g2          : num  10 10 10 10 2 10 20 11 1 2 ...\n",
            " $ h10_g3          : num  2 2 1 1 2 1 2 2 1 2 ...\n",
            " $ h10_g4          : num  1936 1945 1948 1942 1923 ...\n",
            " $ h10_g6          : num  2 4 3 7 2 6 5 3 4 4 ...\n",
            " $ h10_g7          : num  0 5 5 3 0 5 5 1 5 5 ...\n",
            " $ h10_g8          : num  0 0 0 0 0 0 0 0 0 0 ...\n",
            " $ h10_g9          : num  0 0 0 0 0 0 0 0 0 0 ...\n",
            " $ h10_g10         : num  2 2 2 3 2 1 1 0 1 1 ...\n",
            " $ h10_g11         : num  2 2 2 1 1 1 1 1 1 1 ...\n",
            " $ h10_g12         : num  1 1 1 1 1 1 1 1 1 1 ...\n",
            " $ h1001_110       : num  1 1 1 5 5 5 5 5 5 5 ...\n",
            " $ h1001_5aq1      : num  0 0 0 0 0 0 0 0 0 0 ...\n",
            " $ h1001_5aq2      : num  0 0 0 0 0 0 0 0 0 0 ...\n",
            " $ h1001_5aq3      : num  0 0 0 0 0 0 0 0 0 0 ...\n",
            " $ h1001_5aq4      : num  0 0 0 0 0 0 0 0 0 0 ...\n",
            " $ h10_med1        : num  1 1 1 1 2 1 2 3 4 5 ...\n",
            " $ h10_med2        : num  3 4 3 3 4 3 5 2 3 3 ...\n",
            " $ h10_med3        : num  60 28 12 3 6 5 0 3 0 14 ...\n",
            " $ h10_med4        : num  0 0 0 0 0 0 5 0 0 0 ...\n",
            " $ h10_med5        : num  0 0 0 0 0 0 23 0 0 0 ...\n",
            " $ h10_med6        : num  0 0 0 0 0 0 1 0 0 0 ...\n",
            " $ h10_med7        : num  3 2 2 1 1 2 1 2 0 2 ...\n",
            " $ h10_med8        : num  0 1 0 1 1 1 1 0 0 1 ...\n",
            " $ h10_g9_1        : num  3 3 3 3 3 3 3 0 0 3 ...\n",
            " $ h10_med9        : num  8 5 7 3 15 23 1 0 0 6 ...\n",
            " $ h10_med10       : num  0 0 0 0 0 1 1 1 0 0 ...\n",
            " $ h10_eco1        : num  1 1 1 1 2 1 2 3 4 5 ...\n",
            " $ h10_eco2        : num  2 3 1 1 3 1 1 0 3 3 ...\n",
            " $ h10_eco3        : num  NA NA NA NA NA NA NA NA NA NA ...\n",
            " $ h10_eco4        : num  9 9 2 2 9 6 9 NA 9 9 ...\n",
            " $ h10_eco4_1      : num  NA NA NA NA NA NA NA NA NA NA ...\n",
            " $ h10_eco5_1      : num  NA NA 1 1 NA NA NA NA NA NA ...\n",
            " $ h10_eco6        : num  NA NA 2 2 NA NA NA NA NA NA ...\n",
            " $ h10_eco_7_1     : num  NA NA 1 1 NA NA NA NA NA NA ...\n",
            " $ h10_eco_7_2     : num  NA NA 2 2 NA NA NA NA NA NA ...\n",
            " $ h10_eco_7_3     : num  NA NA 1 3 NA NA NA NA NA NA ...\n",
            " $ h10_eco8        : num  NA NA 75 42 NA 46 NA NA NA NA ...\n",
            " $ h10_eco9        : num  NA NA 942 762 NA 530 NA NA NA NA ...\n",
            " $ h10_eco10       : num  NA NA 3 2 NA 1 NA NA NA NA ...\n",
            " $ h10_eco11       : num  10 10 NA NA 10 NA 6 NA 10 10 ...\n",
            " $ h10_soc1        : num  1 1 1 1 2 1 2 3 4 5 ...\n",
            " $ h10_soc_2       : num  0 0 0 1 0 2 0 0 0 0 ...\n",
            " $ h10_soc_3       : num  NA NA NA NA NA 1 NA NA NA NA ...\n",
            " $ h10_soc_4       : num  NA NA NA NA NA 2 NA NA NA NA ...\n",
            " $ h10_soc_5       : num  NA NA NA NA NA 1 NA NA NA NA ...\n",
            " $ h10_soc_6       : num  NA NA NA NA NA NA NA NA NA NA ...\n",
            " $ h10_soc_7       : num  NA NA NA NA NA NA NA NA NA NA ...\n",
            " $ h10_soc_8       : num  NA NA NA NA NA NA NA NA NA NA ...\n",
            " $ h10_soc_9       : num  NA NA NA NA NA 0 NA NA NA NA ...\n",
            " $ h10_soc_10      : num  NA NA NA NA NA 0 NA NA NA NA ...\n",
            " $ h10_soc_11      : num  NA NA NA NA NA NA NA NA NA NA ...\n",
            " $ h10_soc8        : num  0 0 1 2 0 0 0 0 0 0 ...\n",
            " $ h10_soc9        : num  0 0 1 2 0 0 0 0 0 0 ...\n",
            " $ h10_soc11       : num  0 0 2 2 0 0 0 0 0 0 ...\n",
            " $ h10_soc10       : num  0 0 2 2 0 0 0 0 0 0 ...\n",
            " $ h10_soc_12      : num  4 4 4 4 4 4 4 4 4 4 ...\n",
            " $ h10_soc_13      : num  4 4 1 3 4 3 4 4 4 4 ...\n",
            " $ h1005_1         : num  1 1 1 1 1 1 1 1 1 1 ...\n",
            " $ h1005_3aq1      : num  2 2 1 2 2 2 2 2 2 2 ...\n",
            " $ h1005_2         : num  NA NA NA NA NA NA NA NA NA NA ...\n",
            " $ h1005_3         : num  NA NA NA NA NA NA NA NA NA NA ...\n",
            " $ h1005_4         : num  2 2 2 2 2 2 2 2 2 2 ...\n",
            " $ h1005_5         : num  NA NA NA NA NA NA NA NA NA NA ...\n",
            " $ h1005_6         : num  NA NA NA NA NA NA NA NA NA NA ...\n",
            " $ h1005_7         : num  0 0 0 0 0 1 1 1 1 1 ...\n",
            " $ nh1005_8        : num  4 3 3 3 3 3 3 3 3 3 ...\n",
            " $ nh1005_9        : num  5 4 3 3 3 4 4 4 4 4 ...\n",
            " $ h1005_3aq2      : num  0 0 0 0 0 11 11 11 11 11 ...\n",
            " $ h1006_aq1       : num  2 2 2 2 2 2 2 2 2 2 ...\n",
            " $ h1006_1         : num  2 2 2 1 1 2 2 2 2 2 ...\n",
            " $ h1006_2         : num  3 3 1 3 3 3 3 3 3 3 ...\n",
            " $ h1006_4         : num  2 3 1 3 3 3 3 3 3 3 ...\n",
            " $ h1006_5         : num  33 198 23 73 73 82 82 82 82 82 ...\n",
            " $ h1006_3         : num  2 1 3 1 1 1 1 1 1 1 ...\n",
            " $ h1006_6         : num  5000 60000 200 20000 20000 50700 50700 50700 50700 50700 ...\n",
            " $ h1006_8         : num  1 1 1 1 1 1 1 1 1 1 ...\n",
            " $ h1006_9         : num  88 4 88 88 88 88 88 88 88 88 ...\n",
            "  [list output truncated]\n",
            " - attr(*, \"variable.labels\")= Named chr [1:957] \"\\xb0\\xa1\\xb1\\xb8 \\xc6г\\xce ID(h10_id)\" \"\\xb0\\xa1\\xb1\\xb8\\xbb\\xfd\\xbc\\xba\\xc2\\xf7\\xbc\\xf6(h10_ind)\" \"\\xb0\\xa1\\xb1\\xb8\\xbaи\\xae\\xc0Ϸù\\xf8ȣ(h10_sn)\" \"\\xc6гΰ\\xa3 \\xb0\\xa1\\xb1\\xb8\\xb8\\xd3\\xc1\\xf6 Ű\\xba\\xaf\\xbc\\xf6(h10_merkey)\" ...\n",
            "  ..- attr(*, \"names\")= chr [1:957] \"h10_id\" \"h10_ind\" \"h10_sn\" \"h10_merkey\" ...\n"
          ]
        }
      ]
    },
    {
      "cell_type": "code",
      "source": [
        "summary(welfare)      ## 각 열 마다 최대/최소/중앙값/평균/1,3분위 수를 요약해서 보여줌."
      ],
      "metadata": {
        "id": "VSt4gYIocN3C",
        "colab": {
          "base_uri": "https://localhost:8080/",
          "height": 1000
        },
        "outputId": "32350873-2e56-4e95-be08-9f6dc37dd640"
      },
      "execution_count": null,
      "outputs": [
        {
          "output_type": "display_data",
          "data": {
            "text/plain": [
              "     h10_id        h10_ind           h10_sn        h10_merkey      \n",
              " Min.   :   1   Min.   : 1.000   Min.   :1.000   Min.   :   10101  \n",
              " 1st Qu.:2361   1st Qu.: 1.000   1st Qu.:1.000   1st Qu.:23612601  \n",
              " Median :4503   Median : 1.000   Median :1.000   Median :45030401  \n",
              " Mean   :4669   Mean   : 2.612   Mean   :1.003   Mean   :46689252  \n",
              " 3rd Qu.:6613   3rd Qu.: 5.000   3rd Qu.:1.000   3rd Qu.:66130501  \n",
              " Max.   :9800   Max.   :10.000   Max.   :9.000   Max.   :98000701  \n",
              "                                                                   \n",
              "     h_new           h10_cobf        h10_reg5        h10_reg7    \n",
              " Min.   :0.0000   Min.   :1.000   Min.   :1.000   Min.   :1.000  \n",
              " 1st Qu.:0.0000   1st Qu.:1.000   1st Qu.:2.000   1st Qu.:2.000  \n",
              " Median :0.0000   Median :1.000   Median :3.000   Median :3.000  \n",
              " Mean   :0.2009   Mean   :2.213   Mean   :2.641   Mean   :3.705  \n",
              " 3rd Qu.:0.0000   3rd Qu.:2.000   3rd Qu.:3.000   3rd Qu.:6.000  \n",
              " Max.   :1.0000   Max.   :7.000   Max.   :5.000   Max.   :7.000  \n",
              " NA's   :13       NA's   :16523                                  \n",
              "    h10_din          h10_cin          h10_flag    p10_wgl       \n",
              " Min.   :-28685   Min.   :-27281   Min.   :0   Min.   :    0.0  \n",
              " 1st Qu.:  1875   1st Qu.:  1950   1st Qu.:0   1st Qu.:  794.6  \n",
              " Median :  3756   Median :  4023   Median :0   Median : 1993.8  \n",
              " Mean   :  4395   Mean   :  4793   Mean   :0   Mean   : 3025.9  \n",
              " 3rd Qu.:  5832   3rd Qu.:  6411   3rd Qu.:0   3rd Qu.: 4306.9  \n",
              " Max.   :244030   Max.   :245758   Max.   :0   Max.   :14931.0  \n",
              "                                                                \n",
              "    p10_wsl          p10_wgc            p10_wsc            h10_hc     \n",
              " Min.   :0.0000   Min.   :   50.32   Min.   :0.01663   Min.   :1.000  \n",
              " 1st Qu.:0.2626   1st Qu.:  897.69   1st Qu.:0.29667   1st Qu.:1.000  \n",
              " Median :0.6589   Median : 2066.80   Median :0.68303   Median :1.000  \n",
              " Mean   :1.0000   Mean   : 3025.92   Mean   :1.00000   Mean   :1.291  \n",
              " 3rd Qu.:1.4233   3rd Qu.: 4251.41   3rd Qu.:1.40500   3rd Qu.:2.000  \n",
              " Max.   :4.9344   Max.   :14244.17   Max.   :4.70738   Max.   :2.000  \n",
              "                                                                      \n",
              "    nh1001_1        nh1001_2        h1001_1         h10_pind     \n",
              " Min.   :2013    Min.   : 1.00   Min.   :1.000   Min.   : 1.000  \n",
              " 1st Qu.:2013    1st Qu.: 3.00   1st Qu.:2.000   1st Qu.: 1.000  \n",
              " Median :2014    Median : 6.00   Median :3.000   Median : 1.000  \n",
              " Mean   :2014    Mean   : 6.56   Mean   :3.096   Mean   : 2.886  \n",
              " 3rd Qu.:2014    3rd Qu.:11.00   3rd Qu.:4.000   3rd Qu.: 7.000  \n",
              " Max.   :2014    Max.   :12.00   Max.   :8.000   Max.   :10.000  \n",
              " NA's   :16523   NA's   :16523                                   \n",
              "    h10_pid           h10_g1          h10_g2           h10_g3     \n",
              " Min.   :   101   Min.   :1.000   Min.   :  1.00   Min.   :1.000  \n",
              " 1st Qu.:236127   1st Qu.:1.000   1st Qu.: 10.00   1st Qu.:1.000  \n",
              " Median :450302   Median :2.000   Median : 11.00   Median :2.000  \n",
              " Mean   :466868   Mean   :2.048   Mean   : 16.41   Mean   :1.545  \n",
              " 3rd Qu.:661316   3rd Qu.:3.000   3rd Qu.: 20.00   3rd Qu.:2.000  \n",
              " Max.   :980006   Max.   :8.000   Max.   :998.00   Max.   :2.000  \n",
              "                                                                  \n",
              "     h10_g4         h10_g6          h10_g7          h10_g8       \n",
              " Min.   :1907   Min.   :1.000   Min.   :0.000   Min.   : 0.0000  \n",
              " 1st Qu.:1946   1st Qu.:3.000   1st Qu.:1.000   1st Qu.: 0.0000  \n",
              " Median :1966   Median :5.000   Median :5.000   Median : 0.0000  \n",
              " Mean   :1968   Mean   :4.421   Mean   :3.516   Mean   : 0.3278  \n",
              " 3rd Qu.:1988   3rd Qu.:6.000   3rd Qu.:5.000   3rd Qu.: 0.0000  \n",
              " Max.   :2014   Max.   :9.000   Max.   :5.000   Max.   :16.0000  \n",
              "                                                                 \n",
              "     h10_g9          h10_g10         h10_g11         h10_g12      \n",
              " Min.   :0.0000   Min.   :0.000   Min.   :1.000   Min.   : 1.000  \n",
              " 1st Qu.:0.0000   1st Qu.:1.000   1st Qu.:1.000   1st Qu.: 1.000  \n",
              " Median :0.0000   Median :1.000   Median :2.000   Median : 1.000  \n",
              " Mean   :0.3825   Mean   :1.648   Mean   :1.517   Mean   : 1.123  \n",
              " 3rd Qu.:0.0000   3rd Qu.:2.000   3rd Qu.:2.000   3rd Qu.: 1.000  \n",
              " Max.   :7.0000   Max.   :6.000   Max.   :2.000   Max.   :11.000  \n",
              "                                                                  \n",
              "   h1001_110       h1001_5aq1        h1001_5aq2       h1001_5aq3    \n",
              " Min.   :1.000   Min.   :0.00000   Min.   :0.0000   Min.   :0.0000  \n",
              " 1st Qu.:5.000   1st Qu.:0.00000   1st Qu.:0.0000   1st Qu.:0.0000  \n",
              " Median :5.000   Median :0.00000   Median :0.0000   Median :0.0000  \n",
              " Mean   :4.452   Mean   :0.08623   Mean   :0.1031   Mean   :0.1073  \n",
              " 3rd Qu.:5.000   3rd Qu.:0.00000   3rd Qu.:0.0000   3rd Qu.:0.0000  \n",
              " Max.   :5.000   Max.   :3.00000   Max.   :2.0000   Max.   :3.0000  \n",
              "                                                                    \n",
              "   h1001_5aq4        h10_med1        h10_med2        h10_med3     \n",
              " Min.   :0.0000   Min.   :1.000   Min.   :1.000   Min.   :  0.00  \n",
              " 1st Qu.:0.0000   1st Qu.:1.000   1st Qu.:2.000   1st Qu.:  2.00  \n",
              " Median :0.0000   Median :2.000   Median :2.000   Median :  8.00  \n",
              " Mean   :0.1097   Mean   :2.048   Mean   :2.425   Mean   : 15.76  \n",
              " 3rd Qu.:0.0000   3rd Qu.:3.000   3rd Qu.:3.000   3rd Qu.: 18.00  \n",
              " Max.   :2.0000   Max.   :8.000   Max.   :5.000   Max.   :398.00  \n",
              "                                                                  \n",
              "    h10_med4          h10_med5         h10_med6         h10_med7    \n",
              " Min.   : 0.0000   Min.   :  0.00   Min.   :0.0000   Min.   :0.000  \n",
              " 1st Qu.: 0.0000   1st Qu.:  0.00   1st Qu.:0.0000   1st Qu.:1.000  \n",
              " Median : 0.0000   Median :  0.00   Median :0.0000   Median :2.000  \n",
              " Mean   : 0.1638   Mean   :  2.45   Mean   :0.1594   Mean   :1.634  \n",
              " 3rd Qu.: 0.0000   3rd Qu.:  0.00   3rd Qu.:0.0000   3rd Qu.:2.000  \n",
              " Max.   :25.0000   Max.   :365.00   Max.   :7.0000   Max.   :5.000  \n",
              "                                                                    \n",
              "    h10_med8          h10_g9_1        h10_med9        h10_med10     \n",
              " Min.   : 0.0000   Min.   :0.000   Min.   : 0.000   Min.   : 0.000  \n",
              " 1st Qu.: 0.0000   1st Qu.:0.000   1st Qu.: 0.000   1st Qu.: 0.000  \n",
              " Median : 0.0000   Median :0.000   Median : 2.000   Median : 1.000  \n",
              " Mean   : 0.4921   Mean   :1.328   Mean   : 6.359   Mean   : 1.037  \n",
              " 3rd Qu.: 1.0000   3rd Qu.:3.000   3rd Qu.: 7.000   3rd Qu.: 2.000  \n",
              " Max.   :12.0000   Max.   :3.000   Max.   :32.000   Max.   :15.000  \n",
              "                                                                    \n",
              "    h10_eco1        h10_eco2        h10_eco3        h10_eco4    \n",
              " Min.   :1.000   Min.   :0.000   Min.   :1.000   Min.   :1.000  \n",
              " 1st Qu.:1.000   1st Qu.:1.000   1st Qu.:1.000   1st Qu.:2.000  \n",
              " Median :2.000   Median :1.000   Median :2.000   Median :7.000  \n",
              " Mean   :2.048   Mean   :1.124   Mean   :1.843   Mean   :5.954  \n",
              " 3rd Qu.:3.000   3rd Qu.:1.000   3rd Qu.:2.000   3rd Qu.:9.000  \n",
              " Max.   :8.000   Max.   :4.000   Max.   :4.000   Max.   :9.000  \n",
              "                                 NA's   :16434   NA's   :2261   \n",
              "   h10_eco4_1      h10_eco5_1       h10_eco6      h10_eco_7_1   \n",
              " Min.   :3.000   Min.   :1.00    Min.   :1.000   Min.   :1.000  \n",
              " 1st Qu.:3.000   1st Qu.:1.00    1st Qu.:2.000   1st Qu.:1.000  \n",
              " Median :3.000   Median :1.00    Median :2.000   Median :2.000  \n",
              " Mean   :4.118   Mean   :1.14    Mean   :1.875   Mean   :1.681  \n",
              " 3rd Qu.:4.000   3rd Qu.:1.00    3rd Qu.:2.000   3rd Qu.:2.000  \n",
              " Max.   :9.000   Max.   :3.00    Max.   :2.000   Max.   :2.000  \n",
              " NA's   :15726   NA's   :11640   NA's   :11640   NA's   :11640  \n",
              "  h10_eco_7_2     h10_eco_7_3       h10_eco8        h10_eco9     \n",
              " Min.   :1.000   Min.   :1.000   Min.   : 1.00   Min.   : 111.0  \n",
              " 1st Qu.:1.000   1st Qu.:1.000   1st Qu.:22.00   1st Qu.: 314.0  \n",
              " Median :1.000   Median :2.000   Median :47.00   Median : 611.0  \n",
              " Mean   :1.407   Mean   :2.068   Mean   :47.31   Mean   : 591.2  \n",
              " 3rd Qu.:2.000   3rd Qu.:3.000   3rd Qu.:75.00   3rd Qu.: 863.0  \n",
              " Max.   :2.000   Max.   :6.000   Max.   :99.00   Max.   :1012.0  \n",
              " NA's   :11640   NA's   :14621   NA's   :9135    NA's   :9135    \n",
              "   h10_eco10        h10_eco11         h10_soc1       h10_soc_2     \n",
              " Min.   : 1.000   Min.   : 1.000   Min.   :1.000   Min.   :0.0000  \n",
              " 1st Qu.: 1.000   1st Qu.: 5.000   1st Qu.:1.000   1st Qu.:0.0000  \n",
              " Median : 2.000   Median : 9.000   Median :2.000   Median :0.0000  \n",
              " Mean   : 3.324   Mean   : 7.313   Mean   :2.048   Mean   :0.7606  \n",
              " 3rd Qu.: 5.000   3rd Qu.:10.000   3rd Qu.:3.000   3rd Qu.:2.0000  \n",
              " Max.   :11.000   Max.   :11.000   Max.   :8.000   Max.   :4.0000  \n",
              " NA's   :9135     NA's   :9959                                     \n",
              "   h10_soc_3       h10_soc_4       h10_soc_5       h10_soc_6    \n",
              " Min.   :1.000   Min.   :1.000   Min.   :1.000   Min.   :1.000  \n",
              " 1st Qu.:1.000   1st Qu.:1.000   1st Qu.:1.000   1st Qu.:1.000  \n",
              " Median :1.000   Median :1.000   Median :1.000   Median :1.000  \n",
              " Mean   :1.087   Mean   :1.488   Mean   :1.259   Mean   :1.014  \n",
              " 3rd Qu.:1.000   3rd Qu.:2.000   3rd Qu.:2.000   3rd Qu.:1.000  \n",
              " Max.   :5.000   Max.   :4.000   Max.   :2.000   Max.   :2.000  \n",
              " NA's   :11545   NA's   :11897   NA's   :11897   NA's   :15431  \n",
              "   h10_soc_7       h10_soc_8       h10_soc_9       h10_soc_10    \n",
              " Min.   :1.000   Min.   : 1.00   Min.   :0.00    Min.   : 0.000  \n",
              " 1st Qu.:1.000   1st Qu.:12.00   1st Qu.:0.00    1st Qu.: 0.000  \n",
              " Median :3.000   Median :12.00   Median :0.00    Median : 0.000  \n",
              " Mean   :2.096   Mean   :10.93   Mean   :0.01    Mean   : 0.059  \n",
              " 3rd Qu.:3.000   3rd Qu.:12.00   3rd Qu.:0.00    3rd Qu.: 0.000  \n",
              " Max.   :5.000   Max.   :12.00   Max.   :5.00    Max.   :12.000  \n",
              " NA's   :15448   NA's   :15448   NA's   :13113   NA's   :13113   \n",
              "   h10_soc_11       h10_soc8         h10_soc9        h10_soc11    \n",
              " Min.   :1.000   Min.   :0.0000   Min.   :0.0000   Min.   :0.000  \n",
              " 1st Qu.:1.000   1st Qu.:0.0000   1st Qu.:0.0000   1st Qu.:0.000  \n",
              " Median :2.000   Median :0.0000   Median :0.0000   Median :0.000  \n",
              " Mean   :2.907   Mean   :0.3716   Mean   :0.3367   Mean   :0.407  \n",
              " 3rd Qu.:6.000   3rd Qu.:1.0000   3rd Qu.:1.0000   3rd Qu.:1.000  \n",
              " Max.   :6.000   Max.   :2.0000   Max.   :2.0000   Max.   :3.000  \n",
              " NA's   :16556                                                    \n",
              "   h10_soc10        h10_soc_12      h10_soc_13       h1005_1     \n",
              " Min.   :0.0000   Min.   :1.000   Min.   :1.000   Min.   :1.000  \n",
              " 1st Qu.:0.0000   1st Qu.:4.000   1st Qu.:2.000   1st Qu.:1.000  \n",
              " Median :0.0000   Median :4.000   Median :2.000   Median :1.000  \n",
              " Mean   :0.4865   Mean   :3.673   Mean   :2.435   Mean   :1.059  \n",
              " 3rd Qu.:1.0000   3rd Qu.:4.000   3rd Qu.:3.000   3rd Qu.:1.000  \n",
              " Max.   :3.0000   Max.   :5.000   Max.   :8.000   Max.   :2.000  \n",
              "                                                                 \n",
              "   h1005_3aq1       h1005_2         h1005_3         h1005_4     \n",
              " Min.   :1.000   Min.   :1.000   Min.   :0.000   Min.   :1.000  \n",
              " 1st Qu.:1.000   1st Qu.:1.000   1st Qu.:0.000   1st Qu.:2.000  \n",
              " Median :1.000   Median :1.000   Median :0.000   Median :2.000  \n",
              " Mean   :1.303   Mean   :1.284   Mean   :0.341   Mean   :1.986  \n",
              " 3rd Qu.:2.000   3rd Qu.:2.000   3rd Qu.:0.000   3rd Qu.:2.000  \n",
              " Max.   :2.000   Max.   :4.000   Max.   :4.000   Max.   :2.000  \n",
              " NA's   :977     NA's   :15687   NA's   :15698   NA's   :977    \n",
              "    h1005_5         h1005_6          h1005_7          nh1005_8    \n",
              " Min.   :1.000   Min.   : 1.000   Min.   :0.0000   Min.   :1.000  \n",
              " 1st Qu.:2.000   1st Qu.: 2.000   1st Qu.:0.0000   1st Qu.:3.000  \n",
              " Median :2.000   Median : 6.000   Median :0.0000   Median :4.000  \n",
              " Mean   :2.326   Mean   : 7.009   Mean   :0.2842   Mean   :3.382  \n",
              " 3rd Qu.:2.000   3rd Qu.:12.000   3rd Qu.:0.0000   3rd Qu.:4.000  \n",
              " Max.   :5.000   Max.   :12.000   Max.   :3.0000   Max.   :5.000  \n",
              " NA's   :16437   NA's   :16437    NA's   :977      NA's   :977    \n",
              "    nh1005_9       h1005_3aq2       h1006_aq1        h1006_1      \n",
              " Min.   :1.000   Min.   :  0.00   Min.   :1.000   Min.   : 1.000  \n",
              " 1st Qu.:3.000   1st Qu.:  0.00   1st Qu.:2.000   1st Qu.: 1.000  \n",
              " Median :4.000   Median : 14.00   Median :2.000   Median : 3.000  \n",
              " Mean   :3.742   Mean   : 19.64   Mean   :1.913   Mean   : 3.617  \n",
              " 3rd Qu.:4.000   3rd Qu.: 30.00   3rd Qu.:2.000   3rd Qu.: 5.000  \n",
              " Max.   :5.000   Max.   :250.00   Max.   :2.000   Max.   :13.000  \n",
              "                                  NA's   :141                     \n",
              "    h1006_2        h1006_4         h1006_5          h1006_3     \n",
              " Min.   :1.00   Min.   :1.000   Min.   :  7.00   Min.   :1.000  \n",
              " 1st Qu.:3.00   1st Qu.:2.000   1st Qu.: 59.00   1st Qu.:1.000  \n",
              " Median :3.00   Median :3.000   Median : 79.00   Median :1.000  \n",
              " Mean   :2.98   Mean   :2.743   Mean   : 81.62   Mean   :1.822  \n",
              " 3rd Qu.:3.00   3rd Qu.:3.000   3rd Qu.:102.00   3rd Qu.:3.000  \n",
              " Max.   :4.00   Max.   :8.000   Max.   :396.00   Max.   :5.000  \n",
              "                                                                \n",
              "    h1006_6          h1006_8         h1006_9        h1006_aq2       \n",
              " Min.   :     5   Min.   :1.000   Min.   : 1.00   Min.   :    0.00  \n",
              " 1st Qu.:  3800   1st Qu.:1.000   1st Qu.: 4.00   1st Qu.:    0.00  \n",
              " Median : 10000   Median :1.000   Median :88.00   Median :    0.00  \n",
              " Mean   : 14597   Mean   :1.237   Mean   :56.88   Mean   :   83.27  \n",
              " 3rd Qu.: 20000   3rd Qu.:1.000   3rd Qu.:88.00   3rd Qu.:    0.00  \n",
              " Max.   :200000   Max.   :5.000   Max.   :88.00   Max.   :20000.00  \n",
              " NA's   :1687     NA's   :1687    NA's   :1687    NA's   :1687      \n",
              "   h1006_aq3        h1006_10        h1006_11        h1006_12        h1006_13   \n",
              " Min.   :    0   Min.   :1.000   Min.   :1.000   Min.   :1.000   Min.   :1.00  \n",
              " 1st Qu.:    0   1st Qu.:1.000   1st Qu.:1.000   1st Qu.:1.000   1st Qu.:2.00  \n",
              " Median :    0   Median :1.000   Median :1.000   Median :1.000   Median :2.00  \n",
              " Mean   : 1578   Mean   :1.004   Mean   :1.105   Mean   :1.076   Mean   :1.96  \n",
              " 3rd Qu.:  450   3rd Qu.:1.000   3rd Qu.:1.000   3rd Qu.:1.000   3rd Qu.:2.00  \n",
              " Max.   :60000   Max.   :4.000   Max.   :2.000   Max.   :2.000   Max.   :2.00  \n",
              " NA's   :1687    NA's   :1687                                                  \n",
              "    h1006_14       h1006_21        h1006_22        h1006_23        h1006_24    \n",
              " Min.   :1.00   Min.   :1.000   Min.   :1.000   Min.   :1.000   Min.   :1.000  \n",
              " 1st Qu.:1.00   1st Qu.:1.000   1st Qu.:1.000   1st Qu.:1.000   1st Qu.:1.000  \n",
              " Median :1.00   Median :1.000   Median :1.000   Median :1.000   Median :1.000  \n",
              " Mean   :1.02   Mean   :1.008   Mean   :1.014   Mean   :1.037   Mean   :1.069  \n",
              " 3rd Qu.:1.00   3rd Qu.:1.000   3rd Qu.:1.000   3rd Qu.:1.000   3rd Qu.:1.000  \n",
              " Max.   :2.00   Max.   :3.000   Max.   :5.000   Max.   :5.000   Max.   :5.000  \n",
              "                                                                               \n",
              "    h1006_25        h1006_27        h1006_30        h1006_33        h1006_36\n",
              " Min.   :1.000   Min.   :1.000   Min.   :1.000   Min.   :1.000   Min.   :1  \n",
              " 1st Qu.:5.000   1st Qu.:2.000   1st Qu.:2.000   1st Qu.:2.000   1st Qu.:2  \n",
              " Median :5.000   Median :2.000   Median :2.000   Median :2.000   Median :2  \n",
              " Mean   :4.977   Mean   :1.975   Mean   :1.972   Mean   :1.994   Mean   :2  \n",
              " 3rd Qu.:5.000   3rd Qu.:2.000   3rd Qu.:2.000   3rd Qu.:2.000   3rd Qu.:2  \n",
              " Max.   :9.000   Max.   :2.000   Max.   :2.000   Max.   :2.000   Max.   :2  \n",
              "                                                                            \n",
              "    h1006_39       h1006_3aq1     h1007_3aq1       h1007_3aq2    \n",
              " Min.   :1.000   Min.   :1.00   Min.   :  0.00   Min.   :  0.00  \n",
              " 1st Qu.:2.000   1st Qu.:2.00   1st Qu.: 30.00   1st Qu.:  6.00  \n",
              " Median :2.000   Median :2.00   Median : 44.00   Median : 20.00  \n",
              " Mean   :1.999   Mean   :1.99   Mean   : 47.03   Mean   : 23.89  \n",
              " 3rd Qu.:2.000   3rd Qu.:2.00   3rd Qu.: 60.00   3rd Qu.: 35.00  \n",
              " Max.   :2.000   Max.   :2.00   Max.   :233.00   Max.   :220.00  \n",
              "                                                                 \n",
              "   h1007_5aq1       h1007_3aq3       h1007_3aq4        h1007_3aq5   \n",
              " Min.   : 0.000   Min.   :  0.00   Min.   :  0.000   Min.   : 0.00  \n",
              " 1st Qu.: 0.000   1st Qu.:  0.00   1st Qu.:  0.100   1st Qu.:10.00  \n",
              " Median : 1.000   Median :  0.00   Median :  3.000   Median :13.00  \n",
              " Mean   : 4.049   Mean   :  3.63   Mean   :  7.646   Mean   :14.07  \n",
              " 3rd Qu.: 7.000   3rd Qu.:  0.00   3rd Qu.:  8.000   3rd Qu.:17.00  \n",
              " Max.   :73.000   Max.   :187.00   Max.   :500.000   Max.   :61.00  \n",
              "                                                                    \n",
              "   h1007_6aq1       h1007_3aq6        h1007_5aq2        h1007_3aq7    \n",
              " Min.   : 0.000   Min.   :  0.000   Min.   :  0.000   Min.   :  0.00  \n",
              " 1st Qu.: 4.500   1st Qu.:  2.000   1st Qu.:  0.000   1st Qu.:  3.00  \n",
              " Median : 6.500   Median :  4.000   Median :  0.000   Median :  8.00  \n",
              " Mean   : 7.063   Mean   :  8.048   Mean   :  4.377   Mean   : 11.44  \n",
              " 3rd Qu.: 9.000   3rd Qu.:  8.000   3rd Qu.:  0.000   3rd Qu.: 15.00  \n",
              " Max.   :32.300   Max.   :590.000   Max.   :140.000   Max.   :195.00  \n",
              "                                                                      \n",
              "   h1007_3aq8       h1007_3aq9      h1007_3aq10      h1007_3aq11    \n",
              " Min.   :  0.00   Min.   :  0.00   Min.   :  0.00   Min.   :  0.00  \n",
              " 1st Qu.:  3.00   1st Qu.:  0.00   1st Qu.:  0.00   1st Qu.:  1.00  \n",
              " Median :  9.00   Median :  0.00   Median :  0.00   Median :  4.00  \n",
              " Mean   : 17.09   Mean   : 10.21   Mean   : 15.88   Mean   : 11.32  \n",
              " 3rd Qu.: 21.00   3rd Qu.:  3.00   3rd Qu.: 16.00   3rd Qu.: 13.00  \n",
              " Max.   :392.00   Max.   :480.00   Max.   :345.00   Max.   :419.00  \n",
              "                                                                    \n",
              "   h1007_5aq3       h1007_5aq4     h1007_3aq13        h1007_6aq4     \n",
              " Min.   :   0.0   Min.   : 0.00   Min.   :   0.00   Min.   :  0.000  \n",
              " 1st Qu.:   6.0   1st Qu.: 6.00   1st Qu.:  22.00   1st Qu.:  1.600  \n",
              " Median :  22.0   Median :14.00   Median :  53.00   Median :  4.100  \n",
              " Mean   :  36.7   Mean   :14.72   Mean   :  65.64   Mean   :  6.063  \n",
              " 3rd Qu.:  39.0   3rd Qu.:21.00   3rd Qu.:  89.00   3rd Qu.:  8.300  \n",
              " Max.   :3424.0   Max.   :64.00   Max.   :1293.00   Max.   :100.000  \n",
              "                                                                     \n",
              "   h1007_6aq6      h1007_3aq14      h1007_3aq15       h1007_3aq16     \n",
              " Min.   :  0.00   Min.   :  0.00   Min.   :  0.000   Min.   :  0.000  \n",
              " 1st Qu.:  0.00   1st Qu.:  0.00   1st Qu.:  0.000   1st Qu.:  0.000  \n",
              " Median :  0.00   Median :  0.00   Median :  0.000   Median :  0.000  \n",
              " Mean   :  4.26   Mean   :  5.04   Mean   :  7.065   Mean   :  4.113  \n",
              " 3rd Qu.:  3.00   3rd Qu.:  0.00   3rd Qu.:  8.000   3rd Qu.:  0.000  \n",
              " Max.   :208.30   Max.   :306.00   Max.   :225.000   Max.   :843.000  \n",
              "                                                                      \n",
              "  h1007_3aq17         h1007_4          h1007_6aq7        h1007_6aq8    \n",
              " Min.   :  0.000   Min.   :   0.00   Min.   :  0.000   Min.   : 0.000  \n",
              " 1st Qu.:  0.000   1st Qu.:   0.70   1st Qu.:  0.000   1st Qu.: 0.000  \n",
              " Median :  0.000   Median :   4.00   Median :  0.000   Median : 0.700  \n",
              " Mean   :  1.405   Mean   :  13.75   Mean   :  6.451   Mean   : 1.546  \n",
              " 3rd Qu.:  0.000   3rd Qu.:  12.00   3rd Qu.:  2.600   3rd Qu.: 1.700  \n",
              " Max.   :178.000   Max.   :1363.00   Max.   :495.500   Max.   :58.300  \n",
              "                                                                       \n",
              "   h1007_6aq9     h1007_6aq10       h1007_6aq11          h1007_5       \n",
              " Min.   : 0.00   Min.   :  0.000   Min.   : 0.00000   Min.   :   0.00  \n",
              " 1st Qu.: 0.00   1st Qu.:  0.000   1st Qu.: 0.00000   1st Qu.:   0.00  \n",
              " Median : 1.00   Median :  0.000   Median : 0.00000   Median :  14.00  \n",
              " Mean   : 1.78   Mean   :  1.258   Mean   : 0.05061   Mean   :  19.45  \n",
              " 3rd Qu.: 3.00   3rd Qu.:  0.000   3rd Qu.: 0.00000   3rd Qu.:  30.00  \n",
              " Max.   :42.50   Max.   :275.000   Max.   :66.70000   Max.   :1147.00  \n",
              "                 NA's   :4                                             \n",
              "  h1007_6aq12       h1007_6aq13       h1007_6aq14         h1007_9      \n",
              " Min.   :  0.000   Min.   :  0.000   Min.   : 0.0000   Min.   :  20.0  \n",
              " 1st Qu.:  0.000   1st Qu.:  0.000   1st Qu.: 0.0000   1st Qu.: 159.0  \n",
              " Median :  5.700   Median :  6.700   Median : 0.0000   Median : 306.0  \n",
              " Mean   :  9.273   Mean   :  8.933   Mean   : 0.9421   Mean   : 346.5  \n",
              " 3rd Qu.: 15.700   3rd Qu.: 13.500   3rd Qu.: 1.5000   3rd Qu.: 464.0  \n",
              " Max.   :109.300   Max.   :206.700   Max.   :55.0000   Max.   :3724.0  \n",
              "                                     NA's   :5                         \n",
              "    h1009_9         h1009_6aq4        h10_inc1       h10_inc2_1    \n",
              " Min.   :   0.0   Min.   :   0.0   Min.   :1.000   Min.   :0.0000  \n",
              " 1st Qu.: 110.0   1st Qu.: 150.0   1st Qu.:1.000   1st Qu.:0.0000  \n",
              " Median : 200.0   Median : 300.0   Median :2.000   Median :0.0000  \n",
              " Mean   : 227.7   Mean   : 309.5   Mean   :2.048   Mean   :0.1915  \n",
              " 3rd Qu.: 300.0   3rd Qu.: 400.0   3rd Qu.:3.000   3rd Qu.:0.0000  \n",
              " Max.   :2000.0   Max.   :2700.0   Max.   :8.000   Max.   :1.0000  \n",
              "                                                   NA's   :2261    \n",
              "   h10_inc2_2      h10_inc3_1       h10_inc3_2       h10_inc4_1    \n",
              " Min.   : 0.0    Min.   :0.0000   Min.   : 1.000   Min.   :0.0000  \n",
              " 1st Qu.:12.0    1st Qu.:0.0000   1st Qu.: 7.000   1st Qu.:0.0000  \n",
              " Median :12.0    Median :0.0000   Median :12.000   Median :0.0000  \n",
              " Mean   :11.2    Mean   :0.2434   Mean   : 9.267   Mean   :0.0788  \n",
              " 3rd Qu.:12.0    3rd Qu.:0.0000   3rd Qu.:12.000   3rd Qu.:0.0000  \n",
              " Max.   :12.0    Max.   :1.0000   Max.   :12.000   Max.   :1.0000  \n",
              " NA's   :13906   NA's   :2261     NA's   :13159    NA's   :2261    \n",
              "   h10_inc4_2      h10_inc5_1       h10_inc5_2      h10_inc6_1    \n",
              " Min.   : 1.00   Min.   :0.0000   Min.   : 2.00   Min.   :0.0000  \n",
              " 1st Qu.:12.00   1st Qu.:0.0000   1st Qu.:12.00   1st Qu.:0.0000  \n",
              " Median :12.00   Median :0.0000   Median :12.00   Median :0.0000  \n",
              " Mean   :11.35   Mean   :0.0606   Mean   :11.91   Mean   :0.0013  \n",
              " 3rd Qu.:12.00   3rd Qu.:0.0000   3rd Qu.:12.00   3rd Qu.:0.0000  \n",
              " Max.   :12.00   Max.   :9.0000   Max.   :12.00   Max.   :1.0000  \n",
              " NA's   :15529   NA's   :2261     NA's   :15800   NA's   :2261    \n",
              "   h10_inc6_2      h10_inc7_1       h10_inc7_2      h1008_106     \n",
              " Min.   : 5.00   Min.   :0.0000   Min.   : 1.00   Min.   :0.0000  \n",
              " 1st Qu.:12.00   1st Qu.:0.0000   1st Qu.:12.00   1st Qu.:0.0000  \n",
              " Median :12.00   Median :1.0000   Median :12.00   Median :0.0000  \n",
              " Mean   :11.63   Mean   :0.5848   Mean   :10.51   Mean   :0.5659  \n",
              " 3rd Qu.:12.00   3rd Qu.:1.0000   3rd Qu.:12.00   3rd Qu.:1.0000  \n",
              " Max.   :12.00   Max.   :1.0000   Max.   :12.00   Max.   :4.0000  \n",
              " NA's   :16645   NA's   :2261     NA's   :8241                    \n",
              "   h1008_107       h1008_108        h1008_109        h1008_110       \n",
              " Min.   :0.000   Min.   :0.0000   Min.   :0.0000   Min.   :0.000000  \n",
              " 1st Qu.:0.000   1st Qu.:0.0000   1st Qu.:0.0000   1st Qu.:0.000000  \n",
              " Median :0.000   Median :0.0000   Median :0.0000   Median :0.000000  \n",
              " Mean   :0.624   Mean   :0.2107   Mean   :0.1224   Mean   :0.003001  \n",
              " 3rd Qu.:1.000   3rd Qu.:0.0000   3rd Qu.:0.0000   3rd Qu.:0.000000  \n",
              " Max.   :4.000   Max.   :3.0000   Max.   :2.0000   Max.   :1.000000  \n",
              " NA's   :2                                                           \n",
              "   h1008_111      h10_inc2_3       h10_inc2       h10_inc3_6       h10_inc3    \n",
              " Min.   :0.00   Min.   :1.000   Min.   :    0   Min.   :1.000   Min.   :   20  \n",
              " 1st Qu.:1.00   1st Qu.:1.000   1st Qu.: 1997   1st Qu.:1.000   1st Qu.:  400  \n",
              " Median :1.00   Median :2.000   Median : 3084   Median :2.000   Median :  980  \n",
              " Mean   :1.41   Mean   :2.048   Mean   : 3653   Mean   :2.048   Mean   : 1252  \n",
              " 3rd Qu.:2.00   3rd Qu.:3.000   3rd Qu.: 4800   3rd Qu.:3.000   3rd Qu.: 1770  \n",
              " Max.   :5.00   Max.   :8.000   Max.   :23240   Max.   :8.000   Max.   :12000  \n",
              "                                NA's   :13905                   NA's   :13161  \n",
              "   h10_inc4_7       h10_inc4          h10_inc4_8      h10_inc4_9     \n",
              " Min.   :1.000   Min.   :-27753.0   Min.   :1.000   Min.   :    0.0  \n",
              " 1st Qu.:1.000   1st Qu.:   796.5   1st Qu.:1.000   1st Qu.:  793.5  \n",
              " Median :2.000   Median :  1980.0   Median :2.000   Median : 1920.0  \n",
              " Mean   :2.048   Mean   :  3346.2   Mean   :2.048   Mean   : 2856.7  \n",
              " 3rd Qu.:3.000   3rd Qu.:  3829.0   3rd Qu.:3.000   3rd Qu.: 3752.5  \n",
              " Max.   :8.000   Max.   :245755.0   Max.   :8.000   Max.   :57600.0  \n",
              "                 NA's   :15529                      NA's   :15529    \n",
              "   h1008_155        h1008_156       h1008_157         h1008_158      \n",
              " Min.   :     0   Min.   :    0   Min.   :    0.0   Min.   :    0.0  \n",
              " 1st Qu.:     0   1st Qu.:  660   1st Qu.:    0.0   1st Qu.:    0.0  \n",
              " Median :  3300   Median : 1650   Median :    0.0   Median :    0.0  \n",
              " Mean   :  6644   Mean   : 3243   Mean   :  369.8   Mean   :  370.5  \n",
              " 3rd Qu.:  7260   3rd Qu.: 3630   3rd Qu.:    0.0   3rd Qu.:    0.0  \n",
              " Max.   :198000   Max.   :52800   Max.   :79200.0   Max.   :40184.0  \n",
              " NA's   :14630    NA's   :14628   NA's   :14628     NA's   :14628    \n",
              "   h1008_160          h1008_159       h1008_3aq3      h1008_161       \n",
              " Min.   :     0.0   Min.   :  0     Min.   :  0.0   Min.   :     0.0  \n",
              " 1st Qu.:   172.2   1st Qu.: 56     1st Qu.: 32.0   1st Qu.:   357.5  \n",
              " Median :   580.0   Median :100     Median : 88.0   Median :   849.0  \n",
              " Mean   :  2152.9   Mean   :120     Mean   :111.8   Mean   :  2384.7  \n",
              " 3rd Qu.:  1978.0   3rd Qu.:161     3rd Qu.:157.0   3rd Qu.:  2265.8  \n",
              " Max.   :100000.0   Max.   :948     Max.   :979.0   Max.   :100160.0  \n",
              " NA's   :14628      NA's   :14628   NA's   :14628   NA's   :14628     \n",
              "   h1008_162         h1008_163       h1008_164         h1008_166    \n",
              " Min.   :   0.00   Min.   :    0   Min.   :-4806.0   Min.   :  155  \n",
              " 1st Qu.:   0.00   1st Qu.:  110   1st Qu.:  225.8   1st Qu.: 1356  \n",
              " Median :   0.00   Median :  282   Median :  529.0   Median : 4925  \n",
              " Mean   :  20.47   Mean   : 1240   Mean   : 1165.2   Mean   : 5937  \n",
              " 3rd Qu.:   0.00   3rd Qu.:  870   3rd Qu.: 1362.0   3rd Qu.: 8500  \n",
              " Max.   :2590.00   Max.   :93601   Max.   :29340.0   Max.   :22500  \n",
              " NA's   :14628     NA's   :14628   NA's   :14628     NA's   :16614  \n",
              "   h1008_165        h1008_3aq4       h1008_167       h1008_168    \n",
              " Min.   :  0.00   Min.   :  0.00   Min.   :  204   Min.   :0      \n",
              " 1st Qu.:  0.00   1st Qu.:  0.00   1st Qu.: 1416   1st Qu.:0      \n",
              " Median : 24.00   Median : 10.00   Median : 5100   Median :0      \n",
              " Mean   : 33.16   Mean   : 26.82   Mean   : 5997   Mean   :0      \n",
              " 3rd Qu.: 60.00   3rd Qu.: 40.00   3rd Qu.: 8500   3rd Qu.:0      \n",
              " Max.   :100.00   Max.   :100.00   Max.   :22500   Max.   :0      \n",
              " NA's   :16614    NA's   :16614    NA's   :16614   NA's   :16614  \n",
              "   h1008_169       h1008_170       h10_inc7_3       h10_inc7      \n",
              " Min.   :    0   Min.   : 204    Min.   :1.000   Min.   :   0.00  \n",
              " 1st Qu.:  336   1st Qu.: 900    1st Qu.:1.000   1st Qu.:   0.00  \n",
              " Median : 1190   Median :2540    Median :2.000   Median :   0.00  \n",
              " Mean   : 3314   Mean   :2683    Mean   :2.048   Mean   :   1.61  \n",
              " 3rd Qu.: 4307   3rd Qu.:4314    3rd Qu.:3.000   3rd Qu.:   0.00  \n",
              " Max.   :18600   Max.   :6590    Max.   :8.000   Max.   :1680.00  \n",
              " NA's   :16614   NA's   :16614                                    \n",
              "   h1008_aq9         h1008_aq10        h1008_aq11         h1008_aq12     \n",
              " Min.   :   0.00   Min.   :    0.0   Min.   :   0.000   Min.   :   0.00  \n",
              " 1st Qu.:   0.00   1st Qu.:    0.0   1st Qu.:   0.000   1st Qu.:   0.00  \n",
              " Median :   0.00   Median :    0.0   Median :   0.000   Median :   0.00  \n",
              " Mean   :  46.08   Mean   :  114.4   Mean   :   2.256   Mean   : 174.46  \n",
              " 3rd Qu.:  10.00   3rd Qu.:    0.0   3rd Qu.:   0.000   3rd Qu.:  63.25  \n",
              " Max.   :6200.00   Max.   :12000.0   Max.   :2000.000   Max.   :8280.00  \n",
              "                                                                         \n",
              "   h1008_aq13        h1008_aq14        h1008_aq15         h1008_6aq1       \n",
              " Min.   :   0.00   Min.   :   0.00   Min.   :   0.000   Min.   :   0.0000  \n",
              " 1st Qu.:   0.00   1st Qu.:   0.00   1st Qu.:   0.000   1st Qu.:   0.0000  \n",
              " Median :   0.00   Median :   0.00   Median :   0.000   Median :   0.0000  \n",
              " Mean   :  16.02   Mean   :   9.58   Mean   :   4.419   Mean   :   0.5125  \n",
              " 3rd Qu.:   0.00   3rd Qu.:   0.00   3rd Qu.:   0.000   3rd Qu.:   0.0000  \n",
              " Max.   :1805.00   Max.   :4800.00   Max.   :3400.000   Max.   :2000.0000  \n",
              "                                                                           \n",
              "   h1008_aq16        h1008_aq17      h1008_10aq1       h1008_aq19      \n",
              " Min.   :  0.000   Min.   :  0.00   Min.   :  0.00   Min.   :  0.0000  \n",
              " 1st Qu.:  0.000   1st Qu.:  0.00   1st Qu.:  0.00   1st Qu.:  0.0000  \n",
              " Median :  0.000   Median :  0.00   Median :  0.00   Median :  0.0000  \n",
              " Mean   :  7.857   Mean   : 22.21   Mean   : 46.06   Mean   :  0.3855  \n",
              " 3rd Qu.:  0.000   3rd Qu.: 59.00   3rd Qu.:120.00   3rd Qu.:  0.0000  \n",
              " Max.   :608.000   Max.   :153.00   Max.   :314.00   Max.   :212.0000  \n",
              "                                                                       \n",
              "   h1008_aq20         h1008_aq21        h1008_5aq3       h1008_7aq1    \n",
              " Min.   :  0.0000   Min.   :  0.000   Min.   :  0.00   Min.   :  0.00  \n",
              " 1st Qu.:  0.0000   1st Qu.:  0.000   1st Qu.:  0.00   1st Qu.:  0.00  \n",
              " Median :  0.0000   Median :  0.000   Median :  0.00   Median :  0.00  \n",
              " Mean   :  0.1325   Mean   :  9.326   Mean   : 47.45   Mean   : 47.45  \n",
              " 3rd Qu.:  0.0000   3rd Qu.:  0.000   3rd Qu.:  0.00   3rd Qu.:  0.00  \n",
              " Max.   :180.0000   Max.   :675.000   Max.   :950.00   Max.   :950.00  \n",
              "                                                                       \n",
              "   h1008_aq22        h1008_7aq2        h1008_aq23        h1008_aq24      \n",
              " Min.   :   0.00   Min.   :   0.00   Min.   :   0.00   Min.   :   0.000  \n",
              " 1st Qu.:   0.00   1st Qu.:   0.00   1st Qu.:   0.00   1st Qu.:   0.000  \n",
              " Median :   0.00   Median :   0.00   Median :   0.00   Median :   0.000  \n",
              " Mean   :  20.11   Mean   :  20.02   Mean   :   6.03   Mean   :   8.743  \n",
              " 3rd Qu.:   0.00   3rd Qu.:   0.00   3rd Qu.:   0.00   3rd Qu.:   0.000  \n",
              " Max.   :1083.00   Max.   :1083.00   Max.   :2031.00   Max.   :1495.000  \n",
              "                                                                         \n",
              "  h1008_4aq116       h1008_4aq117        h1008_5aq1       h1008_7aq4     \n",
              " Min.   :  0.0000   Min.   :   0.000   Min.   :  0.00   Min.   :  0.000  \n",
              " 1st Qu.:  0.0000   1st Qu.:   0.000   1st Qu.:  0.00   1st Qu.:  0.000  \n",
              " Median :  0.0000   Median :   0.000   Median :  0.00   Median :  0.000  \n",
              " Mean   :  0.1831   Mean   :   9.162   Mean   :  2.54   Mean   :  4.485  \n",
              " 3rd Qu.:  0.0000   3rd Qu.:   0.000   3rd Qu.:  0.00   3rd Qu.:  0.000  \n",
              " Max.   :660.0000   Max.   :2873.000   Max.   :200.00   Max.   :432.000  \n",
              "                                                                         \n",
              "   h1008_7aq5       h1008_7aq6        h1008_7aq7       h1008_7aq8     \n",
              " Min.   :  0.00   Min.   :  0.000   Min.   : 0.000   Min.   :  0.000  \n",
              " 1st Qu.:  0.00   1st Qu.:  0.000   1st Qu.: 0.000   1st Qu.:  0.000  \n",
              " Median :  0.00   Median :  0.000   Median : 0.000   Median :  0.000  \n",
              " Mean   :  4.32   Mean   :  2.783   Mean   : 2.636   Mean   :  4.047  \n",
              " 3rd Qu.:  0.00   3rd Qu.:  0.000   3rd Qu.: 0.000   3rd Qu.:  0.000  \n",
              " Max.   :432.00   Max.   :110.000   Max.   :82.000   Max.   :146.000  \n",
              "                                                                      \n",
              "   h1008_7aq9        h1008_aq25       h1008_7aq10       h1008_aq26       \n",
              " Min.   :  0.000   Min.   :  0.000   Min.   :  0.00   Min.   :     0.00  \n",
              " 1st Qu.:  0.000   1st Qu.:  0.000   1st Qu.:  0.00   1st Qu.:     0.00  \n",
              " Median :  0.000   Median :  0.000   Median :  0.00   Median :     0.00  \n",
              " Mean   :  4.025   Mean   :  7.035   Mean   :  3.56   Mean   :    84.53  \n",
              " 3rd Qu.:  0.000   3rd Qu.:  0.000   3rd Qu.:  0.00   3rd Qu.:     0.00  \n",
              " Max.   :146.000   Max.   :546.000   Max.   :440.00   Max.   :162800.00  \n",
              "                                                                         \n",
              "   h1008_aq27         h1008_aq28         h1008_aq29        h1008_3aq5      \n",
              " Min.   :    0.00   Min.   :   0.000   Min.   :   0.00   Min.   :    0.00  \n",
              " 1st Qu.:    0.00   1st Qu.:   0.000   1st Qu.:   0.00   1st Qu.:    0.00  \n",
              " Median :    0.00   Median :   0.000   Median :   0.00   Median :    0.00  \n",
              " Mean   :   51.19   Mean   :   5.967   Mean   :  36.01   Mean   :   65.88  \n",
              " 3rd Qu.:    0.00   3rd Qu.:   0.000   3rd Qu.:   0.00   3rd Qu.:    0.00  \n",
              " Max.   :12000.00   Max.   :9000.000   Max.   :7000.00   Max.   :20000.00  \n",
              "                                                                           \n",
              "  h1008_4aq118         h1008_aq30         h1008_6aq3        h1008_3aq6     \n",
              " Min.   :     0.00   Min.   :   0.000   Min.   :-600.00   Min.   :   0.00  \n",
              " 1st Qu.:     0.00   1st Qu.:   3.000   1st Qu.:   0.00   1st Qu.:   0.00  \n",
              " Median :     0.00   Median :   4.000   Median :   0.00   Median :   0.00  \n",
              " Mean   :    86.88   Mean   :   5.995   Mean   :  12.41   Mean   :  50.13  \n",
              " 3rd Qu.:     0.00   3rd Qu.:   4.000   3rd Qu.:   0.00   3rd Qu.:  20.00  \n",
              " Max.   :200000.00   Max.   :5054.000   Max.   :3028.00   Max.   :2520.00  \n",
              "                                                                           \n",
              "   h1008_3aq7      nh1008_3aq1        h1008_aq32        h1008_aq33      \n",
              " Min.   :   0.0   Min.   :   0.00   Min.   :   0.00   Min.   :   0.000  \n",
              " 1st Qu.:   0.0   1st Qu.:   0.00   1st Qu.:   0.00   1st Qu.:   0.000  \n",
              " Median :   0.0   Median :   0.00   Median :   0.00   Median :   0.000  \n",
              " Mean   : 160.3   Mean   :  47.91   Mean   :   4.65   Mean   :   3.199  \n",
              " 3rd Qu.: 150.0   3rd Qu.:   0.00   3rd Qu.:   0.00   3rd Qu.:   0.000  \n",
              " Max.   :8448.0   Max.   :1440.00   Max.   :3800.00   Max.   :1600.000  \n",
              "                  NA's   :16523     NA's   :141       NA's   :141       \n",
              "   h1008_aq34        h1008_3aq8        h1008_195        h1008_7aq11     \n",
              " Min.   :   0.00   Min.   : 0.0000   Min.   :   0.00   Min.   :  0.000  \n",
              " 1st Qu.:   3.00   1st Qu.: 0.0000   1st Qu.:   0.00   1st Qu.:  0.000  \n",
              " Median :  13.00   Median : 0.0000   Median :   0.00   Median :  0.000  \n",
              " Mean   :  89.72   Mean   : 0.9564   Mean   :  43.08   Mean   :  1.833  \n",
              " 3rd Qu.:  63.00   3rd Qu.: 0.0000   3rd Qu.:   0.00   3rd Qu.:  0.000  \n",
              " Max.   :9723.00   Max.   :12.0000   Max.   :2157.00   Max.   :306.000  \n",
              "                                                                        \n",
              "   h1009_aq1         h1009_aq2         h1009_aq3         h1009_aq4    \n",
              " Min.   :      0   Min.   :      0   Min.   :   0.00   Min.   :    0  \n",
              " 1st Qu.:      0   1st Qu.:      0   1st Qu.:   0.00   1st Qu.:    0  \n",
              " Median :      0   Median :      0   Median :   0.00   Median :    0  \n",
              " Mean   :  13249   Mean   :   1888   Mean   :  36.22   Mean   : 1268  \n",
              " 3rd Qu.:   2300   3rd Qu.:      0   3rd Qu.:   0.00   3rd Qu.:    0  \n",
              " Max.   :9999999   Max.   :9999999   Max.   :8000.00   Max.   :82000  \n",
              "                                                                      \n",
              "   h1009_aq5         h1009_aq6         h1009_aq7         h1009_aq8      \n",
              " Min.   :   0.00   Min.   :      0   Min.   :   0.00   Min.   :      0  \n",
              " 1st Qu.:   0.00   1st Qu.:      0   1st Qu.:   0.00   1st Qu.:      0  \n",
              " Median :   0.00   Median :      0   Median :   0.00   Median :      0  \n",
              " Mean   :  33.88   Mean   :   2513   Mean   :  53.45   Mean   :   4852  \n",
              " 3rd Qu.:   0.00   3rd Qu.:      0   3rd Qu.:   0.00   3rd Qu.:      0  \n",
              " Max.   :6000.00   Max.   :9999999   Max.   :2880.00   Max.   :9999999  \n",
              "                                                                        \n",
              "   h1010_aq1         h1010_aq2        h1010_aq3         h1010_aq4      \n",
              " Min.   :      0   Min.   :     0   Min.   :      0   Min.   :    0.0  \n",
              " 1st Qu.:      0   1st Qu.:     0   1st Qu.:      0   1st Qu.:    0.0  \n",
              " Median :      0   Median :     0   Median :      0   Median :    0.0  \n",
              " Mean   :   3051   Mean   :  1455   Mean   :   5359   Mean   :  187.5  \n",
              " 3rd Qu.:      0   3rd Qu.:     0   3rd Qu.:      0   3rd Qu.:    0.0  \n",
              " Max.   :9999999   Max.   :300000   Max.   :9999999   Max.   :34300.0  \n",
              "                                                                       \n",
              "   h1010_aq5         h1010_aq6         h1010_aq7       h1010_aq8       \n",
              " Min.   :      0   Min.   :      0   Min.   :    0   Min.   :     0.0  \n",
              " 1st Qu.:      0   1st Qu.:    150   1st Qu.:    0   1st Qu.:     0.0  \n",
              " Median :      0   Median :    500   Median :   48   Median :     0.0  \n",
              " Mean   :   3738   Mean   :  11278   Mean   : 1568   Mean   :   299.9  \n",
              " 3rd Qu.:      0   3rd Qu.:   2000   3rd Qu.: 1859   3rd Qu.:     0.0  \n",
              " Max.   :9999999   Max.   :9999999   Max.   :63600   Max.   :120000.0  \n",
              "                                                                       \n",
              "   h1010_aq9          h1010_aq10        h1010_aq11         h1010_aq12      \n",
              " Min.   :   0.000   Min.   :    0.0   Min.   :   0.000   Min.   :   0.000  \n",
              " 1st Qu.:   0.000   1st Qu.:    0.0   1st Qu.:   0.000   1st Qu.:   0.000  \n",
              " Median :   0.000   Median :    0.0   Median :   0.000   Median :   0.000  \n",
              " Mean   :   5.296   Mean   :  171.1   Mean   :   0.724   Mean   :   5.417  \n",
              " 3rd Qu.:   0.000   3rd Qu.:    0.0   3rd Qu.:   0.000   3rd Qu.:   0.000  \n",
              " Max.   :2400.000   Max.   :62300.0   Max.   :1500.000   Max.   :1000.000  \n",
              "                                                                           \n",
              "   h1010_aq13     h1010_aq14        h1010_aq15        h1010_aq16      \n",
              " Min.   :   0   Min.   :   0.00   Min.   :   0.00   Min.   :    0.00  \n",
              " 1st Qu.:   0   1st Qu.:   0.00   1st Qu.:   0.00   1st Qu.:    0.00  \n",
              " Median :   0   Median :   0.00   Median :   0.00   Median :    0.00  \n",
              " Mean   :  14   Mean   :  36.63   Mean   :  21.68   Mean   :   76.88  \n",
              " 3rd Qu.:   0   3rd Qu.:   0.00   3rd Qu.:   0.00   3rd Qu.:    0.00  \n",
              " Max.   :8000   Max.   :8800.00   Max.   :5710.00   Max.   :53320.00  \n",
              "                                                                      \n",
              "   h1010_aq17          h1010_aq18          h1010_aq19          h1010_aq20      \n",
              " Min.   :    0.000   Min.   :  0.00000   Min.   :   0.0000   Min.   :    0.00  \n",
              " 1st Qu.:    0.000   1st Qu.:  0.00000   1st Qu.:   0.0000   1st Qu.:    0.00  \n",
              " Median :    0.000   Median :  0.00000   Median :   0.0000   Median :    0.00  \n",
              " Mean   :    3.601   Mean   :  0.04825   Mean   :   0.8776   Mean   :   37.03  \n",
              " 3rd Qu.:    0.000   3rd Qu.:  0.00000   3rd Qu.:   0.0000   3rd Qu.:    0.00  \n",
              " Max.   :30000.000   Max.   :126.00000   Max.   :1000.0000   Max.   :30000.00  \n",
              "                                                                               \n",
              "    h1010_26         h1010_27         h1010_aq23         h1010_aq24     \n",
              " Min.   :0.0000   Min.   :    0.0   Min.   :   0.000   Min.   :    0.0  \n",
              " 1st Qu.:0.0000   1st Qu.:    0.0   1st Qu.:   0.000   1st Qu.:    0.0  \n",
              " Median :1.0000   Median :  150.0   Median :   0.000   Median :    0.0  \n",
              " Mean   :0.6903   Mean   :  604.6   Mean   :   4.845   Mean   :  236.8  \n",
              " 3rd Qu.:1.0000   3rd Qu.:  900.0   3rd Qu.:   0.000   3rd Qu.:    0.0  \n",
              " Max.   :4.0000   Max.   :21000.0   Max.   :8000.000   Max.   :29000.0  \n",
              "                                                                        \n",
              "   h1010_aq25        h1010_aq26           h1011_2         h1011_3     \n",
              " Min.   :   0.00   Min.   :    0.000   Min.   :1.000   Min.   :1.000  \n",
              " 1st Qu.:   0.00   1st Qu.:    0.000   1st Qu.:2.000   1st Qu.:2.000  \n",
              " Median :   0.00   Median :    0.000   Median :3.000   Median :2.000  \n",
              " Mean   :  68.28   Mean   :    6.135   Mean   :2.678   Mean   :1.968  \n",
              " 3rd Qu.:   0.00   3rd Qu.:    0.000   3rd Qu.:3.000   3rd Qu.:2.000  \n",
              " Max.   :7000.00   Max.   :12000.000   Max.   :3.000   Max.   :2.000  \n",
              "                                                                      \n",
              "    h1011_4         h1011_5         h1011_6         h1011_7     \n",
              " Min.   :1.000   Min.   :1.000   Min.   :1.000   Min.   :1.000  \n",
              " 1st Qu.:2.000   1st Qu.:2.000   1st Qu.:2.000   1st Qu.:2.000  \n",
              " Median :2.000   Median :3.000   Median :2.000   Median :2.000  \n",
              " Mean   :1.997   Mean   :2.591   Mean   :1.988   Mean   :1.989  \n",
              " 3rd Qu.:2.000   3rd Qu.:3.000   3rd Qu.:2.000   3rd Qu.:2.000  \n",
              " Max.   :2.000   Max.   :3.000   Max.   :2.000   Max.   :2.000  \n",
              "                                                                \n",
              "    h1011_8        h1011_3aq1      h1011_3aq2      h1011_3aq3   \n",
              " Min.   :1.000   Min.   :1.000   Min.   :1.000   Min.   :1.000  \n",
              " 1st Qu.:2.000   1st Qu.:2.000   1st Qu.:3.000   1st Qu.:3.000  \n",
              " Median :2.000   Median :2.000   Median :3.000   Median :3.000  \n",
              " Mean   :1.965   Mean   :2.044   Mean   :2.973   Mean   :2.927  \n",
              " 3rd Qu.:2.000   3rd Qu.:2.000   3rd Qu.:3.000   3rd Qu.:3.000  \n",
              " Max.   :2.000   Max.   :3.000   Max.   :3.000   Max.   :3.000  \n",
              "                                                                \n",
              "   h1011_3aq4      h1011_3aq5      h1011_3aq6      h1011_3aq7   \n",
              " Min.   :1.000   Min.   :1.000   Min.   :1.000   Min.   :1.000  \n",
              " 1st Qu.:2.000   1st Qu.:1.000   1st Qu.:2.000   1st Qu.:2.000  \n",
              " Median :2.000   Median :1.000   Median :2.000   Median :2.000  \n",
              " Mean   :1.998   Mean   :1.358   Mean   :1.993   Mean   :1.998  \n",
              " 3rd Qu.:2.000   3rd Qu.:2.000   3rd Qu.:2.000   3rd Qu.:2.000  \n",
              " Max.   :3.000   Max.   :3.000   Max.   :3.000   Max.   :3.000  \n",
              "                 NA's   :16597                                  \n",
              "    h1012_1         nh1012_1        h1012_2         h1012_3     \n",
              " Min.   :1.000   Min.   :1.000   Min.   :1.000   Min.   :1.000  \n",
              " 1st Qu.:2.000   1st Qu.:2.000   1st Qu.:1.000   1st Qu.:1.000  \n",
              " Median :2.000   Median :2.000   Median :1.000   Median :2.000  \n",
              " Mean   :1.993   Mean   :1.965   Mean   :1.304   Mean   :1.616  \n",
              " 3rd Qu.:2.000   3rd Qu.:2.000   3rd Qu.:1.000   3rd Qu.:2.000  \n",
              " Max.   :2.000   Max.   :2.000   Max.   :6.000   Max.   :2.000  \n",
              " NA's   :141     NA's   :16523   NA's   :16539   NA's   :16539  \n",
              "    h1012_4         h1012_5         h1012_6         h1012_7     \n",
              " Min.   :1.000   Min.   :1.000   Min.   : 1.00   Min.   :1.000  \n",
              " 1st Qu.:3.000   1st Qu.:2.000   1st Qu.: 2.00   1st Qu.:1.000  \n",
              " Median :5.000   Median :4.000   Median : 4.00   Median :1.000  \n",
              " Mean   :4.805   Mean   :3.623   Mean   :21.07   Mean   :1.087  \n",
              " 3rd Qu.:5.000   3rd Qu.:4.000   3rd Qu.: 7.00   3rd Qu.:1.000  \n",
              " Max.   :9.000   Max.   :9.000   Max.   :88.00   Max.   :4.000  \n",
              " NA's   :16587   NA's   :16587   NA's   :16587   NA's   :141    \n",
              "    nh1012_7        nh1012_8        h1012_9          h1012_10    \n",
              " Min.   :1.000   Min.   :2014    Min.   : 1.000   Min.   : 2.00  \n",
              " 1st Qu.:1.000   1st Qu.:2014    1st Qu.: 1.000   1st Qu.:12.00  \n",
              " Median :1.000   Median :2014    Median : 1.000   Median :12.00  \n",
              " Mean   :1.064   Mean   :2014    Mean   : 1.092   Mean   :11.85  \n",
              " 3rd Qu.:1.000   3rd Qu.:2014    3rd Qu.: 1.000   3rd Qu.:12.00  \n",
              " Max.   :2.000   Max.   :2014    Max.   :11.000   Max.   :12.00  \n",
              " NA's   :16523   NA's   :16655   NA's   :15308    NA's   :15308  \n",
              "    h1012_11        h1012_12        h1012_13        h1012_14    \n",
              " Min.   :88      Min.   :88      Min.   :88      Min.   :88     \n",
              " 1st Qu.:88      1st Qu.:88      1st Qu.:88      1st Qu.:88     \n",
              " Median :88      Median :88      Median :88      Median :88     \n",
              " Mean   :88      Mean   :88      Mean   :88      Mean   :88     \n",
              " 3rd Qu.:88      3rd Qu.:88      3rd Qu.:88      3rd Qu.:88     \n",
              " Max.   :88      Max.   :88      Max.   :88      Max.   :88     \n",
              " NA's   :15308   NA's   :15308   NA's   :15308   NA's   :15308  \n",
              "    h1012_15       h1012_3aq1       h1012_16        h1012_17    \n",
              " Min.   :1.000   Min.   :1.000   Min.   :1.000   Min.   :1.000  \n",
              " 1st Qu.:2.000   1st Qu.:3.000   1st Qu.:5.000   1st Qu.:1.000  \n",
              " Median :2.000   Median :4.000   Median :5.000   Median :1.000  \n",
              " Mean   :3.246   Mean   :3.587   Mean   :5.185   Mean   :1.768  \n",
              " 3rd Qu.:4.000   3rd Qu.:4.000   3rd Qu.:5.000   3rd Qu.:3.000  \n",
              " Max.   :7.000   Max.   :5.000   Max.   :9.000   Max.   :4.000  \n",
              " NA's   :15308   NA's   :15308   NA's   :15343   NA's   :15343  \n",
              "    h1012_18         h1012_19      h1012_1_4aq1   h1012_1_5aq1  \n",
              " Min.   : 1.000   Min.   :1.000   Min.   :1.00   Min.   :1.000  \n",
              " 1st Qu.: 2.000   1st Qu.:1.000   1st Qu.:1.00   1st Qu.:2.000  \n",
              " Median : 5.000   Median :3.000   Median :2.00   Median :2.000  \n",
              " Mean   : 5.714   Mean   :2.657   Mean   :1.85   Mean   :1.963  \n",
              " 3rd Qu.: 9.000   3rd Qu.:3.500   3rd Qu.:2.00   3rd Qu.:2.000  \n",
              " Max.   :10.000   Max.   :5.000   Max.   :4.00   Max.   :2.000  \n",
              " NA's   :16629    NA's   :16629                                 \n",
              "  h1012_1_5aq2    h1012_1_5aq3    h1012_1_5aq4    h1012_1_5aq5  \n",
              " Min.   :1.000   Min.   :1.000   Min.   :1.000   Min.   :3.000  \n",
              " 1st Qu.:1.000   1st Qu.:2.000   1st Qu.:4.000   1st Qu.:4.000  \n",
              " Median :1.000   Median :2.000   Median :4.000   Median :4.000  \n",
              " Mean   :1.278   Mean   :2.068   Mean   :4.178   Mean   :3.989  \n",
              " 3rd Qu.:2.000   3rd Qu.:2.000   3rd Qu.:5.000   3rd Qu.:4.000  \n",
              " Max.   :2.000   Max.   :5.000   Max.   :5.000   Max.   :5.000  \n",
              " NA's   :16049   NA's   :16220   NA's   :16220   NA's   :16220  \n",
              "  h1012_1_4aq2    h1012_1_4aq3      h1013_2         h1013_6     \n",
              " Min.   :1.000   Min.   :1.000   Min.   :1.000   Min.   :1.000  \n",
              " 1st Qu.:1.000   1st Qu.:2.000   1st Qu.:1.000   1st Qu.:1.000  \n",
              " Median :1.000   Median :2.000   Median :2.000   Median :2.000  \n",
              " Mean   :1.121   Mean   :1.938   Mean   :1.618   Mean   :1.566  \n",
              " 3rd Qu.:1.000   3rd Qu.:2.000   3rd Qu.:2.000   3rd Qu.:2.000  \n",
              " Max.   :3.000   Max.   :2.000   Max.   :2.000   Max.   :2.000  \n",
              "                                                                \n",
              "    h1013_10        h1013_14        h1013_18        h1013_22    \n",
              " Min.   :1.000   Min.   :1.000   Min.   :1.000   Min.   :1.000  \n",
              " 1st Qu.:2.000   1st Qu.:2.000   1st Qu.:2.000   1st Qu.:2.000  \n",
              " Median :2.000   Median :2.000   Median :2.000   Median :2.000  \n",
              " Mean   :1.899   Mean   :1.972   Mean   :1.987   Mean   :1.996  \n",
              " 3rd Qu.:2.000   3rd Qu.:2.000   3rd Qu.:2.000   3rd Qu.:2.000  \n",
              " Max.   :2.000   Max.   :2.000   Max.   :2.000   Max.   :2.000  \n",
              "                                                                \n",
              "    h1013_26       h1013_8aq1      h1013_5aq1      h1013_8aq2      h1013_4aq1  \n",
              " Min.   :1.000   Min.   :1.000   Min.   :1.000   Min.   :1.000   Min.   :1.00  \n",
              " 1st Qu.:2.000   1st Qu.:2.000   1st Qu.:2.000   1st Qu.:2.000   1st Qu.:2.00  \n",
              " Median :2.000   Median :2.000   Median :2.000   Median :2.000   Median :2.00  \n",
              " Mean   :1.932   Mean   :1.993   Mean   :1.995   Mean   :1.997   Mean   :1.82  \n",
              " 3rd Qu.:2.000   3rd Qu.:2.000   3rd Qu.:2.000   3rd Qu.:2.000   3rd Qu.:2.00  \n",
              " Max.   :2.000   Max.   :2.000   Max.   :2.000   Max.   :2.000   Max.   :2.00  \n",
              "                                                                               \n",
              "   h1013_4aq2      h1013_4aq4      h1013_4aq6      h1013_4aq8   \n",
              " Min.   :1.00    Min.   :1.000   Min.   :1.000   Min.   :1.000  \n",
              " 1st Qu.:2.00    1st Qu.:2.000   1st Qu.:2.000   1st Qu.:2.000  \n",
              " Median :2.00    Median :2.000   Median :2.000   Median :2.000  \n",
              " Mean   :1.98    Mean   :1.969   Mean   :1.982   Mean   :1.992  \n",
              " 3rd Qu.:2.00    3rd Qu.:2.000   3rd Qu.:2.000   3rd Qu.:2.000  \n",
              " Max.   :2.00    Max.   :2.000   Max.   :2.000   Max.   :2.000  \n",
              " NA's   :13663   NA's   :13663   NA's   :13663   NA's   :13663  \n",
              "  h1013_4aq10      h1013_5aq4      h1013_5aq6      h1013_5aq8   \n",
              " Min.   :1.000   Min.   :1.000   Min.   :1.000   Min.   :1.000  \n",
              " 1st Qu.:2.000   1st Qu.:2.000   1st Qu.:2.000   1st Qu.:1.000  \n",
              " Median :2.000   Median :2.000   Median :2.000   Median :1.000  \n",
              " Mean   :1.975   Mean   :1.875   Mean   :1.976   Mean   :1.286  \n",
              " 3rd Qu.:2.000   3rd Qu.:2.000   3rd Qu.:2.000   3rd Qu.:2.000  \n",
              " Max.   :2.000   Max.   :2.000   Max.   :2.000   Max.   :2.000  \n",
              " NA's   :13663   NA's   :13663   NA's   :13663   NA's   :13663  \n",
              "   h1013_6aq1     h1013_4aq14    h1013_4aq15         h1013_4aq16  \n",
              " Min.   :1.000   Min.   :1.000   Length:16664       Min.   :1.00  \n",
              " 1st Qu.:2.000   1st Qu.:2.000   Class :character   1st Qu.:2.00  \n",
              " Median :2.000   Median :2.000   Mode  :character   Median :2.00  \n",
              " Mean   :1.999   Mean   :1.805                      Mean   :1.98  \n",
              " 3rd Qu.:2.000   3rd Qu.:2.000                      3rd Qu.:2.00  \n",
              " Max.   :2.000   Max.   :2.000                      Max.   :2.00  \n",
              " NA's   :13663   NA's   :13663                                    \n",
              "  h1013_4aq17     h1013_4aq18     h1013_4aq20     h1013_4aq22   \n",
              " Min.   :  0.0   Min.   :1.000   Min.   :1.000   Min.   :1.000  \n",
              " 1st Qu.: 54.0   1st Qu.:1.000   1st Qu.:2.000   1st Qu.:2.000  \n",
              " Median :120.0   Median :1.000   Median :2.000   Median :2.000  \n",
              " Mean   :104.2   Mean   :1.105   Mean   :1.832   Mean   :1.838  \n",
              " 3rd Qu.:139.0   3rd Qu.:1.000   3rd Qu.:2.000   3rd Qu.:2.000  \n",
              " Max.   :807.0   Max.   :2.000   Max.   :2.000   Max.   :2.000  \n",
              " NA's   :16330   NA's   :16330   NA's   :16330   NA's   :16330  \n",
              "  h1013_4aq24     h1013_4aq26     h1013_4aq28     h1013_4aq30   \n",
              " Min.   :1.000   Min.   :1.000   Min.   :1.000   Min.   :1.000  \n",
              " 1st Qu.:2.000   1st Qu.:2.000   1st Qu.:2.000   1st Qu.:2.000  \n",
              " Median :2.000   Median :2.000   Median :2.000   Median :2.000  \n",
              " Mean   :1.904   Mean   :1.991   Mean   :1.865   Mean   :1.979  \n",
              " 3rd Qu.:2.000   3rd Qu.:2.000   3rd Qu.:2.000   3rd Qu.:2.000  \n",
              " Max.   :2.000   Max.   :2.000   Max.   :2.000   Max.   :2.000  \n",
              " NA's   :16330   NA's   :16330   NA's   :16330   NA's   :16330  \n",
              "  h1013_4aq32       h1014_4         h1014_8         h1014_12        h1014_16   \n",
              " Min.   :1.000   Min.   :1.000   Min.   :1.000   Min.   :1.000   Min.   :1.00  \n",
              " 1st Qu.:2.000   1st Qu.:1.000   1st Qu.:1.000   1st Qu.:2.000   1st Qu.:2.00  \n",
              " Median :2.000   Median :1.000   Median :1.000   Median :2.000   Median :2.00  \n",
              " Mean   :1.988   Mean   :1.232   Mean   :1.192   Mean   :1.797   Mean   :1.86  \n",
              " 3rd Qu.:2.000   3rd Qu.:1.000   3rd Qu.:1.000   3rd Qu.:2.000   3rd Qu.:2.00  \n",
              " Max.   :2.000   Max.   :2.000   Max.   :2.000   Max.   :2.000   Max.   :2.00  \n",
              " NA's   :16330   NA's   :9713    NA's   :9713    NA's   :9713    NA's   :9713  \n",
              "    h1014_20        h1014_24        h1014_28       h1014_32       h1014_36    \n",
              " Min.   :1.000   Min.   :1.000   Min.   :1.00   Min.   :1.00   Min.   :1.000  \n",
              " 1st Qu.:2.000   1st Qu.:2.000   1st Qu.:2.00   1st Qu.:2.00   1st Qu.:2.000  \n",
              " Median :2.000   Median :2.000   Median :2.00   Median :2.00   Median :2.000  \n",
              " Mean   :1.946   Mean   :1.981   Mean   :1.92   Mean   :1.99   Mean   :1.995  \n",
              " 3rd Qu.:2.000   3rd Qu.:2.000   3rd Qu.:2.00   3rd Qu.:2.00   3rd Qu.:2.000  \n",
              " Max.   :2.000   Max.   :2.000   Max.   :2.00   Max.   :2.00   Max.   :2.000  \n",
              " NA's   :9713    NA's   :9713    NA's   :9713   NA's   :9713   NA's   :9713   \n",
              "   h1014_3aq1      h1014_4aq1       h1015_4        h1015_8         h1015_12    \n",
              " Min.   :1.000   Min.   :1.000   Min.   :1.00   Min.   :1.000   Min.   :1.000  \n",
              " 1st Qu.:2.000   1st Qu.:2.000   1st Qu.:2.00   1st Qu.:1.000   1st Qu.:2.000  \n",
              " Median :2.000   Median :2.000   Median :2.00   Median :2.000   Median :2.000  \n",
              " Mean   :1.943   Mean   :1.937   Mean   :1.92   Mean   :1.616   Mean   :1.981  \n",
              " 3rd Qu.:2.000   3rd Qu.:2.000   3rd Qu.:2.00   3rd Qu.:2.000   3rd Qu.:2.000  \n",
              " Max.   :2.000   Max.   :2.000   Max.   :2.00   Max.   :2.000   Max.   :2.000  \n",
              " NA's   :9713    NA's   :9713    NA's   :9954   NA's   :9952    NA's   :9954   \n",
              "    h1015_20        h1015_25        h1015_29       h1015_33        h1015_37    \n",
              " Min.   :1.000   Min.   :1.000   Min.   :1.00   Min.   :1.000   Min.   :1.000  \n",
              " 1st Qu.:2.000   1st Qu.:1.000   1st Qu.:1.00   1st Qu.:2.000   1st Qu.:2.000  \n",
              " Median :2.000   Median :1.000   Median :2.00   Median :2.000   Median :2.000  \n",
              " Mean   :1.963   Mean   :1.189   Mean   :1.58   Mean   :1.973   Mean   :1.945  \n",
              " 3rd Qu.:2.000   3rd Qu.:1.000   3rd Qu.:2.00   3rd Qu.:2.000   3rd Qu.:2.000  \n",
              " Max.   :2.000   Max.   :2.000   Max.   :2.00   Max.   :2.000   Max.   :2.000  \n",
              " NA's   :9954    NA's   :9954    NA's   :9954   NA's   :9954    NA's   :9954   \n",
              "   h1015_4aq1      h1015_7aq1      h1015_aq1        h1015_40    \n",
              " Min.   :1.000   Min.   :1.000   Min.   :1.000   Min.   :2.000  \n",
              " 1st Qu.:2.000   1st Qu.:2.000   1st Qu.:2.000   1st Qu.:3.000  \n",
              " Median :2.000   Median :2.000   Median :2.000   Median :4.000  \n",
              " Mean   :1.997   Mean   :1.991   Mean   :1.921   Mean   :4.154  \n",
              " 3rd Qu.:2.000   3rd Qu.:2.000   3rd Qu.:2.000   3rd Qu.:5.000  \n",
              " Max.   :2.000   Max.   :2.000   Max.   :2.000   Max.   :7.000  \n",
              " NA's   :9954    NA's   :9954    NA's   :9971    NA's   :16118  \n",
              "    h1015_41        h1015_42        h1015_43        h1015_44    \n",
              " Min.   :1.000   Min.   :1.000   Min.   :3.000   Min.   :1.000  \n",
              " 1st Qu.:1.000   1st Qu.:2.000   1st Qu.:4.000   1st Qu.:1.000  \n",
              " Median :1.000   Median :2.000   Median :5.000   Median :1.000  \n",
              " Mean   :1.099   Mean   :1.976   Mean   :5.258   Mean   :1.394  \n",
              " 3rd Qu.:1.000   3rd Qu.:2.000   3rd Qu.:6.000   3rd Qu.:2.000  \n",
              " Max.   :2.000   Max.   :2.000   Max.   :7.000   Max.   :2.000  \n",
              " NA's   :16118   NA's   :16118   NA's   :16598   NA's   :16598  \n",
              "    h1015_45        h1015_46        h1015_47        h1015_48    \n",
              " Min.   :2       Min.   :6.000   Min.   :1.000   Min.   :2      \n",
              " 1st Qu.:2       1st Qu.:6.000   1st Qu.:1.000   1st Qu.:2      \n",
              " Median :2       Median :7.000   Median :2.000   Median :2      \n",
              " Mean   :2       Mean   :6.538   Mean   :1.538   Mean   :2      \n",
              " 3rd Qu.:2       3rd Qu.:7.000   3rd Qu.:2.000   3rd Qu.:2      \n",
              " Max.   :2       Max.   :7.000   Max.   :2.000   Max.   :2      \n",
              " NA's   :16598   NA's   :16651   NA's   :16651   NA's   :16651  \n",
              "    h1015_49        h1015_50        h1015_51        h1015_52    \n",
              " Min.   : NA     Min.   : NA     Min.   : NA     Min.   : NA    \n",
              " 1st Qu.: NA     1st Qu.: NA     1st Qu.: NA     1st Qu.: NA    \n",
              " Median : NA     Median : NA     Median : NA     Median : NA    \n",
              " Mean   :NaN     Mean   :NaN     Mean   :NaN     Mean   :NaN    \n",
              " 3rd Qu.: NA     3rd Qu.: NA     3rd Qu.: NA     3rd Qu.: NA    \n",
              " Max.   : NA     Max.   : NA     Max.   : NA     Max.   : NA    \n",
              " NA's   :16664   NA's   :16664   NA's   :16664   NA's   :16664  \n",
              "    h1015_53        h1015_54        h1015_55        h1015_56    \n",
              " Min.   : NA     Min.   : NA     Min.   : NA     Min.   : NA    \n",
              " 1st Qu.: NA     1st Qu.: NA     1st Qu.: NA     1st Qu.: NA    \n",
              " Median : NA     Median : NA     Median : NA     Median : NA    \n",
              " Mean   :NaN     Mean   :NaN     Mean   :NaN     Mean   :NaN    \n",
              " 3rd Qu.: NA     3rd Qu.: NA     3rd Qu.: NA     3rd Qu.: NA    \n",
              " Max.   : NA     Max.   : NA     Max.   : NA     Max.   : NA    \n",
              " NA's   :16664   NA's   :16664   NA's   :16664   NA's   :16664  \n",
              "    h1015_57        h1015_60       h1015_aq2        h1015_61     \n",
              " Min.   : NA     Min.   :2.000   Min.   :1.000   Min.   : 1.000  \n",
              " 1st Qu.: NA     1st Qu.:3.000   1st Qu.:1.000   1st Qu.: 8.000  \n",
              " Median : NA     Median :3.000   Median :1.000   Median : 8.000  \n",
              " Mean   :NaN     Mean   :3.256   Mean   :1.164   Mean   : 7.778  \n",
              " 3rd Qu.: NA     3rd Qu.:3.000   3rd Qu.:1.000   3rd Qu.: 8.000  \n",
              " Max.   : NA     Max.   :7.000   Max.   :2.000   Max.   :18.000  \n",
              " NA's   :16664   NA's   :9954    NA's   :9954    NA's   :11054   \n",
              "    h1015_62        h1015_63        h1015_66        h1015_67      \n",
              " Min.   : 1.00   Min.   : 7.0    Min.   :  0.0   Min.   :  0.000  \n",
              " 1st Qu.:10.00   1st Qu.:10.0    1st Qu.:  5.0   1st Qu.:  0.000  \n",
              " Median :10.00   Median :11.0    Median : 20.0   Median :  0.000  \n",
              " Mean   :10.22   Mean   :10.9    Mean   : 25.4   Mean   :  3.034  \n",
              " 3rd Qu.:11.00   3rd Qu.:11.0    3rd Qu.: 40.0   3rd Qu.:  0.000  \n",
              " Max.   :18.00   Max.   :18.0    Max.   :224.0   Max.   :120.000  \n",
              " NA's   :14025   NA's   :15967   NA's   :11054   NA's   :11054    \n",
              "    h1015_68       h1015_aq3        h1015_69         h1015_70    \n",
              " Min.   :3.000   Min.   :1.000   Min.   : 1.000   Min.   : 3.00  \n",
              " 1st Qu.:4.000   1st Qu.:1.000   1st Qu.: 6.000   1st Qu.:10.00  \n",
              " Median :4.000   Median :1.000   Median : 8.000   Median :10.00  \n",
              " Mean   :4.156   Mean   :1.144   Mean   : 7.414   Mean   :10.16  \n",
              " 3rd Qu.:4.000   3rd Qu.:1.000   3rd Qu.: 8.000   3rd Qu.:11.00  \n",
              " Max.   :8.000   Max.   :2.000   Max.   :18.000   Max.   :18.00  \n",
              " NA's   :12425   NA's   :12425   NA's   :13035    NA's   :15067  \n",
              "    h1015_71        h1015_74         h1015_75          h1015_76    \n",
              " Min.   : 3      Min.   :  0.00   Min.   :  0.000   Min.   :4.000  \n",
              " 1st Qu.:10      1st Qu.:  2.00   1st Qu.:  0.000   1st Qu.:5.000  \n",
              " Median :11      Median : 13.00   Median :  0.000   Median :5.000  \n",
              " Mean   :11      Mean   : 18.35   Mean   :  3.894   Mean   :5.148  \n",
              " 3rd Qu.:11      3rd Qu.: 30.00   3rd Qu.:  3.000   3rd Qu.:5.000  \n",
              " Max.   :18      Max.   :113.00   Max.   :125.000   Max.   :7.000  \n",
              " NA's   :16240   NA's   :13035    NA's   :13035     NA's   :15743  \n",
              "   h1015_aq4        h1015_77         h1015_78        h1015_79    \n",
              " Min.   :1.000   Min.   : 1.000   Min.   : 8.00   Min.   : 3.00  \n",
              " 1st Qu.:1.000   1st Qu.: 3.000   1st Qu.:10.00   1st Qu.:10.00  \n",
              " Median :1.000   Median : 8.000   Median :10.00   Median :11.00  \n",
              " Mean   :1.169   Mean   : 6.805   Mean   :10.28   Mean   :10.98  \n",
              " 3rd Qu.:1.000   3rd Qu.: 9.000   3rd Qu.:11.00   3rd Qu.:11.00  \n",
              " Max.   :2.000   Max.   :18.000   Max.   :18.00   Max.   :18.00  \n",
              " NA's   :15743   NA's   :15899    NA's   :16405   NA's   :16619  \n",
              "    h1015_82         h1015_83          h1015_84       h1015_aq5    \n",
              " Min.   : 0.000   Min.   :  0.000   Min.   :5.000   Min.   :1.000  \n",
              " 1st Qu.: 0.000   1st Qu.:  0.000   1st Qu.:6.000   1st Qu.:1.000  \n",
              " Median : 3.000   Median :  0.000   Median :6.000   Median :1.000  \n",
              " Mean   : 9.078   Mean   :  3.591   Mean   :6.373   Mean   :1.164  \n",
              " 3rd Qu.:15.000   3rd Qu.:  4.000   3rd Qu.:7.000   3rd Qu.:1.000  \n",
              " Max.   :60.000   Max.   :100.000   Max.   :8.000   Max.   :2.000  \n",
              " NA's   :15899    NA's   :15899     NA's   :16554   NA's   :16554  \n",
              "    h1015_85         h1015_86        h1015_87        h1015_90     \n",
              " Min.   : 1.000   Min.   :10.00   Min.   : NA     Min.   : 0.000  \n",
              " 1st Qu.: 3.000   1st Qu.:10.00   1st Qu.: NA     1st Qu.: 0.000  \n",
              " Median : 4.500   Median :10.00   Median : NA     Median : 0.000  \n",
              " Mean   : 5.772   Mean   :10.86   Mean   :NaN     Mean   : 3.435  \n",
              " 3rd Qu.:10.000   3rd Qu.:12.00   3rd Qu.: NA     3rd Qu.: 5.000  \n",
              " Max.   :11.000   Max.   :12.00   Max.   : NA     Max.   :17.000  \n",
              " NA's   :16572    NA's   :16650   NA's   :16664   NA's   :16572   \n",
              "    h1015_91         h1015_92       h1015_aq6        h1015_93    \n",
              " Min.   : 0.000   Min.   :7       Min.   :2       Min.   : NA    \n",
              " 1st Qu.: 0.000   1st Qu.:7       1st Qu.:2       1st Qu.: NA    \n",
              " Median : 0.000   Median :7       Median :2       Median : NA    \n",
              " Mean   : 3.935   Mean   :7       Mean   :2       Mean   :NaN    \n",
              " 3rd Qu.: 2.000   3rd Qu.:7       3rd Qu.:2       3rd Qu.: NA    \n",
              " Max.   :26.000   Max.   :7       Max.   :2       Max.   : NA    \n",
              " NA's   :16572    NA's   :16657   NA's   :16657   NA's   :16664  \n",
              "    h1015_94        h1015_95        h1015_98        h1015_99    \n",
              " Min.   : NA     Min.   : NA     Min.   : NA     Min.   : NA    \n",
              " 1st Qu.: NA     1st Qu.: NA     1st Qu.: NA     1st Qu.: NA    \n",
              " Median : NA     Median : NA     Median : NA     Median : NA    \n",
              " Mean   :NaN     Mean   :NaN     Mean   :NaN     Mean   :NaN    \n",
              " 3rd Qu.: NA     3rd Qu.: NA     3rd Qu.: NA     3rd Qu.: NA    \n",
              " Max.   : NA     Max.   : NA     Max.   : NA     Max.   : NA    \n",
              " NA's   :16664   NA's   :16664   NA's   :16664   NA's   :16664  \n",
              "   h1015_100       h1015_aq7       h1015_101       h1015_102    \n",
              " Min.   : NA     Min.   : NA     Min.   : NA     Min.   : NA    \n",
              " 1st Qu.: NA     1st Qu.: NA     1st Qu.: NA     1st Qu.: NA    \n",
              " Median : NA     Median : NA     Median : NA     Median : NA    \n",
              " Mean   :NaN     Mean   :NaN     Mean   :NaN     Mean   :NaN    \n",
              " 3rd Qu.: NA     3rd Qu.: NA     3rd Qu.: NA     3rd Qu.: NA    \n",
              " Max.   : NA     Max.   : NA     Max.   : NA     Max.   : NA    \n",
              " NA's   :16664   NA's   :16664   NA's   :16664   NA's   :16664  \n",
              "   h1015_103       h1015_106       h1015_107       h1016_6aq1   \n",
              " Min.   : NA     Min.   : NA     Min.   : NA     Min.   :1.000  \n",
              " 1st Qu.: NA     1st Qu.: NA     1st Qu.: NA     1st Qu.:2.000  \n",
              " Median : NA     Median : NA     Median : NA     Median :2.000  \n",
              " Mean   :NaN     Mean   :NaN     Mean   :NaN     Mean   :1.861  \n",
              " 3rd Qu.: NA     3rd Qu.: NA     3rd Qu.: NA     3rd Qu.:2.000  \n",
              " Max.   : NA     Max.   : NA     Max.   : NA     Max.   :2.000  \n",
              " NA's   :16664   NA's   :16664   NA's   :16664   NA's   :13323  \n",
              "   h1016_6aq4       h1016_8         h1016_24       h1016_4aq1   \n",
              " Min.   :1.000   Min.   :1.000   Min.   :1.000   Min.   :1.000  \n",
              " 1st Qu.:2.000   1st Qu.:2.000   1st Qu.:2.000   1st Qu.:2.000  \n",
              " Median :2.000   Median :2.000   Median :2.000   Median :2.000  \n",
              " Mean   :1.824   Mean   :1.989   Mean   :1.936   Mean   :1.921  \n",
              " 3rd Qu.:2.000   3rd Qu.:2.000   3rd Qu.:2.000   3rd Qu.:2.000  \n",
              " Max.   :2.000   Max.   :2.000   Max.   :2.000   Max.   :2.000  \n",
              " NA's   :13323   NA's   :13323   NA's   :13323   NA's   :13323  \n",
              "   h1016_4aq4       h1016_32        h1016_36        h1016_40    \n",
              " Min.   :1.000   Min.   :1.000   Min.   :1.000   Min.   :1.000  \n",
              " 1st Qu.:2.000   1st Qu.:2.000   1st Qu.:2.000   1st Qu.:2.000  \n",
              " Median :2.000   Median :2.000   Median :2.000   Median :2.000  \n",
              " Mean   :1.935   Mean   :1.959   Mean   :1.994   Mean   :1.986  \n",
              " 3rd Qu.:2.000   3rd Qu.:2.000   3rd Qu.:2.000   3rd Qu.:2.000  \n",
              " Max.   :2.000   Max.   :2.000   Max.   :2.000   Max.   :2.000  \n",
              " NA's   :13323   NA's   :13323   NA's   :13323   NA's   :13323  \n",
              "   h1016_4aq7       h1016_56        h1016_60        h1016_64    \n",
              " Min.   :1.000   Min.   :1.000   Min.   :1.000   Min.   :1.000  \n",
              " 1st Qu.:2.000   1st Qu.:2.000   1st Qu.:2.000   1st Qu.:1.000  \n",
              " Median :2.000   Median :2.000   Median :2.000   Median :2.000  \n",
              " Mean   :1.985   Mean   :1.983   Mean   :1.978   Mean   :1.722  \n",
              " 3rd Qu.:2.000   3rd Qu.:2.000   3rd Qu.:2.000   3rd Qu.:2.000  \n",
              " Max.   :2.000   Max.   :2.000   Max.   :2.000   Max.   :2.000  \n",
              " NA's   :13323   NA's   :13323   NA's   :13323   NA's   :13323  \n",
              "    h1017_1          h1017_2          h1017_3         h1017_4     \n",
              " Min.   : 0.000   Min.   : 0.000   Min.   :0.000   Min.   :0.000  \n",
              " 1st Qu.: 0.000   1st Qu.: 0.000   1st Qu.:1.000   1st Qu.:1.000  \n",
              " Median : 1.000   Median : 0.000   Median :2.000   Median :1.000  \n",
              " Mean   : 1.973   Mean   : 1.589   Mean   :1.689   Mean   :1.316  \n",
              " 3rd Qu.: 4.000   3rd Qu.: 3.000   3rd Qu.:2.000   3rd Qu.:2.000  \n",
              " Max.   :11.000   Max.   :11.000   Max.   :5.000   Max.   :5.000  \n",
              "                  NA's   :7061                                    \n",
              "    h1017_5         h1017_6        h1017_7         p10_fnum         p10_tq     \n",
              " Min.   :0.000   Min.   :0.00   Min.   :0.000   Min.   :1.000   Min.   :3.000  \n",
              " 1st Qu.:3.000   1st Qu.:1.00   1st Qu.:1.000   1st Qu.:1.000   1st Qu.:3.000  \n",
              " Median :4.000   Median :1.00   Median :1.000   Median :1.000   Median :3.000  \n",
              " Mean   :3.662   Mean   :1.44   Mean   :1.157   Mean   :1.706   Mean   :3.024  \n",
              " 3rd Qu.:4.000   3rd Qu.:2.00   3rd Qu.:1.000   3rd Qu.:2.000   3rd Qu.:3.000  \n",
              " Max.   :5.000   Max.   :5.00   Max.   :9.000   Max.   :8.000   Max.   :4.000  \n",
              "                                                NA's   :3017    NA's   :3017   \n",
              "     p10_cp        p1001_1         p1001_2        p1001_aq1        p1001_3     \n",
              " Min.   :1.00   Min.   :1.000   Min.   :1.000   Min.   :1.000   Min.   :1.000  \n",
              " 1st Qu.:1.00   1st Qu.:2.000   1st Qu.:1.000   1st Qu.:1.250   1st Qu.:1.000  \n",
              " Median :1.00   Median :2.000   Median :1.000   Median :6.000   Median :1.000  \n",
              " Mean   :1.02   Mean   :1.847   Mean   :1.414   Mean   :4.304   Mean   :1.252  \n",
              " 3rd Qu.:1.00   3rd Qu.:2.000   3rd Qu.:1.000   3rd Qu.:6.000   3rd Qu.:1.000  \n",
              " Max.   :2.00   Max.   :2.000   Max.   :7.000   Max.   :6.000   Max.   :6.000  \n",
              " NA's   :3017   NA's   :3289    NA's   :14621   NA's   :16618   NA's   :14955  \n",
              "    p1001_4           p1001_5         p1001_6          p1001_10    \n",
              " Min.   :  0.000   Min.   : 0.0    Min.   :   0.0   Min.   :1.000  \n",
              " 1st Qu.:  0.000   1st Qu.:12.0    1st Qu.: 160.0   1st Qu.:1.000  \n",
              " Median :  0.000   Median :12.0    Median : 240.0   Median :1.000  \n",
              " Mean   :  1.042   Mean   :11.8    Mean   : 305.9   Mean   :1.131  \n",
              " 3rd Qu.:  0.000   3rd Qu.:12.0    3rd Qu.: 360.0   3rd Qu.:1.000  \n",
              " Max.   :700.000   Max.   :12.0    Max.   :3000.0   Max.   :3.000  \n",
              " NA's   :14955     NA's   :14955   NA's   :14955    NA's   :16419  \n",
              "    p1001_11        p1001_12          p1001_13        p1001_14    \n",
              " Min.   :4       Min.   :    0.0   Min.   : 2.00   Min.   : 238   \n",
              " 1st Qu.:4       1st Qu.:    0.0   1st Qu.:12.00   1st Qu.:1740   \n",
              " Median :4       Median :    0.0   Median :12.00   Median :2316   \n",
              " Mean   :4       Mean   :  264.1   Mean   :11.79   Mean   :2394   \n",
              " 3rd Qu.:4       3rd Qu.:    0.0   3rd Qu.:12.00   3rd Qu.:3000   \n",
              " Max.   :4       Max.   :20000.0   Max.   :12.00   Max.   :4512   \n",
              " NA's   :16662   NA's   :16419     NA's   :16419   NA's   :16419  \n",
              "    p1001_7         p1001_8         p1001_9          p1001_15    \n",
              " Min.   :0       Min.   : 1.00   Min.   :  56.0   Min.   :1.000  \n",
              " 1st Qu.:0       1st Qu.:12.00   1st Qu.: 582.5   1st Qu.:2.000  \n",
              " Median :0       Median :12.00   Median :1200.0   Median :2.000  \n",
              " Mean   :0       Mean   :11.84   Mean   :1111.0   Mean   :1.983  \n",
              " 3rd Qu.:0       3rd Qu.:12.00   3rd Qu.:1500.0   3rd Qu.:2.000  \n",
              " Max.   :0       Max.   :12.00   Max.   :5400.0   Max.   :2.000  \n",
              " NA's   :16529   NA's   :16529   NA's   :16529    NA's   :3289   \n",
              "    p1001_16        p1001_17        p1001_18         p1001_19     \n",
              " Min.   :1.000   Min.   :3.000   Min.   : 1.000   Min.   :   8.0  \n",
              " 1st Qu.:1.000   1st Qu.:3.000   1st Qu.: 2.000   1st Qu.: 200.8  \n",
              " Median :1.000   Median :3.000   Median : 3.500   Median : 315.0  \n",
              " Mean   :1.333   Mean   :3.333   Mean   : 4.126   Mean   : 367.9  \n",
              " 3rd Qu.:2.000   3rd Qu.:3.500   3rd Qu.: 5.000   3rd Qu.: 500.0  \n",
              " Max.   :4.000   Max.   :4.000   Max.   :12.000   Max.   :1374.0  \n",
              " NA's   :16442   NA's   :16661   NA's   :16442    NA's   :16442   \n",
              "    p1001_20        p1001_21        p1001_22        p1001_23      \n",
              " Min.   :1.000   Min.   :1.000   Min.   :2.00    Min.   :  0.000  \n",
              " 1st Qu.:2.000   1st Qu.:2.000   1st Qu.:3.25    1st Qu.:  0.000  \n",
              " Median :2.000   Median :3.000   Median :4.50    Median :  0.000  \n",
              " Mean   :1.997   Mean   :2.975   Mean   :4.50    Mean   :  8.625  \n",
              " 3rd Qu.:2.000   3rd Qu.:3.000   3rd Qu.:5.75    3rd Qu.:  0.000  \n",
              " Max.   :2.000   Max.   :7.000   Max.   :7.00    Max.   :250.000  \n",
              " NA's   :3289    NA's   :16624   NA's   :16662   NA's   :16624    \n",
              "    p1001_24        p1001_25         p1001_27        p1001_28     \n",
              " Min.   : 0.00   Min.   :   0.0   Min.   :1.000   Min.   :  0.00  \n",
              " 1st Qu.: 3.75   1st Qu.: 597.5   1st Qu.:2.000   1st Qu.:  0.00  \n",
              " Median :12.00   Median :1074.0   Median :2.000   Median :  0.00  \n",
              " Mean   : 8.65   Mean   :1393.4   Mean   :1.994   Mean   : 13.24  \n",
              " 3rd Qu.:12.00   3rd Qu.:1893.0   3rd Qu.:2.000   3rd Qu.:  0.00  \n",
              " Max.   :12.00   Max.   :4800.0   Max.   :2.000   Max.   :220.00  \n",
              " NA's   :16624   NA's   :16624    NA's   :3289    NA's   :16590   \n",
              "    p1001_29        p1001_30         p1001_31        p1001_32      \n",
              " Min.   : 0.00   Min.   :   0.0   Min.   :1.000   Min.   :   15.0  \n",
              " 1st Qu.:12.00   1st Qu.: 120.0   1st Qu.:2.000   1st Qu.:  150.0  \n",
              " Median :12.00   Median : 265.0   Median :2.000   Median :  260.0  \n",
              " Mean   :10.89   Mean   : 397.6   Mean   :1.978   Mean   :  728.3  \n",
              " 3rd Qu.:12.00   3rd Qu.: 471.0   3rd Qu.:2.000   3rd Qu.:  500.0  \n",
              " Max.   :12.00   Max.   :3400.0   Max.   :2.000   Max.   :20000.0  \n",
              " NA's   :16590   NA's   :16590    NA's   :3289    NA's   :16371    \n",
              "    p1001_33        p1001_34        p1002_1         p1002_2     \n",
              " Min.   :0       Min.   :0       Min.   :1.000   Min.   :1.000  \n",
              " 1st Qu.:0       1st Qu.:0       1st Qu.:1.000   1st Qu.:2.000  \n",
              " Median :0       Median :0       Median :2.000   Median :2.000  \n",
              " Mean   :0       Mean   :0       Mean   :2.562   Mean   :1.907  \n",
              " 3rd Qu.:0       3rd Qu.:0       3rd Qu.:4.000   3rd Qu.:2.000  \n",
              " Max.   :0       Max.   :0       Max.   :5.000   Max.   :2.000  \n",
              " NA's   :16371   NA's   :16371   NA's   :3289    NA's   :9174   \n",
              "    p1002_3          p1002_4        p1002_5          p1002_6     \n",
              " Min.   : 1.000   Min.   :1941   Min.   : 1.000   Min.   : 0.00  \n",
              " 1st Qu.: 5.000   1st Qu.:1999   1st Qu.: 3.000   1st Qu.:12.00  \n",
              " Median : 7.000   Median :2009   Median : 3.000   Median :12.00  \n",
              " Mean   : 8.225   Mean   :2002   Mean   : 4.812   Mean   :11.43  \n",
              " 3rd Qu.:11.000   3rd Qu.:2013   3rd Qu.: 7.000   3rd Qu.:12.00  \n",
              " Max.   :18.000   Max.   :2014   Max.   :12.000   Max.   :12.00  \n",
              " NA's   :15971    NA's   :9174   NA's   :9174     NA's   :9174   \n",
              "    p1002_7         p1002_8        p1002_8aq1        p1002_9      \n",
              " Min.   : 0.00   Min.   :  0.0   Min.   :   0.0   Min.   : 1.000  \n",
              " 1st Qu.:20.00   1st Qu.: 40.0   1st Qu.: 122.0   1st Qu.: 5.000  \n",
              " Median :20.00   Median : 40.0   Median : 192.5   Median : 6.000  \n",
              " Mean   :20.61   Mean   : 43.5   Mean   : 241.6   Mean   : 6.743  \n",
              " 3rd Qu.:24.00   3rd Qu.: 50.0   3rd Qu.: 316.6   3rd Qu.: 8.000  \n",
              " Max.   :31.00   Max.   :120.0   Max.   :2400.0   Max.   :24.000  \n",
              " NA's   :9174    NA's   :11035   NA's   :12030    NA's   :14803   \n",
              "   p1002_8aq2      p1002_4aq1       p1002_10        p1002_11    \n",
              " Min.   :0.060   Min.   :1.000   Min.   :1.000   Min.   :0.000  \n",
              " 1st Qu.:0.600   1st Qu.:1.000   1st Qu.:2.000   1st Qu.:0.000  \n",
              " Median :1.000   Median :1.000   Median :2.000   Median :0.000  \n",
              " Mean   :1.081   Mean   :1.463   Mean   :1.971   Mean   :0.201  \n",
              " 3rd Qu.:1.300   3rd Qu.:1.000   3rd Qu.:2.000   3rd Qu.:0.000  \n",
              " Max.   :8.750   Max.   :4.000   Max.   :2.000   Max.   :8.000  \n",
              " NA's   :16303   NA's   :11669   NA's   :10886   NA's   :16495  \n",
              "    p1002_12        p1002_8aq3       p1002_8aq4       p1002_31    \n",
              " Min.   : 0.000   Min.   : 1.000   Min.   : 1.00   Min.   : 50.0  \n",
              " 1st Qu.: 2.000   1st Qu.: 1.000   1st Qu.: 6.00   1st Qu.:150.0  \n",
              " Median : 3.000   Median : 6.000   Median :13.00   Median :200.0  \n",
              " Mean   : 3.917   Mean   : 7.349   Mean   :16.33   Mean   :200.8  \n",
              " 3rd Qu.: 6.000   3rd Qu.:13.000   3rd Qu.:15.00   3rd Qu.:250.0  \n",
              " Max.   :12.000   Max.   :18.000   Max.   :88.00   Max.   :600.0  \n",
              " NA's   :16495    NA's   :16495    NA's   :16495   NA's   :16495  \n",
              "   p1002_4aq2      p1002_4aq3      p1002_4aq4      p1002_8aq5   \n",
              " Min.   :1.000   Min.   :1.000   Min.   :1.000   Min.   :0.000  \n",
              " 1st Qu.:2.000   1st Qu.:1.000   1st Qu.:2.000   1st Qu.:0.000  \n",
              " Median :2.000   Median :2.000   Median :3.000   Median :0.000  \n",
              " Mean   :1.923   Mean   :1.518   Mean   :3.742   Mean   :0.003  \n",
              " 3rd Qu.:2.000   3rd Qu.:2.000   3rd Qu.:6.000   3rd Qu.:0.000  \n",
              " Max.   :2.000   Max.   :2.000   Max.   :7.000   Max.   :1.000  \n",
              " NA's   :11055   NA's   :16230   NA's   :16455   NA's   :3396   \n",
              "   p1002_8aq6      p1002_8aq7      p1002_8aq8      p1002_8aq9    p1002_8aq10   \n",
              " Min.   :0.000   Min.   :0.000   Min.   :0.000   Min.   :0      Min.   :0.000  \n",
              " 1st Qu.:0.000   1st Qu.:0.000   1st Qu.:0.000   1st Qu.:0      1st Qu.:0.000  \n",
              " Median :0.000   Median :0.000   Median :0.000   Median :0      Median :0.000  \n",
              " Mean   :0.018   Mean   :0.004   Mean   :0.001   Mean   :0      Mean   :0.005  \n",
              " 3rd Qu.:0.000   3rd Qu.:0.000   3rd Qu.:0.000   3rd Qu.:0      3rd Qu.:0.000  \n",
              " Max.   :1.000   Max.   :1.000   Max.   :1.000   Max.   :1      Max.   :1.000  \n",
              " NA's   :3396    NA's   :3396    NA's   :3396    NA's   :3396   NA's   :3396   \n",
              "  p1002_8aq11    p1002_8aq12     p1002_8aq13     p1002_8aq14     p1002_8aq15   \n",
              " Min.   :0      Min.   :0.000   Min.   :0.000   Min.   :0.000   Min.   :0.000  \n",
              " 1st Qu.:0      1st Qu.:0.000   1st Qu.:0.000   1st Qu.:0.000   1st Qu.:0.000  \n",
              " Median :0      Median :0.000   Median :0.000   Median :0.000   Median :0.000  \n",
              " Mean   :0      Mean   :0.001   Mean   :0.001   Mean   :0.001   Mean   :0.001  \n",
              " 3rd Qu.:0      3rd Qu.:0.000   3rd Qu.:0.000   3rd Qu.:0.000   3rd Qu.:0.000  \n",
              " Max.   :1      Max.   :1.000   Max.   :1.000   Max.   :1.000   Max.   :1.000  \n",
              " NA's   :3396   NA's   :3396    NA's   :3396    NA's   :3396    NA's   :3396   \n",
              "   p1002_aq2       p1002_aq3       p1002_aq4       p1002_aq5    \n",
              " Min.   :0.000   Min.   :0.00    Min.   : 1.00   Min.   :14.00  \n",
              " 1st Qu.:0.000   1st Qu.:0.00    1st Qu.:17.00   1st Qu.:16.25  \n",
              " Median :0.000   Median :0.00    Median :22.00   Median :19.00  \n",
              " Mean   :0.033   Mean   :0.28    Mean   :19.63   Mean   :19.75  \n",
              " 3rd Qu.:0.000   3rd Qu.:0.00    3rd Qu.:26.00   3rd Qu.:22.50  \n",
              " Max.   :7.000   Max.   :7.00    Max.   :28.00   Max.   :27.00  \n",
              " NA's   :3723    NA's   :16589   NA's   :16589   NA's   :16660  \n",
              "    p1003_1         p1003_2         p1003_5         p1003_6     \n",
              " Min.   :1.000   Min.   :0.000   Min.   :1.000   Min.   :1.000  \n",
              " 1st Qu.:1.000   1st Qu.:0.000   1st Qu.:3.000   1st Qu.:2.000  \n",
              " Median :1.000   Median :2.000   Median :4.000   Median :3.000  \n",
              " Mean   :1.477   Mean   :1.225   Mean   :3.282   Mean   :2.883  \n",
              " 3rd Qu.:2.000   3rd Qu.:2.000   3rd Qu.:4.000   3rd Qu.:4.000  \n",
              " Max.   :2.000   Max.   :2.000   Max.   :5.000   Max.   :5.000  \n",
              " NA's   :3289    NA's   :3289    NA's   :3825    NA's   :3825   \n",
              "    p1003_7         p1003_8         p1003_9         p1003_10    \n",
              " Min.   :1.000   Min.   :1.000   Min.   :1.000   Min.   :1.000  \n",
              " 1st Qu.:3.000   1st Qu.:4.000   1st Qu.:3.000   1st Qu.:3.000  \n",
              " Median :4.000   Median :4.000   Median :4.000   Median :4.000  \n",
              " Mean   :3.597   Mean   :3.876   Mean   :3.436   Mean   :3.729  \n",
              " 3rd Qu.:4.000   3rd Qu.:4.000   3rd Qu.:4.000   3rd Qu.:4.000  \n",
              " Max.   :5.000   Max.   :5.000   Max.   :5.000   Max.   :5.000  \n",
              " NA's   :3825    NA's   :3825    NA's   :3825    NA's   :3825   \n",
              "    p1003_11        p1003_12        p1004_1         p1004_2     \n",
              " Min.   :1.000   Min.   :1.000   Min.   :1.000   Min.   :1.000  \n",
              " 1st Qu.:3.000   1st Qu.:3.000   1st Qu.:1.000   1st Qu.:3.000  \n",
              " Median :3.000   Median :4.000   Median :1.000   Median :4.000  \n",
              " Mean   :3.291   Mean   :3.544   Mean   :1.553   Mean   :3.476  \n",
              " 3rd Qu.:4.000   3rd Qu.:4.000   3rd Qu.:2.000   3rd Qu.:4.000  \n",
              " Max.   :5.000   Max.   :5.000   Max.   :3.000   Max.   :5.000  \n",
              " NA's   :3825    NA's   :3825    NA's   :3825    NA's   :3825   \n",
              "    p1004_3         p1004_4        p1004_5           p1004_6       \n",
              " Min.   :1.000   Min.   :1.00   Min.   :   0.00   Min.   :  0.000  \n",
              " 1st Qu.:2.000   1st Qu.:2.00   1st Qu.:   3.00   1st Qu.:  0.000  \n",
              " Median :3.000   Median :2.00   Median :  12.00   Median :  0.000  \n",
              " Mean   :3.019   Mean   :1.91   Mean   :  36.06   Mean   :  7.317  \n",
              " 3rd Qu.:4.000   3rd Qu.:2.00   3rd Qu.:  36.00   3rd Qu.:  5.000  \n",
              " Max.   :5.000   Max.   :2.00   Max.   :3600.00   Max.   :240.000  \n",
              " NA's   :3825    NA's   :3289   NA's   :15466     NA's   :15466    \n",
              "    p1004_7         p1004_8         p1004_9          p1004_10     \n",
              " Min.   :1.000   Min.   :0.000   Min.   : 0.000   Min.   : 0.000  \n",
              " 1st Qu.:1.000   1st Qu.:1.000   1st Qu.: 1.000   1st Qu.: 2.000  \n",
              " Median :2.000   Median :2.000   Median : 1.000   Median : 4.000  \n",
              " Mean   :1.664   Mean   :2.588   Mean   : 1.727   Mean   : 3.749  \n",
              " 3rd Qu.:2.000   3rd Qu.:4.000   3rd Qu.: 2.000   3rd Qu.: 5.000  \n",
              " Max.   :2.000   Max.   :7.000   Max.   :15.000   Max.   :30.000  \n",
              " NA's   :3289    NA's   :15713   NA's   :15031    NA's   :14748   \n",
              "    p1004_11        p1004_12         p1004_13        p1004_3aq1   \n",
              " Min.   :0.000   Min.   : 0.000   Min.   : 0.000   Min.   :1.000  \n",
              " 1st Qu.:1.000   1st Qu.: 1.000   1st Qu.: 0.000   1st Qu.:3.000  \n",
              " Median :2.000   Median : 2.000   Median : 2.000   Median :4.000  \n",
              " Mean   :2.432   Mean   : 1.908   Mean   : 2.575   Mean   :3.562  \n",
              " 3rd Qu.:3.000   3rd Qu.: 2.000   3rd Qu.: 4.250   3rd Qu.:4.000  \n",
              " Max.   :7.000   Max.   :28.000   Max.   :18.000   Max.   :5.000  \n",
              " NA's   :13935   NA's   :15361    NA's   :16196    NA's   :3825   \n",
              "   p1004_3aq2      p1004_3aq3      p1004_3aq4      p1004_3aq5   \n",
              " Min.   :1.000   Min.   :1.000   Min.   :1.000   Min.   :1.000  \n",
              " 1st Qu.:4.000   1st Qu.:4.000   1st Qu.:2.000   1st Qu.:3.000  \n",
              " Median :4.000   Median :4.000   Median :2.000   Median :4.000  \n",
              " Mean   :3.735   Mean   :3.782   Mean   :2.618   Mean   :3.677  \n",
              " 3rd Qu.:4.000   3rd Qu.:4.000   3rd Qu.:4.000   3rd Qu.:4.000  \n",
              " Max.   :5.000   Max.   :5.000   Max.   :9.000   Max.   :5.000  \n",
              " NA's   :3825    NA's   :3825    NA's   :3825    NA's   :3825   \n",
              "   p1004_3aq6      p1004_3aq7      p1004_3aq8      p1005_3aq1   \n",
              " Min.   :1.000   Min.   :1.000   Min.   :1.000   Min.   :1.000  \n",
              " 1st Qu.:2.000   1st Qu.:2.000   1st Qu.:1.000   1st Qu.:2.000  \n",
              " Median :2.000   Median :2.000   Median :2.000   Median :3.000  \n",
              " Mean   :2.246   Mean   :2.452   Mean   :1.845   Mean   :2.729  \n",
              " 3rd Qu.:3.000   3rd Qu.:3.000   3rd Qu.:2.000   3rd Qu.:3.000  \n",
              " Max.   :5.000   Max.   :5.000   Max.   :9.000   Max.   :3.000  \n",
              " NA's   :3825    NA's   :3825    NA's   :3825    NA's   :16336  \n",
              "   p1005_3aq2      p1005_3aq3      p1005_3aq4       p1005_3aq5   \n",
              " Min.   :10.00   Min.   : 0.00   Min.   : 0.000   Min.   :1.000  \n",
              " 1st Qu.:17.00   1st Qu.: 2.00   1st Qu.: 0.000   1st Qu.:2.000  \n",
              " Median :19.00   Median : 8.50   Median : 1.000   Median :2.000  \n",
              " Mean   :19.45   Mean   :11.49   Mean   : 3.405   Mean   :1.832  \n",
              " 3rd Qu.:20.00   3rd Qu.:18.50   3rd Qu.: 4.000   3rd Qu.:2.000  \n",
              " Max.   :40.00   Max.   :55.00   Max.   :99.000   Max.   :2.000  \n",
              " NA's   :16580   NA's   :16580   NA's   :16580    NA's   :3289   \n",
              "   p1005_3aq6      p1005_3aq7      p1005_3aq8      p1005_3aq9  \n",
              " Min.   : 1.00   Min.   :1.000   Min.   :1.000   Min.   :1.00  \n",
              " 1st Qu.:10.00   1st Qu.:1.000   1st Qu.:3.000   1st Qu.:1.00  \n",
              " Median :12.00   Median :2.000   Median :3.000   Median :1.00  \n",
              " Mean   :14.44   Mean   :1.671   Mean   :3.319   Mean   :1.46  \n",
              " 3rd Qu.:20.00   3rd Qu.:2.000   3rd Qu.:4.000   3rd Qu.:1.00  \n",
              " Max.   :60.00   Max.   :2.000   Max.   :4.000   Max.   :9.00  \n",
              " NA's   :14418   NA's   :14418   NA's   :14418   NA's   :3289  \n",
              "  p1005_3aq10        p1005_2         p1005_3        p1005_4aq1   \n",
              " Min.   : 1.000   Min.   :1.000   Min.   :1.000   Min.   :1.000  \n",
              " 1st Qu.: 2.000   1st Qu.:2.000   1st Qu.:2.000   1st Qu.:1.000  \n",
              " Median : 2.000   Median :5.000   Median :3.000   Median :2.000  \n",
              " Mean   : 2.804   Mean   :3.836   Mean   :2.773   Mean   :2.415  \n",
              " 3rd Qu.: 3.000   3rd Qu.:5.000   3rd Qu.:4.000   3rd Qu.:4.000  \n",
              " Max.   :12.000   Max.   :5.000   Max.   :5.000   Max.   :5.000  \n",
              " NA's   :16485    NA's   :3289    NA's   :10786   NA's   :10786  \n",
              "   p1005_4aq2      p1005_4aq3      p1005_4aq4      p1005_4aq5   \n",
              " Min.   :1.000   Min.   :1.000   Min.   :1.000   Min.   :1.000  \n",
              " 1st Qu.:1.000   1st Qu.:1.000   1st Qu.:1.000   1st Qu.:1.000  \n",
              " Median :1.000   Median :1.000   Median :1.000   Median :1.000  \n",
              " Mean   :1.643   Mean   :1.448   Mean   :1.391   Mean   :1.521  \n",
              " 3rd Qu.:1.000   3rd Qu.:1.000   3rd Qu.:1.000   3rd Qu.:1.000  \n",
              " Max.   :9.000   Max.   :9.000   Max.   :9.000   Max.   :9.000  \n",
              " NA's   :10786   NA's   :10786   NA's   :10786   NA's   :10786  \n",
              "   p1005_4aq6      p1005_4aq7      p1005_4aq8       p1005_5     \n",
              " Min.   :1.000   Min.   :1.000   Min.   :1.000   Min.   :1.000  \n",
              " 1st Qu.:1.000   1st Qu.:1.000   1st Qu.:1.000   1st Qu.:2.000  \n",
              " Median :1.000   Median :1.000   Median :1.000   Median :2.000  \n",
              " Mean   :1.507   Mean   :1.374   Mean   :1.553   Mean   :2.091  \n",
              " 3rd Qu.:1.000   3rd Qu.:1.000   3rd Qu.:1.000   3rd Qu.:2.000  \n",
              " Max.   :9.000   Max.   :9.000   Max.   :9.000   Max.   :9.000  \n",
              " NA's   :10786   NA's   :10786   NA's   :10786   NA's   :10786  \n",
              "    p1005_6         p1005_7         p1005_8       p1005_3aq11   \n",
              " Min.   :1.000   Min.   :1.000   Min.   :1.00    Min.   :0.000  \n",
              " 1st Qu.:2.000   1st Qu.:2.000   1st Qu.:2.00    1st Qu.:0.000  \n",
              " Median :2.000   Median :2.000   Median :2.00    Median :2.000  \n",
              " Mean   :2.226   Mean   :2.217   Mean   :2.28    Mean   :1.113  \n",
              " 3rd Qu.:2.000   3rd Qu.:2.000   3rd Qu.:2.00    3rd Qu.:2.000  \n",
              " Max.   :9.000   Max.   :9.000   Max.   :9.00    Max.   :2.000  \n",
              " NA's   :10786   NA's   :10786   NA's   :10786   NA's   :3289   \n",
              "    p1005_9         p1005_10        p1005_11        p1005_12       p1005_13    \n",
              " Min.   :1.000   Min.   :1.000   Min.   :1.000   Min.   :1.00   Min.   :1.000  \n",
              " 1st Qu.:1.000   1st Qu.:4.000   1st Qu.:1.000   1st Qu.:1.00   1st Qu.:1.000  \n",
              " Median :1.000   Median :4.000   Median :1.000   Median :1.00   Median :1.000  \n",
              " Mean   :1.654   Mean   :3.855   Mean   :1.641   Mean   :1.82   Mean   :1.817  \n",
              " 3rd Qu.:2.000   3rd Qu.:4.000   3rd Qu.:2.000   3rd Qu.:2.00   3rd Qu.:2.000  \n",
              " Max.   :9.000   Max.   :9.000   Max.   :9.000   Max.   :9.00   Max.   :9.000  \n",
              " NA's   :3289    NA's   :3289    NA's   :3289    NA's   :3289   NA's   :3289   \n",
              "    p1005_14        p1005_15        p1005_16       p1005_17        p1005_18    \n",
              " Min.   :1.000   Min.   :1.000   Min.   :1.0    Min.   :1.000   Min.   :1.000  \n",
              " 1st Qu.:1.000   1st Qu.:3.000   1st Qu.:1.0    1st Qu.:1.000   1st Qu.:1.000  \n",
              " Median :1.000   Median :4.000   Median :1.0    Median :1.000   Median :1.000  \n",
              " Mean   :1.605   Mean   :3.784   Mean   :1.4    Mean   :1.565   Mean   :1.382  \n",
              " 3rd Qu.:2.000   3rd Qu.:4.000   3rd Qu.:1.0    3rd Qu.:1.000   3rd Qu.:1.000  \n",
              " Max.   :9.000   Max.   :9.000   Max.   :9.0    Max.   :9.000   Max.   :9.000  \n",
              " NA's   :3289    NA's   :3289    NA's   :3289   NA's   :3289    NA's   :3289   \n",
              "    p1005_19        p1005_20       p1005_21        p1005_22        p1005_23    \n",
              " Min.   :1.000   Min.   :1.00   Min.   :1.000   Min.   :1.000   Min.   :1.000  \n",
              " 1st Qu.:1.000   1st Qu.:2.00   1st Qu.:2.000   1st Qu.:1.000   1st Qu.:2.000  \n",
              " Median :1.000   Median :3.00   Median :3.000   Median :1.000   Median :3.000  \n",
              " Mean   :1.646   Mean   :2.95   Mean   :2.993   Mean   :1.683   Mean   :3.009  \n",
              " 3rd Qu.:2.000   3rd Qu.:3.00   3rd Qu.:3.000   3rd Qu.:2.000   3rd Qu.:3.000  \n",
              " Max.   :9.000   Max.   :9.00   Max.   :9.000   Max.   :9.000   Max.   :9.000  \n",
              " NA's   :3289    NA's   :3289   NA's   :3289    NA's   :3289    NA's   :3289   \n",
              "    p1005_24        p1005_25        p1005_26        p1005_27    \n",
              " Min.   :1.000   Min.   :1.000   Min.   :1.000   Min.   :1.000  \n",
              " 1st Qu.:1.000   1st Qu.:2.000   1st Qu.:2.000   1st Qu.:2.000  \n",
              " Median :2.000   Median :3.000   Median :3.000   Median :3.000  \n",
              " Mean   :2.194   Mean   :3.061   Mean   :2.734   Mean   :2.761  \n",
              " 3rd Qu.:3.000   3rd Qu.:3.000   3rd Qu.:3.000   3rd Qu.:3.000  \n",
              " Max.   :9.000   Max.   :9.000   Max.   :9.000   Max.   :9.000  \n",
              " NA's   :3289    NA's   :3289    NA's   :3289    NA's   :3289   \n",
              "    p1005_28        p1005_29       p1005_4aq9     p1005_4aq10   \n",
              " Min.   :1.000   Min.   :1.000   Min.   :0.000   Min.   :0.000  \n",
              " 1st Qu.:1.000   1st Qu.:1.000   1st Qu.:0.000   1st Qu.:0.000  \n",
              " Median :1.000   Median :1.000   Median :1.000   Median :1.000  \n",
              " Mean   :1.584   Mean   :1.477   Mean   :0.957   Mean   :0.802  \n",
              " 3rd Qu.:1.000   3rd Qu.:1.000   3rd Qu.:1.000   3rd Qu.:1.000  \n",
              " Max.   :9.000   Max.   :9.000   Max.   :9.000   Max.   :9.000  \n",
              " NA's   :3289    NA's   :3289    NA's   :3289    NA's   :3291   \n",
              "  p1005_4aq11      p1005_aq1       p1005_aq2       p1005_aq3    \n",
              " Min.   :0.000   Min.   :0.000   Min.   :0.000   Min.   :0.000  \n",
              " 1st Qu.:0.000   1st Qu.:5.000   1st Qu.:0.000   1st Qu.:4.000  \n",
              " Median :1.000   Median :6.000   Median :4.000   Median :6.000  \n",
              " Mean   :0.786   Mean   :5.412   Mean   :3.584   Mean   :4.703  \n",
              " 3rd Qu.:1.000   3rd Qu.:6.000   3rd Qu.:6.000   3rd Qu.:6.000  \n",
              " Max.   :9.000   Max.   :9.000   Max.   :9.000   Max.   :9.000  \n",
              " NA's   :3289    NA's   :3289    NA's   :3289    NA's   :3289   \n",
              "   p1005_aq4       p1005_6aq1      p1005_6aq2      p1005_6aq3   \n",
              " Min.   :0.000   Min.   :1.000   Min.   :11.00   Min.   :11.0   \n",
              " 1st Qu.:0.000   1st Qu.:2.000   1st Qu.:17.00   1st Qu.:18.0   \n",
              " Median :6.000   Median :2.000   Median :29.00   Median :30.0   \n",
              " Mean   :4.102   Mean   :3.003   Mean   :28.76   Mean   :32.7   \n",
              " 3rd Qu.:6.000   3rd Qu.:2.000   3rd Qu.:35.00   3rd Qu.:48.0   \n",
              " Max.   :9.000   Max.   :9.000   Max.   :67.00   Max.   :80.0   \n",
              " NA's   :3289    NA's   :16336   NA's   :16643   NA's   :16641  \n",
              "   p1005_6aq4      p1005_6aq5      p1005_6aq6      p1005_6aq7   \n",
              " Min.   :1.000   Min.   :11.00   Min.   :11.00   Min.   :1.000  \n",
              " 1st Qu.:2.000   1st Qu.:15.75   1st Qu.:18.00   1st Qu.:2.000  \n",
              " Median :2.000   Median :29.50   Median :34.50   Median :2.000  \n",
              " Mean   :3.037   Mean   :28.30   Mean   :33.20   Mean   :3.055  \n",
              " 3rd Qu.:2.000   3rd Qu.:34.00   3rd Qu.:46.75   3rd Qu.:2.000  \n",
              " Max.   :9.000   Max.   :52.00   Max.   :57.00   Max.   :9.000  \n",
              " NA's   :16336   NA's   :16654   NA's   :16654   NA's   :16336  \n",
              "   p1005_6aq8      p1005_6aq9      p1005_7aq1      p1005_7aq2     p1005_7aq3   \n",
              " Min.   :14.00   Min.   :18.00   Min.   :1.000   Min.   :1.00   Min.   :1.000  \n",
              " 1st Qu.:17.00   1st Qu.:18.00   1st Qu.:2.000   1st Qu.:2.00   1st Qu.:2.000  \n",
              " Median :23.50   Median :24.50   Median :2.000   Median :2.00   Median :2.000  \n",
              " Mean   :22.75   Mean   :29.25   Mean   :2.236   Mean   :2.26   Mean   :2.264  \n",
              " 3rd Qu.:29.25   3rd Qu.:35.75   3rd Qu.:2.000   3rd Qu.:2.00   3rd Qu.:2.000  \n",
              " Max.   :30.00   Max.   :50.00   Max.   :9.000   Max.   :9.00   Max.   :9.000  \n",
              " NA's   :16660   NA's   :16660   NA's   :3617    NA's   :3617   NA's   :3617   \n",
              "   p1007_3aq1      p1007_3aq2       p1007_3aq3      p1007_3aq4   \n",
              " Min.   :1.000   Min.   : 1.000   Min.   :11.00   Min.   :11000  \n",
              " 1st Qu.:2.000   1st Qu.: 1.000   1st Qu.:22.00   1st Qu.:22020  \n",
              " Median :3.000   Median : 1.000   Median :31.00   Median :31041  \n",
              " Mean   :2.948   Mean   : 3.404   Mean   :27.03   Mean   :27005  \n",
              " 3rd Qu.:4.000   3rd Qu.: 8.000   3rd Qu.:34.75   3rd Qu.:34370  \n",
              " Max.   :5.000   Max.   :15.000   Max.   :43.00   Max.   :40002  \n",
              " NA's   :16336   NA's   :16362    NA's   :16362   NA's   :16362  \n",
              "   p1007_3aq5       p1007_3aq6      p1007_3aq7       np1006_1    \n",
              " Min.   : 1.000   Min.   :11.00   Min.   :11010   Min.   :1.000  \n",
              " 1st Qu.: 2.000   1st Qu.:22.00   1st Qu.:22010   1st Qu.:1.000  \n",
              " Median : 6.000   Median :26.00   Median :26310   Median :2.000  \n",
              " Mean   : 5.503   Mean   :26.63   Mean   :26664   Mean   :1.814  \n",
              " 3rd Qu.: 7.000   3rd Qu.:33.00   3rd Qu.:33020   3rd Qu.:2.000  \n",
              " Max.   :12.000   Max.   :42.00   Max.   :40002   Max.   :4.000  \n",
              " NA's   :16465    NA's   :16465   NA's   :16465   NA's   :16336  \n",
              "    np1006_2        np1006_3        np1006_4        np1006_5    \n",
              " Min.   :1.000   Min.   :1.000   Min.   :1954    Min.   :1965   \n",
              " 1st Qu.:2.000   1st Qu.:1.000   1st Qu.:1995    1st Qu.:2000   \n",
              " Median :3.000   Median :1.000   Median :2006    Median :2012   \n",
              " Mean   :2.768   Mean   :1.442   Mean   :2002    Mean   :2005   \n",
              " 3rd Qu.:3.000   3rd Qu.:2.000   3rd Qu.:2014    3rd Qu.:2014   \n",
              " Max.   :5.000   Max.   :2.000   Max.   :2014    Max.   :2014   \n",
              " NA's   :16336   NA's   :16336   NA's   :16481   NA's   :16481  \n",
              "    np1006_6        np1006_7        np1006_8        np1006_9    \n",
              " Min.   :1.000   Min.   :1956    Min.   :1975    Min.   :1.000  \n",
              " 1st Qu.:1.000   1st Qu.:2008    1st Qu.:2014    1st Qu.:1.000  \n",
              " Median :1.000   Median :2013    Median :2014    Median :1.000  \n",
              " Mean   :1.568   Mean   :2009    Mean   :2012    Mean   :1.703  \n",
              " 3rd Qu.:2.000   3rd Qu.:2014    3rd Qu.:2014    3rd Qu.:2.000  \n",
              " Max.   :5.000   Max.   :2014    Max.   :2014    Max.   :5.000  \n",
              " NA's   :16481   NA's   :16482   NA's   :16482   NA's   :16482  \n",
              "   np1006_10        np1006_11       np1006_12       np1006_13     \n",
              " Min.   :  88.0   Min.   :  88    Min.   : 1.0    Min.   :  88.0  \n",
              " 1st Qu.:  88.0   1st Qu.:  88    1st Qu.: 2.0    1st Qu.:  88.0  \n",
              " Median :  88.0   Median :  88    Median :88.0    Median :  88.0  \n",
              " Mean   : 761.1   Mean   : 763    Mean   :57.2    Mean   : 487.3  \n",
              " 3rd Qu.:1998.0   3rd Qu.:2006    3rd Qu.:88.0    3rd Qu.:  88.0  \n",
              " Max.   :2014.0   Max.   :2014    Max.   :88.0    Max.   :2012.0  \n",
              " NA's   :16482    NA's   :16482   NA's   :16482   NA's   :16482   \n",
              "   np1006_14        np1006_15       np1006_16        np1006_17     \n",
              " Min.   :  88.0   Min.   : 1.00   Min.   :  88.0   Min.   :  88.0  \n",
              " 1st Qu.:  88.0   1st Qu.:88.00   1st Qu.:  88.0   1st Qu.:  88.0  \n",
              " Median :  88.0   Median :88.00   Median :  88.0   Median :  88.0  \n",
              " Mean   : 488.1   Mean   :69.95   Mean   : 287.6   Mean   : 287.9  \n",
              " 3rd Qu.:  88.0   3rd Qu.:88.00   3rd Qu.:  88.0   3rd Qu.:  88.0  \n",
              " Max.   :2014.0   Max.   :88.00   Max.   :2011.0   Max.   :2011.0  \n",
              " NA's   :16482    NA's   :16482   NA's   :16482    NA's   :16482   \n",
              "   np1006_18       np1006_19        np1006_20        np1006_21    \n",
              " Min.   : 1.00   Min.   :  88.0   Min.   :  88.0   Min.   : 1.00  \n",
              " 1st Qu.:88.00   1st Qu.:  88.0   1st Qu.:  88.0   1st Qu.:88.00  \n",
              " Median :88.00   Median :  88.0   Median :  88.0   Median :88.00  \n",
              " Mean   :78.98   Mean   : 161.4   Mean   : 161.5   Mean   :84.67  \n",
              " 3rd Qu.:88.00   3rd Qu.:  88.0   3rd Qu.:  88.0   3rd Qu.:88.00  \n",
              " Max.   :88.00   Max.   :2009.0   Max.   :2009.0   Max.   :88.00  \n",
              " NA's   :16482   NA's   :16482    NA's   :16482    NA's   :16482  \n",
              "   np1006_22        np1006_23        np1006_24       np1006_25    \n",
              " Min.   :  88.0   Min.   :  88.0   Min.   : 1.00   Min.   :0.000  \n",
              " 1st Qu.:  88.0   1st Qu.:  88.0   1st Qu.:88.00   1st Qu.:0.000  \n",
              " Median :  88.0   Median :  88.0   Median :88.00   Median :0.000  \n",
              " Mean   : 119.5   Mean   : 119.5   Mean   :86.58   Mean   :1.095  \n",
              " 3rd Qu.:  88.0   3rd Qu.:  88.0   3rd Qu.:88.00   3rd Qu.:0.000  \n",
              " Max.   :2008.0   Max.   :2008.0   Max.   :88.00   Max.   :6.000  \n",
              " NA's   :16482    NA's   :16482    NA's   :16482   NA's   :16336  \n",
              "   np1006_26       np1006_27       np1006_28       np1006_29    \n",
              " Min.   :0.000   Min.   :0.000   Min.   : 1.00   Min.   : 3.00  \n",
              " 1st Qu.:0.000   1st Qu.:0.000   1st Qu.:10.00   1st Qu.:10.00  \n",
              " Median :0.000   Median :0.000   Median :19.00   Median :13.00  \n",
              " Mean   :1.191   Mean   :0.733   Mean   :15.88   Mean   :15.73  \n",
              " 3rd Qu.:0.000   3rd Qu.:0.000   3rd Qu.:22.00   3rd Qu.:23.50  \n",
              " Max.   :7.000   Max.   :6.000   Max.   :28.00   Max.   :28.00  \n",
              " NA's   :16596   NA's   :16649   NA's   :16596   NA's   :16649  \n",
              "   np1006_30       np1006_31       np1006_32       np1006_33    \n",
              " Min.   :10.0    Min.   :1.000   Min.   : 2.00   Min.   :1.000  \n",
              " 1st Qu.:11.5    1st Qu.:1.000   1st Qu.: 7.50   1st Qu.:1.000  \n",
              " Median :13.0    Median :1.000   Median :12.00   Median :1.000  \n",
              " Mean   :13.0    Mean   :1.088   Mean   :11.44   Mean   :1.162  \n",
              " 3rd Qu.:14.5    3rd Qu.:1.000   3rd Qu.:15.50   3rd Qu.:1.000  \n",
              " Max.   :16.0    Max.   :3.000   Max.   :17.00   Max.   :3.000  \n",
              " NA's   :16662   NA's   :16336   NA's   :16637   NA's   :16336  \n",
              "   np1006_34        np1006_35       np1006_36       np1006_37    \n",
              " Min.   : 0.000   Min.   :1.000   Min.   : 7.00   Min.   :1.000  \n",
              " 1st Qu.: 3.500   1st Qu.:1.000   1st Qu.:13.00   1st Qu.:1.000  \n",
              " Median : 7.000   Median :1.000   Median :13.00   Median :1.000  \n",
              " Mean   : 7.882   Mean   :1.037   Mean   :13.42   Mean   :1.049  \n",
              " 3rd Qu.:12.000   3rd Qu.:1.000   3rd Qu.:14.25   3rd Qu.:1.000  \n",
              " Max.   :16.000   Max.   :2.000   Max.   :17.00   Max.   :2.000  \n",
              " NA's   :16613    NA's   :16336   NA's   :16652   NA's   :16336  \n",
              "   np1006_38        np1006_39       np1006_40       np1006_41     \n",
              " Min.   : 1.000   Min.   :1.000   Min.   :1.00    Min.   : 2.000  \n",
              " 1st Qu.: 2.000   1st Qu.:4.000   1st Qu.:3.75    1st Qu.: 5.000  \n",
              " Median : 8.000   Median :5.000   Median :5.00    Median : 8.000  \n",
              " Mean   : 8.188   Mean   :4.811   Mean   :4.47    Mean   : 7.607  \n",
              " 3rd Qu.:12.750   3rd Qu.:6.000   3rd Qu.:5.00    3rd Qu.: 9.250  \n",
              " Max.   :17.000   Max.   :9.000   Max.   :9.00    Max.   :16.000  \n",
              " NA's   :16648    NA's   :16336   NA's   :16336   NA's   :16336   \n",
              "   np1006_42        np1006_43       np1006_44       p1006_3aq1   \n",
              " Min.   : 1.000   Min.   :1.000   Min.   :1.00    Min.   :1.000  \n",
              " 1st Qu.: 7.000   1st Qu.:2.000   1st Qu.:4.00    1st Qu.:2.000  \n",
              " Median :11.000   Median :2.000   Median :4.00    Median :2.000  \n",
              " Mean   : 9.741   Mean   :1.939   Mean   :3.95    Mean   :1.985  \n",
              " 3rd Qu.:13.000   3rd Qu.:2.000   3rd Qu.:5.00    3rd Qu.:2.000  \n",
              " Max.   :16.000   Max.   :2.000   Max.   :5.00    Max.   :2.000  \n",
              " NA's   :16336    NA's   :16336   NA's   :16644   NA's   :16336  \n",
              "    c10_fnum         c10_cp        c10_grade        c1001_1     \n",
              " Min.   :2.000   Min.   :1.000   Min.   :1.000   Min.   :1.000  \n",
              " 1st Qu.:3.000   1st Qu.:1.000   1st Qu.:1.000   1st Qu.:3.000  \n",
              " Median :3.000   Median :1.000   Median :2.000   Median :3.000  \n",
              " Mean   :3.594   Mean   :1.028   Mean   :2.039   Mean   :3.413  \n",
              " 3rd Qu.:4.000   3rd Qu.:1.000   3rd Qu.:3.000   3rd Qu.:4.000  \n",
              " Max.   :7.000   Max.   :2.000   Max.   :3.000   Max.   :4.000  \n",
              " NA's   :16193   NA's   :16193   NA's   :16206   NA's   :16206  \n",
              "    c1001_2         c1001_3         c1001_4         c1001_5     \n",
              " Min.   :1.000   Min.   :1.000   Min.   :1.000   Min.   :1.000  \n",
              " 1st Qu.:3.000   1st Qu.:3.000   1st Qu.:3.000   1st Qu.:3.000  \n",
              " Median :3.000   Median :3.000   Median :3.000   Median :3.000  \n",
              " Mean   :3.085   Mean   :3.323   Mean   :3.133   Mean   :3.216  \n",
              " 3rd Qu.:3.000   3rd Qu.:4.000   3rd Qu.:3.000   3rd Qu.:4.000  \n",
              " Max.   :4.000   Max.   :4.000   Max.   :4.000   Max.   :4.000  \n",
              " NA's   :16206   NA's   :16206   NA's   :16206   NA's   :16206  \n",
              "    c1001_6         c1001_7         c1001_8         c1001_9     \n",
              " Min.   :1.000   Min.   :1.000   Min.   :1.000   Min.   :1.000  \n",
              " 1st Qu.:3.000   1st Qu.:1.000   1st Qu.:1.000   1st Qu.:1.000  \n",
              " Median :3.000   Median :1.000   Median :1.000   Median :1.000  \n",
              " Mean   :3.393   Mean   :1.478   Mean   :1.146   Mean   :1.148  \n",
              " 3rd Qu.:4.000   3rd Qu.:2.000   3rd Qu.:1.000   3rd Qu.:1.000  \n",
              " Max.   :4.000   Max.   :4.000   Max.   :4.000   Max.   :4.000  \n",
              " NA's   :16206   NA's   :16206   NA's   :16206   NA's   :16206  \n",
              "    c1001_10        c1001_11        c1001_12        c1001_13    \n",
              " Min.   :1.00    Min.   :1.000   Min.   :1.000   Min.   :1.000  \n",
              " 1st Qu.:3.00    1st Qu.:4.000   1st Qu.:3.000   1st Qu.:3.000  \n",
              " Median :4.00    Median :4.000   Median :4.000   Median :4.000  \n",
              " Mean   :3.76    Mean   :4.066   Mean   :3.766   Mean   :3.814  \n",
              " 3rd Qu.:4.00    3rd Qu.:5.000   3rd Qu.:5.000   3rd Qu.:5.000  \n",
              " Max.   :5.00    Max.   :5.000   Max.   :5.000   Max.   :5.000  \n",
              " NA's   :16206   NA's   :16206   NA's   :16206   NA's   :16206  \n",
              "   c1001_7aq5      c1001_7aq6      c1001_7aq7      c1001_7aq8   \n",
              " Min.   :1.000   Min.   :1.000   Min.   :1.000   Min.   :1.000  \n",
              " 1st Qu.:1.000   1st Qu.:1.000   1st Qu.:1.000   1st Qu.:1.000  \n",
              " Median :1.000   Median :2.000   Median :1.000   Median :2.000  \n",
              " Mean   :1.603   Mean   :1.856   Mean   :1.461   Mean   :1.808  \n",
              " 3rd Qu.:2.000   3rd Qu.:2.000   3rd Qu.:2.000   3rd Qu.:2.000  \n",
              " Max.   :4.000   Max.   :4.000   Max.   :4.000   Max.   :4.000  \n",
              " NA's   :16206   NA's   :16206   NA's   :16206   NA's   :16206  \n",
              "   c1001_4aq1      c1001_4aq2      c1001_4aq3      c1001_4aq4   \n",
              " Min.   :1.00    Min.   :1.000   Min.   :1.00    Min.   :1.000  \n",
              " 1st Qu.:3.00    1st Qu.:3.000   1st Qu.:3.00    1st Qu.:1.000  \n",
              " Median :3.00    Median :3.000   Median :3.00    Median :1.000  \n",
              " Mean   :3.29    Mean   :3.293   Mean   :3.41    Mean   :1.574  \n",
              " 3rd Qu.:4.00    3rd Qu.:4.000   3rd Qu.:4.00    3rd Qu.:2.000  \n",
              " Max.   :4.00    Max.   :4.000   Max.   :4.00    Max.   :4.000  \n",
              " NA's   :16206   NA's   :16206   NA's   :16206   NA's   :16206  \n",
              "   c1001_4aq5      c1001_4aq6       c1002_1         c1002_2     \n",
              " Min.   :1.000   Min.   :1.000   Min.   :1.000   Min.   :1.000  \n",
              " 1st Qu.:3.000   1st Qu.:1.000   1st Qu.:3.000   1st Qu.:3.000  \n",
              " Median :3.000   Median :1.000   Median :3.000   Median :3.000  \n",
              " Mean   :3.227   Mean   :1.616   Mean   :3.395   Mean   :3.216  \n",
              " 3rd Qu.:4.000   3rd Qu.:2.000   3rd Qu.:4.000   3rd Qu.:4.000  \n",
              " Max.   :4.000   Max.   :4.000   Max.   :4.000   Max.   :4.000  \n",
              " NA's   :16206   NA's   :16206   NA's   :16206   NA's   :16206  \n",
              "    c1002_3         c1002_4         c1002_5         c1002_6     \n",
              " Min.   :1.00    Min.   :1.000   Min.   :1.000   Min.   :1.000  \n",
              " 1st Qu.:3.00    1st Qu.:3.000   1st Qu.:3.000   1st Qu.:3.000  \n",
              " Median :3.00    Median :3.000   Median :3.000   Median :3.000  \n",
              " Mean   :3.07    Mean   :3.218   Mean   :3.378   Mean   :3.055  \n",
              " 3rd Qu.:3.00    3rd Qu.:4.000   3rd Qu.:4.000   3rd Qu.:4.000  \n",
              " Max.   :4.00    Max.   :4.000   Max.   :4.000   Max.   :4.000  \n",
              " NA's   :16206   NA's   :16206   NA's   :16206   NA's   :16206  \n",
              "    c1002_7         c1002_8         c1002_9         c1002_10    \n",
              " Min.   :1.000   Min.   :1.000   Min.   :1.000   Min.   :1.000  \n",
              " 1st Qu.:3.000   1st Qu.:3.000   1st Qu.:1.000   1st Qu.:1.000  \n",
              " Median :3.000   Median :3.000   Median :2.000   Median :1.000  \n",
              " Mean   :3.017   Mean   :3.092   Mean   :1.672   Mean   :1.635  \n",
              " 3rd Qu.:3.000   3rd Qu.:4.000   3rd Qu.:2.000   3rd Qu.:2.000  \n",
              " Max.   :4.000   Max.   :4.000   Max.   :4.000   Max.   :4.000  \n",
              " NA's   :16206   NA's   :16206   NA's   :16206   NA's   :16206  \n",
              "    c1002_11        c1002_12        c1002_13        c1002_14    \n",
              " Min.   :1.000   Min.   :1.000   Min.   :1.000   Min.   :1.000  \n",
              " 1st Qu.:1.000   1st Qu.:1.000   1st Qu.:2.000   1st Qu.:1.000  \n",
              " Median :1.000   Median :1.000   Median :3.000   Median :1.000  \n",
              " Mean   :1.389   Mean   :1.489   Mean   :2.622   Mean   :1.127  \n",
              " 3rd Qu.:2.000   3rd Qu.:2.000   3rd Qu.:3.000   3rd Qu.:1.000  \n",
              " Max.   :4.000   Max.   :4.000   Max.   :4.000   Max.   :3.000  \n",
              " NA's   :16206   NA's   :16206   NA's   :16206   NA's   :16206  \n",
              "    c1002_15        c1002_16        c1002_17        c1002_18    \n",
              " Min.   :1.000   Min.   :1.000   Min.   :1.000   Min.   :1.000  \n",
              " 1st Qu.:1.000   1st Qu.:1.000   1st Qu.:1.000   1st Qu.:1.000  \n",
              " Median :1.000   Median :1.000   Median :1.500   Median :1.000  \n",
              " Mean   :1.452   Mean   :1.251   Mean   :1.644   Mean   :1.157  \n",
              " 3rd Qu.:2.000   3rd Qu.:1.000   3rd Qu.:2.000   3rd Qu.:1.000  \n",
              " Max.   :3.000   Max.   :3.000   Max.   :3.000   Max.   :3.000  \n",
              " NA's   :16206   NA's   :16206   NA's   :16206   NA's   :16206  \n",
              "    c1002_19        c1002_20        c1002_21        c1002_22    \n",
              " Min.   :1.00    Min.   :1.000   Min.   :1.000   Min.   :1.000  \n",
              " 1st Qu.:1.00    1st Qu.:1.000   1st Qu.:1.000   1st Qu.:1.000  \n",
              " Median :1.00    Median :1.000   Median :1.000   Median :1.000  \n",
              " Mean   :1.07    Mean   :1.103   Mean   :1.275   Mean   :1.253  \n",
              " 3rd Qu.:1.00    3rd Qu.:1.000   3rd Qu.:1.000   3rd Qu.:1.000  \n",
              " Max.   :3.00    Max.   :3.000   Max.   :3.000   Max.   :3.000  \n",
              " NA's   :16206   NA's   :16206   NA's   :16206   NA's   :16206  \n",
              "    c1002_23        c1002_24        c1002_25        c1002_26    \n",
              " Min.   :1.000   Min.   :1.000   Min.   :1.00    Min.   :1.000  \n",
              " 1st Qu.:1.000   1st Qu.:1.000   1st Qu.:1.00    1st Qu.:1.000  \n",
              " Median :1.000   Median :1.000   Median :1.00    Median :1.000  \n",
              " Mean   :1.135   Mean   :1.183   Mean   :1.17    Mean   :1.437  \n",
              " 3rd Qu.:1.000   3rd Qu.:1.000   3rd Qu.:1.00    3rd Qu.:2.000  \n",
              " Max.   :3.000   Max.   :3.000   Max.   :3.00    Max.   :3.000  \n",
              " NA's   :16206   NA's   :16206   NA's   :16206   NA's   :16206  \n",
              "   c1002_4aq1       c1002_27        c1002_28        c1002_29    \n",
              " Min.   :1.000   Min.   :1.000   Min.   :1.000   Min.   :1.000  \n",
              " 1st Qu.:1.000   1st Qu.:1.000   1st Qu.:1.000   1st Qu.:1.000  \n",
              " Median :1.000   Median :1.000   Median :1.000   Median :1.000  \n",
              " Mean   :1.317   Mean   :1.214   Mean   :1.365   Mean   :1.301  \n",
              " 3rd Qu.:2.000   3rd Qu.:1.000   3rd Qu.:2.000   3rd Qu.:2.000  \n",
              " Max.   :3.000   Max.   :3.000   Max.   :3.000   Max.   :3.000  \n",
              " NA's   :16206   NA's   :16206   NA's   :16206   NA's   :16206  \n",
              "    c1002_30        c1002_31        c1002_32        c1002_33    \n",
              " Min.   :1.000   Min.   :1.000   Min.   :1.000   Min.   :1.000  \n",
              " 1st Qu.:1.000   1st Qu.:1.000   1st Qu.:1.000   1st Qu.:1.000  \n",
              " Median :1.000   Median :1.000   Median :1.000   Median :1.000  \n",
              " Mean   :1.214   Mean   :1.428   Mean   :1.155   Mean   :1.247  \n",
              " 3rd Qu.:1.000   3rd Qu.:2.000   3rd Qu.:1.000   3rd Qu.:1.000  \n",
              " Max.   :3.000   Max.   :3.000   Max.   :3.000   Max.   :3.000  \n",
              " NA's   :16206   NA's   :16206   NA's   :16206   NA's   :16206  \n",
              "    c1002_34        c1002_35        c1002_36        c1002_37    \n",
              " Min.   :1.000   Min.   :1.000   Min.   :1.000   Min.   :1.000  \n",
              " 1st Qu.:1.000   1st Qu.:1.000   1st Qu.:1.000   1st Qu.:1.000  \n",
              " Median :1.000   Median :1.000   Median :1.000   Median :1.000  \n",
              " Mean   :1.151   Mean   :1.212   Mean   :1.171   Mean   :1.223  \n",
              " 3rd Qu.:1.000   3rd Qu.:1.000   3rd Qu.:1.000   3rd Qu.:1.000  \n",
              " Max.   :3.000   Max.   :3.000   Max.   :3.000   Max.   :3.000  \n",
              " NA's   :16206   NA's   :16206   NA's   :16207   NA's   :16206  \n",
              "    c1002_38        c1002_39        c1002_40        c1002_41    \n",
              " Min.   :1.000   Min.   :1.000   Min.   :1.000   Min.   :1.000  \n",
              " 1st Qu.:1.000   1st Qu.:1.000   1st Qu.:1.000   1st Qu.:1.000  \n",
              " Median :1.000   Median :1.000   Median :1.000   Median :1.000  \n",
              " Mean   :1.301   Mean   :1.133   Mean   :1.325   Mean   :1.384  \n",
              " 3rd Qu.:2.000   3rd Qu.:1.000   3rd Qu.:2.000   3rd Qu.:2.000  \n",
              " Max.   :3.000   Max.   :3.000   Max.   :3.000   Max.   :3.000  \n",
              " NA's   :16206   NA's   :16206   NA's   :16206   NA's   :16206  \n",
              "    c1002_42        c1002_43        c1002_44        c1002_45    \n",
              " Min.   :1.000   Min.   :1.000   Min.   :1.000   Min.   :1.0    \n",
              " 1st Qu.:1.000   1st Qu.:1.000   1st Qu.:1.000   1st Qu.:1.0    \n",
              " Median :1.000   Median :1.000   Median :1.000   Median :1.0    \n",
              " Mean   :1.234   Mean   :1.227   Mean   :1.131   Mean   :1.1    \n",
              " 3rd Qu.:1.000   3rd Qu.:1.000   3rd Qu.:1.000   3rd Qu.:1.0    \n",
              " Max.   :3.000   Max.   :3.000   Max.   :3.000   Max.   :3.0    \n",
              " NA's   :16206   NA's   :16206   NA's   :16206   NA's   :16206  \n",
              "    c1002_46        c1002_47        c1002_48        c1002_49    \n",
              " Min.   :1.00    Min.   :1.000   Min.   :1.000   Min.   :1.00   \n",
              " 1st Qu.:1.00    1st Qu.:1.000   1st Qu.:1.000   1st Qu.:1.00   \n",
              " Median :1.00    Median :1.000   Median :1.000   Median :1.00   \n",
              " Mean   :1.05    Mean   :1.022   Mean   :1.037   Mean   :1.14   \n",
              " 3rd Qu.:1.00    3rd Qu.:1.000   3rd Qu.:1.000   3rd Qu.:1.00   \n",
              " Max.   :3.00    Max.   :3.000   Max.   :3.000   Max.   :3.00   \n",
              " NA's   :16206   NA's   :16206   NA's   :16206   NA's   :16206  \n",
              "    c1002_50        c1002_51        c1002_52        c1002_53    \n",
              " Min.   :1.000   Min.   :1.000   Min.   :1.000   Min.   :1.000  \n",
              " 1st Qu.:1.000   1st Qu.:1.000   1st Qu.:1.000   1st Qu.:1.000  \n",
              " Median :1.000   Median :1.000   Median :1.000   Median :1.000  \n",
              " Mean   :1.144   Mean   :1.009   Mean   :1.002   Mean   :1.009  \n",
              " 3rd Qu.:1.000   3rd Qu.:1.000   3rd Qu.:1.000   3rd Qu.:1.000  \n",
              " Max.   :3.000   Max.   :2.000   Max.   :2.000   Max.   :2.000  \n",
              " NA's   :16206   NA's   :16206   NA's   :16206   NA's   :16206  \n",
              "    c1002_54        c1002_55        c1002_56        c1002_57    \n",
              " Min.   :1.000   Min.   :1.000   Min.   :1.000   Min.   :1.000  \n",
              " 1st Qu.:1.000   1st Qu.:1.000   1st Qu.:1.000   1st Qu.:1.000  \n",
              " Median :1.000   Median :1.000   Median :1.000   Median :1.000  \n",
              " Mean   :1.179   Mean   :1.068   Mean   :1.004   Mean   :1.002  \n",
              " 3rd Qu.:1.000   3rd Qu.:1.000   3rd Qu.:1.000   3rd Qu.:1.000  \n",
              " Max.   :3.000   Max.   :3.000   Max.   :2.000   Max.   :2.000  \n",
              " NA's   :16206   NA's   :16206   NA's   :16206   NA's   :16206  \n",
              "    c1002_58       c1002_4aq2       c1002_59        c1002_60    \n",
              " Min.   :1.000   Min.   :1.000   Min.   :1.000   Min.   :1.000  \n",
              " 1st Qu.:1.000   1st Qu.:1.000   1st Qu.:1.000   1st Qu.:1.000  \n",
              " Median :1.000   Median :1.000   Median :1.000   Median :1.000  \n",
              " Mean   :1.009   Mean   :1.013   Mean   :1.231   Mean   :1.105  \n",
              " 3rd Qu.:1.000   3rd Qu.:1.000   3rd Qu.:1.000   3rd Qu.:1.000  \n",
              " Max.   :2.000   Max.   :3.000   Max.   :3.000   Max.   :3.000  \n",
              " NA's   :16206   NA's   :16206   NA's   :16206   NA's   :16206  \n",
              "    c1002_61        c1002_62        c1002_63        c1002_64    \n",
              " Min.   :1.000   Min.   :1.000   Min.   :1.00    Min.   :1.000  \n",
              " 1st Qu.:1.000   1st Qu.:1.000   1st Qu.:1.00    1st Qu.:1.000  \n",
              " Median :1.000   Median :1.000   Median :1.00    Median :1.000  \n",
              " Mean   :1.022   Mean   :1.303   Mean   :1.02    Mean   :1.013  \n",
              " 3rd Qu.:1.000   3rd Qu.:2.000   3rd Qu.:1.00    3rd Qu.:1.000  \n",
              " Max.   :3.000   Max.   :3.000   Max.   :2.00    Max.   :3.000  \n",
              " NA's   :16206   NA's   :16206   NA's   :16206   NA's   :16206  \n",
              "    c1002_65        c1002_66        c1002_67        c1002_68    \n",
              " Min.   :1.000   Min.   :1.000   Min.   :1.00    Min.   :1.000  \n",
              " 1st Qu.:1.000   1st Qu.:1.000   1st Qu.:1.00    1st Qu.:1.000  \n",
              " Median :1.000   Median :1.000   Median :1.00    Median :1.000  \n",
              " Mean   :1.242   Mean   :1.061   Mean   :1.19    Mean   :1.127  \n",
              " 3rd Qu.:1.000   3rd Qu.:1.000   3rd Qu.:1.00    3rd Qu.:1.000  \n",
              " Max.   :3.000   Max.   :3.000   Max.   :3.00    Max.   :3.000  \n",
              " NA's   :16206   NA's   :16206   NA's   :16206   NA's   :16206  \n",
              "    c1002_69        c1002_70        c1002_71        c1002_72    \n",
              " Min.   :1.000   Min.   :1.000   Min.   :1.000   Min.   :1.000  \n",
              " 1st Qu.:1.000   1st Qu.:1.000   1st Qu.:1.000   1st Qu.:1.000  \n",
              " Median :1.000   Median :1.000   Median :1.000   Median :1.000  \n",
              " Mean   :1.055   Mean   :1.116   Mean   :1.092   Mean   :1.223  \n",
              " 3rd Qu.:1.000   3rd Qu.:1.000   3rd Qu.:1.000   3rd Qu.:1.000  \n",
              " Max.   :3.000   Max.   :3.000   Max.   :3.000   Max.   :3.000  \n",
              " NA's   :16206   NA's   :16206   NA's   :16206   NA's   :16206  \n",
              "    c1002_73        c1002_74        c1002_75        c1002_76    \n",
              " Min.   :1.000   Min.   :1.000   Min.   :1.000   Min.   :1.000  \n",
              " 1st Qu.:1.000   1st Qu.:1.000   1st Qu.:1.000   1st Qu.:1.000  \n",
              " Median :1.000   Median :1.000   Median :1.000   Median :1.000  \n",
              " Mean   :1.277   Mean   :1.253   Mean   :1.116   Mean   :1.057  \n",
              " 3rd Qu.:1.000   3rd Qu.:1.000   3rd Qu.:1.000   3rd Qu.:1.000  \n",
              " Max.   :3.000   Max.   :3.000   Max.   :3.000   Max.   :3.000  \n",
              " NA's   :16206   NA's   :16206   NA's   :16206   NA's   :16206  \n",
              "    c1002_77       c1002_7aq1      c1002_7aq2      c1002_7aq3   \n",
              " Min.   :1.000   Min.   :0.000   Min.   :0.000   Min.   :0.000  \n",
              " 1st Qu.:1.000   1st Qu.:0.000   1st Qu.:0.000   1st Qu.:0.000  \n",
              " Median :1.000   Median :0.000   Median :0.000   Median :0.000  \n",
              " Mean   :1.017   Mean   :0.347   Mean   :0.262   Mean   :0.201  \n",
              " 3rd Qu.:1.000   3rd Qu.:0.000   3rd Qu.:0.000   3rd Qu.:0.000  \n",
              " Max.   :3.000   Max.   :6.000   Max.   :6.000   Max.   :6.000  \n",
              " NA's   :16206   NA's   :16206   NA's   :16206   NA's   :16206  \n",
              "   c1002_7aq4      c1002_7aq5      c1002_7aq6      c1002_7aq7   \n",
              " Min.   :0.000   Min.   :0.000   Min.   :0.000   Min.   :1.000  \n",
              " 1st Qu.:0.000   1st Qu.:0.000   1st Qu.:0.000   1st Qu.:2.000  \n",
              " Median :0.000   Median :0.000   Median :0.000   Median :2.000  \n",
              " Mean   :0.258   Mean   :0.225   Mean   :0.258   Mean   :1.991  \n",
              " 3rd Qu.:0.000   3rd Qu.:0.000   3rd Qu.:0.000   3rd Qu.:2.000  \n",
              " Max.   :6.000   Max.   :5.000   Max.   :6.000   Max.   :2.000  \n",
              " NA's   :16206   NA's   :16206   NA's   :16206   NA's   :16206  \n",
              "   c1002_7aq8      c1002_7aq9     c1002_7aq10     c1002_7aq11   \n",
              " Min.   :1.00    Min.   :1.000   Min.   :1.000   Min.   :1.000  \n",
              " 1st Qu.:1.00    1st Qu.:4.000   1st Qu.:4.000   1st Qu.:4.000  \n",
              " Median :1.50    Median :4.000   Median :5.000   Median :5.000  \n",
              " Mean   :2.25    Mean   :4.269   Mean   :4.229   Mean   :4.356  \n",
              " 3rd Qu.:2.75    3rd Qu.:5.000   3rd Qu.:5.000   3rd Qu.:5.000  \n",
              " Max.   :5.00    Max.   :5.000   Max.   :5.000   Max.   :5.000  \n",
              " NA's   :16660   NA's   :16206   NA's   :16206   NA's   :16206  \n",
              "  c1002_7aq12     c1002_7aq13     c1002_7aq14       c1002_78    \n",
              " Min.   :1.000   Min.   :1.000   Min.   :1.000   Min.   :0.000  \n",
              " 1st Qu.:3.000   1st Qu.:4.000   1st Qu.:1.000   1st Qu.:0.000  \n",
              " Median :4.000   Median :4.000   Median :1.000   Median :0.000  \n",
              " Mean   :3.644   Mean   :4.223   Mean   :1.541   Mean   :0.057  \n",
              " 3rd Qu.:5.000   3rd Qu.:5.000   3rd Qu.:2.000   3rd Qu.:0.000  \n",
              " Max.   :5.000   Max.   :5.000   Max.   :5.000   Max.   :5.000  \n",
              " NA's   :16206   NA's   :16206   NA's   :16206   NA's   :16206  \n",
              "    c1002_79        c1002_80         c1002_81        c1002_82    \n",
              " Min.   :0       Min.   : 0.000   Min.   :0       Min.   :0.000  \n",
              " 1st Qu.:0       1st Qu.: 0.000   1st Qu.:0       1st Qu.:0.000  \n",
              " Median :0       Median : 0.000   Median :0       Median :0.000  \n",
              " Mean   :0       Mean   : 0.201   Mean   :0       Mean   :0.002  \n",
              " 3rd Qu.:0       3rd Qu.: 0.000   3rd Qu.:0       3rd Qu.:0.000  \n",
              " Max.   :0       Max.   :80.000   Max.   :0       Max.   :1.000  \n",
              " NA's   :16220   NA's   :16207    NA's   :16211   NA's   :16210  \n",
              "    c1002_83        c1002_84        c1002_85        c1002_86    \n",
              " Min.   :1.000   Min.   :1.000   Min.   :1.000   Min.   :1.000  \n",
              " 1st Qu.:1.000   1st Qu.:1.000   1st Qu.:1.000   1st Qu.:1.000  \n",
              " Median :1.000   Median :1.000   Median :1.000   Median :1.000  \n",
              " Mean   :1.072   Mean   :1.048   Mean   :1.015   Mean   :1.046  \n",
              " 3rd Qu.:1.000   3rd Qu.:1.000   3rd Qu.:1.000   3rd Qu.:1.000  \n",
              " Max.   :6.000   Max.   :3.000   Max.   :6.000   Max.   :5.000  \n",
              " NA's   :16206   NA's   :16206   NA's   :16206   NA's   :16206  \n",
              "    c1002_87        c1002_88        c1002_89        c1002_90    \n",
              " Min.   :1.00    Min.   :1.000   Min.   :1       Min.   :1.000  \n",
              " 1st Qu.:1.00    1st Qu.:1.000   1st Qu.:1       1st Qu.:1.000  \n",
              " Median :1.00    Median :1.000   Median :1       Median :1.000  \n",
              " Mean   :1.02    Mean   :1.009   Mean   :1       Mean   :1.044  \n",
              " 3rd Qu.:1.00    3rd Qu.:1.000   3rd Qu.:1       3rd Qu.:1.000  \n",
              " Max.   :5.00    Max.   :2.000   Max.   :1       Max.   :6.000  \n",
              " NA's   :16206   NA's   :16206   NA's   :16206   NA's   :16206  \n",
              "    c1002_91        c1002_92        c1002_93        c1002_94    \n",
              " Min.   :1.000   Min.   :1.000   Min.   :1.000   Min.   :1.000  \n",
              " 1st Qu.:1.000   1st Qu.:1.000   1st Qu.:1.000   1st Qu.:1.000  \n",
              " Median :1.000   Median :1.000   Median :1.000   Median :1.000  \n",
              " Mean   :1.028   Mean   :1.002   Mean   :1.448   Mean   :1.203  \n",
              " 3rd Qu.:1.000   3rd Qu.:1.000   3rd Qu.:1.000   3rd Qu.:1.000  \n",
              " Max.   :6.000   Max.   :2.000   Max.   :4.000   Max.   :4.000  \n",
              " NA's   :16206   NA's   :16206   NA's   :16206   NA's   :16206  \n",
              "    c1002_95        c1002_96        c1002_97        c1002_98    \n",
              " Min.   :1.00    Min.   :1.000   Min.   :1.000   Min.   :1.000  \n",
              " 1st Qu.:1.00    1st Qu.:1.000   1st Qu.:1.000   1st Qu.:1.000  \n",
              " Median :1.00    Median :1.000   Median :1.000   Median :1.000  \n",
              " Mean   :1.17    Mean   :1.059   Mean   :1.009   Mean   :1.087  \n",
              " 3rd Qu.:1.00    3rd Qu.:1.000   3rd Qu.:1.000   3rd Qu.:1.000  \n",
              " Max.   :4.00    Max.   :4.000   Max.   :3.000   Max.   :4.000  \n",
              " NA's   :16206   NA's   :16206   NA's   :16206   NA's   :16206  \n",
              "   c1002_4aq3       c1002_4aq4       c1002_4aq5       c1002_4aq6    \n",
              " Min.   : 1.000   Min.   : 1.000   Min.   : 1.000   Min.   : 1.000  \n",
              " 1st Qu.: 3.000   1st Qu.: 2.000   1st Qu.: 2.000   1st Qu.: 2.000  \n",
              " Median : 4.000   Median : 2.500   Median : 2.000   Median : 2.000  \n",
              " Mean   : 3.688   Mean   : 3.179   Mean   : 3.041   Mean   : 2.906  \n",
              " 3rd Qu.: 4.000   3rd Qu.: 4.000   3rd Qu.: 5.000   3rd Qu.: 5.000  \n",
              " Max.   :10.000   Max.   :99.000   Max.   :10.000   Max.   :10.000  \n",
              " NA's   :16206    NA's   :16206    NA's   :16206    NA's   :16206   \n",
              "   c1002_4aq7      c1002_4aq8     c1002_7aq15      c1003_4aq1   \n",
              " Min.   :1.000   Min.   :1.000   Min.   :1.000   Min.   :1.000  \n",
              " 1st Qu.:2.000   1st Qu.:1.000   1st Qu.:1.000   1st Qu.:3.000  \n",
              " Median :3.000   Median :2.000   Median :1.000   Median :3.000  \n",
              " Mean   :2.531   Mean   :1.956   Mean   :1.031   Mean   :3.018  \n",
              " 3rd Qu.:3.000   3rd Qu.:2.000   3rd Qu.:1.000   3rd Qu.:4.000  \n",
              " Max.   :4.000   Max.   :4.000   Max.   :2.000   Max.   :4.000  \n",
              " NA's   :16206   NA's   :16527   NA's   :16206   NA's   :16220  \n",
              "   c1003_4aq2      c1003_4aq3      c1003_4aq4      c1003_4aq5   \n",
              " Min.   :1.000   Min.   :1.000   Min.   :1.000   Min.   :1.000  \n",
              " 1st Qu.:2.000   1st Qu.:2.000   1st Qu.:3.000   1st Qu.:3.000  \n",
              " Median :2.000   Median :2.000   Median :3.000   Median :3.000  \n",
              " Mean   :2.207   Mean   :2.484   Mean   :3.081   Mean   :3.162  \n",
              " 3rd Qu.:3.000   3rd Qu.:3.000   3rd Qu.:4.000   3rd Qu.:4.000  \n",
              " Max.   :4.000   Max.   :4.000   Max.   :4.000   Max.   :4.000  \n",
              " NA's   :16220   NA's   :16220   NA's   :16220   NA's   :16220  \n",
              "   c1003_4aq6      c1003_4aq7      c1003_4aq8      c1003_4aq9   \n",
              " Min.   :1.000   Min.   :1.000   Min.   :1.000   Min.   :1.000  \n",
              " 1st Qu.:3.000   1st Qu.:3.000   1st Qu.:3.000   1st Qu.:1.000  \n",
              " Median :3.000   Median :3.000   Median :3.000   Median :1.000  \n",
              " Mean   :3.365   Mean   :3.083   Mean   :3.173   Mean   :1.261  \n",
              " 3rd Qu.:4.000   3rd Qu.:4.000   3rd Qu.:4.000   3rd Qu.:1.000  \n",
              " Max.   :4.000   Max.   :4.000   Max.   :4.000   Max.   :5.000  \n",
              " NA's   :16220   NA's   :16220   NA's   :16220   NA's   :16220  \n",
              "    c1003_6         c1003_7         c1003_8         c1003_9     \n",
              " Min.   :1.00    Min.   :1.000   Min.   :1.000   Min.   :1.000  \n",
              " 1st Qu.:1.00    1st Qu.:1.000   1st Qu.:1.000   1st Qu.:1.000  \n",
              " Median :1.00    Median :1.000   Median :1.000   Median :1.000  \n",
              " Mean   :1.25    Mean   :1.142   Mean   :1.203   Mean   :1.164  \n",
              " 3rd Qu.:1.00    3rd Qu.:1.000   3rd Qu.:1.000   3rd Qu.:1.000  \n",
              " Max.   :5.00    Max.   :5.000   Max.   :5.000   Max.   :5.000  \n",
              " NA's   :16220   NA's   :16220   NA's   :16220   NA's   :16220  \n",
              "    c1003_13        c1003_14        c1003_15       c1004_4aq1   \n",
              " Min.   :1.000   Min.   :1.000   Min.   :1.000   Min.   : 1.00  \n",
              " 1st Qu.:1.000   1st Qu.:1.000   1st Qu.:1.000   1st Qu.: 5.00  \n",
              " Median :1.000   Median :1.000   Median :1.000   Median :10.00  \n",
              " Mean   :1.029   Mean   :1.009   Mean   :1.014   Mean   :14.07  \n",
              " 3rd Qu.:1.000   3rd Qu.:1.000   3rd Qu.:1.000   3rd Qu.:20.00  \n",
              " Max.   :5.000   Max.   :3.000   Max.   :5.000   Max.   :90.00  \n",
              " NA's   :16220   NA's   :16220   NA's   :16220   NA's   :16206  \n",
              "   c1004_4aq2      c1004_4aq3      c1004_4aq4      c1004_4aq5   \n",
              " Min.   :1.000   Min.   :1.000   Min.   :1.000   Min.   :1.000  \n",
              " 1st Qu.:1.000   1st Qu.:4.000   1st Qu.:4.000   1st Qu.:4.000  \n",
              " Median :1.000   Median :5.000   Median :5.000   Median :4.000  \n",
              " Mean   :1.319   Mean   :4.592   Mean   :4.572   Mean   :4.066  \n",
              " 3rd Qu.:1.000   3rd Qu.:5.000   3rd Qu.:5.000   3rd Qu.:5.000  \n",
              " Max.   :6.000   Max.   :5.000   Max.   :5.000   Max.   :5.000  \n",
              " NA's   :16206   NA's   :16206   NA's   :16206   NA's   :16206  \n",
              "   c1004_4aq6       c1004_1         c1004_2         c1004_3     \n",
              " Min.   :1.00    Min.   :1.000   Min.   :1.000   Min.   :1.000  \n",
              " 1st Qu.:3.00    1st Qu.:3.000   1st Qu.:3.000   1st Qu.:3.000  \n",
              " Median :4.00    Median :3.000   Median :3.000   Median :3.000  \n",
              " Mean   :3.81    Mean   :3.264   Mean   :3.376   Mean   :3.216  \n",
              " 3rd Qu.:5.00    3rd Qu.:4.000   3rd Qu.:4.000   3rd Qu.:4.000  \n",
              " Max.   :5.00    Max.   :4.000   Max.   :4.000   Max.   :4.000  \n",
              " NA's   :16206   NA's   :16206   NA's   :16206   NA's   :16206  \n",
              "    c1004_4         c1004_5         c1004_6         c1004_7     \n",
              " Min.   :1.000   Min.   :1.000   Min.   :1.000   Min.   :1.000  \n",
              " 1st Qu.:1.000   1st Qu.:1.000   1st Qu.:1.000   1st Qu.:1.000  \n",
              " Median :1.000   Median :1.000   Median :1.000   Median :1.000  \n",
              " Mean   :1.048   Mean   :1.044   Mean   :1.083   Mean   :1.052  \n",
              " 3rd Qu.:1.000   3rd Qu.:1.000   3rd Qu.:1.000   3rd Qu.:1.000  \n",
              " Max.   :4.000   Max.   :3.000   Max.   :4.000   Max.   :4.000  \n",
              " NA's   :16206   NA's   :16206   NA's   :16206   NA's   :16206  \n",
              "    c1004_8         c1004_9         c1004_10       c1004_4aq7   \n",
              " Min.   :1.000   Min.   :1.00    Min.   :1.000   Min.   :0.000  \n",
              " 1st Qu.:1.000   1st Qu.:3.00    1st Qu.:3.000   1st Qu.:0.000  \n",
              " Median :1.000   Median :3.00    Median :4.000   Median :0.000  \n",
              " Mean   :1.037   Mean   :3.41    Mean   :3.605   Mean   :0.039  \n",
              " 3rd Qu.:1.000   3rd Qu.:4.00    3rd Qu.:4.000   3rd Qu.:0.000  \n",
              " Max.   :4.000   Max.   :4.00    Max.   :4.000   Max.   :5.000  \n",
              " NA's   :16206   NA's   :16206   NA's   :16206   NA's   :16206  \n",
              "   c1004_4aq8       c1005_12        c1005_13        c1005_14    \n",
              " Min.   :0.000   Min.   :1.00    Min.   :1.000   Min.   :1.000  \n",
              " 1st Qu.:0.000   1st Qu.:1.00    1st Qu.:2.000   1st Qu.:2.000  \n",
              " Median :0.000   Median :1.00    Median :2.000   Median :2.000  \n",
              " Mean   :0.022   Mean   :1.62    Mean   :2.459   Mean   :1.952  \n",
              " 3rd Qu.:0.000   3rd Qu.:2.00    3rd Qu.:3.000   3rd Qu.:2.000  \n",
              " Max.   :6.000   Max.   :5.00    Max.   :8.000   Max.   :2.000  \n",
              " NA's   :16206   NA's   :16206   NA's   :16206   NA's   :16206  \n",
              "    c1005_15        c1005_16        c1005_17       c1005_4aq1   \n",
              " Min.   :1.000   Min.   :120.0   Min.   :22.00   Min.   :1.000  \n",
              " 1st Qu.:1.000   1st Qu.:140.0   1st Qu.:32.00   1st Qu.:2.000  \n",
              " Median :1.000   Median :145.0   Median :38.00   Median :2.000  \n",
              " Mean   :1.136   Mean   :144.8   Mean   :39.64   Mean   :1.993  \n",
              " 3rd Qu.:1.000   3rd Qu.:150.0   3rd Qu.:45.00   3rd Qu.:2.000  \n",
              " Max.   :3.000   Max.   :170.0   Max.   :80.00   Max.   :2.000  \n",
              " NA's   :16642   NA's   :16206   NA's   :16206   NA's   :16206  \n",
              "   c1005_18           c1005_19           c1005_7aq1      c1005_7aq2   \n",
              " Length:16664       Length:16664       Min.   :1.000   Min.   :1.00   \n",
              " Class :character   Class :character   1st Qu.:1.000   1st Qu.:1.00   \n",
              " Mode  :character   Mode  :character   Median :1.000   Median :1.00   \n",
              "                                       Mean   :1.294   Mean   :1.22   \n",
              "                                       3rd Qu.:1.000   3rd Qu.:1.00   \n",
              "                                       Max.   :9.000   Max.   :9.00   \n",
              "                                       NA's   :16273   NA's   :16273  \n",
              "   c1005_7aq3      c1005_7aq4      c1005_7aq5      c1005_7aq6   \n",
              " Min.   :1.000   Min.   :1.000   Min.   :1.000   Min.   :1.000  \n",
              " 1st Qu.:1.000   1st Qu.:1.000   1st Qu.:1.000   1st Qu.:1.000  \n",
              " Median :1.000   Median :1.000   Median :1.000   Median :1.000  \n",
              " Mean   :1.317   Mean   :1.074   Mean   :1.389   Mean   :1.366  \n",
              " 3rd Qu.:1.000   3rd Qu.:1.000   3rd Qu.:2.000   3rd Qu.:2.000  \n",
              " Max.   :9.000   Max.   :9.000   Max.   :9.000   Max.   :9.000  \n",
              " NA's   :16273   NA's   :16273   NA's   :16273   NA's   :16273  \n",
              "   c1005_7aq7      c1005_7aq8      c1005_7aq9     c1005_7aq10   \n",
              " Min.   :1.000   Min.   :1.000   Min.   :1.00    Min.   :1.000  \n",
              " 1st Qu.:1.000   1st Qu.:1.000   1st Qu.:1.00    1st Qu.:1.000  \n",
              " Median :1.000   Median :1.000   Median :1.00    Median :1.000  \n",
              " Mean   :1.294   Mean   :1.138   Mean   :1.24    Mean   :1.263  \n",
              " 3rd Qu.:1.000   3rd Qu.:1.000   3rd Qu.:1.00    3rd Qu.:1.000  \n",
              " Max.   :9.000   Max.   :9.000   Max.   :9.00    Max.   :9.000  \n",
              " NA's   :16273   NA's   :16273   NA's   :16273   NA's   :16273  \n",
              "  c1005_7aq11     c1005_7aq12     c1005_7aq13     c1005_7aq14   \n",
              " Min.   :1.000   Min.   :1.000   Min.   :1.000   Min.   :1.000  \n",
              " 1st Qu.:1.000   1st Qu.:1.000   1st Qu.:1.000   1st Qu.:1.000  \n",
              " Median :1.000   Median :1.000   Median :1.000   Median :1.000  \n",
              " Mean   :1.095   Mean   :1.125   Mean   :1.107   Mean   :1.164  \n",
              " 3rd Qu.:1.000   3rd Qu.:1.000   3rd Qu.:1.000   3rd Qu.:1.000  \n",
              " Max.   :9.000   Max.   :9.000   Max.   :9.000   Max.   :9.000  \n",
              " NA's   :16273   NA's   :16273   NA's   :16273   NA's   :16273  \n",
              "  c1005_7aq15     c1005_7aq16     c1005_7aq17     c1005_7aq18   \n",
              " Min.   :1.000   Min.   :1.000   Min.   :1.000   Min.   :1.000  \n",
              " 1st Qu.:1.000   1st Qu.:1.000   1st Qu.:1.000   1st Qu.:1.000  \n",
              " Median :1.000   Median :1.000   Median :1.000   Median :1.000  \n",
              " Mean   :1.197   Mean   :1.092   Mean   :1.332   Mean   :1.302  \n",
              " 3rd Qu.:1.000   3rd Qu.:1.000   3rd Qu.:2.000   3rd Qu.:1.000  \n",
              " Max.   :9.000   Max.   :9.000   Max.   :9.000   Max.   :9.000  \n",
              " NA's   :16273   NA's   :16273   NA's   :16273   NA's   :16273  \n",
              "  c1005_7aq19     c1005_7aq20       c1005_20        c1005_21    \n",
              " Min.   :1.000   Min.   :1.000   Min.   :2       Min.   : NA    \n",
              " 1st Qu.:1.000   1st Qu.:1.000   1st Qu.:2       1st Qu.: NA    \n",
              " Median :1.000   Median :1.000   Median :2       Median : NA    \n",
              " Mean   :1.465   Mean   :1.355   Mean   :2       Mean   :NaN    \n",
              " 3rd Qu.:2.000   3rd Qu.:1.000   3rd Qu.:2       3rd Qu.: NA    \n",
              " Max.   :9.000   Max.   :9.000   Max.   :2       Max.   : NA    \n",
              " NA's   :16273   NA's   :16273   NA's   :16206   NA's   :16664  \n",
              "    c1005_22        c1005_23        c1005_24        c1005_25    \n",
              " Min.   : NA     Min.   : NA     Min.   : NA     Min.   : NA    \n",
              " 1st Qu.: NA     1st Qu.: NA     1st Qu.: NA     1st Qu.: NA    \n",
              " Median : NA     Median : NA     Median : NA     Median : NA    \n",
              " Mean   :NaN     Mean   :NaN     Mean   :NaN     Mean   :NaN    \n",
              " 3rd Qu.: NA     3rd Qu.: NA     3rd Qu.: NA     3rd Qu.: NA    \n",
              " Max.   : NA     Max.   : NA     Max.   : NA     Max.   : NA    \n",
              " NA's   :16664   NA's   :16664   NA's   :16664   NA's   :16664  \n",
              "    c1005_26        c1005_27        c1005_28        c1005_29    \n",
              " Min.   : NA     Min.   : NA     Min.   : NA     Min.   : NA    \n",
              " 1st Qu.: NA     1st Qu.: NA     1st Qu.: NA     1st Qu.: NA    \n",
              " Median : NA     Median : NA     Median : NA     Median : NA    \n",
              " Mean   :NaN     Mean   :NaN     Mean   :NaN     Mean   :NaN    \n",
              " 3rd Qu.: NA     3rd Qu.: NA     3rd Qu.: NA     3rd Qu.: NA    \n",
              " Max.   : NA     Max.   : NA     Max.   : NA     Max.   : NA    \n",
              " NA's   :16664   NA's   :16664   NA's   :16664   NA's   :16664  \n",
              "    c1005_30        c1005_31        c1005_32        c1005_36    \n",
              " Min.   : NA     Min.   : NA     Min.   : NA     Min.   :1.000  \n",
              " 1st Qu.: NA     1st Qu.: NA     1st Qu.: NA     1st Qu.:2.000  \n",
              " Median : NA     Median : NA     Median : NA     Median :2.000  \n",
              " Mean   :NaN     Mean   :NaN     Mean   :NaN     Mean   :1.926  \n",
              " 3rd Qu.: NA     3rd Qu.: NA     3rd Qu.: NA     3rd Qu.:2.000  \n",
              " Max.   : NA     Max.   : NA     Max.   : NA     Max.   :2.000  \n",
              " NA's   :16664   NA's   :16664   NA's   :16664   NA's   :16206  \n",
              "   c1005_4aq2        c1005_38       c1005_4aq3       c1005_40    \n",
              " Min.   : 1.000   Min.   :1.000   Min.   : 1.00   Min.   :1.000  \n",
              " 1st Qu.: 1.000   1st Qu.:1.000   1st Qu.: 4.00   1st Qu.:2.000  \n",
              " Median : 1.500   Median :2.000   Median : 8.00   Median :2.000  \n",
              " Mean   : 3.176   Mean   :1.638   Mean   :10.79   Mean   :1.965  \n",
              " 3rd Qu.: 3.000   3rd Qu.:2.000   3rd Qu.:20.00   3rd Qu.:2.000  \n",
              " Max.   :30.000   Max.   :2.000   Max.   :30.00   Max.   :2.000  \n",
              " NA's   :16630    NA's   :16206   NA's   :16498   NA's   :16206  \n",
              "  c1005_10aq1        c1005_42       c1005_4aq4       c1005_44    \n",
              " Min.   : 1.000   Min.   :1.000   Min.   : 1.0    Min.   :1.000  \n",
              " 1st Qu.: 1.000   1st Qu.:2.000   1st Qu.: 1.0    1st Qu.:1.000  \n",
              " Median : 3.000   Median :2.000   Median : 3.0    Median :2.000  \n",
              " Mean   : 3.562   Mean   :1.967   Mean   : 9.4    Mean   :1.644  \n",
              " 3rd Qu.: 4.250   3rd Qu.:2.000   3rd Qu.: 9.0    3rd Qu.:2.000  \n",
              " Max.   :10.000   Max.   :2.000   Max.   :48.0    Max.   :2.000  \n",
              " NA's   :16648    NA's   :16206   NA's   :16649   NA's   :16206  \n",
              "   c1005_4aq5        c1005_46       c1005_4aq6        c1005_48    \n",
              " Min.   : 1.000   Min.   :1.000   Min.   : 1.000   Min.   :1.000  \n",
              " 1st Qu.: 1.000   1st Qu.:1.000   1st Qu.: 2.000   1st Qu.:2.000  \n",
              " Median : 1.000   Median :1.000   Median : 2.000   Median :2.000  \n",
              " Mean   : 2.104   Mean   :1.441   Mean   : 3.613   Mean   :1.948  \n",
              " 3rd Qu.: 2.000   3rd Qu.:2.000   3rd Qu.: 4.000   3rd Qu.:2.000  \n",
              " Max.   :20.000   Max.   :2.000   Max.   :30.000   Max.   :2.000  \n",
              " NA's   :16501    NA's   :16206   NA's   :16408    NA's   :16206  \n",
              "   c1005_4aq7       c1005_4aq8      c1005_4aq9      c1005_4aq10   \n",
              " Min.   : 1.000   Min.   :1.000   Min.   : 1.000   Min.   :1.00   \n",
              " 1st Qu.: 1.750   1st Qu.:1.000   1st Qu.: 3.000   1st Qu.:1.00   \n",
              " Median : 2.000   Median :2.000   Median : 4.000   Median :2.00   \n",
              " Mean   : 5.083   Mean   :1.666   Mean   : 7.366   Mean   :1.55   \n",
              " 3rd Qu.: 2.500   3rd Qu.:2.000   3rd Qu.:10.000   3rd Qu.:2.00   \n",
              " Max.   :50.000   Max.   :2.000   Max.   :50.000   Max.   :2.00   \n",
              " NA's   :16640    NA's   :16206   NA's   :16511    NA's   :16206  \n",
              "  c1005_4aq11     c1005_4aq12     c1005_4aq13     c1005_4aq14   \n",
              " Min.   : 1.00   Min.   :1.000   Min.   : 1.0    Min.   :1.000  \n",
              " 1st Qu.: 4.00   1st Qu.:2.000   1st Qu.: 1.0    1st Qu.:2.000  \n",
              " Median : 5.00   Median :2.000   Median : 2.0    Median :2.000  \n",
              " Mean   :10.62   Mean   :1.902   Mean   : 2.4    Mean   :1.932  \n",
              " 3rd Qu.:20.00   3rd Qu.:2.000   3rd Qu.: 2.0    3rd Qu.:2.000  \n",
              " Max.   :55.00   Max.   :2.000   Max.   :12.0    Max.   :2.000  \n",
              " NA's   :16458   NA's   :16206   NA's   :16619   NA's   :16206  \n",
              "  c1005_4aq15      c1007_4aq1       c1007_4aq2       c1007_7aq1    \n",
              " Min.   :1.000   Min.   :   1.0   Min.   :   1.0   Min.   : 1.000  \n",
              " 1st Qu.:1.000   1st Qu.:   8.0   1st Qu.:   8.0   1st Qu.: 5.000  \n",
              " Median :1.000   Median :  14.0   Median :  15.0   Median :10.000  \n",
              " Mean   :1.387   Mean   : 144.2   Mean   : 689.4   Mean   : 8.699  \n",
              " 3rd Qu.:2.000   3rd Qu.:  16.0   3rd Qu.:  17.0   3rd Qu.:10.000  \n",
              " Max.   :3.000   Max.   :9999.0   Max.   :9999.0   Max.   :18.000  \n",
              " NA's   :16633   NA's   :16206    NA's   :16206    NA's   :16212   \n",
              "   c1007_7aq2       c1007_7aq3      c1007_4aq3      c1007_4aq4   \n",
              " Min.   : 1.000   Min.   :0.000   Min.   :1.000   Min.   :1.000  \n",
              " 1st Qu.: 3.000   1st Qu.:3.000   1st Qu.:3.000   1st Qu.:1.000  \n",
              " Median :10.000   Median :4.000   Median :3.000   Median :1.000  \n",
              " Mean   : 9.349   Mean   :3.323   Mean   :3.297   Mean   :1.496  \n",
              " 3rd Qu.:15.000   3rd Qu.:4.000   3rd Qu.:4.000   3rd Qu.:2.000  \n",
              " Max.   :99.000   Max.   :9.000   Max.   :4.000   Max.   :4.000  \n",
              " NA's   :16260    NA's   :16206   NA's   :16206   NA's   :16206  \n",
              "   c1007_4aq5      c1007_4aq6      c1007_4aq7      c1007_4aq8   \n",
              " Min.   :1.000   Min.   :1.000   Min.   :1.000   Min.   :1.000  \n",
              " 1st Qu.:1.000   1st Qu.:1.000   1st Qu.:2.000   1st Qu.:3.000  \n",
              " Median :2.000   Median :2.000   Median :3.000   Median :3.000  \n",
              " Mean   :1.644   Mean   :1.819   Mean   :2.808   Mean   :3.238  \n",
              " 3rd Qu.:2.000   3rd Qu.:2.000   3rd Qu.:3.000   3rd Qu.:4.000  \n",
              " Max.   :4.000   Max.   :4.000   Max.   :4.000   Max.   :4.000  \n",
              " NA's   :16206   NA's   :16206   NA's   :16206   NA's   :16206  \n",
              "   c1007_4aq9     c1007_4aq10     c1007_4aq11     c1007_4aq12   \n",
              " Min.   :1.000   Min.   :1.000   Min.   :1.000   Min.   :1.000  \n",
              " 1st Qu.:1.000   1st Qu.:3.000   1st Qu.:1.000   1st Qu.:1.000  \n",
              " Median :2.000   Median :3.000   Median :1.000   Median :1.000  \n",
              " Mean   :1.983   Mean   :3.046   Mean   :1.622   Mean   :1.568  \n",
              " 3rd Qu.:3.000   3rd Qu.:4.000   3rd Qu.:2.000   3rd Qu.:2.000  \n",
              " Max.   :4.000   Max.   :4.000   Max.   :4.000   Max.   :4.000  \n",
              " NA's   :16206   NA's   :16206   NA's   :16206   NA's   :16206  \n",
              "  c1007_4aq13     c1007_4aq14     c1007_4aq15     c1007_4aq16   \n",
              " Min.   :1.000   Min.   :1.000   Min.   :1.000   Min.   :1.000  \n",
              " 1st Qu.:3.000   1st Qu.:1.000   1st Qu.:2.000   1st Qu.:3.000  \n",
              " Median :3.000   Median :2.000   Median :3.000   Median :3.000  \n",
              " Mean   :3.116   Mean   :1.915   Mean   :2.808   Mean   :3.212  \n",
              " 3rd Qu.:4.000   3rd Qu.:2.000   3rd Qu.:3.000   3rd Qu.:4.000  \n",
              " Max.   :4.000   Max.   :4.000   Max.   :4.000   Max.   :4.000  \n",
              " NA's   :16206   NA's   :16206   NA's   :16206   NA's   :16206  \n",
              "  c1007_4aq17     c1007_4aq18     c1007_4aq19     c1007_4aq20   \n",
              " Min.   :1.000   Min.   :1.000   Min.   :1.000   Min.   :1.000  \n",
              " 1st Qu.:3.000   1st Qu.:1.000   1st Qu.:3.000   1st Qu.:1.000  \n",
              " Median :3.000   Median :2.000   Median :3.000   Median :2.000  \n",
              " Mean   :3.295   Mean   :1.616   Mean   :3.046   Mean   :1.723  \n",
              " 3rd Qu.:4.000   3rd Qu.:2.000   3rd Qu.:4.000   3rd Qu.:2.000  \n",
              " Max.   :4.000   Max.   :4.000   Max.   :4.000   Max.   :4.000  \n",
              " NA's   :16206   NA's   :16206   NA's   :16206   NA's   :16206  \n",
              "  c1007_4aq21     c1007_4aq22     c1007_4aq23    h10_pers_income1\n",
              " Min.   :1.000   Min.   :1.000   Min.   :1.000   Min.   :    0   \n",
              " 1st Qu.:1.000   1st Qu.:1.000   1st Qu.:3.000   1st Qu.: 1997   \n",
              " Median :2.000   Median :1.000   Median :3.000   Median : 3084   \n",
              " Mean   :1.677   Mean   :1.537   Mean   :2.993   Mean   : 3653   \n",
              " 3rd Qu.:2.000   3rd Qu.:2.000   3rd Qu.:4.000   3rd Qu.: 4800   \n",
              " Max.   :4.000   Max.   :4.000   Max.   :4.000   Max.   :23240   \n",
              " NA's   :16206   NA's   :16206   NA's   :16206   NA's   :13905   \n",
              " h10_pers_income2 h10_pers_income3   h10_pers_income4  h10_pers_income5 \n",
              " Min.   :   20    Min.   :-27753.0   Min.   :   0.00   Min.   :-4806.0  \n",
              " 1st Qu.:  400    1st Qu.:   796.5   1st Qu.:   0.00   1st Qu.:  210.5  \n",
              " Median :  980    Median :  1980.0   Median :   0.00   Median :  464.0  \n",
              " Mean   : 1252    Mean   :  3346.2   Mean   :   1.61   Mean   : 1052.2  \n",
              " 3rd Qu.: 1770    3rd Qu.:  3829.0   3rd Qu.:   0.00   3rd Qu.: 1153.5  \n",
              " Max.   :12000    Max.   :245755.0   Max.   :1680.00   Max.   :29340.0  \n",
              " NA's   :13161    NA's   :15529                        NA's   :15788    "
            ]
          },
          "metadata": {}
        }
      ]
    },
    {
      "cell_type": "markdown",
      "source": [
        "**<문제점>**\n",
        "\n",
        "- 변수가 많고, 변수명이 코드로 되어 있어 데이터 구조 파악이 어려움.\n",
        "\n",
        "- 변수명을 알아보기 쉬운 단어로 바꾸고 분석에 사용할 변수 파악할 필요 O."
      ],
      "metadata": {
        "id": "wJySwY2zcxzN"
      }
    },
    {
      "cell_type": "markdown",
      "source": [
        "##### (4) 변수명 바꾸기"
      ],
      "metadata": {
        "id": "bH0eTKdThowd"
      }
    },
    {
      "cell_type": "code",
      "source": [
        "welfare <- rename(welfare,\n",
        "                  sex = \"h10_g3\",           # 성별\n",
        "                  birth = \"h10_g4\",         # 태어난 연도\n",
        "                  marriage = \"h10_g10\",     # 혼인 상태\n",
        "                  religion = \"h10_g11\",     # 종교\n",
        "                  income = \"p1002_8aq1\",    # 월급\n",
        "                  code_job = \"h10_eco9\",    # 직종 코드\n",
        "                  code_region = \"h10_reg7\") # 지역 코드"
      ],
      "metadata": {
        "id": "ARfDsh4XcgZW"
      },
      "execution_count": null,
      "outputs": []
    },
    {
      "cell_type": "markdown",
      "source": [
        "### 2) 데이터 분석 절차"
      ],
      "metadata": {
        "id": "C1MCJCqtgL80"
      }
    },
    {
      "cell_type": "markdown",
      "source": [
        "\n",
        "\n",
        "---\n",
        "\n",
        "\n",
        "**[1단계] 문제 정의**\n",
        "- 분석하고자 하는 분야를 이해하고, 해결해야 할 문제를 객관적이고 구체적으로 정의\n",
        "\n",
        "**[2단계] 변수 검토 및 전처리**\n",
        "- 변수의 특성을 파악, 이상치 정제, 파생변수 생성\n",
        "\n",
        "**[3단계] 데이터 분석(모델링)**\n",
        "- 변수 간 관계를 분석하고, 하나의 테이블 혹은 다수의 테이블을 이용하여 분석\n",
        "- 탐색적 데이터 분석(EDA) or 머신러닝, 딥러닝\n",
        "\n",
        "\n",
        "**[4단계] 시각화**\n",
        "- 다양한 도구를 이용해 데이터 시각화, 탐색을 통해 분제 해결\n",
        "\n",
        "**[5단계] 문제해결 및 인사이트 도출**\n",
        "- 초기 정의한 문제 해결, 데이터 분석을 통한 결론/인사이트 도출\n",
        "\n",
        "\n",
        "---\n",
        "\n"
      ],
      "metadata": {
        "id": "AGkx3OfbgbST"
      }
    },
    {
      "cell_type": "markdown",
      "source": [
        "## **2. 성별에 따른 월급 차이**"
      ],
      "metadata": {
        "id": "1-EZxZbyh7Ht"
      }
    },
    {
      "cell_type": "markdown",
      "source": [
        "**[1단계] 문제 정의**\n",
        "- 과거에 비해 여성의 사회 진출이 활발해졌지만, 현실적으로 직장에서 받는 대우에는 차별이 존재한다고 가정.\n",
        "-데이터 분석을 통해 성별에 따른 월급 차이가 있는지 확인"
      ],
      "metadata": {
        "id": "ywV2a4zjiLSx"
      }
    },
    {
      "cell_type": "markdown",
      "source": [
        "**[2단계] 변수 검토 및 전처리**"
      ],
      "metadata": {
        "id": "KtW5v0X5lGRD"
      }
    },
    {
      "cell_type": "markdown",
      "source": [
        "### 1) 성별 변수 검토 및 전처리\n"
      ],
      "metadata": {
        "id": "OWqZjURfiWPn"
      }
    },
    {
      "cell_type": "markdown",
      "source": [
        "##### (1) 변수 검토하기"
      ],
      "metadata": {
        "id": "mNmr0txTieWB"
      }
    },
    {
      "cell_type": "code",
      "source": [
        "class(welfare$sex)"
      ],
      "metadata": {
        "colab": {
          "base_uri": "https://localhost:8080/"
        },
        "id": "TchL1cCpgIlg",
        "outputId": "98cb2fc1-1264-4003-81e7-0aa18a886297"
      },
      "execution_count": null,
      "outputs": [
        {
          "output_type": "display_data",
          "data": {
            "text/html": [
              "'numeric'"
            ],
            "text/markdown": "'numeric'",
            "text/latex": "'numeric'",
            "text/plain": [
              "[1] \"numeric\""
            ]
          },
          "metadata": {}
        }
      ]
    },
    {
      "cell_type": "code",
      "source": [
        "table(welfare$sex)"
      ],
      "metadata": {
        "colab": {
          "base_uri": "https://localhost:8080/"
        },
        "id": "ciJL4tcsiisk",
        "outputId": "56527a9b-e196-44db-f0dd-ac8c4f29efd4"
      },
      "execution_count": null,
      "outputs": [
        {
          "output_type": "display_data",
          "data": {
            "text/plain": [
              "\n",
              "   1    2 \n",
              "7578 9086 "
            ]
          },
          "metadata": {}
        }
      ]
    },
    {
      "cell_type": "markdown",
      "source": [
        "##### (2) 전처리"
      ],
      "metadata": {
        "id": "EH9xelyDinc2"
      }
    },
    {
      "cell_type": "code",
      "source": [
        "# 이상치 확인\n",
        "table(welfare$sex)"
      ],
      "metadata": {
        "colab": {
          "base_uri": "https://localhost:8080/"
        },
        "id": "vFA_324Nikgl",
        "outputId": "0cb4bc7e-10a6-4c77-ef54-b3917aae9b7f"
      },
      "execution_count": null,
      "outputs": [
        {
          "output_type": "display_data",
          "data": {
            "text/plain": [
              "\n",
              "   1    2 \n",
              "7578 9086 "
            ]
          },
          "metadata": {}
        }
      ]
    },
    {
      "cell_type": "code",
      "source": [
        "# 이상치 결측 처리\n",
        "welfare$sex <- ifelse(welfare$sex == 9, NA, welfare$sex)"
      ],
      "metadata": {
        "id": "pP8J3xIKir0Q"
      },
      "execution_count": null,
      "outputs": []
    },
    {
      "cell_type": "code",
      "source": [
        "# 결측치 확인\n",
        "table(is.na(welfare$sex))     ## FALSE -> 결측치 없음."
      ],
      "metadata": {
        "colab": {
          "base_uri": "https://localhost:8080/"
        },
        "id": "vY1SIp3Hizh0",
        "outputId": "74e1881c-b45f-4847-a036-7e50596a2b64"
      },
      "execution_count": null,
      "outputs": [
        {
          "output_type": "display_data",
          "data": {
            "text/plain": [
              "\n",
              "FALSE \n",
              "16664 "
            ]
          },
          "metadata": {}
        }
      ]
    },
    {
      "cell_type": "code",
      "source": [
        "# 성별 항목 이름 부여\n",
        "welfare$sex <- ifelse(welfare$sex == 1, \"male\", \"female\")\n",
        "table(welfare$sex)"
      ],
      "metadata": {
        "colab": {
          "base_uri": "https://localhost:8080/"
        },
        "id": "QsPEmU_ci2LF",
        "outputId": "f2e85be0-1a6a-428f-f0e9-6a0b353c9043"
      },
      "execution_count": null,
      "outputs": [
        {
          "output_type": "display_data",
          "data": {
            "text/plain": [
              "\n",
              "female   male \n",
              "  9086   7578 "
            ]
          },
          "metadata": {}
        }
      ]
    },
    {
      "cell_type": "code",
      "source": [
        "qplot(welfare$sex)"
      ],
      "metadata": {
        "colab": {
          "base_uri": "https://localhost:8080/"
        },
        "id": "FD6t--HtjWeN",
        "outputId": "a07f50de-179e-4010-8641-828628c0ba08"
      },
      "execution_count": null,
      "outputs": [
        {
          "output_type": "stream",
          "name": "stderr",
          "text": [
            "Warning message:\n",
            "“\u001b[1m\u001b[22m`qplot()` was deprecated in ggplot2 3.4.0.”\n"
          ]
        },
        {
          "output_type": "display_data",
          "data": {
            "text/plain": [
              "plot without title"
            ],
            "image/png": "[encoded data removed]"
          },
          "metadata": {
            "image/png": {
              "width": 420,
              "height": 420
            }
          }
        }
      ]
    },
    {
      "cell_type": "markdown",
      "source": [
        "### 2) 월급 변수 검토 및 전처리"
      ],
      "metadata": {
        "id": "ZJ5SpM_SjH7D"
      }
    },
    {
      "cell_type": "markdown",
      "source": [
        "##### (1) 변수 검토"
      ],
      "metadata": {
        "id": "D5y29bNgkFb7"
      }
    },
    {
      "cell_type": "code",
      "source": [
        "class(welfare$income)"
      ],
      "metadata": {
        "colab": {
          "base_uri": "https://localhost:8080/"
        },
        "id": "XFXinMCujDet",
        "outputId": "eea4d9ed-5dec-4313-b157-d529e485cb10"
      },
      "execution_count": null,
      "outputs": [
        {
          "output_type": "display_data",
          "data": {
            "text/html": [
              "'numeric'"
            ],
            "text/markdown": "'numeric'",
            "text/latex": "'numeric'",
            "text/plain": [
              "[1] \"numeric\""
            ]
          },
          "metadata": {}
        }
      ]
    },
    {
      "cell_type": "code",
      "source": [
        "summary(welfare$income)"
      ],
      "metadata": {
        "colab": {
          "base_uri": "https://localhost:8080/"
        },
        "id": "u9aPYzZYjMn3",
        "outputId": "515a3db0-91ff-4685-c79f-606dc8a1b59c"
      },
      "execution_count": null,
      "outputs": [
        {
          "output_type": "display_data",
          "data": {
            "text/plain": [
              "   Min. 1st Qu.  Median    Mean 3rd Qu.    Max.    NA's \n",
              "    0.0   122.0   192.5   241.6   316.6  2400.0   12030 "
            ]
          },
          "metadata": {}
        }
      ]
    },
    {
      "cell_type": "code",
      "source": [
        "qplot(welfare$income)"
      ],
      "metadata": {
        "colab": {
          "base_uri": "https://localhost:8080/"
        },
        "id": "hf-IzgK4jOVd",
        "outputId": "e5cd5fda-28ff-48bf-aaa9-9b33839faa41"
      },
      "execution_count": null,
      "outputs": [
        {
          "output_type": "stream",
          "name": "stderr",
          "text": [
            "\u001b[1m\u001b[22m`stat_bin()` using `bins = 30`. Pick better value with `binwidth`.\n",
            "Warning message:\n",
            "“\u001b[1m\u001b[22mRemoved 12030 rows containing non-finite values (`stat_bin()`).”\n"
          ]
        },
        {
          "output_type": "display_data",
          "data": {
            "text/plain": [
              "plot without title"
            ],
            "image/png": "[encoded data removed]"
          },
          "metadata": {
            "image/png": {
              "width": 420,
              "height": 420
            }
          }
        }
      ]
    },
    {
      "cell_type": "markdown",
      "source": [
        "*   'income'은 'numeric' 타입\n",
        "*   '122 ~ 316만원' 사이에 가장 많이 분포하고 있다.\n",
        "\n"
      ],
      "metadata": {
        "id": "9QSXRj2njb4n"
      }
    },
    {
      "cell_type": "code",
      "source": [
        "qplot(welfare$income) + xlim(0, 1000)   ## x축의 범위를 '0 ~ 1000'까지로 제한"
      ],
      "metadata": {
        "colab": {
          "base_uri": "https://localhost:8080/"
        },
        "id": "Xb2_uJ6ljUQH",
        "outputId": "09db2b63-a4ac-4e37-bc1c-15e0e0061af1"
      },
      "execution_count": null,
      "outputs": [
        {
          "output_type": "stream",
          "name": "stderr",
          "text": [
            "\u001b[1m\u001b[22m`stat_bin()` using `bins = 30`. Pick better value with `binwidth`.\n",
            "Warning message:\n",
            "“\u001b[1m\u001b[22mRemoved 12051 rows containing non-finite values (`stat_bin()`).”\n",
            "Warning message:\n",
            "“\u001b[1m\u001b[22mRemoved 2 rows containing missing values (`geom_bar()`).”\n"
          ]
        },
        {
          "output_type": "display_data",
          "data": {
            "text/plain": [
              "plot without title"
            ],
            "image/png": "[encoded data removed]"
          },
          "metadata": {
            "image/png": {
              "width": 420,
              "height": 420
            }
          }
        }
      ]
    },
    {
      "cell_type": "markdown",
      "source": [
        "##### (2) 전처리"
      ],
      "metadata": {
        "id": "JvhbBgbMkIsw"
      }
    },
    {
      "cell_type": "code",
      "source": [
        "# 이상치 확인\n",
        "summary(welfare$income)"
      ],
      "metadata": {
        "colab": {
          "base_uri": "https://localhost:8080/"
        },
        "id": "pqSh42aPjvgl",
        "outputId": "5448bc3f-e6e8-447a-fe09-3036d201f371"
      },
      "execution_count": null,
      "outputs": [
        {
          "output_type": "display_data",
          "data": {
            "text/plain": [
              "   Min. 1st Qu.  Median    Mean 3rd Qu.    Max.    NA's \n",
              "    0.0   122.0   192.5   241.6   316.6  2400.0   12030 "
            ]
          },
          "metadata": {}
        }
      ]
    },
    {
      "cell_type": "code",
      "source": [
        "# 이상치 결측 처리\n",
        "welfare$income <- ifelse(welfare$income %in% c(0, 9999), NA, welfare$income)"
      ],
      "metadata": {
        "id": "jiRGWV_XkOdb"
      },
      "execution_count": null,
      "outputs": []
    },
    {
      "cell_type": "code",
      "source": [
        "# 결측치 확인\n",
        "table(is.na(welfare$income))"
      ],
      "metadata": {
        "colab": {
          "base_uri": "https://localhost:8080/"
        },
        "id": "g_bQAtL3kVTH",
        "outputId": "07af320a-3bb4-4b46-953a-51301b16916a"
      },
      "execution_count": null,
      "outputs": [
        {
          "output_type": "display_data",
          "data": {
            "text/plain": [
              "\n",
              "FALSE  TRUE \n",
              " 4620 12044 "
            ]
          },
          "metadata": {}
        }
      ]
    },
    {
      "cell_type": "markdown",
      "source": [
        "### 3) 성별에 따른 월급 차이 분석하기"
      ],
      "metadata": {
        "id": "UBkMHcF0kcBw"
      }
    },
    {
      "cell_type": "markdown",
      "source": [
        "##### (1) 성별 월급 평균표 만들기"
      ],
      "metadata": {
        "id": "P1Ou9UHgkkeY"
      }
    },
    {
      "cell_type": "code",
      "source": [
        "sex_income <- welfare %>%\n",
        "  filter(!is.na(income)) %>%\n",
        "  group_by(sex) %>%\n",
        "  summarise(mean_income = mean(income))\n",
        "\n",
        "sex_income"
      ],
      "metadata": {
        "colab": {
          "base_uri": "https://localhost:8080/",
          "height": 161
        },
        "id": "e4ClFKi6kj8q",
        "outputId": "073a583c-bbfa-43c2-df8e-3011cf601bc8"
      },
      "execution_count": null,
      "outputs": [
        {
          "output_type": "display_data",
          "data": {
            "text/html": [
              "<table class=\"dataframe\">\n",
              "<caption>A tibble: 2 × 2</caption>\n",
              "<thead>\n",
              "\t<tr><th scope=col>sex</th><th scope=col>mean_income</th></tr>\n",
              "\t<tr><th scope=col>&lt;chr&gt;</th><th scope=col>&lt;dbl&gt;</th></tr>\n",
              "</thead>\n",
              "<tbody>\n",
              "\t<tr><td>female</td><td>163.2471</td></tr>\n",
              "\t<tr><td>male  </td><td>312.2932</td></tr>\n",
              "</tbody>\n",
              "</table>\n"
            ],
            "text/markdown": "\nA tibble: 2 × 2\n\n| sex &lt;chr&gt; | mean_income &lt;dbl&gt; |\n|---|---|\n| female | 163.2471 |\n| male   | 312.2932 |\n\n",
            "text/latex": "A tibble: 2 × 2\n\\begin{tabular}{ll}\n sex & mean\\_income\\\\\n <chr> & <dbl>\\\\\n\\hline\n\t female & 163.2471\\\\\n\t male   & 312.2932\\\\\n\\end{tabular}\n",
            "text/plain": [
              "  sex    mean_income\n",
              "1 female 163.2471   \n",
              "2 male   312.2932   "
            ]
          },
          "metadata": {}
        }
      ]
    },
    {
      "cell_type": "markdown",
      "source": [
        "##### (2) 그래프 만들기"
      ],
      "metadata": {
        "id": "Px2oWlBckw7t"
      }
    },
    {
      "cell_type": "code",
      "source": [
        "ggplot(data = sex_income, aes(x = sex, y = mean_income)) + geom_col()"
      ],
      "metadata": {
        "colab": {
          "base_uri": "https://localhost:8080/",
          "height": 437
        },
        "id": "VuwOXUTGkeK1",
        "outputId": "ab1a7794-9f41-480f-9e4f-fa5f36cbd498"
      },
      "execution_count": null,
      "outputs": [
        {
          "output_type": "display_data",
          "data": {
            "text/plain": [
              "plot without title"
            ],
            "image/png": "[encoded data removed]"
          },
          "metadata": {
            "image/png": {
              "width": 420,
              "height": 420
            }
          }
        }
      ]
    },
    {
      "cell_type": "markdown",
      "source": [
        "## **3. 나이와 월급의 관계**"
      ],
      "metadata": {
        "id": "zok6CA3Wnd0t"
      }
    },
    {
      "cell_type": "markdown",
      "source": [
        "**[1단계] 문제 정의**\n",
        "\n",
        "\n",
        "*   사회초년생의 월급은 적고, 일정 나이 이상으로 올라가면 실직과 정년퇴임 등의 사유로 인해 월급 수준이 감소할 것으로 가정하였다.\n",
        "*   실제 나이에 따른 월급 평균의 변화와, 전체 데이터에서 평균 월급의 최소값이 어느 나이에 위치하고 있는지를 확인한다.\n",
        "\n",
        "\n"
      ],
      "metadata": {
        "id": "VYddmiRlp6Vw"
      }
    },
    {
      "cell_type": "markdown",
      "source": [
        "### 1) 변수 검토 및 전처리"
      ],
      "metadata": {
        "id": "t23oNJO3n1wq"
      }
    },
    {
      "cell_type": "markdown",
      "source": [
        "##### (1) 변수 검토"
      ],
      "metadata": {
        "id": "MbuiEwt3qdw2"
      }
    },
    {
      "cell_type": "code",
      "source": [
        "class(welfare$birth)"
      ],
      "metadata": {
        "colab": {
          "base_uri": "https://localhost:8080/",
          "height": 34
        },
        "id": "W8-UIYtCp2iW",
        "outputId": "5ef603bf-7b89-475b-9233-b2e19fce02a0"
      },
      "execution_count": null,
      "outputs": [
        {
          "output_type": "display_data",
          "data": {
            "text/html": [
              "'numeric'"
            ],
            "text/markdown": "'numeric'",
            "text/latex": "'numeric'",
            "text/plain": [
              "[1] \"numeric\""
            ]
          },
          "metadata": {}
        }
      ]
    },
    {
      "cell_type": "code",
      "source": [
        "summary(welfare$birth)      ## 생년으로 기록되어 있음."
      ],
      "metadata": {
        "colab": {
          "base_uri": "https://localhost:8080/",
          "height": 53
        },
        "id": "PJ8SQz3kqgtH",
        "outputId": "79f80e6f-681d-41d5-c2f4-f1db149dac00"
      },
      "execution_count": null,
      "outputs": [
        {
          "output_type": "display_data",
          "data": {
            "text/plain": [
              "   Min. 1st Qu.  Median    Mean 3rd Qu.    Max. \n",
              "   1907    1946    1966    1968    1988    2014 "
            ]
          },
          "metadata": {}
        }
      ]
    },
    {
      "cell_type": "code",
      "source": [
        "qplot(welfare$birth)"
      ],
      "metadata": {
        "colab": {
          "base_uri": "https://localhost:8080/",
          "height": 455
        },
        "id": "PzPwAI-yqiY5",
        "outputId": "5c6bcf27-47fa-4c6b-f689-8bedfcbf271b"
      },
      "execution_count": null,
      "outputs": [
        {
          "output_type": "stream",
          "name": "stderr",
          "text": [
            "\u001b[1m\u001b[22m`stat_bin()` using `bins = 30`. Pick better value with `binwidth`.\n"
          ]
        },
        {
          "output_type": "display_data",
          "data": {
            "text/plain": [
              "plot without title"
            ],
            "image/png": "[encoded data removed]"
          },
          "metadata": {
            "image/png": {
              "width": 420,
              "height": 420
            }
          }
        }
      ]
    },
    {
      "cell_type": "markdown",
      "source": [
        "##### (2) 전처리"
      ],
      "metadata": {
        "id": "XcvA09-cqzW8"
      }
    },
    {
      "cell_type": "code",
      "source": [
        "# 결측치 확인\n",
        "dim(welfare)                    ## 전체 행의 개수 확인\n",
        "table(is.na(welfare$birth))     ## FALSE인 행의 개수가 전체 행과 일치 -> 결측치 없음."
      ],
      "metadata": {
        "colab": {
          "base_uri": "https://localhost:8080/",
          "height": 88
        },
        "id": "R5kxgSKvqsfq",
        "outputId": "881e0f0a-b7c7-421c-f545-dd34ae63bb5e"
      },
      "execution_count": null,
      "outputs": [
        {
          "output_type": "display_data",
          "data": {
            "text/html": [
              "<style>\n",
              ".list-inline {list-style: none; margin:0; padding: 0}\n",
              ".list-inline>li {display: inline-block}\n",
              ".list-inline>li:not(:last-child)::after {content: \"\\00b7\"; padding: 0 .5ex}\n",
              "</style>\n",
              "<ol class=list-inline><li>16664</li><li>957</li></ol>\n"
            ],
            "text/markdown": "1. 16664\n2. 957\n\n\n",
            "text/latex": "\\begin{enumerate*}\n\\item 16664\n\\item 957\n\\end{enumerate*}\n",
            "text/plain": [
              "[1] 16664   957"
            ]
          },
          "metadata": {}
        },
        {
          "output_type": "display_data",
          "data": {
            "text/plain": [
              "\n",
              "FALSE \n",
              "16664 "
            ]
          },
          "metadata": {}
        }
      ]
    },
    {
      "cell_type": "markdown",
      "source": [
        "\n",
        "\n",
        "*   결측치는 없음.\n",
        "*   결측치 처리는 되어 있지 않으나, 이상치인 행이 있을 수 있으므로 결측치 처리 과정이 필요함.\n",
        "\n"
      ],
      "metadata": {
        "id": "paNVdIdhrf3d"
      }
    },
    {
      "cell_type": "code",
      "source": [
        "# 이상치 결측 처리\n",
        "welfare$birth <- ifelse(welfare$birth == 9999, NA, welfare$birth)\n",
        "table(is.na(welfare$birth))"
      ],
      "metadata": {
        "colab": {
          "base_uri": "https://localhost:8080/",
          "height": 71
        },
        "id": "xezur6hnq8Pq",
        "outputId": "08e2948a-fcee-4e9d-b1b4-521d9380641d"
      },
      "execution_count": null,
      "outputs": [
        {
          "output_type": "display_data",
          "data": {
            "text/plain": [
              "\n",
              "FALSE \n",
              "16664 "
            ]
          },
          "metadata": {}
        }
      ]
    },
    {
      "cell_type": "markdown",
      "source": [
        "\n",
        "\n",
        "*   이상치가 결측치로 처리된 행 없음.\n",
        "\n"
      ],
      "metadata": {
        "id": "-OIQOyxOr3Mq"
      }
    },
    {
      "cell_type": "markdown",
      "source": [
        "##### (3) 파생변수 만들기"
      ],
      "metadata": {
        "id": "P7dGP1Fzr8GA"
      }
    },
    {
      "cell_type": "code",
      "source": [
        "welfare$age <- 2015 - welfare$birth + 1\n",
        "summary(welfare$age)"
      ],
      "metadata": {
        "colab": {
          "base_uri": "https://localhost:8080/",
          "height": 53
        },
        "id": "vQr6uAu4rl60",
        "outputId": "59e44ef0-8d36-4cbb-8047-35da3b05b054"
      },
      "execution_count": null,
      "outputs": [
        {
          "output_type": "display_data",
          "data": {
            "text/plain": [
              "   Min. 1st Qu.  Median    Mean 3rd Qu.    Max. \n",
              "   2.00   28.00   50.00   48.43   70.00  109.00 "
            ]
          },
          "metadata": {}
        }
      ]
    },
    {
      "cell_type": "markdown",
      "source": [
        "\n",
        "\n",
        "*   해당 데이터가 2015년까지의 데이터이므로 2015년생을 1살로 설정했다.\n",
        "*   최신 연도인 2015년에서 출생연도를 제하고 1을  더하여 나이 변수로 만들었다.\n",
        "\n"
      ],
      "metadata": {
        "id": "i9ClK0eUsJtt"
      }
    },
    {
      "cell_type": "code",
      "source": [
        "qplot(welfare$age)"
      ],
      "metadata": {
        "colab": {
          "base_uri": "https://localhost:8080/",
          "height": 455
        },
        "id": "m8bQgAYwsk8u",
        "outputId": "419d1ccc-be4c-4c51-b187-5caef674774f"
      },
      "execution_count": null,
      "outputs": [
        {
          "output_type": "stream",
          "name": "stderr",
          "text": [
            "\u001b[1m\u001b[22m`stat_bin()` using `bins = 30`. Pick better value with `binwidth`.\n"
          ]
        },
        {
          "output_type": "display_data",
          "data": {
            "text/plain": [
              "plot without title"
            ],
            "image/png": "[encoded data removed]"
          },
          "metadata": {
            "image/png": {
              "width": 420,
              "height": 420
            }
          }
        }
      ]
    },
    {
      "cell_type": "markdown",
      "source": [
        "### 2) 나이와 월급의 관계 분석"
      ],
      "metadata": {
        "id": "fxL5eaxvs3Zd"
      }
    },
    {
      "cell_type": "markdown",
      "source": [
        "##### (1) 나이에 따른 월급 평균표 만들기"
      ],
      "metadata": {
        "id": "BhqxVj6Zs-ZP"
      }
    },
    {
      "cell_type": "code",
      "source": [
        "age_income <- welfare %>%\n",
        "  filter(!is.na(income)) %>%\n",
        "  group_by(age) %>%\n",
        "  summarise(mean_income = mean(income))\n",
        "\n",
        "head(age_income)\n",
        "summary(age_income)"
      ],
      "metadata": {
        "colab": {
          "base_uri": "https://localhost:8080/",
          "height": 411
        },
        "id": "0bpoH890sf2Z",
        "outputId": "9c6e0453-25dc-4146-e9c0-9220392ab579"
      },
      "execution_count": null,
      "outputs": [
        {
          "output_type": "display_data",
          "data": {
            "text/html": [
              "<table class=\"dataframe\">\n",
              "<caption>A tibble: 6 × 2</caption>\n",
              "<thead>\n",
              "\t<tr><th scope=col>age</th><th scope=col>mean_income</th></tr>\n",
              "\t<tr><th scope=col>&lt;dbl&gt;</th><th scope=col>&lt;dbl&gt;</th></tr>\n",
              "</thead>\n",
              "<tbody>\n",
              "\t<tr><td>20</td><td>121.3000</td></tr>\n",
              "\t<tr><td>21</td><td>105.5185</td></tr>\n",
              "\t<tr><td>22</td><td>130.0923</td></tr>\n",
              "\t<tr><td>23</td><td>141.7157</td></tr>\n",
              "\t<tr><td>24</td><td>134.0877</td></tr>\n",
              "\t<tr><td>25</td><td>144.6559</td></tr>\n",
              "</tbody>\n",
              "</table>\n"
            ],
            "text/markdown": "\nA tibble: 6 × 2\n\n| age &lt;dbl&gt; | mean_income &lt;dbl&gt; |\n|---|---|\n| 20 | 121.3000 |\n| 21 | 105.5185 |\n| 22 | 130.0923 |\n| 23 | 141.7157 |\n| 24 | 134.0877 |\n| 25 | 144.6559 |\n\n",
            "text/latex": "A tibble: 6 × 2\n\\begin{tabular}{ll}\n age & mean\\_income\\\\\n <dbl> & <dbl>\\\\\n\\hline\n\t 20 & 121.3000\\\\\n\t 21 & 105.5185\\\\\n\t 22 & 130.0923\\\\\n\t 23 & 141.7157\\\\\n\t 24 & 134.0877\\\\\n\t 25 & 144.6559\\\\\n\\end{tabular}\n",
            "text/plain": [
              "  age mean_income\n",
              "1 20  121.3000   \n",
              "2 21  105.5185   \n",
              "3 22  130.0923   \n",
              "4 23  141.7157   \n",
              "5 24  134.0877   \n",
              "6 25  144.6559   "
            ]
          },
          "metadata": {}
        },
        {
          "output_type": "display_data",
          "data": {
            "text/plain": [
              "      age         mean_income    \n",
              " Min.   :20.00   Min.   : 15.00  \n",
              " 1st Qu.:37.00   1st Qu.: 98.05  \n",
              " Median :54.00   Median :188.25  \n",
              " Mean   :54.04   Mean   :177.25  \n",
              " 3rd Qu.:71.00   3rd Qu.:284.87  \n",
              " Max.   :89.00   Max.   :318.68  "
            ]
          },
          "metadata": {}
        }
      ]
    },
    {
      "cell_type": "markdown",
      "source": [
        "\n",
        "\n",
        "*   나이 데이터의 최소값은 20세, 최대값은 89세이다. 성인 연령인 20세 부터의 데이터가 있는 것을 알 수 있다.\n",
        "*   월급 데이터의 최소값은 15만원, 최대값은 약 318만원이다.\n",
        "\n"
      ],
      "metadata": {
        "id": "YUXfK1n-uBmm"
      }
    },
    {
      "cell_type": "code",
      "source": [
        "ggplot(data = age_income, aes(x = age, y = mean_income)) + geom_line()"
      ],
      "metadata": {
        "colab": {
          "base_uri": "https://localhost:8080/",
          "height": 437
        },
        "id": "w4oNt9n9tLwq",
        "outputId": "e7ddacdc-89ef-4c17-9343-58247d1350a9"
      },
      "execution_count": null,
      "outputs": [
        {
          "output_type": "display_data",
          "data": {
            "text/plain": [
              "plot without title"
            ],
            "image/png": "[encoded data removed]"
          },
          "metadata": {
            "image/png": {
              "width": 420,
              "height": 420
            }
          }
        }
      ]
    },
    {
      "cell_type": "markdown",
      "source": [
        "\n",
        "\n",
        "*   'age'를 x축으로, 나이에 따른 월급 평균인 'mean_income'을 y축으로 하여 그래프를 생성하였다.\n",
        "*   그래프 추이를 볼 때, '20세 ~ 50세 전후'로는 월급이 우상향 그래프를 그리며 대체적으로 상승하는 것을 볼 수 있다. 그 이후로는 하강세를 보이다, '60세 이후'로 월급 평균이 유의미하게 감소한다.\n",
        "*   이는 대한민국 현행 법정 정년 나이인 60세를 기점으로 퇴임하는 인구수가 많아져 실질적으로 평균 수치가 떨어지는 것으로 볼 수 있다.\n",
        "\n"
      ],
      "metadata": {
        "id": "7VMb6Otwt56n"
      }
    },
    {
      "cell_type": "markdown",
      "source": [
        "## **4. 연령대에 따른 월급 차이**"
      ],
      "metadata": {
        "id": "6KNUZRzCwZZO"
      }
    },
    {
      "cell_type": "markdown",
      "source": [
        "**[1단계] 문제 정의**\n",
        "- 경력이 낮은 초년층의 월급은 중년층에 비해 적고, 경력이 있는 중년층의 월급은 가장 높으며, 은퇴의 이유로 노년층은 월급이 가장 낮다고 가정.\n",
        "-데이터 분석을 통해 연령대에 따른 월급 차이가 있는지 확인"
      ],
      "metadata": {
        "id": "rSRpLx6zq8YL"
      }
    },
    {
      "cell_type": "markdown",
      "source": [
        "**[2단계] 변수 검토 및 전처리**"
      ],
      "metadata": {
        "id": "k1oR46ITvojP"
      }
    },
    {
      "cell_type": "markdown",
      "source": [
        "### 1) 연령대 변수 검토, 전처리"
      ],
      "metadata": {
        "id": "HJ03827zwd3S"
      }
    },
    {
      "cell_type": "markdown",
      "source": [
        "(1) 변수 검토"
      ],
      "metadata": {
        "id": "FwusjlN2v8Zh"
      }
    },
    {
      "cell_type": "code",
      "source": [
        "welfare <- welfare %>%\n",
        "  mutate(ageg = ifelse(age < 30, \"young\",\n",
        "                        ifelse(age <= 59, \"middle\", \"old\")))\n",
        "table(welfare$ageg)"
      ],
      "metadata": {
        "colab": {
          "base_uri": "https://localhost:8080/",
          "height": 71
        },
        "id": "2QriuOR0tdJF",
        "outputId": "dec7b1bf-b0f8-4045-88d1-2b016f571c2b"
      },
      "execution_count": null,
      "outputs": [
        {
          "output_type": "display_data",
          "data": {
            "text/plain": [
              "\n",
              "middle    old  young \n",
              "  6049   6281   4334 "
            ]
          },
          "metadata": {}
        }
      ]
    },
    {
      "cell_type": "markdown",
      "source": [
        "\n",
        "\n",
        "*   30세 이하: young\n",
        "*   31세~59세: middle\n",
        "*   60세 이상: old\n",
        "\n"
      ],
      "metadata": {
        "id": "cvQJMbR3wwVp"
      }
    },
    {
      "cell_type": "code",
      "source": [
        "qplot(welfare$ageg)"
      ],
      "metadata": {
        "colab": {
          "base_uri": "https://localhost:8080/",
          "height": 437
        },
        "id": "bmpQiMrnwsfo",
        "outputId": "502d91d3-ec0d-42c4-dcb9-0ceb2d149c24"
      },
      "execution_count": null,
      "outputs": [
        {
          "output_type": "display_data",
          "data": {
            "text/plain": [
              "plot without title"
            ],
            "image/png": "[encoded data removed]"
          },
          "metadata": {
            "image/png": {
              "width": 420,
              "height": 420
            }
          }
        }
      ]
    },
    {
      "cell_type": "markdown",
      "source": [
        "**[3단계] 데이터 분석**"
      ],
      "metadata": {
        "id": "UgxvicCKTiOU"
      }
    },
    {
      "cell_type": "markdown",
      "source": [
        "### 2) 연령대에 따른 월급 차이 분석"
      ],
      "metadata": {
        "id": "6tcrwDsbw8FL"
      }
    },
    {
      "cell_type": "markdown",
      "source": [
        "##### (1) 연령대별 월급 평균표"
      ],
      "metadata": {
        "id": "uUddaiJtw99p"
      }
    },
    {
      "cell_type": "code",
      "source": [
        "ageg_income <- welfare %>%\n",
        "  filter(!is.na(income)) %>%\n",
        "  group_by(ageg) %>%\n",
        "  summarise(mean_income = mean(income))\n",
        "\n",
        "ageg_income"
      ],
      "metadata": {
        "colab": {
          "base_uri": "https://localhost:8080/",
          "height": 192
        },
        "id": "YxnHtLiuw5mB",
        "outputId": "ee39229f-05b9-4e48-b543-dd462e3ad070"
      },
      "execution_count": null,
      "outputs": [
        {
          "output_type": "display_data",
          "data": {
            "text/html": [
              "<table class=\"dataframe\">\n",
              "<caption>A tibble: 3 × 2</caption>\n",
              "<thead>\n",
              "\t<tr><th scope=col>ageg</th><th scope=col>mean_income</th></tr>\n",
              "\t<tr><th scope=col>&lt;chr&gt;</th><th scope=col>&lt;dbl&gt;</th></tr>\n",
              "</thead>\n",
              "<tbody>\n",
              "\t<tr><td>middle</td><td>281.8871</td></tr>\n",
              "\t<tr><td>old   </td><td>125.3295</td></tr>\n",
              "\t<tr><td>young </td><td>163.5953</td></tr>\n",
              "</tbody>\n",
              "</table>\n"
            ],
            "text/markdown": "\nA tibble: 3 × 2\n\n| ageg &lt;chr&gt; | mean_income &lt;dbl&gt; |\n|---|---|\n| middle | 281.8871 |\n| old    | 125.3295 |\n| young  | 163.5953 |\n\n",
            "text/latex": "A tibble: 3 × 2\n\\begin{tabular}{ll}\n ageg & mean\\_income\\\\\n <chr> & <dbl>\\\\\n\\hline\n\t middle & 281.8871\\\\\n\t old    & 125.3295\\\\\n\t young  & 163.5953\\\\\n\\end{tabular}\n",
            "text/plain": [
              "  ageg   mean_income\n",
              "1 middle 281.8871   \n",
              "2 old    125.3295   \n",
              "3 young  163.5953   "
            ]
          },
          "metadata": {}
        }
      ]
    },
    {
      "cell_type": "markdown",
      "source": [
        "##### (2) 그래프 만들기"
      ],
      "metadata": {
        "id": "9D0W_ZDZxLVC"
      }
    },
    {
      "cell_type": "code",
      "source": [
        "ggplot(data = ageg_income, aes(x = ageg, y = mean_income)) + geom_col()"
      ],
      "metadata": {
        "colab": {
          "base_uri": "https://localhost:8080/",
          "height": 437
        },
        "id": "_126BCQnxHCS",
        "outputId": "44030df9-998a-4d97-81e0-3f7ea524adf0"
      },
      "execution_count": null,
      "outputs": [
        {
          "output_type": "display_data",
          "data": {
            "text/plain": [
              "plot without title"
            ],
            "image/png": "[encoded data removed]"
          },
          "metadata": {
            "image/png": {
              "width": 420,
              "height": 420
            }
          }
        }
      ]
    },
    {
      "cell_type": "markdown",
      "source": [
        "**[4단계] 시각화**"
      ],
      "metadata": {
        "id": "T-yBSGdBUGHz"
      }
    },
    {
      "cell_type": "markdown",
      "source": [
        "##### (3) 막대 정렬: young-middle-old 순서"
      ],
      "metadata": {
        "id": "k_6rE9BTxa-T"
      }
    },
    {
      "cell_type": "code",
      "source": [
        "ggplot(data = ageg_income, aes(x = ageg, y = mean_income)) +\n",
        "  geom_col() +\n",
        "  scale_x_discrete(limits = c(\"young\", \"middle\", \"old\"))"
      ],
      "metadata": {
        "colab": {
          "base_uri": "https://localhost:8080/",
          "height": 437
        },
        "id": "AmKo4JT5xTL1",
        "outputId": "a2b55e1a-c858-4cf3-b2ac-61d610c9c1d3"
      },
      "execution_count": null,
      "outputs": [
        {
          "output_type": "display_data",
          "data": {
            "text/plain": [
              "plot without title"
            ],
            "image/png": "[encoded data removed]"
          },
          "metadata": {
            "image/png": {
              "width": 420,
              "height": 420
            }
          }
        }
      ]
    },
    {
      "cell_type": "markdown",
      "source": [
        "**[5단계] 결론**"
      ],
      "metadata": {
        "id": "QVyR8wFOURvq"
      }
    },
    {
      "cell_type": "markdown",
      "source": [
        "- 'ageg'를 x축으로, 'mean_income'을 y축으로 하여 그래프를 생성하였다.\n",
        "- 그래프의 추이로 볼 때, 중년층의 월급이 250만원 이상으로 가장 높으며, 노년층은 150만원 이하로 가장 낮다. 더해서 초년층은 150만원 이상으로 중간에 위치한다.\n",
        "- **사회에 진출한 경력이 높은 중년층의 월급이 가장 높고, 사회초년생인 초년층의 월급은 그보다 낮으며, 은퇴한 노년층의 월급이 가장 낮게 나타난다고 볼 수 있다.**"
      ],
      "metadata": {
        "id": "PO0dvKmzxZlr"
      }
    },
    {
      "cell_type": "markdown",
      "source": [
        "## **5. 연령대 및 성별 월급 차이**"
      ],
      "metadata": {
        "id": "6vGrMz7r-A9n"
      }
    },
    {
      "cell_type": "markdown",
      "source": [
        "**[1단계] 문제 정의**\n",
        "- 앞서 확인된 성별, 세대별 임금격차에 기반하여 평균임금이 상대적으로 낮은 초년층, 노년층의 성별 임금격차는 적고 중년층의 성별 임금격차는 높을 것으로 가정한다.\n",
        "- 각각 초년, 중년, 노년 세대의 성별에 따른 임금격차를 확인한다."
      ],
      "metadata": {
        "id": "B-VmWJ5T-T3P"
      }
    },
    {
      "cell_type": "markdown",
      "source": [
        "**[2단계] 변수 검토 및 전처리**\n"
      ],
      "metadata": {
        "id": "q_6s7Br4-jF4"
      }
    },
    {
      "cell_type": "markdown",
      "source": [
        "### 1) 연령대 및 성별 월급 차이 분석하기"
      ],
      "metadata": {
        "id": "Fn9Y83ds-_Vi"
      }
    },
    {
      "cell_type": "markdown",
      "source": [
        "(1) 연령대 및 성별 월급 평균표 만들기"
      ],
      "metadata": {
        "id": "iCjD3C03_rf-"
      }
    },
    {
      "cell_type": "code",
      "source": [
        "sex_income <- welfare %>%\n",
        "  filter(!is.na(income)) %>%\n",
        "  group_by(ageg, sex) %>%\n",
        "  summarise(mean_income = mean(income))\n",
        "\n",
        "sex_income"
      ],
      "metadata": {
        "id": "_dmjzigqxrgh",
        "colab": {
          "base_uri": "https://localhost:8080/",
          "height": 322
        },
        "outputId": "b227f8c8-18bc-4b47-ff60-14816508c703"
      },
      "execution_count": null,
      "outputs": [
        {
          "output_type": "stream",
          "name": "stderr",
          "text": [
            "\u001b[1m\u001b[22m`summarise()` has grouped output by 'ageg'. You can override using the\n",
            "`.groups` argument.\n"
          ]
        },
        {
          "output_type": "display_data",
          "data": {
            "text/html": [
              "<table class=\"dataframe\">\n",
              "<caption>A grouped_df: 6 × 3</caption>\n",
              "<thead>\n",
              "\t<tr><th scope=col>ageg</th><th scope=col>sex</th><th scope=col>mean_income</th></tr>\n",
              "\t<tr><th scope=col>&lt;chr&gt;</th><th scope=col>&lt;chr&gt;</th><th scope=col>&lt;dbl&gt;</th></tr>\n",
              "</thead>\n",
              "<tbody>\n",
              "\t<tr><td>middle</td><td>female</td><td>187.97552</td></tr>\n",
              "\t<tr><td>middle</td><td>male  </td><td>353.07574</td></tr>\n",
              "\t<tr><td>old   </td><td>female</td><td> 81.52917</td></tr>\n",
              "\t<tr><td>old   </td><td>male  </td><td>173.85558</td></tr>\n",
              "\t<tr><td>young </td><td>female</td><td>159.50518</td></tr>\n",
              "\t<tr><td>young </td><td>male  </td><td>170.81737</td></tr>\n",
              "</tbody>\n",
              "</table>\n"
            ],
            "text/markdown": "\nA grouped_df: 6 × 3\n\n| ageg &lt;chr&gt; | sex &lt;chr&gt; | mean_income &lt;dbl&gt; |\n|---|---|---|\n| middle | female | 187.97552 |\n| middle | male   | 353.07574 |\n| old    | female |  81.52917 |\n| old    | male   | 173.85558 |\n| young  | female | 159.50518 |\n| young  | male   | 170.81737 |\n\n",
            "text/latex": "A grouped\\_df: 6 × 3\n\\begin{tabular}{lll}\n ageg & sex & mean\\_income\\\\\n <chr> & <chr> & <dbl>\\\\\n\\hline\n\t middle & female & 187.97552\\\\\n\t middle & male   & 353.07574\\\\\n\t old    & female &  81.52917\\\\\n\t old    & male   & 173.85558\\\\\n\t young  & female & 159.50518\\\\\n\t young  & male   & 170.81737\\\\\n\\end{tabular}\n",
            "text/plain": [
              "  ageg   sex    mean_income\n",
              "1 middle female 187.97552  \n",
              "2 middle male   353.07574  \n",
              "3 old    female  81.52917  \n",
              "4 old    male   173.85558  \n",
              "5 young  female 159.50518  \n",
              "6 young  male   170.81737  "
            ]
          },
          "metadata": {}
        }
      ]
    },
    {
      "cell_type": "markdown",
      "source": [
        "(2) 그래프 만들기"
      ],
      "metadata": {
        "id": "-5Ob4EI2_wuI"
      }
    },
    {
      "cell_type": "code",
      "source": [
        "ggplot(data = sex_income, aes(x = ageg, y = mean_income, fill = sex)) + geom_col() + scale_x_discrete(limits = c(\"young\", \"middle\", \"old\"))"
      ],
      "metadata": {
        "colab": {
          "base_uri": "https://localhost:8080/",
          "height": 437
        },
        "id": "dgJE0bJC6AJn",
        "outputId": "e8442904-c246-41db-f3a7-419bae6d3992"
      },
      "execution_count": null,
      "outputs": [
        {
          "output_type": "display_data",
          "data": {
            "text/plain": [
              "plot without title"
            ],
            "image/png": "[encoded data removed]"
          },
          "metadata": {
            "image/png": {
              "width": 420,
              "height": 420
            }
          }
        }
      ]
    },
    {
      "cell_type": "markdown",
      "source": [
        "(3) 성별 막대 분리"
      ],
      "metadata": {
        "id": "HhsJnSbh_HOD"
      }
    },
    {
      "cell_type": "code",
      "source": [
        "ggplot(data = sex_income, aes(x = ageg, y = mean_income, fill = sex)) + geom_col(position = \"dodge\") + scale_x_discrete(limits = c(\"young\", \"middle\", \"old\"))"
      ],
      "metadata": {
        "colab": {
          "base_uri": "https://localhost:8080/",
          "height": 437
        },
        "id": "3H36ei6d-rOu",
        "outputId": "0c06e0bf-2ce3-4bc5-f49f-02de8916f16c"
      },
      "execution_count": null,
      "outputs": [
        {
          "output_type": "display_data",
          "data": {
            "text/plain": [
              "plot without title"
            ],
            "image/png": "[encoded data removed]"
          },
          "metadata": {
            "image/png": {
              "width": 420,
              "height": 420
            }
          }
        }
      ]
    },
    {
      "cell_type": "markdown",
      "source": [
        "**[3단계] 데이터 분석**"
      ],
      "metadata": {
        "id": "LqLgc4BfT1pq"
      }
    },
    {
      "cell_type": "markdown",
      "source": [
        "### 2) 나이 및 성별 월급 차이 분석하기"
      ],
      "metadata": {
        "id": "5RI7zR4d_3cs"
      }
    },
    {
      "cell_type": "markdown",
      "source": [
        "(1) 성별 연령별 월급 평균표 만들기"
      ],
      "metadata": {
        "id": "95q9QlQc_7f5"
      }
    },
    {
      "cell_type": "code",
      "source": [
        "sex_age <- welfare %>%\n",
        "  filter(!is.na(income)) %>%\n",
        "  group_by(age,sex) %>%\n",
        "  summarise(mean_income = mean(income))"
      ],
      "metadata": {
        "colab": {
          "base_uri": "https://localhost:8080/"
        },
        "id": "m36Nv4iQ-ssg",
        "outputId": "82187f76-f704-4de3-b1be-04e75ab9824e"
      },
      "execution_count": null,
      "outputs": [
        {
          "output_type": "stream",
          "name": "stderr",
          "text": [
            "\u001b[1m\u001b[22m`summarise()` has grouped output by 'age'. You can override using the `.groups`\n",
            "argument.\n"
          ]
        }
      ]
    },
    {
      "cell_type": "code",
      "source": [
        "head(sex_age)"
      ],
      "metadata": {
        "colab": {
          "base_uri": "https://localhost:8080/",
          "height": 286
        },
        "id": "bfdX-sTt-vYR",
        "outputId": "728d82cf-0a45-4c19-e3a1-16e6362913ed"
      },
      "execution_count": null,
      "outputs": [
        {
          "output_type": "display_data",
          "data": {
            "text/html": [
              "<table class=\"dataframe\">\n",
              "<caption>A grouped_df: 6 × 3</caption>\n",
              "<thead>\n",
              "\t<tr><th scope=col>age</th><th scope=col>sex</th><th scope=col>mean_income</th></tr>\n",
              "\t<tr><th scope=col>&lt;dbl&gt;</th><th scope=col>&lt;chr&gt;</th><th scope=col>&lt;dbl&gt;</th></tr>\n",
              "</thead>\n",
              "<tbody>\n",
              "\t<tr><td>20</td><td>female</td><td>147.4500</td></tr>\n",
              "\t<tr><td>20</td><td>male  </td><td> 69.0000</td></tr>\n",
              "\t<tr><td>21</td><td>female</td><td>106.9789</td></tr>\n",
              "\t<tr><td>21</td><td>male  </td><td>102.0500</td></tr>\n",
              "\t<tr><td>22</td><td>female</td><td>139.8547</td></tr>\n",
              "\t<tr><td>22</td><td>male  </td><td>118.2379</td></tr>\n",
              "</tbody>\n",
              "</table>\n"
            ],
            "text/markdown": "\nA grouped_df: 6 × 3\n\n| age &lt;dbl&gt; | sex &lt;chr&gt; | mean_income &lt;dbl&gt; |\n|---|---|---|\n| 20 | female | 147.4500 |\n| 20 | male   |  69.0000 |\n| 21 | female | 106.9789 |\n| 21 | male   | 102.0500 |\n| 22 | female | 139.8547 |\n| 22 | male   | 118.2379 |\n\n",
            "text/latex": "A grouped\\_df: 6 × 3\n\\begin{tabular}{lll}\n age & sex & mean\\_income\\\\\n <dbl> & <chr> & <dbl>\\\\\n\\hline\n\t 20 & female & 147.4500\\\\\n\t 20 & male   &  69.0000\\\\\n\t 21 & female & 106.9789\\\\\n\t 21 & male   & 102.0500\\\\\n\t 22 & female & 139.8547\\\\\n\t 22 & male   & 118.2379\\\\\n\\end{tabular}\n",
            "text/plain": [
              "  age sex    mean_income\n",
              "1 20  female 147.4500   \n",
              "2 20  male    69.0000   \n",
              "3 21  female 106.9789   \n",
              "4 21  male   102.0500   \n",
              "5 22  female 139.8547   \n",
              "6 22  male   118.2379   "
            ]
          },
          "metadata": {}
        }
      ]
    },
    {
      "cell_type": "markdown",
      "source": [
        "**[4단계] 시각화**"
      ],
      "metadata": {
        "id": "5csw9FQeUB8B"
      }
    },
    {
      "cell_type": "markdown",
      "source": [
        "(2) 그래프 만들기"
      ],
      "metadata": {
        "id": "Uf8WRlxFABbV"
      }
    },
    {
      "cell_type": "code",
      "source": [
        "ggplot(data = sex_age, aes(x = age, y = mean_income, col = sex)) + geom_line()"
      ],
      "metadata": {
        "colab": {
          "base_uri": "https://localhost:8080/",
          "height": 437
        },
        "id": "PXEb2U_q-xY_",
        "outputId": "c9d60cfd-56b9-4b23-d890-270cff4bc6f0"
      },
      "execution_count": null,
      "outputs": [
        {
          "output_type": "display_data",
          "data": {
            "text/plain": [
              "plot without title"
            ],
            "image/png": "[encoded data removed]"
          },
          "metadata": {
            "image/png": {
              "width": 420,
              "height": 420
            }
          }
        }
      ]
    },
    {
      "cell_type": "markdown",
      "source": [
        "**[5단계] 결론**"
      ],
      "metadata": {
        "id": "hF80dPMEUNAM"
      }
    },
    {
      "cell_type": "markdown",
      "source": [
        "- 'age'는 x축으로, 'mean_income'을 y축으로 하여 그래프를 생성하였다.\n",
        "- 그래프의 추이를 볼 때, '20대'는 성별 월급의 차이가 거의 없음을 알 수 있다. 반면 '30대 ~60대'는 성별 월급의 차이가 높고, '50대'에는 2배이상 차이가 존재한다. '60대 이후'에는 서서히 차이가 좁혀지면서, 80대에 비슷해짐을 볼 수 있다.\n",
        "- 여성의 급여는 20대 부터 60대 까지 비슷한 정도를 유지하고, 남성의 급여는 20대부터 50대까지 우상향하며 60대부터 점점 하향한다. 여성, 남성 모두 80대에는 월급이 비슷하게 매우 낮아진다.\n",
        "- **30대에서 70대까지 여성과 남성의 급여차이가 존재하며, 50대에 가장 크다. 또한 여성의 급여는 나이에 따른 상승폭이 완만하며, 남성의 급여는 나이가 많아짐에 따라 우상향함을 알 수 있다.**"
      ],
      "metadata": {
        "id": "q1g2ykhoAKqF"
      }
    },
    {
      "cell_type": "markdown",
      "source": [
        "## **6. 직업별 월급 차이**"
      ],
      "metadata": {
        "id": "poAYEDMbvTy-"
      }
    },
    {
      "cell_type": "markdown",
      "source": [
        "**[1단계] 문제 정의**\n",
        "-  직군에 따른 월급의 편차 수준을 알아본다.\n",
        "-  사회적으로 '고학력 직업'으로 인식되는 직업과 그렇지 않은 직업의 월급 차이를 살펴본다.\n",
        "-  월급의 차이가 경제적인 불평등을 야기하는 원인이 되는지 여부를 판단한다."
      ],
      "metadata": {
        "id": "y2F-TasJNJA9"
      }
    },
    {
      "cell_type": "markdown",
      "source": [
        "**[2단계] 변수 검토 및 전처리**"
      ],
      "metadata": {
        "id": "QQQulo6ZNW-J"
      }
    },
    {
      "cell_type": "markdown",
      "source": [
        "(1) 변수 검토하기"
      ],
      "metadata": {
        "id": "E0TAtjGbNa7C"
      }
    },
    {
      "cell_type": "code",
      "source": [
        "class(welfare$code_job)\n",
        "table(welfare$code_job)"
      ],
      "metadata": {
        "colab": {
          "base_uri": "https://localhost:8080/",
          "height": 74
        },
        "id": "ZKZNu8h7NYBM",
        "outputId": "b192a85c-3a6c-466e-c864-7227d255a7e0"
      },
      "execution_count": null,
      "outputs": [
        {
          "output_type": "error",
          "ename": "ERROR",
          "evalue": "Error in eval(expr, envir, enclos): object 'welfare' not found\n",
          "traceback": [
            "Error in eval(expr, envir, enclos): object 'welfare' not found\nTraceback:\n"
          ]
        }
      ]
    },
    {
      "cell_type": "markdown",
      "source": [
        "(2) 전처리"
      ],
      "metadata": {
        "id": "loHXE9gFNguR"
      }
    },
    {
      "cell_type": "code",
      "source": [
        "# 직업분류코드 목록 불러오기\n",
        "library(readxl)\n",
        "list_job <- read.csv(\"Koweps_Codebook_2019.csv\")\n",
        "head(list_job)\n",
        "dim(list_job)\n",
        "\n",
        "# welfare에 직업명 결합\n",
        "welfare <- left_join(welfare, list_job, by = \"code_job\")\n",
        "\n",
        "welfare %>%\n",
        "  filter(!is.na(code_job)) %>%\n",
        "  select(code_job, job) %>%\n",
        "  head(10)"
      ],
      "metadata": {
        "id": "QcxDIL9rNZx9"
      },
      "execution_count": null,
      "outputs": []
    },
    {
      "cell_type": "markdown",
      "source": [
        "**[3단계] 데이터 분석**"
      ],
      "metadata": {
        "id": "2TUbMAKmNqT5"
      }
    },
    {
      "cell_type": "markdown",
      "source": [
        "(1) 직업별 월급 평균표 만들기"
      ],
      "metadata": {
        "id": "ON7IkTWNNu8v"
      }
    },
    {
      "cell_type": "code",
      "source": [
        "job_income <- welfare %>%\n",
        "  filter(!is.na(job) & !is.na(income)) %>%\n",
        "  group_by(job) %>%\n",
        "  summarise(mean_income = mean(income))\n",
        "\n",
        "head(job_income)"
      ],
      "metadata": {
        "id": "BBSVXYHiNtyz"
      },
      "execution_count": null,
      "outputs": []
    },
    {
      "cell_type": "markdown",
      "source": [
        "(2) 상위 10개 추출"
      ],
      "metadata": {
        "id": "bWsOn_WyN1gX"
      }
    },
    {
      "cell_type": "code",
      "source": [
        "top10 <- job_income %>%\n",
        "  arrange(desc(mean_income)) %>%\n",
        "  head(10)"
      ],
      "metadata": {
        "colab": {
          "base_uri": "https://localhost:8080/",
          "height": 74
        },
        "id": "qqSOpaIWN0uU",
        "outputId": "89ffd93e-cb6e-4f1d-d85b-42c75e880c16"
      },
      "execution_count": null,
      "outputs": [
        {
          "output_type": "error",
          "ename": "ERROR",
          "evalue": "Error in job_income %>% arrange(desc(mean_income)) %>% head(10): could not find function \"%>%\"\n",
          "traceback": [
            "Error in job_income %>% arrange(desc(mean_income)) %>% head(10): could not find function \"%>%\"\nTraceback:\n"
          ]
        }
      ]
    },
    {
      "cell_type": "markdown",
      "source": [
        "**[4단계] 시각화**"
      ],
      "metadata": {
        "id": "lTHyUxzGOAZ2"
      }
    },
    {
      "cell_type": "code",
      "source": [
        "ggplot(data = top10, aes(x = reorder(job, mean_income), y = mean_income)) +\n",
        "  geom_col() +\n",
        "  coord_flip()\n",
        "    # 하위 10위 추출\n",
        "bottom10 <- job_income %>%\n",
        "  arrange(mean_income) %>%\n",
        "  head(10)\n",
        "\n",
        "bottom10\n",
        "\n",
        "ggplot(data = bottom10, aes(x = reorder(job, -mean_income),\n",
        "                            y = mean_income)) +\n",
        "  geom_col() +\n",
        "  coord_flip() +\n",
        "  ylim(0, 850)"
      ],
      "metadata": {
        "id": "Hc7R4IFsN4UH"
      },
      "execution_count": null,
      "outputs": []
    },
    {
      "cell_type": "markdown",
      "source": [
        "**[5단계] 결론**"
      ],
      "metadata": {
        "id": "QqE4yZV-OE1J"
      }
    },
    {
      "cell_type": "markdown",
      "source": [
        "- 월급 수준이 가장 높은 직업은 약 850만원, 가장 낮은 직업은 약 110만원으로 직업에 따른 월급 편차가 매우 큰 것을 알 수 있다.\n",
        "- 월급 수준 상위 10위의 직업들은 대체로 전문 지식과 기술을 필요로 하는 직업이며 경영, 경제 관련 직업과 정계 직업, 공학 관련 직업이 주를 이루고 있다.\n",
        "- 반면 월급 수준 하위 10위의 직업들은 필수 노동직 및 서비스직이 주를 이루고 있다.\n",
        "- 같은 의학계 내에서도 직업에 따른 차이를 볼 수 있다. 의료 진료 전문가의 경우에는 전체에서 월급 수준의 상위 2위를 차지한 직업인 반면, 약사 및 한약사는 하위 6위를 차지한 직업으로 같은 업계 내에서도 큰 편차가 있음을 확인할 수 있다.\n"
      ],
      "metadata": {
        "id": "NhadqGOiOKVe"
      }
    },
    {
      "cell_type": "markdown",
      "source": [
        "## **7. 성별 직업 빈도**"
      ],
      "metadata": {
        "id": "biIivEHuOWx_"
      }
    },
    {
      "cell_type": "markdown",
      "source": [
        "**[1단계] 문제 정의**\n",
        "- 성별에 따른 선호 직업이 있는지 여부를 알아본다.\n",
        "- 성별 고정관념이 직업 선택에 영향을 미치는지 확인한다."
      ],
      "metadata": {
        "id": "_kI9hhkeOdUu"
      }
    },
    {
      "cell_type": "markdown",
      "source": [
        "**[2단계] 변수 검토 및 전처리**\n",
        "- 앞선 데이터 분석 과정에서 전처리가 되어 있으므로 해당 단계에서는 생략한다."
      ],
      "metadata": {
        "id": "6JxZNmowOhvv"
      }
    },
    {
      "cell_type": "markdown",
      "source": [
        "**[3단계] 데이터 분석**"
      ],
      "metadata": {
        "id": "45Gwg30MOqDa"
      }
    },
    {
      "cell_type": "markdown",
      "source": [
        "(1) 성별 직업 빈도표 만들기"
      ],
      "metadata": {
        "id": "5rp7mcmGOtgE"
      }
    },
    {
      "cell_type": "code",
      "source": [
        "# 남성 직업 빈도 상위 10개 추출\n",
        "job_male <- welfare %>%\n",
        "  filter(!is.na(job) & sex == \"male\") %>%\n",
        "  group_by(job) %>%\n",
        "  summarize(n = n()) %>%\n",
        "  arrange(desc(n)) %>%\n",
        "  head(10)\n",
        "\n",
        "job_male\n",
        "\n",
        "# 여성 직업 빈도 상위 10개 추출\n",
        "job_female <- welfare %>%\n",
        "  filter(!is.na(job) & sex == \"female\") %>%\n",
        "  group_by(job) %>%\n",
        "  summarize(n = n()) %>%\n",
        "  arrange(desc(n)) %>%\n",
        "  head(10)"
      ],
      "metadata": {
        "id": "xkCNQQO3OIK7"
      },
      "execution_count": null,
      "outputs": []
    },
    {
      "cell_type": "markdown",
      "source": [
        "**[4단계] 시각화**"
      ],
      "metadata": {
        "id": "lIRCKsHKOy6C"
      }
    },
    {
      "cell_type": "code",
      "source": [
        "# 남성 직업 빈도 상위 10개 직업 시각화\n",
        "ggplot(data = job_male, aes(x = reorder(job, n), y = n)) +\n",
        "  geom_col() +\n",
        "  coord_flip()\n",
        "\n",
        "# 여성 직업 빈도 상위 10개 직업 시각화\n",
        "ggplot(data = job_female, aes(x = reorder(job,n), y = n)) +\n",
        "  geom_col() +\n",
        "  coord_flip()"
      ],
      "metadata": {
        "id": "qj7BFZpNO2qD"
      },
      "execution_count": null,
      "outputs": []
    },
    {
      "cell_type": "markdown",
      "source": [
        "**[5단계] 결론**"
      ],
      "metadata": {
        "id": "HASHolAaO-Jq"
      }
    },
    {
      "cell_type": "markdown",
      "source": [
        "- 남성 직업 빈도와 여성 직업 빈도 그래프에 따르면, 1위는 '작물 재배 종사자'로 동일한 것을 알 수 있다.\n",
        "- 성별에 따른 차이는 2위 직업부터 볼 수 있는데, 상위 10위에는 겹치는 직업도 있었기 때문에 그렇지 않은 직업들을 보는 것이 차이를 보기에 적합하다고 판단하였다.\n",
        "- 두 상위 10위까지의 직업 중 남성의 데이터에서만 나타나는 직업은 '자동차 운전원', '경영 관련 사무원', '영업 종사자', '건설 및 광업 단순 종사자', '건물 관리원 및 검표원', '행정 사무원'이 있다.\n",
        "- 대체적으로 사무직 직업이나 일정 수준 이상의 육체적 노동력을 필요로 하는 직업이 주를 이루고 있는 것을 알 수 있다.\n",
        "- 여성의 빈도수 상위 10위까지의 데이터에서만 나타나는 직업은 '회계 및 경리 사무원', '식음료 서비스 종사자', '조리사', '가사 및 육아 도우미', '돌봄 및 보건 서비스 종사자', '음식 관련 단순 종사자'가 있다.\n",
        "- 일반 사무직 직업도 있으나, 남성 데이터와는 달리 주로 요리 혹은 돌봄과 관련된 직업이 해당하는 것을 볼 수 있다.\n",
        "- 또한, 남성과 여성 데이터에서 공통적으로 집계된 '청소원 및 환경미화원'이 그래프 내에서 차지하는 순위 또한 상징적이다. 남성 데이터에서는 해당 직업이 7위를 차지하여 약 100명 가량의 수치가 집계된 반면, 여성 데이터에서는 약 200명으로 전체 2위를 차지하며 남성의 2배 가량이 해당 직업에 종사하고 있음을 알 수 있다.\n",
        "- 이를 종합해 볼 때, 과거 남성과 여성에게 주어진 성 역할 고정관념이 현대에서도 직업적 측면에서 일정 부분 잔존하는 것을 알 수 있다.\n",
        "- 또한, 상위 10위 중에서도 남성 데이터는 사무직이 주로 상위권을 차지했고, 여성 데이터에서는 필수 노동직 및 자영업 위주의 직업이 상위권을 차지하는 점에서 두 성별 간 직업 선택의 차이가 존재하는 것을 볼 수 있다."
      ],
      "metadata": {
        "id": "3lQT5S6WPACE"
      }
    },
    {
      "cell_type": "markdown",
      "source": [
        "## **8. 종교 유무에 따른 이혼율**\n",
        "**[1단계] 문제 정의**\n",
        "* 종교가 있고 없음에 따라 이혼율이 다른지에 대해 분석해보고자 했다.\n",
        "* 종교인의 이혼율은 종교가 있는데 결혼한 사람들 중 이혼한 사람으로 정의했고, 무교인의 이혼율은 종교가  없는데 결혼한 사람들 중 이혼한 사람으로 정의했다.\n",
        "* 이후, 종교인의 이혼율과 무교인의 이혼율을 그래프를 통해 시각적으로 비교했다."
      ],
      "metadata": {
        "id": "7ozYmlYShar9"
      }
    },
    {
      "cell_type": "markdown",
      "source": [
        "### 1) 종교 변수 검토 및 전처리하기\n",
        "#### (1) 변수 검토하기"
      ],
      "metadata": {
        "id": "bVag0qRAfBiI"
      }
    },
    {
      "cell_type": "code",
      "source": [
        "class(welfare$religion)"
      ],
      "metadata": {
        "colab": {
          "base_uri": "https://localhost:8080/",
          "height": 34
        },
        "id": "82ZUN5jrfJpd",
        "outputId": "488a750c-cdf8-4eb5-c94d-0166f2ef338b"
      },
      "execution_count": null,
      "outputs": [
        {
          "output_type": "display_data",
          "data": {
            "text/html": [
              "'numeric'"
            ],
            "text/markdown": "'numeric'",
            "text/latex": "'numeric'",
            "text/plain": [
              "[1] \"numeric\""
            ]
          },
          "metadata": {}
        }
      ]
    },
    {
      "cell_type": "code",
      "source": [
        "table(welfare$religion)"
      ],
      "metadata": {
        "colab": {
          "base_uri": "https://localhost:8080/",
          "height": 68
        },
        "id": "Mw6DK3MzfMmQ",
        "outputId": "db095fe2-9987-45be-df27-d4353c226961"
      },
      "execution_count": null,
      "outputs": [
        {
          "output_type": "display_data",
          "data": {
            "text/plain": [
              "\n",
              "   1    2 \n",
              "8047 8617 "
            ]
          },
          "metadata": {}
        }
      ]
    },
    {
      "cell_type": "markdown",
      "source": [
        "#### (2) 전처리\n",
        "* 종교 유무 이름 부여"
      ],
      "metadata": {
        "id": "UrrurI9lfRUW"
      }
    },
    {
      "cell_type": "code",
      "source": [
        "welfare$religion <- ifelse(welfare$religion == 1, \"yes\", \"no\")\n",
        "table(welfare$religion)"
      ],
      "metadata": {
        "colab": {
          "base_uri": "https://localhost:8080/",
          "height": 68
        },
        "id": "3iM3AZtUfQFt",
        "outputId": "b5bc0f8b-1442-4a71-a12a-a2b0697c6d6d"
      },
      "execution_count": null,
      "outputs": [
        {
          "output_type": "display_data",
          "data": {
            "text/plain": [
              "\n",
              "  no  yes \n",
              "8617 8047 "
            ]
          },
          "metadata": {}
        }
      ]
    },
    {
      "cell_type": "code",
      "source": [
        "qplot(welfare$religion)"
      ],
      "metadata": {
        "colab": {
          "base_uri": "https://localhost:8080/",
          "height": 437
        },
        "id": "-VR-lYwChVYu",
        "outputId": "52839c37-b9b5-46b9-b1ab-21261a8bbe4d"
      },
      "execution_count": null,
      "outputs": [
        {
          "output_type": "display_data",
          "data": {
            "text/plain": [
              "plot without title"
            ],
            "image/png": "[encoded data removed]"
          },
          "metadata": {
            "image/png": {
              "width": 420,
              "height": 420
            }
          }
        }
      ]
    },
    {
      "cell_type": "markdown",
      "source": [
        "### 2) 혼인 상태 변수 검토 및 전처리하기\n",
        "#### (1) 변수 검토"
      ],
      "metadata": {
        "id": "vhr99oCGfPBg"
      }
    },
    {
      "cell_type": "code",
      "source": [
        "class(welfare$marriage)"
      ],
      "metadata": {
        "id": "1e990h1CfPyp",
        "colab": {
          "base_uri": "https://localhost:8080/",
          "height": 34
        },
        "outputId": "46879140-e160-476c-8966-c2e1d957b85b"
      },
      "execution_count": null,
      "outputs": [
        {
          "output_type": "display_data",
          "data": {
            "text/html": [
              "'numeric'"
            ],
            "text/markdown": "'numeric'",
            "text/latex": "'numeric'",
            "text/plain": [
              "[1] \"numeric\""
            ]
          },
          "metadata": {}
        }
      ]
    },
    {
      "cell_type": "code",
      "source": [
        "table(welfare$marriage)\n"
      ],
      "metadata": {
        "colab": {
          "base_uri": "https://localhost:8080/",
          "height": 68
        },
        "id": "6CvIZPc3hetn",
        "outputId": "299f0be8-bce1-45f2-ba0f-e618b1161e51"
      },
      "execution_count": null,
      "outputs": [
        {
          "output_type": "display_data",
          "data": {
            "text/plain": [
              "\n",
              "   0    1    2    3    4    5    6 \n",
              "2861 8431 2117  712   84 2433   26 "
            ]
          },
          "metadata": {}
        }
      ]
    },
    {
      "cell_type": "markdown",
      "source": [
        "#### (2) 전처리\n",
        "* 이혼 여부 변수 만들기"
      ],
      "metadata": {
        "id": "AS1L2ekjhgKm"
      }
    },
    {
      "cell_type": "code",
      "source": [
        "welfare$group_marriage <- ifelse(welfare$marriage == 1, \"marriage\", ifelse(welfare$marriage == 3, \"divorce\", NA))"
      ],
      "metadata": {
        "id": "j8MmdKr1hei8"
      },
      "execution_count": null,
      "outputs": []
    },
    {
      "cell_type": "code",
      "source": [
        "table(welfare$group_marriage)"
      ],
      "metadata": {
        "colab": {
          "base_uri": "https://localhost:8080/",
          "height": 68
        },
        "id": "P5rxAp0Lhun2",
        "outputId": "401c7e54-0b4a-4c5b-9c4b-8d2dd0bd576c"
      },
      "execution_count": null,
      "outputs": [
        {
          "output_type": "display_data",
          "data": {
            "text/plain": [
              "\n",
              " divorce marriage \n",
              "     712     8431 "
            ]
          },
          "metadata": {}
        }
      ]
    },
    {
      "cell_type": "code",
      "source": [
        "table(is.na(welfare$group_marriage))"
      ],
      "metadata": {
        "colab": {
          "base_uri": "https://localhost:8080/",
          "height": 68
        },
        "id": "v_MfMx8Jhw_r",
        "outputId": "4f494264-8d36-461e-a954-877878aebc4e"
      },
      "execution_count": null,
      "outputs": [
        {
          "output_type": "display_data",
          "data": {
            "text/plain": [
              "\n",
              "FALSE  TRUE \n",
              " 9143  7521 "
            ]
          },
          "metadata": {}
        }
      ]
    },
    {
      "cell_type": "code",
      "source": [
        "qplot(welfare$group_marriage)"
      ],
      "metadata": {
        "colab": {
          "base_uri": "https://localhost:8080/",
          "height": 437
        },
        "id": "4qL4AGamh0I7",
        "outputId": "9a64de6a-1973-4cc2-ae5e-a7b92b2deb34"
      },
      "execution_count": null,
      "outputs": [
        {
          "output_type": "display_data",
          "data": {
            "text/plain": [
              "plot without title"
            ],
            "image/png": "[encoded data removed]"
          },
          "metadata": {
            "image/png": {
              "width": 420,
              "height": 420
            }
          }
        }
      ]
    },
    {
      "cell_type": "markdown",
      "source": [
        "### 3) 종교 유무에 따른 이혼율 분석하기\n",
        "#### (1) 종교 유무에 따른 이혼율 표 만들기"
      ],
      "metadata": {
        "id": "Tx2x7YAxhz1c"
      }
    },
    {
      "cell_type": "code",
      "source": [
        "religion_marriage <- welfare %>% filter(!is.na(group_marriage)) %>% group_by(religion, group_marriage) %>% summarise(n = n()) %>% mutate(tot_group = sum(n),\n",
        "pct = round(n/tot_group*100, 1))"
      ],
      "metadata": {
        "colab": {
          "base_uri": "https://localhost:8080/"
        },
        "id": "dG_wxtZKiAG2",
        "outputId": "dbe25f24-1c3f-4bb1-98b5-05b768084d89"
      },
      "execution_count": null,
      "outputs": [
        {
          "output_type": "stream",
          "name": "stderr",
          "text": [
            "\u001b[1m\u001b[22m`summarise()` has grouped output by 'religion'. You can override using the\n",
            "`.groups` argument.\n"
          ]
        }
      ]
    },
    {
      "cell_type": "code",
      "source": [
        "religion_marriage"
      ],
      "metadata": {
        "colab": {
          "base_uri": "https://localhost:8080/",
          "height": 221
        },
        "id": "WNW3XNshiCOW",
        "outputId": "f99cfbaf-caec-4ca2-800f-515cea5992a5"
      },
      "execution_count": null,
      "outputs": [
        {
          "output_type": "display_data",
          "data": {
            "text/html": [
              "<table class=\"dataframe\">\n",
              "<caption>A grouped_df: 4 × 5</caption>\n",
              "<thead>\n",
              "\t<tr><th scope=col>religion</th><th scope=col>group_marriage</th><th scope=col>n</th><th scope=col>tot_group</th><th scope=col>pct</th></tr>\n",
              "\t<tr><th scope=col>&lt;chr&gt;</th><th scope=col>&lt;chr&gt;</th><th scope=col>&lt;int&gt;</th><th scope=col>&lt;int&gt;</th><th scope=col>&lt;dbl&gt;</th></tr>\n",
              "</thead>\n",
              "<tbody>\n",
              "\t<tr><td>no </td><td>divorce </td><td> 384</td><td>4602</td><td> 8.3</td></tr>\n",
              "\t<tr><td>no </td><td>marriage</td><td>4218</td><td>4602</td><td>91.7</td></tr>\n",
              "\t<tr><td>yes</td><td>divorce </td><td> 328</td><td>4541</td><td> 7.2</td></tr>\n",
              "\t<tr><td>yes</td><td>marriage</td><td>4213</td><td>4541</td><td>92.8</td></tr>\n",
              "</tbody>\n",
              "</table>\n"
            ],
            "text/markdown": "\nA grouped_df: 4 × 5\n\n| religion &lt;chr&gt; | group_marriage &lt;chr&gt; | n &lt;int&gt; | tot_group &lt;int&gt; | pct &lt;dbl&gt; |\n|---|---|---|---|---|\n| no  | divorce  |  384 | 4602 |  8.3 |\n| no  | marriage | 4218 | 4602 | 91.7 |\n| yes | divorce  |  328 | 4541 |  7.2 |\n| yes | marriage | 4213 | 4541 | 92.8 |\n\n",
            "text/latex": "A grouped\\_df: 4 × 5\n\\begin{tabular}{lllll}\n religion & group\\_marriage & n & tot\\_group & pct\\\\\n <chr> & <chr> & <int> & <int> & <dbl>\\\\\n\\hline\n\t no  & divorce  &  384 & 4602 &  8.3\\\\\n\t no  & marriage & 4218 & 4602 & 91.7\\\\\n\t yes & divorce  &  328 & 4541 &  7.2\\\\\n\t yes & marriage & 4213 & 4541 & 92.8\\\\\n\\end{tabular}\n",
            "text/plain": [
              "  religion group_marriage n    tot_group pct \n",
              "1 no       divorce         384 4602       8.3\n",
              "2 no       marriage       4218 4602      91.7\n",
              "3 yes      divorce         328 4541       7.2\n",
              "4 yes      marriage       4213 4541      92.8"
            ]
          },
          "metadata": {}
        }
      ]
    },
    {
      "cell_type": "markdown",
      "source": [
        "* count() 활용"
      ],
      "metadata": {
        "id": "rAbin6QYiDPp"
      }
    },
    {
      "cell_type": "code",
      "source": [
        "religion_marriage <- welfare %>% filter(!is.na(group_marriage)) %>% count(religion, group_marriage) %>% group_by(religion) %>%\n",
        "mutate(pct = round(n/sum(n)*100, 1))"
      ],
      "metadata": {
        "id": "4WB-rQAviF_K"
      },
      "execution_count": null,
      "outputs": []
    },
    {
      "cell_type": "markdown",
      "source": [
        "#### (2) 이혼율 표 만들기\n",
        "* 이혼 추출"
      ],
      "metadata": {
        "id": "otjLdg8Mickw"
      }
    },
    {
      "cell_type": "code",
      "source": [
        "divorce <- religion_marriage %>% filter(group_marriage == \"divorce\") %>% select(religion, pct)"
      ],
      "metadata": {
        "id": "gt9uXBf1iiFU"
      },
      "execution_count": null,
      "outputs": []
    },
    {
      "cell_type": "code",
      "source": [
        "divorce"
      ],
      "metadata": {
        "colab": {
          "base_uri": "https://localhost:8080/",
          "height": 159
        },
        "id": "65b0TreyilPZ",
        "outputId": "fba4a194-8fa2-48d9-b4f4-1f935d53d36d"
      },
      "execution_count": null,
      "outputs": [
        {
          "output_type": "display_data",
          "data": {
            "text/html": [
              "<table class=\"dataframe\">\n",
              "<caption>A grouped_df: 2 × 2</caption>\n",
              "<thead>\n",
              "\t<tr><th scope=col>religion</th><th scope=col>pct</th></tr>\n",
              "\t<tr><th scope=col>&lt;chr&gt;</th><th scope=col>&lt;dbl&gt;</th></tr>\n",
              "</thead>\n",
              "<tbody>\n",
              "\t<tr><td>no </td><td>8.3</td></tr>\n",
              "\t<tr><td>yes</td><td>7.2</td></tr>\n",
              "</tbody>\n",
              "</table>\n"
            ],
            "text/markdown": "\nA grouped_df: 2 × 2\n\n| religion &lt;chr&gt; | pct &lt;dbl&gt; |\n|---|---|\n| no  | 8.3 |\n| yes | 7.2 |\n\n",
            "text/latex": "A grouped\\_df: 2 × 2\n\\begin{tabular}{ll}\n religion & pct\\\\\n <chr> & <dbl>\\\\\n\\hline\n\t no  & 8.3\\\\\n\t yes & 7.2\\\\\n\\end{tabular}\n",
            "text/plain": [
              "  religion pct\n",
              "1 no       8.3\n",
              "2 yes      7.2"
            ]
          },
          "metadata": {}
        }
      ]
    },
    {
      "cell_type": "markdown",
      "source": [
        "#### (3) 그래프 만들기"
      ],
      "metadata": {
        "id": "bk7oqquXioTB"
      }
    },
    {
      "cell_type": "code",
      "source": [
        "ggplot(data = divorce, aes(x = religion, y = pct)) + geom_col()"
      ],
      "metadata": {
        "colab": {
          "base_uri": "https://localhost:8080/",
          "height": 437
        },
        "id": "gGUUxdZDisKM",
        "outputId": "35a35dfc-8e3f-4745-9581-0684014c1268"
      },
      "execution_count": null,
      "outputs": [
        {
          "output_type": "display_data",
          "data": {
            "text/plain": [
              "plot without title"
            ],
            "image/png": "[encoded data removed]"
          },
          "metadata": {
            "image/png": {
              "width": 420,
              "height": 420
            }
          }
        }
      ]
    },
    {
      "cell_type": "markdown",
      "source": [
        "* 출력된 표와 그래프를 보면 종교인의 이혼율은 7.2, 무교인의 이혼율은 8.3으로, 종교를 가지고 있는 사람의 이혼율이 더 높다는 것을 알 수 있다.\n",
        "* 즉, 종교가 있는 사람들이 이혼을 덜한다고 볼 수 있다."
      ],
      "metadata": {
        "id": "f3J5ivR1m91T"
      }
    },
    {
      "cell_type": "markdown",
      "source": [
        "### 4) 연령대 및 종교 유무에 따른 이혼율 분석하기\n",
        "#### (1) 연령대별 이혼율 표 만들기"
      ],
      "metadata": {
        "id": "nNcTnqgfit4l"
      }
    },
    {
      "cell_type": "code",
      "source": [
        "ageg_marriage <- welfare %>%\n",
        "  filter(!is.na(group_marriage)) %>%\n",
        "  group_by(ageg, group_marriage) %>%\n",
        "  summarise(n = n()) %>%\n",
        "  mutate(tot_group = sum(n),\n",
        "pct = round(n/tot_group*100, 1))"
      ],
      "metadata": {
        "colab": {
          "base_uri": "https://localhost:8080/",
          "height": 309
        },
        "id": "cqAuXjFCizIP",
        "outputId": "167449fa-1396-4b35-8fe0-ac1bd92d778c"
      },
      "execution_count": null,
      "outputs": [
        {
          "output_type": "error",
          "ename": "ERROR",
          "evalue": "\u001b[1m\u001b[33mError\u001b[39m in `group_by()`:\u001b[22m\n\u001b[1m\u001b[22m\u001b[33m!\u001b[39m Must group by variables found in `.data`.\n\u001b[31m✖\u001b[39m Column `ageg` is not found.\n",
          "traceback": [
            "\u001b[1m\u001b[33mError\u001b[39m in `group_by()`:\u001b[22m\n\u001b[1m\u001b[22m\u001b[33m!\u001b[39m Must group by variables found in `.data`.\n\u001b[31m✖\u001b[39m Column `ageg` is not found.\nTraceback:\n",
            "1. welfare %>% filter(!is.na(group_marriage)) %>% group_by(ageg, \n .     group_marriage) %>% summarise(n = n()) %>% mutate(tot_group = sum(n), \n .     pct = round(n/tot_group * 100, 1))",
            "2. mutate(., tot_group = sum(n), pct = round(n/tot_group * 100, \n .     1))",
            "3. summarise(., n = n())",
            "4. group_by(., ageg, group_marriage)",
            "5. group_by.data.frame(., ageg, group_marriage)",
            "6. group_by_prepare(.data, ..., .add = .add, error_call = current_env())",
            "7. abort(bullets, call = error_call)",
            "8. signal_abort(cnd, .file)"
          ]
        }
      ]
    },
    {
      "cell_type": "code",
      "source": [
        "ageg_marriage"
      ],
      "metadata": {
        "colab": {
          "base_uri": "https://localhost:8080/",
          "height": 71
        },
        "id": "xop0J3nmi2Q0",
        "outputId": "6e62341c-adc4-4db4-e643-9e7ac93e0148"
      },
      "execution_count": null,
      "outputs": [
        {
          "output_type": "error",
          "ename": "ERROR",
          "evalue": "Error in eval(expr, envir, enclos): object 'ageg_marriage' not found\n",
          "traceback": [
            "Error in eval(expr, envir, enclos): object 'ageg_marriage' not found\nTraceback:\n"
          ]
        }
      ]
    },
    {
      "cell_type": "markdown",
      "source": [
        "* count() 활용"
      ],
      "metadata": {
        "id": "9o21oMNvi4Gg"
      }
    },
    {
      "cell_type": "code",
      "source": [
        "ageg_marriage <- welfare %>% filter(!is.na(group_marriage)) %>% count(ageg, group_marriage) %>% group_by(ageg) %>%\n",
        "mutate(pct = round(n/sum(n)*100, 1))"
      ],
      "metadata": {
        "colab": {
          "base_uri": "https://localhost:8080/",
          "height": 309
        },
        "id": "4cqnWoNyi6eT",
        "outputId": "415753aa-bc75-4708-fd73-05d35c56d853"
      },
      "execution_count": null,
      "outputs": [
        {
          "output_type": "error",
          "ename": "ERROR",
          "evalue": "\u001b[1m\u001b[33mError\u001b[39m in `count()`:\u001b[22m\n\u001b[1m\u001b[22m\u001b[33m!\u001b[39m Must group by variables found in `.data`.\n\u001b[31m✖\u001b[39m Column `ageg` is not found.\n",
          "traceback": [
            "\u001b[1m\u001b[33mError\u001b[39m in `count()`:\u001b[22m\n\u001b[1m\u001b[22m\u001b[33m!\u001b[39m Must group by variables found in `.data`.\n\u001b[31m✖\u001b[39m Column `ageg` is not found.\nTraceback:\n",
            "1. welfare %>% filter(!is.na(group_marriage)) %>% count(ageg, group_marriage) %>% \n .     group_by(ageg) %>% mutate(pct = round(n/sum(n) * 100, 1))",
            "2. mutate(., pct = round(n/sum(n) * 100, 1))",
            "3. group_by(., ageg)",
            "4. count(., ageg, group_marriage)",
            "5. count.data.frame(., ageg, group_marriage)",
            "6. group_by(x, ..., .add = TRUE, .drop = .drop)",
            "7. group_by.data.frame(x, ..., .add = TRUE, .drop = .drop)",
            "8. group_by_prepare(.data, ..., .add = .add, error_call = current_env())",
            "9. abort(bullets, call = error_call)",
            "10. signal_abort(cnd, .file)"
          ]
        }
      ]
    },
    {
      "cell_type": "markdown",
      "source": [
        "#### (2) 연령대별 이혼율 그래프 만들기\n",
        "* 초년 제외, 이혼 추출"
      ],
      "metadata": {
        "id": "CxcaoS0Ni9IK"
      }
    },
    {
      "cell_type": "code",
      "source": [
        "ageg_divorce <- ageg_marriage %>%\n",
        "filter(ageg != \"young\" & group_marriage == \"divorce\") %>% select(ageg, pct)"
      ],
      "metadata": {
        "colab": {
          "base_uri": "https://localhost:8080/",
          "height": 71
        },
        "id": "jZsp01FJjCKz",
        "outputId": "e3a77f5d-ac4b-478b-8028-241516d62ecc"
      },
      "execution_count": null,
      "outputs": [
        {
          "output_type": "error",
          "ename": "ERROR",
          "evalue": "Error in ageg_marriage %>% filter(ageg != \"young\" & group_marriage == : could not find function \"%>%\"\n",
          "traceback": [
            "Error in ageg_marriage %>% filter(ageg != \"young\" & group_marriage == : could not find function \"%>%\"\nTraceback:\n"
          ]
        }
      ]
    },
    {
      "cell_type": "code",
      "source": [
        "ageg_divorce"
      ],
      "metadata": {
        "colab": {
          "base_uri": "https://localhost:8080/",
          "height": 71
        },
        "id": "cmKpirIijEhQ",
        "outputId": "18ada4dc-70a0-434a-b429-8d66226c2882"
      },
      "execution_count": null,
      "outputs": [
        {
          "output_type": "error",
          "ename": "ERROR",
          "evalue": "Error in eval(expr, envir, enclos): object 'ageg_divorce' not found\n",
          "traceback": [
            "Error in eval(expr, envir, enclos): object 'ageg_divorce' not found\nTraceback:\n"
          ]
        }
      ]
    },
    {
      "cell_type": "markdown",
      "source": [
        "* 그래프 만들기"
      ],
      "metadata": {
        "id": "3YUgZcrakYxx"
      }
    },
    {
      "cell_type": "code",
      "source": [
        "ggplot(data = ageg_divorce, aes(x = ageg, y = pct)) + geom_col()"
      ],
      "metadata": {
        "colab": {
          "base_uri": "https://localhost:8080/",
          "height": 105
        },
        "id": "aSVzl8NkkaiG",
        "outputId": "cd2f899d-9342-4064-d160-f13e9d8ee794"
      },
      "execution_count": null,
      "outputs": [
        {
          "output_type": "error",
          "ename": "ERROR",
          "evalue": "Error in eval(expr, envir, enclos): object 'ageg_divorce' not found\n",
          "traceback": [
            "Error in eval(expr, envir, enclos): object 'ageg_divorce' not found\nTraceback:\n",
            "1. ggplot(data = ageg_divorce, aes(x = ageg, y = pct))"
          ]
        }
      ]
    },
    {
      "cell_type": "markdown",
      "source": [
        "#### (3) 연령대 및 종교 유무에 따른 이혼율 표 만들기\n",
        "* 연령대, 종교유무, 결혼상태 별 비율표 만들기"
      ],
      "metadata": {
        "id": "Ubf3VxxQkePP"
      }
    },
    {
      "cell_type": "code",
      "source": [
        "ageg_religion_marriage <- welfare %>%\n",
        "  filter(!is.na(group_marriage) & ageg != \"young\") %>%\n",
        "  group_by(ageg, religion, group_marriage) %>%\n",
        "  summarise(n = n()) %>%\n",
        "mutate(tot_group = sum(n),\n",
        "pct = round(n/tot_group*100, 1))"
      ],
      "metadata": {
        "colab": {
          "base_uri": "https://localhost:8080/",
          "height": 853
        },
        "id": "ua7DxyhxkmA2",
        "outputId": "bf021209-7ecb-425b-c80b-e3ee4a5dac9c"
      },
      "execution_count": null,
      "outputs": [
        {
          "output_type": "error",
          "ename": "ERROR",
          "evalue": "\u001b[1m\u001b[33mError\u001b[39m in `filter()`:\u001b[22m\n\u001b[1m\u001b[22m\u001b[36mℹ\u001b[39m In argument: `!is.na(group_marriage) & ageg != \"young\"`.\n\u001b[1mCaused by error:\u001b[22m\n\u001b[33m!\u001b[39m object 'ageg' not found\n",
          "traceback": [
            "\u001b[1m\u001b[33mError\u001b[39m in `filter()`:\u001b[22m\n\u001b[1m\u001b[22m\u001b[36mℹ\u001b[39m In argument: `!is.na(group_marriage) & ageg != \"young\"`.\n\u001b[1mCaused by error:\u001b[22m\n\u001b[33m!\u001b[39m object 'ageg' not found\nTraceback:\n",
            "1. welfare %>% filter(!is.na(group_marriage) & ageg != \"young\") %>% \n .     group_by(ageg, religion, group_marriage) %>% summarise(n = n()) %>% \n .     mutate(tot_group = sum(n), pct = round(n/tot_group * 100, \n .         1))",
            "2. mutate(., tot_group = sum(n), pct = round(n/tot_group * 100, \n .     1))",
            "3. summarise(., n = n())",
            "4. group_by(., ageg, religion, group_marriage)",
            "5. filter(., !is.na(group_marriage) & ageg != \"young\")",
            "6. filter.data.frame(., !is.na(group_marriage) & ageg != \"young\")",
            "7. filter_rows(.data, dots, by)",
            "8. filter_eval(dots, mask = mask, error_call = error_call, user_env = user_env)",
            "9. withCallingHandlers(mask$eval_all_filter(dots, env_filter), error = dplyr_error_handler(dots = dots, \n .     mask = mask, bullets = filter_bullets, error_call = error_call), \n .     warning = function(cnd) {\n .         local_error_context(dots, i, mask)\n .         warning_handler(cnd)\n .     }, `dplyr:::signal_filter_one_column_matrix` = function(e) {\n .         warn_filter_one_column_matrix(env = error_call, user_env = user_env)\n .     }, `dplyr:::signal_filter_across` = function(e) {\n .         warn_filter_across(env = error_call, user_env = user_env)\n .     }, `dplyr:::signal_filter_data_frame` = function(e) {\n .         warn_filter_data_frame(env = error_call, user_env = user_env)\n .     })",
            "10. mask$eval_all_filter(dots, env_filter)",
            "11. eval()",
            "12. .handleSimpleError(function (cnd) \n  . {\n  .     local_error_context(dots, i = frame[[i_sym]], mask = mask)\n  .     if (inherits(cnd, \"dplyr:::internal_error\")) {\n  .         parent <- error_cnd(message = bullets(cnd))\n  .     }\n  .     else {\n  .         parent <- cnd\n  .     }\n  .     message <- c(cnd_bullet_header(action), i = if (has_active_group_context(mask)) cnd_bullet_cur_group_label())\n  .     abort(message, class = error_class, parent = parent, call = error_call)\n  . }, \"object 'ageg' not found\", base::quote(NULL))",
            "13. h(simpleError(msg, call))",
            "14. abort(message, class = error_class, parent = parent, call = error_call)",
            "15. signal_abort(cnd, .file)"
          ]
        }
      ]
    },
    {
      "cell_type": "code",
      "source": [
        "ageg_religion_marriage"
      ],
      "metadata": {
        "colab": {
          "base_uri": "https://localhost:8080/",
          "height": 71
        },
        "id": "LwpxZqgoksQZ",
        "outputId": "e16725ce-ebde-40e7-ebc9-d8ae723f36cd"
      },
      "execution_count": null,
      "outputs": [
        {
          "output_type": "error",
          "ename": "ERROR",
          "evalue": "Error in eval(expr, envir, enclos): object 'ageg_religion_marriage' not found\n",
          "traceback": [
            "Error in eval(expr, envir, enclos): object 'ageg_religion_marriage' not found\nTraceback:\n"
          ]
        }
      ]
    },
    {
      "cell_type": "markdown",
      "source": [
        "* count() 활용"
      ],
      "metadata": {
        "id": "xKl3DY9Qktpp"
      }
    },
    {
      "cell_type": "code",
      "source": [
        "ageg_religion_marriage <- welfare %>%\n",
        "  filter(!is.na(group_marriage) & ageg != \"young\") %>%\n",
        "  count(ageg, religion, group_marriage) %>%\n",
        "  group_by(ageg, religion) %>%\n",
        "mutate(pct = round(n/sum(n)*100, 1))"
      ],
      "metadata": {
        "colab": {
          "base_uri": "https://localhost:8080/",
          "height": 819
        },
        "id": "oyi1sHx5kxGB",
        "outputId": "696e662a-544e-4115-9ea6-164476d8fd78"
      },
      "execution_count": null,
      "outputs": [
        {
          "output_type": "error",
          "ename": "ERROR",
          "evalue": "\u001b[1m\u001b[33mError\u001b[39m in `filter()`:\u001b[22m\n\u001b[1m\u001b[22m\u001b[36mℹ\u001b[39m In argument: `!is.na(group_marriage) & ageg != \"young\"`.\n\u001b[1mCaused by error:\u001b[22m\n\u001b[33m!\u001b[39m object 'ageg' not found\n",
          "traceback": [
            "\u001b[1m\u001b[33mError\u001b[39m in `filter()`:\u001b[22m\n\u001b[1m\u001b[22m\u001b[36mℹ\u001b[39m In argument: `!is.na(group_marriage) & ageg != \"young\"`.\n\u001b[1mCaused by error:\u001b[22m\n\u001b[33m!\u001b[39m object 'ageg' not found\nTraceback:\n",
            "1. welfare %>% filter(!is.na(group_marriage) & ageg != \"young\") %>% \n .     count(ageg, religion, group_marriage) %>% group_by(ageg, \n .     religion) %>% mutate(pct = round(n/sum(n) * 100, 1))",
            "2. mutate(., pct = round(n/sum(n) * 100, 1))",
            "3. group_by(., ageg, religion)",
            "4. count(., ageg, religion, group_marriage)",
            "5. filter(., !is.na(group_marriage) & ageg != \"young\")",
            "6. filter.data.frame(., !is.na(group_marriage) & ageg != \"young\")",
            "7. filter_rows(.data, dots, by)",
            "8. filter_eval(dots, mask = mask, error_call = error_call, user_env = user_env)",
            "9. withCallingHandlers(mask$eval_all_filter(dots, env_filter), error = dplyr_error_handler(dots = dots, \n .     mask = mask, bullets = filter_bullets, error_call = error_call), \n .     warning = function(cnd) {\n .         local_error_context(dots, i, mask)\n .         warning_handler(cnd)\n .     }, `dplyr:::signal_filter_one_column_matrix` = function(e) {\n .         warn_filter_one_column_matrix(env = error_call, user_env = user_env)\n .     }, `dplyr:::signal_filter_across` = function(e) {\n .         warn_filter_across(env = error_call, user_env = user_env)\n .     }, `dplyr:::signal_filter_data_frame` = function(e) {\n .         warn_filter_data_frame(env = error_call, user_env = user_env)\n .     })",
            "10. mask$eval_all_filter(dots, env_filter)",
            "11. eval()",
            "12. .handleSimpleError(function (cnd) \n  . {\n  .     local_error_context(dots, i = frame[[i_sym]], mask = mask)\n  .     if (inherits(cnd, \"dplyr:::internal_error\")) {\n  .         parent <- error_cnd(message = bullets(cnd))\n  .     }\n  .     else {\n  .         parent <- cnd\n  .     }\n  .     message <- c(cnd_bullet_header(action), i = if (has_active_group_context(mask)) cnd_bullet_cur_group_label())\n  .     abort(message, class = error_class, parent = parent, call = error_call)\n  . }, \"object 'ageg' not found\", base::quote(NULL))",
            "13. h(simpleError(msg, call))",
            "14. abort(message, class = error_class, parent = parent, call = error_call)",
            "15. signal_abort(cnd, .file)"
          ]
        }
      ]
    },
    {
      "cell_type": "markdown",
      "source": [
        "#### (4) 연령대 및 종교 유무별 이혼율 표 만들기"
      ],
      "metadata": {
        "id": "KI47wEzjk1Ai"
      }
    },
    {
      "cell_type": "code",
      "source": [
        "df_divorce <- ageg_religion_marriage %>%\n",
        "  filter(group_marriage == \"divorce\") %>%\n",
        "  select(ageg, religion, pct)"
      ],
      "metadata": {
        "colab": {
          "base_uri": "https://localhost:8080/",
          "height": 156
        },
        "id": "C3WXQbLnk4wZ",
        "outputId": "aeb343da-e4a5-4b4a-827d-15bba3a3f213"
      },
      "execution_count": null,
      "outputs": [
        {
          "output_type": "error",
          "ename": "ERROR",
          "evalue": "Error in eval(expr, envir, enclos): object 'ageg_religion_marriage' not found\n",
          "traceback": [
            "Error in eval(expr, envir, enclos): object 'ageg_religion_marriage' not found\nTraceback:\n",
            "1. ageg_religion_marriage %>% filter(group_marriage == \"divorce\") %>% \n .     select(ageg, religion, pct)",
            "2. select(., ageg, religion, pct)",
            "3. filter(., group_marriage == \"divorce\")"
          ]
        }
      ]
    },
    {
      "cell_type": "code",
      "source": [
        "df_divorce"
      ],
      "metadata": {
        "colab": {
          "base_uri": "https://localhost:8080/",
          "height": 71
        },
        "id": "UyV9gbhDk8_J",
        "outputId": "a5eee02d-ebb1-48e0-e819-4200ae8d7922"
      },
      "execution_count": null,
      "outputs": [
        {
          "output_type": "error",
          "ename": "ERROR",
          "evalue": "Error in eval(expr, envir, enclos): object 'df_divorce' not found\n",
          "traceback": [
            "Error in eval(expr, envir, enclos): object 'df_divorce' not found\nTraceback:\n"
          ]
        }
      ]
    },
    {
      "cell_type": "markdown",
      "source": [
        "### 4) 연령대 및 종교 유무에 따른 이혼율 그래프 만들기"
      ],
      "metadata": {
        "id": "Ci-46fv1k-3B"
      }
    },
    {
      "cell_type": "code",
      "source": [
        "ggplot(data = df_divorce, aes(x =\n",
        "   ageg, y = pct, fill = religion )) + geom_col(position = \"dodge\")"
      ],
      "metadata": {
        "colab": {
          "base_uri": "https://localhost:8080/",
          "height": 91
        },
        "id": "skZcX7W0lDo-",
        "outputId": "90c0e9aa-e64e-4639-ed2a-bf83502033e3"
      },
      "execution_count": null,
      "outputs": [
        {
          "output_type": "error",
          "ename": "ERROR",
          "evalue": "Error in ggplot(data = df_divorce, aes(x = ageg, y = pct, fill = religion)): could not find function \"ggplot\"\n",
          "traceback": [
            "Error in ggplot(data = df_divorce, aes(x = ageg, y = pct, fill = religion)): could not find function \"ggplot\"\nTraceback:\n"
          ]
        }
      ]
    },
    {
      "cell_type": "markdown",
      "source": [
        "### 결론\n",
        "* 출력된 표와 그래프를 보면 종교인의 이혼율은 7.2, 무교인의 이혼율은 8.3으로, 종교를 가지고 있는 사람의 이혼율이 더 높다는 것을 알 수 있다.\n",
        "* 즉, 종교가 있는 사람들이 이혼을 덜한다고 볼 수 있다.\n",
        "\n",
        "* 출력된 표와 그래프를 보면 중년층에서는 무교인의 이혼율이 종교인의 이혼율보다 1.8%나 더 높다는 것을 알 수 있다.\n",
        "* 그러나 노년층에서는 무교인의 이혼율과 종교인의 이혼율은 0.1% 차이로, 별 다른 차이를 보이지 않음을 알 수 있다.\n",
        "* 나아가, 종교인의 이혼율이 오히려 더 높음을 알 수 있다."
      ],
      "metadata": {
        "id": "0s2PnA0rhInB"
      }
    },
    {
      "cell_type": "markdown",
      "source": [
        "## **9. 지역별 연령대 비율**\n",
        "**[1단계] 문제 정의**\n",
        "* 노년층이 많은 지역은 어디일까?\n",
        "* 노년층의 빈도가 아닌 노년층 비율을 구해 노년층이 많은 지역에 대해 분석해보고자 했다.\n"
      ],
      "metadata": {
        "id": "HJDAdQCteyL4"
      }
    },
    {
      "cell_type": "markdown",
      "source": [
        "### 1) 지역 변수 검토 및 전처리하기\n",
        "#### (1) 변수 검토하기"
      ],
      "metadata": {
        "id": "wRNI6l0bhodN"
      }
    },
    {
      "cell_type": "code",
      "source": [
        "class(welfare$code_region)"
      ],
      "metadata": {
        "colab": {
          "base_uri": "https://localhost:8080/",
          "height": 34
        },
        "id": "PwNlWx8hhg8R",
        "outputId": "88fbc6cd-92a0-4835-fcd3-903047cc4217"
      },
      "execution_count": null,
      "outputs": [
        {
          "output_type": "display_data",
          "data": {
            "text/html": [
              "'numeric'"
            ],
            "text/markdown": "'numeric'",
            "text/latex": "'numeric'",
            "text/plain": [
              "[1] \"numeric\""
            ]
          },
          "metadata": {}
        }
      ]
    },
    {
      "cell_type": "code",
      "source": [
        "table(welfare$code_region)"
      ],
      "metadata": {
        "id": "9Y0RN51dh1Gv",
        "outputId": "10da93cf-3687-40dc-cffb-baa4660ff09e",
        "colab": {
          "base_uri": "https://localhost:8080/",
          "height": 68
        }
      },
      "execution_count": null,
      "outputs": [
        {
          "output_type": "display_data",
          "data": {
            "text/plain": [
              "\n",
              "   1    2    3    4    5    6    7 \n",
              "2486 3711 2785 2036 1467 1257 2922 "
            ]
          },
          "metadata": {}
        }
      ]
    },
    {
      "cell_type": "markdown",
      "source": [
        "#### (2) 전처리\n",
        "* 지역 코드 목록 만들기\n"
      ],
      "metadata": {
        "id": "h808fy9lWrkU"
      }
    },
    {
      "cell_type": "code",
      "source": [
        "list_region <- data.frame(code_region = c(1:7), region = c(\"서울\", \"수도권(인천/경기)\", \"부산/경남/울산\", \"대구/경북\",\n",
        "\"대전/충남\", \"강원/충북\", \"광주/전남/전북/제주도\"))"
      ],
      "metadata": {
        "id": "s6aU-5eWh2Ts"
      },
      "execution_count": null,
      "outputs": []
    },
    {
      "cell_type": "code",
      "source": [
        "list_region"
      ],
      "metadata": {
        "colab": {
          "base_uri": "https://localhost:8080/",
          "height": 314
        },
        "id": "CP4bPxx_cs7v",
        "outputId": "24abb75d-ccf9-4752-ad0a-fad7bcf2275a"
      },
      "execution_count": null,
      "outputs": [
        {
          "output_type": "display_data",
          "data": {
            "text/html": [
              "<table class=\"dataframe\">\n",
              "<caption>A data.frame: 7 × 2</caption>\n",
              "<thead>\n",
              "\t<tr><th scope=col>code_region</th><th scope=col>region</th></tr>\n",
              "\t<tr><th scope=col>&lt;int&gt;</th><th scope=col>&lt;chr&gt;</th></tr>\n",
              "</thead>\n",
              "<tbody>\n",
              "\t<tr><td>1</td><td>서울                 </td></tr>\n",
              "\t<tr><td>2</td><td>수도권(인천/경기)    </td></tr>\n",
              "\t<tr><td>3</td><td>부산/경남/울산       </td></tr>\n",
              "\t<tr><td>4</td><td>대구/경북            </td></tr>\n",
              "\t<tr><td>5</td><td>대전/충남            </td></tr>\n",
              "\t<tr><td>6</td><td>강원/충북            </td></tr>\n",
              "\t<tr><td>7</td><td>광주/전남/전북/제주도</td></tr>\n",
              "</tbody>\n",
              "</table>\n"
            ],
            "text/markdown": "\nA data.frame: 7 × 2\n\n| code_region &lt;int&gt; | region &lt;chr&gt; |\n|---|---|\n| 1 | 서울                  |\n| 2 | 수도권(인천/경기)     |\n| 3 | 부산/경남/울산        |\n| 4 | 대구/경북             |\n| 5 | 대전/충남             |\n| 6 | 강원/충북             |\n| 7 | 광주/전남/전북/제주도 |\n\n",
            "text/latex": "A data.frame: 7 × 2\n\\begin{tabular}{ll}\n code\\_region & region\\\\\n <int> & <chr>\\\\\n\\hline\n\t 1 & 서울                 \\\\\n\t 2 & 수도권(인천/경기)    \\\\\n\t 3 & 부산/경남/울산       \\\\\n\t 4 & 대구/경북            \\\\\n\t 5 & 대전/충남            \\\\\n\t 6 & 강원/충북            \\\\\n\t 7 & 광주/전남/전북/제주도\\\\\n\\end{tabular}\n",
            "text/plain": [
              "  code_region region               \n",
              "1 1           서울                 \n",
              "2 2           수도권(인천/경기)    \n",
              "3 3           부산/경남/울산       \n",
              "4 4           대구/경북            \n",
              "5 5           대전/충남            \n",
              "6 6           강원/충북            \n",
              "7 7           광주/전남/전북/제주도"
            ]
          },
          "metadata": {}
        }
      ]
    },
    {
      "cell_type": "markdown",
      "source": [
        "* welfare에 지역명 변수 추가"
      ],
      "metadata": {
        "id": "FflC91gSXMIZ"
      }
    },
    {
      "cell_type": "code",
      "source": [
        "welfare <- left_join(welfare, list_region, id = \"code_region\")"
      ],
      "metadata": {
        "colab": {
          "base_uri": "https://localhost:8080/",
          "height": 343
        },
        "id": "4sz7diFPXR69",
        "outputId": "160c3847-0634-4156-eef9-7d0b28ef92cb"
      },
      "execution_count": null,
      "outputs": [
        {
          "output_type": "error",
          "ename": "ERROR",
          "evalue": "\u001b[1m\u001b[33mError\u001b[39m in `left_join()`:\u001b[22m\n\u001b[1m\u001b[22m\u001b[33m!\u001b[39m `...` must be empty.\n\u001b[31m✖\u001b[39m Problematic argument:\n\u001b[36m•\u001b[39m id = \"code_region\"\n",
          "traceback": [
            "\u001b[1m\u001b[33mError\u001b[39m in `left_join()`:\u001b[22m\n\u001b[1m\u001b[22m\u001b[33m!\u001b[39m `...` must be empty.\n\u001b[31m✖\u001b[39m Problematic argument:\n\u001b[36m•\u001b[39m id = \"code_region\"\nTraceback:\n",
            "1. left_join(welfare, list_region, id = \"code_region\")",
            "2. left_join.data.frame(welfare, list_region, id = \"code_region\")",
            "3. check_dots_empty0(...)",
            "4. check_dots_empty(call = call)",
            "5. action_dots(error = error, action = action, message = \"`...` must be empty.\", \n .     note = note, dots_i = TRUE, class = \"rlib_error_dots_nonempty\", \n .     call = call, env = env)",
            "6. try_dots(action(c(message, x = bullet_header, set_names(bullets, \n .     \"*\"), note), class = c(class, \"rlib_error_dots\"), ...))",
            "7. action(c(message, x = bullet_header, set_names(bullets, \"*\"), \n .     note), class = c(class, \"rlib_error_dots\"), ...)",
            "8. signal_abort(cnd, .file)"
          ]
        }
      ]
    },
    {
      "cell_type": "code",
      "source": [
        "welfare %>% select(code_region, region) %>% head"
      ],
      "metadata": {
        "colab": {
          "base_uri": "https://localhost:8080/",
          "height": 1000
        },
        "id": "gHeSLWHYYDiT",
        "outputId": "f28c796a-fa42-4c3a-e515-fd669a5132b9"
      },
      "execution_count": null,
      "outputs": [
        {
          "output_type": "error",
          "ename": "ERROR",
          "evalue": "\u001b[1m\u001b[33mError\u001b[39m in `select()`:\u001b[22m\n\u001b[33m!\u001b[39m Can't subset columns that don't exist.\n\u001b[31m✖\u001b[39m Column `region` doesn't exist.\n",
          "traceback": [
            "\u001b[1m\u001b[33mError\u001b[39m in `select()`:\u001b[22m\n\u001b[33m!\u001b[39m Can't subset columns that don't exist.\n\u001b[31m✖\u001b[39m Column `region` doesn't exist.\nTraceback:\n",
            "1. welfare %>% select(code_region, region) %>% head",
            "2. head(.)",
            "3. select(., code_region, region)",
            "4. select.data.frame(., code_region, region)",
            "5. tidyselect::eval_select(expr(c(...)), data = .data, error_call = error_call)",
            "6. eval_select_impl(data, names(data), as_quosure(expr, env), include = include, \n .     exclude = exclude, strict = strict, name_spec = name_spec, \n .     allow_rename = allow_rename, allow_empty = allow_empty, allow_predicates = allow_predicates, \n .     error_call = error_call, )",
            "7. with_subscript_errors(out <- vars_select_eval(vars, expr, strict = strict, \n .     data = x, name_spec = name_spec, uniquely_named = uniquely_named, \n .     allow_rename = allow_rename, allow_empty = allow_empty, allow_predicates = allow_predicates, \n .     type = type, error_call = error_call), type = type)",
            "8. try_fetch(expr, vctrs_error_subscript = function(cnd) {\n .     cnd$subscript_action <- subscript_action(type)\n .     cnd$subscript_elt <- \"column\"\n .     cnd_signal(cnd)\n . })",
            "9. withCallingHandlers(expr, condition = function(cnd) {\n .     {\n .         .__handler_frame__. <- TRUE\n .         .__setup_frame__. <- frame\n .         if (inherits(cnd, \"message\")) {\n .             except <- c(\"warning\", \"error\")\n .         }\n .         else if (inherits(cnd, \"warning\")) {\n .             except <- \"error\"\n .         }\n .         else {\n .             except <- \"\"\n .         }\n .     }\n .     while (!is_null(cnd)) {\n .         if (inherits(cnd, \"vctrs_error_subscript\")) {\n .             out <- handlers[[1L]](cnd)\n .             if (!inherits(out, \"rlang_zap\")) \n .                 throw(out)\n .         }\n .         inherit <- .subset2(.subset2(cnd, \"rlang\"), \"inherit\")\n .         if (is_false(inherit)) {\n .             return()\n .         }\n .         cnd <- .subset2(cnd, \"parent\")\n .     }\n . })",
            "10. vars_select_eval(vars, expr, strict = strict, data = x, name_spec = name_spec, \n  .     uniquely_named = uniquely_named, allow_rename = allow_rename, \n  .     allow_empty = allow_empty, allow_predicates = allow_predicates, \n  .     type = type, error_call = error_call)",
            "11. walk_data_tree(expr, data_mask, context_mask)",
            "12. eval_c(expr, data_mask, context_mask)",
            "13. reduce_sels(node, data_mask, context_mask, init = init)",
            "14. walk_data_tree(new, data_mask, context_mask)",
            "15. as_indices_sel_impl(out, vars = vars, strict = strict, data = data, \n  .     allow_predicates = allow_predicates, call = error_call, arg = as_label(expr))",
            "16. as_indices_impl(x, vars, call = call, arg = arg, strict = strict)",
            "17. chr_as_locations(x, vars, call = call, arg = arg)",
            "18. vctrs::vec_as_location(x, n = length(vars), names = vars, call = call, \n  .     arg = arg)",
            "19. (function () \n  . stop_subscript_oob(i = i, subscript_type = subscript_type, names = names, \n  .     subscript_action = subscript_action, subscript_arg = subscript_arg, \n  .     call = call))()",
            "20. stop_subscript_oob(i = i, subscript_type = subscript_type, names = names, \n  .     subscript_action = subscript_action, subscript_arg = subscript_arg, \n  .     call = call)",
            "21. stop_subscript(class = \"vctrs_error_subscript_oob\", i = i, subscript_type = subscript_type, \n  .     ..., call = call)",
            "22. abort(class = c(class, \"vctrs_error_subscript\"), i = i, ..., \n  .     call = call)",
            "23. signal_abort(cnd, .file)",
            "24. signalCondition(cnd)",
            "25. (function (cnd) \n  . {\n  .     {\n  .         .__handler_frame__. <- TRUE\n  .         .__setup_frame__. <- frame\n  .         if (inherits(cnd, \"message\")) {\n  .             except <- c(\"warning\", \"error\")\n  .         }\n  .         else if (inherits(cnd, \"warning\")) {\n  .             except <- \"error\"\n  .         }\n  .         else {\n  .             except <- \"\"\n  .         }\n  .     }\n  .     while (!is_null(cnd)) {\n  .         if (inherits(cnd, \"vctrs_error_subscript\")) {\n  .             out <- handlers[[1L]](cnd)\n  .             if (!inherits(out, \"rlang_zap\")) \n  .                 throw(out)\n  .         }\n  .         inherit <- .subset2(.subset2(cnd, \"rlang\"), \"inherit\")\n  .         if (is_false(inherit)) {\n  .             return()\n  .         }\n  .         cnd <- .subset2(cnd, \"parent\")\n  .     }\n  . })(structure(list(message = \"\", trace = structure(list(call = list(\n  .     IRkernel::main(), kernel$run(), handle_shell(), executor$execute(msg), \n  .     tryCatch(evaluate(request$content$code, envir = .GlobalEnv, \n  .         output_handler = oh, stop_on_error = 1L), interrupt = function(cond) {\n  .         log_debug(\"Interrupt during execution\")\n  .         interrupted <<- TRUE\n  .     }, error = .self$handle_error), tryCatchList(expr, classes, \n  .         parentenv, handlers), tryCatchOne(tryCatchList(expr, \n  .         names[-nh], parentenv, handlers[-nh]), names[nh], parentenv, \n  .         handlers[[nh]]), doTryCatch(return(expr), name, parentenv, \n  .         handler), tryCatchList(expr, names[-nh], parentenv, handlers[-nh]), \n  .     tryCatchOne(expr, names, parentenv, handlers[[1L]]), doTryCatch(return(expr), \n  .         name, parentenv, handler), evaluate(request$content$code, \n  .         envir = .GlobalEnv, output_handler = oh, stop_on_error = 1L), \n  .     evaluate_call(expr, parsed$src[[i]], envir = envir, enclos = enclos, \n  .         debug = debug, last = i == length(out), use_try = stop_on_error != \n  .             2L, keep_warning = keep_warning, keep_message = keep_message, \n  .         log_echo = log_echo, log_warning = log_warning, output_handler = output_handler, \n  .         include_timing = include_timing), timing_fn(handle(ev <- withCallingHandlers(withVisible(eval_with_user_handlers(expr, \n  .         envir, enclos, user_handlers)), warning = wHandler, error = eHandler, \n  .         message = mHandler))), handle(ev <- withCallingHandlers(withVisible(eval_with_user_handlers(expr, \n  .         envir, enclos, user_handlers)), warning = wHandler, error = eHandler, \n  .         message = mHandler)), try(f, silent = TRUE), tryCatch(expr, \n  .         error = function(e) {\n  .             call <- conditionCall(e)\n  .             if (!is.null(call)) {\n  .                 if (identical(call[[1L]], quote(doTryCatch))) \n  .                   call <- sys.call(-4L)\n  .                 dcall <- deparse(call, nlines = 1L)\n  .                 prefix <- paste(\"Error in\", dcall, \": \")\n  .                 LONG <- 75L\n  .                 sm <- strsplit(conditionMessage(e), \"\\n\")[[1L]]\n  .                 w <- 14L + nchar(dcall, type = \"w\") + nchar(sm[1L], \n  .                   type = \"w\")\n  .                 if (is.na(w)) \n  .                   w <- 14L + nchar(dcall, type = \"b\") + nchar(sm[1L], \n  .                     type = \"b\")\n  .                 if (w > LONG) \n  .                   prefix <- paste0(prefix, \"\\n  \")\n  .             }\n  .             else prefix <- \"Error : \"\n  .             msg <- paste0(prefix, conditionMessage(e), \"\\n\")\n  .             .Internal(seterrmessage(msg[1L]))\n  .             if (!silent && isTRUE(getOption(\"show.error.messages\"))) {\n  .                 cat(msg, file = outFile)\n  .                 .Internal(printDeferredWarnings())\n  .             }\n  .             invisible(structure(msg, class = \"try-error\", condition = e))\n  .         }), tryCatchList(expr, classes, parentenv, handlers), \n  .     tryCatchOne(expr, names, parentenv, handlers[[1L]]), doTryCatch(return(expr), \n  .         name, parentenv, handler), withCallingHandlers(withVisible(eval_with_user_handlers(expr, \n  .         envir, enclos, user_handlers)), warning = wHandler, error = eHandler, \n  .         message = mHandler), withVisible(eval_with_user_handlers(expr, \n  .         envir, enclos, user_handlers)), eval_with_user_handlers(expr, \n  .         envir, enclos, user_handlers), eval(expr, envir, enclos), \n  .     eval(expr, envir, enclos), welfare %>% select(code_region, \n  .         region) %>% head, head(.), select(., code_region, region), \n  .     select.data.frame(., code_region, region), tidyselect::eval_select(expr(c(...)), \n  .         data = .data, error_call = error_call), eval_select_impl(data, \n  .         names(data), as_quosure(expr, env), include = include, \n  .         exclude = exclude, strict = strict, name_spec = name_spec, \n  .         allow_rename = allow_rename, allow_empty = allow_empty, \n  .         allow_predicates = allow_predicates, error_call = error_call, \n  .         ), with_subscript_errors(out <- vars_select_eval(vars, \n  .         expr, strict = strict, data = x, name_spec = name_spec, \n  .         uniquely_named = uniquely_named, allow_rename = allow_rename, \n  .         allow_empty = allow_empty, allow_predicates = allow_predicates, \n  .         type = type, error_call = error_call), type = type), \n  .     try_fetch(expr, vctrs_error_subscript = function(cnd) {\n  .         cnd$subscript_action <- subscript_action(type)\n  .         cnd$subscript_elt <- \"column\"\n  .         cnd_signal(cnd)\n  .     }), withCallingHandlers(expr, condition = function(cnd) {\n  .         {\n  .             .__handler_frame__. <- TRUE\n  .             .__setup_frame__. <- frame\n  .             if (inherits(cnd, \"message\")) {\n  .                 except <- c(\"warning\", \"error\")\n  .             }\n  .             else if (inherits(cnd, \"warning\")) {\n  .                 except <- \"error\"\n  .             }\n  .             else {\n  .                 except <- \"\"\n  .             }\n  .         }\n  .         while (!is_null(cnd)) {\n  .             if (inherits(cnd, \"vctrs_error_subscript\")) {\n  .                 out <- handlers[[1L]](cnd)\n  .                 if (!inherits(out, \"rlang_zap\")) \n  .                   throw(out)\n  .             }\n  .             inherit <- .subset2(.subset2(cnd, \"rlang\"), \"inherit\")\n  .             if (is_false(inherit)) {\n  .                 return()\n  .             }\n  .             cnd <- .subset2(cnd, \"parent\")\n  .         }\n  .     }), vars_select_eval(vars, expr, strict = strict, data = x, \n  .         name_spec = name_spec, uniquely_named = uniquely_named, \n  .         allow_rename = allow_rename, allow_empty = allow_empty, \n  .         allow_predicates = allow_predicates, type = type, error_call = error_call), \n  .     walk_data_tree(expr, data_mask, context_mask), eval_c(expr, \n  .         data_mask, context_mask), reduce_sels(node, data_mask, \n  .         context_mask, init = init), walk_data_tree(new, data_mask, \n  .         context_mask), as_indices_sel_impl(out, vars = vars, \n  .         strict = strict, data = data, allow_predicates = allow_predicates, \n  .         call = error_call, arg = as_label(expr)), as_indices_impl(x, \n  .         vars, call = call, arg = arg, strict = strict), chr_as_locations(x, \n  .         vars, call = call, arg = arg), vctrs::vec_as_location(x, \n  .         n = length(vars), names = vars, call = call, arg = arg), \n  .     `<fn>`(), stop_subscript_oob(i = i, subscript_type = subscript_type, \n  .         names = names, subscript_action = subscript_action, subscript_arg = subscript_arg, \n  .         call = call), stop_subscript(class = \"vctrs_error_subscript_oob\", \n  .         i = i, subscript_type = subscript_type, ..., call = call), \n  .     abort(class = c(class, \"vctrs_error_subscript\"), i = i, ..., \n  .         call = call)), parent = c(0L, 1L, 2L, 3L, 4L, 5L, 6L, \n  . 7L, 6L, 9L, 10L, 4L, 12L, 13L, 13L, 15L, 16L, 17L, 18L, 19L, \n  . 13L, 13L, 13L, 23L, 24L, 0L, 0L, 0L, 0L, 29L, 30L, 31L, 32L, \n  . 33L, 31L, 35L, 36L, 37L, 38L, 39L, 40L, 41L, 42L, 0L, 44L, 45L, \n  . 46L), visible = c(TRUE, TRUE, TRUE, TRUE, TRUE, TRUE, TRUE, TRUE, \n  . TRUE, TRUE, TRUE, TRUE, TRUE, TRUE, TRUE, TRUE, TRUE, TRUE, TRUE, \n  . TRUE, TRUE, TRUE, TRUE, TRUE, TRUE, TRUE, TRUE, TRUE, TRUE, FALSE, \n  . FALSE, FALSE, FALSE, FALSE, FALSE, FALSE, FALSE, FALSE, FALSE, \n  . FALSE, FALSE, FALSE, FALSE, FALSE, FALSE, FALSE, FALSE), namespace = c(\"IRkernel\", \n  . NA, \"IRkernel\", NA, \"base\", \"base\", \"base\", \"base\", \"base\", \"base\", \n  . \"base\", \"evaluate\", \"evaluate\", \"evaluate\", \"evaluate\", \"base\", \n  . \"base\", \"base\", \"base\", \"base\", \"base\", \"base\", \"evaluate\", \"base\", \n  . \"base\", NA, \"utils\", \"dplyr\", \"dplyr\", \"tidyselect\", \"tidyselect\", \n  . \"tidyselect\", \"rlang\", \"base\", \"tidyselect\", \"tidyselect\", \"tidyselect\", \n  . \"tidyselect\", \"tidyselect\", \"tidyselect\", \"tidyselect\", \"tidyselect\", \n  . \"vctrs\", \"vctrs\", \"vctrs\", \"vctrs\", \"rlang\"), scope = c(\"::\", \n  . NA, \"local\", NA, \"::\", \"local\", \"local\", \"local\", \"local\", \"local\", \n  . \"local\", \"::\", \":::\", \"local\", \"local\", \"::\", \"::\", \"local\", \n  . \"local\", \"local\", \"::\", \"::\", \":::\", \"::\", \"::\", NA, \"::\", \"::\", \n  . \":::\", \"::\", \":::\", \":::\", \"::\", \"::\", \":::\", \":::\", \":::\", \":::\", \n  . \":::\", \":::\", \":::\", \":::\", \"::\", \"local\", \":::\", \":::\", \"::\"\n  . ), error_frame = c(FALSE, FALSE, FALSE, FALSE, FALSE, FALSE, \n  . FALSE, FALSE, FALSE, FALSE, FALSE, FALSE, FALSE, FALSE, FALSE, \n  . FALSE, FALSE, FALSE, FALSE, FALSE, FALSE, FALSE, FALSE, FALSE, \n  . FALSE, FALSE, FALSE, FALSE, TRUE, FALSE, FALSE, FALSE, FALSE, \n  . FALSE, FALSE, FALSE, FALSE, FALSE, FALSE, FALSE, FALSE, FALSE, \n  . FALSE, FALSE, FALSE, FALSE, FALSE)), row.names = c(NA, -47L), version = 2L, class = c(\"rlang_trace\", \n  . \"rlib_trace\", \"tbl\", \"data.frame\")), parent = NULL, i = \"region\", \n  .     subscript_type = \"character\", names = c(\"h10_id\", \"h10_ind\", \n  .     \"h10_sn\", \"h10_merkey\", \"h_new\", \"h10_cobf\", \"h10_reg5\", \n  .     \"code_region\", \"h10_din\", \"h10_cin\", \"h10_flag\", \"p10_wgl\", \n  .     \"p10_wsl\", \"p10_wgc\", \"p10_wsc\", \"h10_hc\", \"nh1001_1\", \"nh1001_2\", \n  .     \"h1001_1\", \"h10_pind\", \"h10_pid\", \"h10_g1\", \"h10_g2\", \"sex\", \n  .     \"birth\", \"h10_g6\", \"h10_g7\", \"h10_g8\", \"h10_g9\", \"marriage\", \n  .     \"religion\", \"h10_g12\", \"h1001_110\", \"h1001_5aq1\", \"h1001_5aq2\", \n  .     \"h1001_5aq3\", \"h1001_5aq4\", \"h10_med1\", \"h10_med2\", \"h10_med3\", \n  .     \"h10_med4\", \"h10_med5\", \"h10_med6\", \"h10_med7\", \"h10_med8\", \n  .     \"h10_g9_1\", \"h10_med9\", \"h10_med10\", \"h10_eco1\", \"h10_eco2\", \n  .     \"h10_eco3\", \"h10_eco4\", \"h10_eco4_1\", \"h10_eco5_1\", \"h10_eco6\", \n  .     \"h10_eco_7_1\", \"h10_eco_7_2\", \"h10_eco_7_3\", \"h10_eco8\", \n  .     \"code_job\", \"h10_eco10\", \"h10_eco11\", \"h10_soc1\", \"h10_soc_2\", \n  .     \"h10_soc_3\", \"h10_soc_4\", \"h10_soc_5\", \"h10_soc_6\", \"h10_soc_7\", \n  .     \"h10_soc_8\", \"h10_soc_9\", \"h10_soc_10\", \"h10_soc_11\", \"h10_soc8\", \n  .     \"h10_soc9\", \"h10_soc11\", \"h10_soc10\", \"h10_soc_12\", \"h10_soc_13\", \n  .     \"h1005_1\", \"h1005_3aq1\", \"h1005_2\", \"h1005_3\", \"h1005_4\", \n  .     \"h1005_5\", \"h1005_6\", \"h1005_7\", \"nh1005_8\", \"nh1005_9\", \n  .     \"h1005_3aq2\", \"h1006_aq1\", \"h1006_1\", \"h1006_2\", \"h1006_4\", \n  .     \"h1006_5\", \"h1006_3\", \"h1006_6\", \"h1006_8\", \"h1006_9\", \"h1006_aq2\", \n  .     \"h1006_aq3\", \"h1006_10\", \"h1006_11\", \"h1006_12\", \"h1006_13\", \n  .     \"h1006_14\", \"h1006_21\", \"h1006_22\", \"h1006_23\", \"h1006_24\", \n  .     \"h1006_25\", \"h1006_27\", \"h1006_30\", \"h1006_33\", \"h1006_36\", \n  .     \"h1006_39\", \"h1006_3aq1\", \"h1007_3aq1\", \"h1007_3aq2\", \"h1007_5aq1\", \n  .     \"h1007_3aq3\", \"h1007_3aq4\", \"h1007_3aq5\", \"h1007_6aq1\", \"h1007_3aq6\", \n  .     \"h1007_5aq2\", \"h1007_3aq7\", \"h1007_3aq8\", \"h1007_3aq9\", \"h1007_3aq10\", \n  .     \"h1007_3aq11\", \"h1007_5aq3\", \"h1007_5aq4\", \"h1007_3aq13\", \n  .     \"h1007_6aq4\", \"h1007_6aq6\", \"h1007_3aq14\", \"h1007_3aq15\", \n  .     \"h1007_3aq16\", \"h1007_3aq17\", \"h1007_4\", \"h1007_6aq7\", \"h1007_6aq8\", \n  .     \"h1007_6aq9\", \"h1007_6aq10\", \"h1007_6aq11\", \"h1007_5\", \"h1007_6aq12\", \n  .     \"h1007_6aq13\", \"h1007_6aq14\", \"h1007_9\", \"h1009_9\", \"h1009_6aq4\", \n  .     \"h10_inc1\", \"h10_inc2_1\", \"h10_inc2_2\", \"h10_inc3_1\", \"h10_inc3_2\", \n  .     \"h10_inc4_1\", \"h10_inc4_2\", \"h10_inc5_1\", \"h10_inc5_2\", \"h10_inc6_1\", \n  .     \"h10_inc6_2\", \"h10_inc7_1\", \"h10_inc7_2\", \"h1008_106\", \"h1008_107\", \n  .     \"h1008_108\", \"h1008_109\", \"h1008_110\", \"h1008_111\", \"h10_inc2_3\", \n  .     \"h10_inc2\", \"h10_inc3_6\", \"h10_inc3\", \"h10_inc4_7\", \"h10_inc4\", \n  .     \"h10_inc4_8\", \"h10_inc4_9\", \"h1008_155\", \"h1008_156\", \"h1008_157\", \n  .     \"h1008_158\", \"h1008_160\", \"h1008_159\", \"h1008_3aq3\", \"h1008_161\", \n  .     \"h1008_162\", \"h1008_163\", \"h1008_164\", \"h1008_166\", \"h1008_165\", \n  .     \"h1008_3aq4\", \"h1008_167\", \"h1008_168\", \"h1008_169\", \"h1008_170\", \n  .     \"h10_inc7_3\", \"h10_inc7\", \"h1008_aq9\", \"h1008_aq10\", \"h1008_aq11\", \n  .     \"h1008_aq12\", \"h1008_aq13\", \"h1008_aq14\", \"h1008_aq15\", \"h1008_6aq1\", \n  .     \"h1008_aq16\", \"h1008_aq17\", \"h1008_10aq1\", \"h1008_aq19\", \n  .     \"h1008_aq20\", \"h1008_aq21\", \"h1008_5aq3\", \"h1008_7aq1\", \"h1008_aq22\", \n  .     \"h1008_7aq2\", \"h1008_aq23\", \"h1008_aq24\", \"h1008_4aq116\", \n  .     \"h1008_4aq117\", \"h1008_5aq1\", \"h1008_7aq4\", \"h1008_7aq5\", \n  .     \"h1008_7aq6\", \"h1008_7aq7\", \"h1008_7aq8\", \"h1008_7aq9\", \"h1008_aq25\", \n  .     \"h1008_7aq10\", \"h1008_aq26\", \"h1008_aq27\", \"h1008_aq28\", \n  .     \"h1008_aq29\", \"h1008_3aq5\", \"h1008_4aq118\", \"h1008_aq30\", \n  .     \"h1008_6aq3\", \"h1008_3aq6\", \"h1008_3aq7\", \"nh1008_3aq1\", \n  .     \"h1008_aq32\", \"h1008_aq33\", \"h1008_aq34\", \"h1008_3aq8\", \"h1008_195\", \n  .     \"h1008_7aq11\", \"h1009_aq1\", \"h1009_aq2\", \"h1009_aq3\", \"h1009_aq4\", \n  .     \"h1009_aq5\", \"h1009_aq6\", \"h1009_aq7\", \"h1009_aq8\", \"h1010_aq1\", \n  .     \"h1010_aq2\", \"h1010_aq3\", \"h1010_aq4\", \"h1010_aq5\", \"h1010_aq6\", \n  .     \"h1010_aq7\", \"h1010_aq8\", \"h1010_aq9\", \"h1010_aq10\", \"h1010_aq11\", \n  .     \"h1010_aq12\", \"h1010_aq13\", \"h1010_aq14\", \"h1010_aq15\", \"h1010_aq16\", \n  .     \"h1010_aq17\", \"h1010_aq18\", \"h1010_aq19\", \"h1010_aq20\", \"h1010_26\", \n  .     \"h1010_27\", \"h1010_aq23\", \"h1010_aq24\", \"h1010_aq25\", \"h1010_aq26\", \n  .     \"h1011_2\", \"h1011_3\", \"h1011_4\", \"h1011_5\", \"h1011_6\", \"h1011_7\", \n  .     \"h1011_8\", \"h1011_3aq1\", \"h1011_3aq2\", \"h1011_3aq3\", \"h1011_3aq4\", \n  .     \"h1011_3aq5\", \"h1011_3aq6\", \"h1011_3aq7\", \"h1012_1\", \"nh1012_1\", \n  .     \"h1012_2\", \"h1012_3\", \"h1012_4\", \"h1012_5\", \"h1012_6\", \"h1012_7\", \n  .     \"nh1012_7\", \"nh1012_8\", \"h1012_9\", \"h1012_10\", \"h1012_11\", \n  .     \"h1012_12\", \"h1012_13\", \"h1012_14\", \"h1012_15\", \"h1012_3aq1\", \n  .     \"h1012_16\", \"h1012_17\", \"h1012_18\", \"h1012_19\", \"h1012_1_4aq1\", \n  .     \"h1012_1_5aq1\", \"h1012_1_5aq2\", \"h1012_1_5aq3\", \"h1012_1_5aq4\", \n  .     \"h1012_1_5aq5\", \"h1012_1_4aq2\", \"h1012_1_4aq3\", \"h1013_2\", \n  .     \"h1013_6\", \"h1013_10\", \"h1013_14\", \"h1013_18\", \"h1013_22\", \n  .     \"h1013_26\", \"h1013_8aq1\", \"h1013_5aq1\", \"h1013_8aq2\", \"h1013_4aq1\", \n  .     \"h1013_4aq2\", \"h1013_4aq4\", \"h1013_4aq6\", \"h1013_4aq8\", \"h1013_4aq10\", \n  .     \"h1013_5aq4\", \"h1013_5aq6\", \"h1013_5aq8\", \"h1013_6aq1\", \"h1013_4aq14\", \n  .     \"h1013_4aq15\", \"h1013_4aq16\", \"h1013_4aq17\", \"h1013_4aq18\", \n  .     \"h1013_4aq20\", \"h1013_4aq22\", \"h1013_4aq24\", \"h1013_4aq26\", \n  .     \"h1013_4aq28\", \"h1013_4aq30\", \"h1013_4aq32\", \"h1014_4\", \"h1014_8\", \n  .     \"h1014_12\", \"h1014_16\", \"h1014_20\", \"h1014_24\", \"h1014_28\", \n  .     \"h1014_32\", \"h1014_36\", \"h1014_3aq1\", \"h1014_4aq1\", \"h1015_4\", \n  .     \"h1015_8\", \"h1015_12\", \"h1015_20\", \"h1015_25\", \"h1015_29\", \n  .     \"h1015_33\", \"h1015_37\", \"h1015_4aq1\", \"h1015_7aq1\", \"h1015_aq1\", \n  .     \"h1015_40\", \"h1015_41\", \"h1015_42\", \"h1015_43\", \"h1015_44\", \n  .     \"h1015_45\", \"h1015_46\", \"h1015_47\", \"h1015_48\", \"h1015_49\", \n  .     \"h1015_50\", \"h1015_51\", \"h1015_52\", \"h1015_53\", \"h1015_54\", \n  .     \"h1015_55\", \"h1015_56\", \"h1015_57\", \"h1015_60\", \"h1015_aq2\", \n  .     \"h1015_61\", \"h1015_62\", \"h1015_63\", \"h1015_66\", \"h1015_67\", \n  .     \"h1015_68\", \"h1015_aq3\", \"h1015_69\", \"h1015_70\", \"h1015_71\", \n  .     \"h1015_74\", \"h1015_75\", \"h1015_76\", \"h1015_aq4\", \"h1015_77\", \n  .     \"h1015_78\", \"h1015_79\", \"h1015_82\", \"h1015_83\", \"h1015_84\", \n  .     \"h1015_aq5\", \"h1015_85\", \"h1015_86\", \"h1015_87\", \"h1015_90\", \n  .     \"h1015_91\", \"h1015_92\", \"h1015_aq6\", \"h1015_93\", \"h1015_94\", \n  .     \"h1015_95\", \"h1015_98\", \"h1015_99\", \"h1015_100\", \"h1015_aq7\", \n  .     \"h1015_101\", \"h1015_102\", \"h1015_103\", \"h1015_106\", \"h1015_107\", \n  .     \"h1016_6aq1\", \"h1016_6aq4\", \"h1016_8\", \"h1016_24\", \"h1016_4aq1\", \n  .     \"h1016_4aq4\", \"h1016_32\", \"h1016_36\", \"h1016_40\", \"h1016_4aq7\", \n  .     \"h1016_56\", \"h1016_60\", \"h1016_64\", \"h1017_1\", \"h1017_2\", \n  .     \"h1017_3\", \"h1017_4\", \"h1017_5\", \"h1017_6\", \"h1017_7\", \"p10_fnum\", \n  .     \"p10_tq\", \"p10_cp\", \"p1001_1\", \"p1001_2\", \"p1001_aq1\", \"p1001_3\", \n  .     \"p1001_4\", \"p1001_5\", \"p1001_6\", \"p1001_10\", \"p1001_11\", \n  .     \"p1001_12\", \"p1001_13\", \"p1001_14\", \"p1001_7\", \"p1001_8\", \n  .     \"p1001_9\", \"p1001_15\", \"p1001_16\", \"p1001_17\", \"p1001_18\", \n  .     \"p1001_19\", \"p1001_20\", \"p1001_21\", \"p1001_22\", \"p1001_23\", \n  .     \"p1001_24\", \"p1001_25\", \"p1001_27\", \"p1001_28\", \"p1001_29\", \n  .     \"p1001_30\", \"p1001_31\", \"p1001_32\", \"p1001_33\", \"p1001_34\", \n  .     \"p1002_1\", \"p1002_2\", \"p1002_3\", \"p1002_4\", \"p1002_5\", \"p1002_6\", \n  .     \"p1002_7\", \"p1002_8\", \"income\", \"p1002_9\", \"p1002_8aq2\", \n  .     \"p1002_4aq1\", \"p1002_10\", \"p1002_11\", \"p1002_12\", \"p1002_8aq3\", \n  .     \"p1002_8aq4\", \"p1002_31\", \"p1002_4aq2\", \"p1002_4aq3\", \"p1002_4aq4\", \n  .     \"p1002_8aq5\", \"p1002_8aq6\", \"p1002_8aq7\", \"p1002_8aq8\", \"p1002_8aq9\", \n  .     \"p1002_8aq10\", \"p1002_8aq11\", \"p1002_8aq12\", \"p1002_8aq13\", \n  .     \"p1002_8aq14\", \"p1002_8aq15\", \"p1002_aq2\", \"p1002_aq3\", \"p1002_aq4\", \n  .     \"p1002_aq5\", \"p1003_1\", \"p1003_2\", \"p1003_5\", \"p1003_6\", \n  .     \"p1003_7\", \"p1003_8\", \"p1003_9\", \"p1003_10\", \"p1003_11\", \n  .     \"p1003_12\", \"p1004_1\", \"p1004_2\", \"p1004_3\", \"p1004_4\", \"p1004_5\", \n  .     \"p1004_6\", \"p1004_7\", \"p1004_8\", \"p1004_9\", \"p1004_10\", \"p1004_11\", \n  .     \"p1004_12\", \"p1004_13\", \"p1004_3aq1\", \"p1004_3aq2\", \"p1004_3aq3\", \n  .     \"p1004_3aq4\", \"p1004_3aq5\", \"p1004_3aq6\", \"p1004_3aq7\", \"p1004_3aq8\", \n  .     \"p1005_3aq1\", \"p1005_3aq2\", \"p1005_3aq3\", \"p1005_3aq4\", \"p1005_3aq5\", \n  .     \"p1005_3aq6\", \"p1005_3aq7\", \"p1005_3aq8\", \"p1005_3aq9\", \"p1005_3aq10\", \n  .     \"p1005_2\", \"p1005_3\", \"p1005_4aq1\", \"p1005_4aq2\", \"p1005_4aq3\", \n  .     \"p1005_4aq4\", \"p1005_4aq5\", \"p1005_4aq6\", \"p1005_4aq7\", \"p1005_4aq8\", \n  .     \"p1005_5\", \"p1005_6\", \"p1005_7\", \"p1005_8\", \"p1005_3aq11\", \n  .     \"p1005_9\", \"p1005_10\", \"p1005_11\", \"p1005_12\", \"p1005_13\", \n  .     \"p1005_14\", \"p1005_15\", \"p1005_16\", \"p1005_17\", \"p1005_18\", \n  .     \"p1005_19\", \"p1005_20\", \"p1005_21\", \"p1005_22\", \"p1005_23\", \n  .     \"p1005_24\", \"p1005_25\", \"p1005_26\", \"p1005_27\", \"p1005_28\", \n  .     \"p1005_29\", \"p1005_4aq9\", \"p1005_4aq10\", \"p1005_4aq11\", \"p1005_aq1\", \n  .     \"p1005_aq2\", \"p1005_aq3\", \"p1005_aq4\", \"p1005_6aq1\", \"p1005_6aq2\", \n  .     \"p1005_6aq3\", \"p1005_6aq4\", \"p1005_6aq5\", \"p1005_6aq6\", \"p1005_6aq7\", \n  .     \"p1005_6aq8\", \"p1005_6aq9\", \"p1005_7aq1\", \"p1005_7aq2\", \"p1005_7aq3\", \n  .     \"p1007_3aq1\", \"p1007_3aq2\", \"p1007_3aq3\", \"p1007_3aq4\", \"p1007_3aq5\", \n  .     \"p1007_3aq6\", \"p1007_3aq7\", \"np1006_1\", \"np1006_2\", \"np1006_3\", \n  .     \"np1006_4\", \"np1006_5\", \"np1006_6\", \"np1006_7\", \"np1006_8\", \n  .     \"np1006_9\", \"np1006_10\", \"np1006_11\", \"np1006_12\", \"np1006_13\", \n  .     \"np1006_14\", \"np1006_15\", \"np1006_16\", \"np1006_17\", \"np1006_18\", \n  .     \"np1006_19\", \"np1006_20\", \"np1006_21\", \"np1006_22\", \"np1006_23\", \n  .     \"np1006_24\", \"np1006_25\", \"np1006_26\", \"np1006_27\", \"np1006_28\", \n  .     \"np1006_29\", \"np1006_30\", \"np1006_31\", \"np1006_32\", \"np1006_33\", \n  .     \"np1006_34\", \"np1006_35\", \"np1006_36\", \"np1006_37\", \"np1006_38\", \n  .     \"np1006_39\", \"np1006_40\", \"np1006_41\", \"np1006_42\", \"np1006_43\", \n  .     \"np1006_44\", \"p1006_3aq1\", \"c10_fnum\", \"c10_cp\", \"c10_grade\", \n  .     \"c1001_1\", \"c1001_2\", \"c1001_3\", \"c1001_4\", \"c1001_5\", \"c1001_6\", \n  .     \"c1001_7\", \"c1001_8\", \"c1001_9\", \"c1001_10\", \"c1001_11\", \n  .     \"c1001_12\", \"c1001_13\", \"c1001_7aq5\", \"c1001_7aq6\", \"c1001_7aq7\", \n  .     \"c1001_7aq8\", \"c1001_4aq1\", \"c1001_4aq2\", \"c1001_4aq3\", \"c1001_4aq4\", \n  .     \"c1001_4aq5\", \"c1001_4aq6\", \"c1002_1\", \"c1002_2\", \"c1002_3\", \n  .     \"c1002_4\", \"c1002_5\", \"c1002_6\", \"c1002_7\", \"c1002_8\", \"c1002_9\", \n  .     \"c1002_10\", \"c1002_11\", \"c1002_12\", \"c1002_13\", \"c1002_14\", \n  .     \"c1002_15\", \"c1002_16\", \"c1002_17\", \"c1002_18\", \"c1002_19\", \n  .     \"c1002_20\", \"c1002_21\", \"c1002_22\", \"c1002_23\", \"c1002_24\", \n  .     \"c1002_25\", \"c1002_26\", \"c1002_4aq1\", \"c1002_27\", \"c1002_28\", \n  .     \"c1002_29\", \"c1002_30\", \"c1002_31\", \"c1002_32\", \"c1002_33\", \n  .     \"c1002_34\", \"c1002_35\", \"c1002_36\", \"c1002_37\", \"c1002_38\", \n  .     \"c1002_39\", \"c1002_40\", \"c1002_41\", \"c1002_42\", \"c1002_43\", \n  .     \"c1002_44\", \"c1002_45\", \"c1002_46\", \"c1002_47\", \"c1002_48\", \n  .     \"c1002_49\", \"c1002_50\", \"c1002_51\", \"c1002_52\", \"c1002_53\", \n  .     \"c1002_54\", \"c1002_55\", \"c1002_56\", \"c1002_57\", \"c1002_58\", \n  .     \"c1002_4aq2\", \"c1002_59\", \"c1002_60\", \"c1002_61\", \"c1002_62\", \n  .     \"c1002_63\", \"c1002_64\", \"c1002_65\", \"c1002_66\", \"c1002_67\", \n  .     \"c1002_68\", \"c1002_69\", \"c1002_70\", \"c1002_71\", \"c1002_72\", \n  .     \"c1002_73\", \"c1002_74\", \"c1002_75\", \"c1002_76\", \"c1002_77\", \n  .     \"c1002_7aq1\", \"c1002_7aq2\", \"c1002_7aq3\", \"c1002_7aq4\", \"c1002_7aq5\", \n  .     \"c1002_7aq6\", \"c1002_7aq7\", \"c1002_7aq8\", \"c1002_7aq9\", \"c1002_7aq10\", \n  .     \"c1002_7aq11\", \"c1002_7aq12\", \"c1002_7aq13\", \"c1002_7aq14\", \n  .     \"c1002_78\", \"c1002_79\", \"c1002_80\", \"c1002_81\", \"c1002_82\", \n  .     \"c1002_83\", \"c1002_84\", \"c1002_85\", \"c1002_86\", \"c1002_87\", \n  .     \"c1002_88\", \"c1002_89\", \"c1002_90\", \"c1002_91\", \"c1002_92\", \n  .     \"c1002_93\", \"c1002_94\", \"c1002_95\", \"c1002_96\", \"c1002_97\", \n  .     \"c1002_98\", \"c1002_4aq3\", \"c1002_4aq4\", \"c1002_4aq5\", \"c1002_4aq6\", \n  .     \"c1002_4aq7\", \"c1002_4aq8\", \"c1002_7aq15\", \"c1003_4aq1\", \n  .     \"c1003_4aq2\", \"c1003_4aq3\", \"c1003_4aq4\", \"c1003_4aq5\", \"c1003_4aq6\", \n  .     \"c1003_4aq7\", \"c1003_4aq8\", \"c1003_4aq9\", \"c1003_6\", \"c1003_7\", \n  .     \"c1003_8\", \"c1003_9\", \"c1003_13\", \"c1003_14\", \"c1003_15\", \n  .     \"c1004_4aq1\", \"c1004_4aq2\", \"c1004_4aq3\", \"c1004_4aq4\", \"c1004_4aq5\", \n  .     \"c1004_4aq6\", \"c1004_1\", \"c1004_2\", \"c1004_3\", \"c1004_4\", \n  .     \"c1004_5\", \"c1004_6\", \"c1004_7\", \"c1004_8\", \"c1004_9\", \"c1004_10\", \n  .     \"c1004_4aq7\", \"c1004_4aq8\", \"c1005_12\", \"c1005_13\", \"c1005_14\", \n  .     \"c1005_15\", \"c1005_16\", \"c1005_17\", \"c1005_4aq1\", \"c1005_18\", \n  .     \"c1005_19\", \"c1005_7aq1\", \"c1005_7aq2\", \"c1005_7aq3\", \"c1005_7aq4\", \n  .     \"c1005_7aq5\", \"c1005_7aq6\", \"c1005_7aq7\", \"c1005_7aq8\", \"c1005_7aq9\", \n  .     \"c1005_7aq10\", \"c1005_7aq11\", \"c1005_7aq12\", \"c1005_7aq13\", \n  .     \"c1005_7aq14\", \"c1005_7aq15\", \"c1005_7aq16\", \"c1005_7aq17\", \n  .     \"c1005_7aq18\", \"c1005_7aq19\", \"c1005_7aq20\", \"c1005_20\", \n  .     \"c1005_21\", \"c1005_22\", \"c1005_23\", \"c1005_24\", \"c1005_25\", \n  .     \"c1005_26\", \"c1005_27\", \"c1005_28\", \"c1005_29\", \"c1005_30\", \n  .     \"c1005_31\", \"c1005_32\", \"c1005_36\", \"c1005_4aq2\", \"c1005_38\", \n  .     \"c1005_4aq3\", \"c1005_40\", \"c1005_10aq1\", \"c1005_42\", \"c1005_4aq4\", \n  .     \"c1005_44\", \"c1005_4aq5\", \"c1005_46\", \"c1005_4aq6\", \"c1005_48\", \n  .     \"c1005_4aq7\", \"c1005_4aq8\", \"c1005_4aq9\", \"c1005_4aq10\", \n  .     \"c1005_4aq11\", \"c1005_4aq12\", \"c1005_4aq13\", \"c1005_4aq14\", \n  .     \"c1005_4aq15\", \"c1007_4aq1\", \"c1007_4aq2\", \"c1007_7aq1\", \n  .     \"c1007_7aq2\", \"c1007_7aq3\", \"c1007_4aq3\", \"c1007_4aq4\", \"c1007_4aq5\", \n  .     \"c1007_4aq6\", \"c1007_4aq7\", \"c1007_4aq8\", \"c1007_4aq9\", \"c1007_4aq10\", \n  .     \"c1007_4aq11\", \"c1007_4aq12\", \"c1007_4aq13\", \"c1007_4aq14\", \n  .     \"c1007_4aq15\", \"c1007_4aq16\", \"c1007_4aq17\", \"c1007_4aq18\", \n  .     \"c1007_4aq19\", \"c1007_4aq20\", \"c1007_4aq21\", \"c1007_4aq22\", \n  .     \"c1007_4aq23\", \"h10_pers_income1\", \"h10_pers_income2\", \"h10_pers_income3\", \n  .     \"h10_pers_income4\", \"h10_pers_income5\", \"group_marriage\"), \n  .     subscript_action = NULL, subscript_arg = \"region\", rlang = list(\n  .         inherit = TRUE), call = select(., code_region, region)), class = c(\"vctrs_error_subscript_oob\", \n  . \"vctrs_error_subscript\", \"rlang_error\", \"error\", \"condition\")))",
            "26. handlers[[1L]](cnd)",
            "27. cnd_signal(cnd)",
            "28. signal_abort(cnd)"
          ]
        }
      ]
    },
    {
      "cell_type": "markdown",
      "source": [
        "### 2) 지역별 연령대 비율 분석하기\n",
        "#### (1) 지역별 연령대 비율표 만들기"
      ],
      "metadata": {
        "id": "KSa-ZNxcYN2f"
      }
    },
    {
      "cell_type": "code",
      "source": [
        "region_ageg <- welfare %>% group_by(region, ageg) %>% summarise(n = n()) %>% mutate(tot_group = sum(n),\n",
        "pct = round(n/tot_group*100, 2))"
      ],
      "metadata": {
        "colab": {
          "base_uri": "https://localhost:8080/",
          "height": 326
        },
        "id": "l7DtgKtiYE5q",
        "outputId": "df2fb7b3-b37b-4264-9862-4fca60a6574d"
      },
      "execution_count": null,
      "outputs": [
        {
          "output_type": "error",
          "ename": "ERROR",
          "evalue": "\u001b[1m\u001b[33mError\u001b[39m in `group_by()`:\u001b[22m\n\u001b[1m\u001b[22m\u001b[33m!\u001b[39m Must group by variables found in `.data`.\nColumn `region` is not found.\nColumn `ageg` is not found.\n",
          "traceback": [
            "\u001b[1m\u001b[33mError\u001b[39m in `group_by()`:\u001b[22m\n\u001b[1m\u001b[22m\u001b[33m!\u001b[39m Must group by variables found in `.data`.\nColumn `region` is not found.\nColumn `ageg` is not found.\nTraceback:\n",
            "1. welfare %>% group_by(region, ageg) %>% summarise(n = n()) %>% \n .     mutate(tot_group = sum(n), pct = round(n/tot_group * 100, \n .         2))",
            "2. mutate(., tot_group = sum(n), pct = round(n/tot_group * 100, \n .     2))",
            "3. summarise(., n = n())",
            "4. group_by(., region, ageg)",
            "5. group_by.data.frame(., region, ageg)",
            "6. group_by_prepare(.data, ..., .add = .add, error_call = current_env())",
            "7. abort(bullets, call = error_call)",
            "8. signal_abort(cnd, .file)"
          ]
        }
      ]
    },
    {
      "cell_type": "code",
      "source": [
        "head(region_ageg)"
      ],
      "metadata": {
        "colab": {
          "base_uri": "https://localhost:8080/",
          "height": 105
        },
        "id": "tB5ZWe1bYVbc",
        "outputId": "07c928ab-9f78-40c3-b742-8aa36d450196"
      },
      "execution_count": null,
      "outputs": [
        {
          "output_type": "error",
          "ename": "ERROR",
          "evalue": "Error in eval(expr, envir, enclos): object 'region_ageg' not found\n",
          "traceback": [
            "Error in eval(expr, envir, enclos): object 'region_ageg' not found\nTraceback:\n",
            "1. head(region_ageg)"
          ]
        }
      ]
    },
    {
      "cell_type": "markdown",
      "source": [
        "* count 활용"
      ],
      "metadata": {
        "id": "VpXjG2pyYY71"
      }
    },
    {
      "cell_type": "code",
      "source": [
        "region_ageg <- welfare %>% count(region, ageg) %>% group_by(region) %>%\n",
        "mutate(pct = round(n/sum(n)*100, 2))"
      ],
      "metadata": {
        "colab": {
          "base_uri": "https://localhost:8080/",
          "height": 326
        },
        "id": "H1hI3m7bYXNC",
        "outputId": "bc28285f-9cd9-4597-f541-e76a98bcbf01"
      },
      "execution_count": null,
      "outputs": [
        {
          "output_type": "error",
          "ename": "ERROR",
          "evalue": "\u001b[1m\u001b[33mError\u001b[39m in `count()`:\u001b[22m\n\u001b[1m\u001b[22m\u001b[33m!\u001b[39m Must group by variables found in `.data`.\nColumn `region` is not found.\nColumn `ageg` is not found.\n",
          "traceback": [
            "\u001b[1m\u001b[33mError\u001b[39m in `count()`:\u001b[22m\n\u001b[1m\u001b[22m\u001b[33m!\u001b[39m Must group by variables found in `.data`.\nColumn `region` is not found.\nColumn `ageg` is not found.\nTraceback:\n",
            "1. welfare %>% count(region, ageg) %>% group_by(region) %>% mutate(pct = round(n/sum(n) * \n .     100, 2))",
            "2. mutate(., pct = round(n/sum(n) * 100, 2))",
            "3. group_by(., region)",
            "4. count(., region, ageg)",
            "5. count.data.frame(., region, ageg)",
            "6. group_by(x, ..., .add = TRUE, .drop = .drop)",
            "7. group_by.data.frame(x, ..., .add = TRUE, .drop = .drop)",
            "8. group_by_prepare(.data, ..., .add = .add, error_call = current_env())",
            "9. abort(bullets, call = error_call)",
            "10. signal_abort(cnd, .file)"
          ]
        }
      ]
    },
    {
      "cell_type": "markdown",
      "source": [
        "#### (2) 그래프 만들기"
      ],
      "metadata": {
        "id": "rciMmvFWdw8l"
      }
    },
    {
      "cell_type": "code",
      "source": [
        "ggplot(data = region_ageg, aes(x = region, y = pct, fill = ageg)) + geom_col() +\n",
        "coord_flip()"
      ],
      "metadata": {
        "id": "6DUEZwvFYchc",
        "colab": {
          "base_uri": "https://localhost:8080/",
          "height": 105
        },
        "outputId": "3facbbfb-cab1-43ac-ac3b-c50c6207347f"
      },
      "execution_count": null,
      "outputs": [
        {
          "output_type": "error",
          "ename": "ERROR",
          "evalue": "Error in eval(expr, envir, enclos): object 'region_ageg' not found\n",
          "traceback": [
            "Error in eval(expr, envir, enclos): object 'region_ageg' not found\nTraceback:\n",
            "1. ggplot(data = region_ageg, aes(x = region, y = pct, fill = ageg))"
          ]
        }
      ]
    },
    {
      "cell_type": "markdown",
      "source": [
        "#### (3) 막대 정렬하기 : 노년층 비율 높은 순\n",
        "* 노년층 비율 내림차순 정렬"
      ],
      "metadata": {
        "id": "6Ts1-_ard5J0"
      }
    },
    {
      "cell_type": "code",
      "source": [
        "list_order_old <- region_ageg %>% filter(ageg == \"old\") %>% arrange(pct)\n"
      ],
      "metadata": {
        "colab": {
          "base_uri": "https://localhost:8080/",
          "height": 139
        },
        "id": "MdJnJNfWd5BC",
        "outputId": "43fc6ff2-e8dc-47ca-f7ea-f2552806e6ea"
      },
      "execution_count": null,
      "outputs": [
        {
          "output_type": "error",
          "ename": "ERROR",
          "evalue": "Error in eval(expr, envir, enclos): object 'region_ageg' not found\n",
          "traceback": [
            "Error in eval(expr, envir, enclos): object 'region_ageg' not found\nTraceback:\n",
            "1. region_ageg %>% filter(ageg == \"old\") %>% arrange(pct)",
            "2. arrange(., pct)",
            "3. filter(., ageg == \"old\")"
          ]
        }
      ]
    },
    {
      "cell_type": "code",
      "source": [
        "list_order_old"
      ],
      "metadata": {
        "colab": {
          "base_uri": "https://localhost:8080/",
          "height": 71
        },
        "id": "MjAPlf-gd2vo",
        "outputId": "b4846dd1-a530-494f-e0ed-c26c2ce39d56"
      },
      "execution_count": null,
      "outputs": [
        {
          "output_type": "error",
          "ename": "ERROR",
          "evalue": "Error in eval(expr, envir, enclos): object 'list_order_old' not found\n",
          "traceback": [
            "Error in eval(expr, envir, enclos): object 'list_order_old' not found\nTraceback:\n"
          ]
        }
      ]
    },
    {
      "cell_type": "markdown",
      "source": [
        "* 지역명 순서 변수 만들기"
      ],
      "metadata": {
        "id": "6Glli87veCYQ"
      }
    },
    {
      "cell_type": "code",
      "source": [
        "order <- list_order_old$region\n",
        "order"
      ],
      "metadata": {
        "colab": {
          "base_uri": "https://localhost:8080/",
          "height": 71
        },
        "id": "Zuv3Xgy-eBEA",
        "outputId": "4a7e5162-795e-4d48-a2b5-7a82e43eb297"
      },
      "execution_count": null,
      "outputs": [
        {
          "output_type": "error",
          "ename": "ERROR",
          "evalue": "Error in eval(expr, envir, enclos): object 'list_order_old' not found\n",
          "traceback": [
            "Error in eval(expr, envir, enclos): object 'list_order_old' not found\nTraceback:\n"
          ]
        }
      ]
    },
    {
      "cell_type": "code",
      "source": [
        "ggplot(data = region_ageg, aes(x = region, y = pct, fill = ageg)) + geom_col() +\n",
        "coord_flip() +\n",
        "scale_x_discrete(limits = order)"
      ],
      "metadata": {
        "colab": {
          "base_uri": "https://localhost:8080/",
          "height": 105
        },
        "id": "5L_ye_8reFSb",
        "outputId": "017e2fe4-f866-4f1d-a66b-07261e7ee980"
      },
      "execution_count": null,
      "outputs": [
        {
          "output_type": "error",
          "ename": "ERROR",
          "evalue": "Error in eval(expr, envir, enclos): object 'region_ageg' not found\n",
          "traceback": [
            "Error in eval(expr, envir, enclos): object 'region_ageg' not found\nTraceback:\n",
            "1. ggplot(data = region_ageg, aes(x = region, y = pct, fill = ageg))"
          ]
        }
      ]
    },
    {
      "cell_type": "markdown",
      "source": [
        "#### 4) 연령대 순으로 막대 색깔 나열하기"
      ],
      "metadata": {
        "id": "WPWvacRLeKTQ"
      }
    },
    {
      "cell_type": "code",
      "source": [
        "class(region_ageg$ageg)"
      ],
      "metadata": {
        "colab": {
          "base_uri": "https://localhost:8080/",
          "height": 71
        },
        "id": "fgstBbg5eJPb",
        "outputId": "5ec1379b-866e-45ef-feec-f9018338a6e7"
      },
      "execution_count": null,
      "outputs": [
        {
          "output_type": "error",
          "ename": "ERROR",
          "evalue": "Error in eval(expr, envir, enclos): object 'region_ageg' not found\n",
          "traceback": [
            "Error in eval(expr, envir, enclos): object 'region_ageg' not found\nTraceback:\n"
          ]
        }
      ]
    },
    {
      "cell_type": "code",
      "source": [
        "levels(region_ageg$ageg)"
      ],
      "metadata": {
        "colab": {
          "base_uri": "https://localhost:8080/",
          "height": 105
        },
        "id": "goq_RleBeOP0",
        "outputId": "3ea1f84a-2676-4e88-d9f6-61c2e2bd5c89"
      },
      "execution_count": null,
      "outputs": [
        {
          "output_type": "error",
          "ename": "ERROR",
          "evalue": "Error in eval(expr, envir, enclos): object 'region_ageg' not found\n",
          "traceback": [
            "Error in eval(expr, envir, enclos): object 'region_ageg' not found\nTraceback:\n",
            "1. levels(region_ageg$ageg)"
          ]
        }
      ]
    },
    {
      "cell_type": "code",
      "source": [
        "region_ageg$ageg <- factor(region_ageg$ageg,\n",
        "level = c(\"old\", \"middle\", \"young\"))\n",
        "class(region_ageg$ageg)"
      ],
      "metadata": {
        "colab": {
          "base_uri": "https://localhost:8080/",
          "height": 105
        },
        "id": "yzLtlqFxePkc",
        "outputId": "b1fa54c3-453a-4ec4-a9e5-71b782e94f86"
      },
      "execution_count": null,
      "outputs": [
        {
          "output_type": "error",
          "ename": "ERROR",
          "evalue": "Error in eval(expr, envir, enclos): object 'region_ageg' not found\n",
          "traceback": [
            "Error in eval(expr, envir, enclos): object 'region_ageg' not found\nTraceback:\n",
            "1. factor(region_ageg$ageg, level = c(\"old\", \"middle\", \"young\"))"
          ]
        }
      ]
    },
    {
      "cell_type": "code",
      "source": [
        "levels(region_ageg$ageg)"
      ],
      "metadata": {
        "colab": {
          "base_uri": "https://localhost:8080/",
          "height": 105
        },
        "id": "xbt7yXUmeRvK",
        "outputId": "c08a682d-bdc7-4a89-85b6-65c1f47e94c2"
      },
      "execution_count": null,
      "outputs": [
        {
          "output_type": "error",
          "ename": "ERROR",
          "evalue": "Error in eval(expr, envir, enclos): object 'region_ageg' not found\n",
          "traceback": [
            "Error in eval(expr, envir, enclos): object 'region_ageg' not found\nTraceback:\n",
            "1. levels(region_ageg$ageg)"
          ]
        }
      ]
    },
    {
      "cell_type": "code",
      "source": [
        "ggplot(data = region_ageg, aes(x = region, y = pct, fill = ageg)) + geom_col() +\n",
        "coord_flip() +\n",
        "scale_x_discrete(limits = order)"
      ],
      "metadata": {
        "colab": {
          "base_uri": "https://localhost:8080/",
          "height": 105
        },
        "id": "UYAr6MBgeS7Z",
        "outputId": "1328e476-00bf-4d60-97ac-9b8ceca2046a"
      },
      "execution_count": null,
      "outputs": [
        {
          "output_type": "error",
          "ename": "ERROR",
          "evalue": "Error in eval(expr, envir, enclos): object 'region_ageg' not found\n",
          "traceback": [
            "Error in eval(expr, envir, enclos): object 'region_ageg' not found\nTraceback:\n",
            "1. ggplot(data = region_ageg, aes(x = region, y = pct, fill = ageg))"
          ]
        }
      ]
    },
    {
      "cell_type": "markdown",
      "source": [
        "### 결론\n",
        "* 대구/경북의 노년층 비율은 45.6%로 가장 높다.\n",
        "* 그 뒤로 강원/충북, 광주/전남/전북/제주도 순으로 높다는 것을 알 수 있다.\n",
        "* 반대로 수도권의 경우, 노년층의 비율은 29.9%로 가장 낮다.\n",
        "\n",
        "* 대구/경북의 고령화 관련 조사 결과, 동북지방통계청 관계자는 \"경북은 고령화로 인해 사업·개인·공공서비스업 종사자가 감소하고 있다. 코로나 팬데믹때 방역 등 일자리를 얻었던 노인들이 실업했고, 아이가 많지 않아 학원,유치원 등이 줄어든 영향도 있다. 더욱이 올해는 농업 작황까지 좋지 않아 농림·어업 취업자 수도 2만2천명이나 줄었다\"고 말했다.\n",
        "* 막지 못할 고령화 사회라면 이제까지 노인이라고 치부하던 고령자들을 우리 사회의 필수 인력인 경제활동인구로 인식해야 할 것이며, 고령화 인력의 취업률을 제고해야 할 것이다.\n",
        "또한, 1인 고령가구의 증가에 따라 독거노인들이 급속히 증가할 것으로, 80세 이상의 고령 1인가구를 보살피는 사회복지 정책의 강화도 필요하다."
      ],
      "metadata": {
        "id": "4Gk5nILTeWX4"
      }
    }
  ]
}